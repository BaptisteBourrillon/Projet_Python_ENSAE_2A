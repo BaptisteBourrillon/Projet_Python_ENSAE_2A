{
 "cells": [
  {
   "cell_type": "markdown",
   "metadata": {},
   "source": [
    "# Préparation des données"
   ]
  },
  {
   "cell_type": "code",
   "execution_count": 1,
   "metadata": {},
   "outputs": [],
   "source": [
    "import numpy as np\n",
    "import pandas as pd\n",
    "import matplotlib.pyplot as plt\n",
    "import seaborn as sns"
   ]
  },
  {
   "cell_type": "code",
   "execution_count": 64,
   "metadata": {},
   "outputs": [
    {
     "name": "stderr",
     "output_type": "stream",
     "text": [
      "c:\\Users\\nahta\\anaconda3\\lib\\site-packages\\IPython\\core\\interactiveshell.py:3444: DtypeWarning: Columns (6) have mixed types.Specify dtype option on import or set low_memory=False.\n",
      "  exec(code_obj, self.user_global_ns, self.user_ns)\n"
     ]
    }
   ],
   "source": [
    "df_usagers_22 = pd.read_csv(\"https://www.data.gouv.fr/fr/datasets/r/62c20524-d442-46f5-bfd8-982c59763ec8\", sep=\";\")\n",
    "df_vehicules_22 = pd.read_csv(\"https://www.data.gouv.fr/fr/datasets/r/c9742921-4427-41e5-81bc-f13af8bc31a0\", sep=\";\")\n",
    "df_lieux_22 = pd.read_csv(\"https://www.data.gouv.fr/fr/datasets/r/a6ef711a-1f03-44cb-921a-0ce8ec975995\", sep=\";\")\n",
    "df_caracs_22 = pd.read_csv(\"https://www.data.gouv.fr/fr/datasets/r/5fc299c0-4598-4c29-b74c-6a67b0cc27e7\", sep=\";\")"
   ]
  },
  {
   "cell_type": "code",
   "execution_count": 3,
   "metadata": {},
   "outputs": [
    {
     "name": "stdout",
     "output_type": "stream",
     "text": [
      "126662\n",
      "94493\n",
      "55302\n",
      "55302\n"
     ]
    }
   ],
   "source": [
    "print(len(df_usagers_22))\n",
    "print(len(df_vehicules_22))\n",
    "print(len(df_lieux_22))\n",
    "print(len(df_caracs_22))"
   ]
  },
  {
   "cell_type": "markdown",
   "metadata": {},
   "source": [
    "Un accident a des caractéristiques uniques et un lieu unique, mais il peut impliquer plusieurs véhicules, ces derniers pouvant eux-mêmes impliquer plusieurs usagers (en plus des piétons !).\n",
    "\n",
    "Pour cette raison, les longueurs différentes ne sont pas surprenantes."
   ]
  },
  {
   "cell_type": "markdown",
   "metadata": {},
   "source": [
    "Ci-dessous, on compte le nombre de valeurs uniques pour la variable `id_vehicule` dans la base `usagers`, et on trouve bien 94 493, la longueur de la base `vehicules`."
   ]
  },
  {
   "cell_type": "code",
   "execution_count": 4,
   "metadata": {},
   "outputs": [
    {
     "data": {
      "text/plain": [
       "94493"
      ]
     },
     "execution_count": 4,
     "metadata": {},
     "output_type": "execute_result"
    }
   ],
   "source": [
    "(~df_usagers_22.duplicated(\"id_vehicule\")).sum()"
   ]
  },
  {
   "cell_type": "markdown",
   "metadata": {},
   "source": [
    "## Base `usagers`"
   ]
  },
  {
   "cell_type": "markdown",
   "metadata": {},
   "source": [
    "On remplacera à la fin les valeurs `-1` par des `NaN` pour toutes les variables catégorielles, conformément à la documentation."
   ]
  },
  {
   "cell_type": "code",
   "execution_count": 5,
   "metadata": {},
   "outputs": [
    {
     "name": "stdout",
     "output_type": "stream",
     "text": [
      "<class 'pandas.core.frame.DataFrame'>\n",
      "RangeIndex: 126662 entries, 0 to 126661\n",
      "Data columns (total 16 columns):\n",
      " #   Column       Non-Null Count   Dtype  \n",
      "---  ------       --------------   -----  \n",
      " 0   Num_Acc      126662 non-null  int64  \n",
      " 1   id_usager    126662 non-null  object \n",
      " 2   id_vehicule  126662 non-null  object \n",
      " 3   num_veh      126662 non-null  object \n",
      " 4   place        126662 non-null  int64  \n",
      " 5   catu         126662 non-null  int64  \n",
      " 6   grav         126662 non-null  int64  \n",
      " 7   sexe         126662 non-null  int64  \n",
      " 8   an_nais      123788 non-null  float64\n",
      " 9   trajet       126662 non-null  int64  \n",
      " 10  secu1        126662 non-null  int64  \n",
      " 11  secu2        126662 non-null  int64  \n",
      " 12  secu3        126662 non-null  int64  \n",
      " 13  locp         126662 non-null  int64  \n",
      " 14  actp         126662 non-null  object \n",
      " 15  etatp        126662 non-null  int64  \n",
      "dtypes: float64(1), int64(11), object(4)\n",
      "memory usage: 15.5+ MB\n"
     ]
    }
   ],
   "source": [
    "df_usagers_22.info()"
   ]
  },
  {
   "cell_type": "markdown",
   "metadata": {},
   "source": [
    "La variable `num_veh` est difficile à comprendre. La documentation n'est pas très claire à ce sujet, notamment en quoi elle se distingue de la variable `id_vehicule`."
   ]
  },
  {
   "cell_type": "code",
   "execution_count": 6,
   "metadata": {},
   "outputs": [
    {
     "data": {
      "text/plain": [
       "A01     76240\n",
       "B01     42087\n",
       "C01      4674\n",
       "Z01      1939\n",
       "D01      1022\n",
       "E01       326\n",
       "F01       114\n",
       "Y01        92\n",
       "G01        44\n",
       "X01        18\n",
       "H01        15\n",
       "[01        12\n",
       "T01        11\n",
       "I01         8\n",
       "V01         4\n",
       "WX01        4\n",
       "JA01        4\n",
       "\\01         3\n",
       "FA01        3\n",
       "M01         3\n",
       "LA01        3\n",
       "ZZ01        3\n",
       "P01         2\n",
       "GA01        2\n",
       "PA01        2\n",
       "MA01        2\n",
       "IA01        2\n",
       "PB01        2\n",
       "J01         2\n",
       "U01         2\n",
       "OB01        1\n",
       "UB01        1\n",
       "VA01        1\n",
       "LB01        1\n",
       "L01         1\n",
       "W01         1\n",
       "RB01        1\n",
       "S01         1\n",
       "R01         1\n",
       "Q01         1\n",
       "O01         1\n",
       "N01         1\n",
       "K01         1\n",
       "DA01        1\n",
       "NA01        1\n",
       "XB01        1\n",
       "ZA01        1\n",
       "Name: num_veh, dtype: int64"
      ]
     },
     "execution_count": 6,
     "metadata": {},
     "output_type": "execute_result"
    }
   ],
   "source": [
    "df_usagers_22[\"num_veh\"].value_counts()"
   ]
  },
  {
   "cell_type": "markdown",
   "metadata": {},
   "source": [
    "Rien à signaler sur la variable place. La valeur `-1`, qui n'est pas présente dans la documentation, correspond sans aucun doute à un champ non renseigné, comme pour les autres variables. Nous les remplacerons par des `NaN` plus tard, de façon centralisée."
   ]
  },
  {
   "cell_type": "code",
   "execution_count": 7,
   "metadata": {},
   "outputs": [
    {
     "data": {
      "text/plain": [
       " 1     94292\n",
       " 2     14001\n",
       " 10     9567\n",
       " 3      2459\n",
       " 4      2232\n",
       " 9      1340\n",
       " 7      1241\n",
       " 5       728\n",
       " 8       610\n",
       " 6       184\n",
       "-1         8\n",
       "Name: place, dtype: int64"
      ]
     },
     "execution_count": 7,
     "metadata": {},
     "output_type": "execute_result"
    }
   ],
   "source": [
    "df_usagers_22[\"place\"].value_counts()"
   ]
  },
  {
   "cell_type": "markdown",
   "metadata": {},
   "source": [
    "Rien à signaler sur les variables suivantes (il faudra juste remplacer les `-1` par des `np.NaN`)."
   ]
  },
  {
   "cell_type": "code",
   "execution_count": 8,
   "metadata": {},
   "outputs": [
    {
     "data": {
      "text/plain": [
       "1    94421\n",
       "2    22675\n",
       "3     9566\n",
       "Name: catu, dtype: int64"
      ]
     },
     "execution_count": 8,
     "metadata": {},
     "output_type": "execute_result"
    }
   ],
   "source": [
    "df_usagers_22[\"catu\"].value_counts()"
   ]
  },
  {
   "cell_type": "code",
   "execution_count": 9,
   "metadata": {},
   "outputs": [
    {
     "data": {
      "text/plain": [
       " 1    53630\n",
       " 4    49981\n",
       " 3    19260\n",
       " 2     3550\n",
       "-1      241\n",
       "Name: grav, dtype: int64"
      ]
     },
     "execution_count": 9,
     "metadata": {},
     "output_type": "execute_result"
    }
   ],
   "source": [
    "df_usagers_22[\"grav\"].value_counts()"
   ]
  },
  {
   "cell_type": "code",
   "execution_count": 10,
   "metadata": {},
   "outputs": [
    {
     "data": {
      "text/plain": [
       " 1    84795\n",
       " 2    39123\n",
       "-1     2744\n",
       "Name: sexe, dtype: int64"
      ]
     },
     "execution_count": 10,
     "metadata": {},
     "output_type": "execute_result"
    }
   ],
   "source": [
    "df_usagers_22[\"sexe\"].value_counts()"
   ]
  },
  {
   "cell_type": "code",
   "execution_count": 11,
   "metadata": {},
   "outputs": [
    {
     "data": {
      "text/plain": [
       "2001.0    3742\n",
       "2002.0    3708\n",
       "2000.0    3698\n",
       "2003.0    3383\n",
       "1999.0    3382\n",
       "          ... \n",
       "1922.0       3\n",
       "1921.0       2\n",
       "1923.0       2\n",
       "1920.0       1\n",
       "1924.0       1\n",
       "Name: an_nais, Length: 104, dtype: int64"
      ]
     },
     "execution_count": 11,
     "metadata": {},
     "output_type": "execute_result"
    }
   ],
   "source": [
    "df_usagers_22[\"an_nais\"].value_counts()"
   ]
  },
  {
   "cell_type": "code",
   "execution_count": 12,
   "metadata": {},
   "outputs": [
    {
     "data": {
      "text/plain": [
       " 5    46253\n",
       " 0    32737\n",
       " 1    16282\n",
       " 4    11622\n",
       " 9    10494\n",
       " 3     3713\n",
       "-1     2874\n",
       " 2     2687\n",
       "Name: trajet, dtype: int64"
      ]
     },
     "execution_count": 12,
     "metadata": {},
     "output_type": "execute_result"
    }
   ],
   "source": [
    "df_usagers_22[\"trajet\"].value_counts()"
   ]
  },
  {
   "cell_type": "code",
   "execution_count": 13,
   "metadata": {},
   "outputs": [
    {
     "data": {
      "text/plain": [
       " 1    73953\n",
       " 2    22651\n",
       " 8    14117\n",
       " 0    12144\n",
       "-1     2679\n",
       " 3      774\n",
       " 9      115\n",
       " 4      102\n",
       " 6       97\n",
       " 5       25\n",
       " 7        5\n",
       "Name: secu1, dtype: int64"
      ]
     },
     "execution_count": 13,
     "metadata": {},
     "output_type": "execute_result"
    }
   ],
   "source": [
    "df_usagers_22[\"secu1\"].value_counts()"
   ]
  },
  {
   "cell_type": "code",
   "execution_count": 14,
   "metadata": {},
   "outputs": [
    {
     "data": {
      "text/plain": [
       "-1    58601\n",
       " 0    42898\n",
       " 6    11686\n",
       " 8     9711\n",
       " 4     1482\n",
       " 5     1211\n",
       " 9      422\n",
       " 1      226\n",
       " 3      172\n",
       " 7      151\n",
       " 2      102\n",
       "Name: secu2, dtype: int64"
      ]
     },
     "execution_count": 14,
     "metadata": {},
     "output_type": "execute_result"
    }
   ],
   "source": [
    "df_usagers_22[\"secu2\"].value_counts()"
   ]
  },
  {
   "cell_type": "code",
   "execution_count": 15,
   "metadata": {},
   "outputs": [
    {
     "data": {
      "text/plain": [
       "-1    125296\n",
       " 9       890\n",
       " 0       226\n",
       " 8        71\n",
       " 1        66\n",
       " 6        60\n",
       " 4        20\n",
       " 5        19\n",
       " 2         8\n",
       " 7         4\n",
       " 3         2\n",
       "Name: secu3, dtype: int64"
      ]
     },
     "execution_count": 15,
     "metadata": {},
     "output_type": "execute_result"
    }
   ],
   "source": [
    "df_usagers_22[\"secu3\"].value_counts()"
   ]
  },
  {
   "cell_type": "code",
   "execution_count": 16,
   "metadata": {},
   "outputs": [
    {
     "data": {
      "text/plain": [
       " 0    66113\n",
       "-1    51092\n",
       " 3     3059\n",
       " 2     1989\n",
       " 4     1388\n",
       " 1     1364\n",
       " 5      740\n",
       " 9      474\n",
       " 6      298\n",
       " 8      138\n",
       " 7        7\n",
       "Name: locp, dtype: int64"
      ]
     },
     "execution_count": 16,
     "metadata": {},
     "output_type": "execute_result"
    }
   ],
   "source": [
    "df_usagers_22[\"locp\"].value_counts()"
   ]
  },
  {
   "cell_type": "code",
   "execution_count": 17,
   "metadata": {},
   "outputs": [
    {
     "data": {
      "text/plain": [
       "0      67558\n",
       " -1    49604\n",
       "3       6959\n",
       "9        647\n",
       "1        639\n",
       "5        347\n",
       "2        334\n",
       "B        300\n",
       "4        120\n",
       "A         98\n",
       "6         23\n",
       "7         21\n",
       "8         12\n",
       "Name: actp, dtype: int64"
      ]
     },
     "execution_count": 17,
     "metadata": {},
     "output_type": "execute_result"
    }
   ],
   "source": [
    "df_usagers_22[\"actp\"].value_counts()\n"
   ]
  },
  {
   "cell_type": "code",
   "execution_count": 18,
   "metadata": {},
   "outputs": [
    {
     "data": {
      "text/plain": [
       "-1    117189\n",
       " 1      7222\n",
       " 2      1892\n",
       " 3       359\n",
       "Name: etatp, dtype: int64"
      ]
     },
     "execution_count": 18,
     "metadata": {},
     "output_type": "execute_result"
    }
   ],
   "source": [
    "df_usagers_22[\"etatp\"].value_counts()"
   ]
  },
  {
   "cell_type": "markdown",
   "metadata": {},
   "source": [
    "On recode toutes les variables catégorielles pour obtenir des modalités plus compréhensibles."
   ]
  },
  {
   "cell_type": "code",
   "execution_count": 19,
   "metadata": {},
   "outputs": [
    {
     "data": {
      "text/plain": [
       "0         NaN\n",
       "1         NaN\n",
       "2         NaN\n",
       "3         NaN\n",
       "4         NaN\n",
       "         ... \n",
       "126657    NaN\n",
       "126658    NaN\n",
       "126659    NaN\n",
       "126660    NaN\n",
       "126661    NaN\n",
       "Name: etatp, Length: 126662, dtype: object"
      ]
     },
     "execution_count": 19,
     "metadata": {},
     "output_type": "execute_result"
    }
   ],
   "source": [
    "df_usagers_22[\"grav\"].replace({2: 4, 4: 2}, inplace=True)\n",
    "df_usagers_22[\"sexe\"].replace({1: \"homme\", \n",
    "                               2: \"femme\", \n",
    "                               -1: np.NaN}, \n",
    "                               inplace=True)\n",
    "df_usagers_22[\"catu\"].replace({1: \"conducteur\", \n",
    "                               2: \"passager\", \n",
    "                               3: \"piéton\", \n",
    "                               -1: np.NaN}, inplace=True)\n",
    "df_usagers_22[\"trajet\"].replace({-1: np.NaN, \n",
    "                                 0: np.NaN, \n",
    "                                 1: \"domicile-travail\",\n",
    "                                 2: \"domicile-école\",\n",
    "                                 3: \"courses-achats\",\n",
    "                                 4: \"utilisation pro\",\n",
    "                                 5: \"promenade-loisirs\",\n",
    "                                 9: \"autre\"},\n",
    "                                 inplace=True)\n",
    "df_usagers_22[\"etatp\"].replace({-1: np.NaN,\n",
    "                                1: \"seul\",\n",
    "                                2: \"accompagne\",\n",
    "                                3: \"en groupe\"},\n",
    "                                inplace=True)\n",
    "df_usagers_22[\"actp\"].replace({\"-1\": np.NaN,\n",
    "                               \"0\": np.NaN,\n",
    "                               \"1\": \"sens véhicule heurtant\",\n",
    "                               \"2\": \"sens inverse du véhicule\",\n",
    "                               \"3\": \"traversant\",\n",
    "                               \"4\": \"masqué\",\n",
    "                               \"5\": \"jouant - courant\",\n",
    "                               \"6\": \"avec animal\",\n",
    "                               \"9\": \"autre\",\n",
    "                               \"A\": \"monte/descend du véhicule\", \n",
    "                               \"B\": np.NaN}, inplace=True)\n",
    "df_usagers_22[\"etatp\"].replace({\"-1\": np.NaN,\n",
    "                                1: \"seul\",\n",
    "                                2: \"accompagné\",\n",
    "                                3: \"en groupe\"})"
   ]
  },
  {
   "cell_type": "markdown",
   "metadata": {},
   "source": [
    "À présent, on remplace tous les `-1` (restants) par des `NaN`."
   ]
  },
  {
   "cell_type": "code",
   "execution_count": 20,
   "metadata": {},
   "outputs": [],
   "source": [
    "df_usagers_22.replace(-1, np.NaN, inplace=True)"
   ]
  },
  {
   "cell_type": "markdown",
   "metadata": {},
   "source": [
    "Regardons à quoi ressemble notre base nettoyée !"
   ]
  },
  {
   "cell_type": "code",
   "execution_count": 21,
   "metadata": {},
   "outputs": [
    {
     "data": {
      "text/html": [
       "<div>\n",
       "<style scoped>\n",
       "    .dataframe tbody tr th:only-of-type {\n",
       "        vertical-align: middle;\n",
       "    }\n",
       "\n",
       "    .dataframe tbody tr th {\n",
       "        vertical-align: top;\n",
       "    }\n",
       "\n",
       "    .dataframe thead th {\n",
       "        text-align: right;\n",
       "    }\n",
       "</style>\n",
       "<table border=\"1\" class=\"dataframe\">\n",
       "  <thead>\n",
       "    <tr style=\"text-align: right;\">\n",
       "      <th></th>\n",
       "      <th>Num_Acc</th>\n",
       "      <th>id_usager</th>\n",
       "      <th>id_vehicule</th>\n",
       "      <th>num_veh</th>\n",
       "      <th>place</th>\n",
       "      <th>catu</th>\n",
       "      <th>grav</th>\n",
       "      <th>sexe</th>\n",
       "      <th>an_nais</th>\n",
       "      <th>trajet</th>\n",
       "      <th>secu1</th>\n",
       "      <th>secu2</th>\n",
       "      <th>secu3</th>\n",
       "      <th>locp</th>\n",
       "      <th>actp</th>\n",
       "      <th>etatp</th>\n",
       "    </tr>\n",
       "  </thead>\n",
       "  <tbody>\n",
       "    <tr>\n",
       "      <th>0</th>\n",
       "      <td>202200000001</td>\n",
       "      <td>1 099 700</td>\n",
       "      <td>813 952</td>\n",
       "      <td>A01</td>\n",
       "      <td>1.0</td>\n",
       "      <td>conducteur</td>\n",
       "      <td>3.0</td>\n",
       "      <td>homme</td>\n",
       "      <td>2008.0</td>\n",
       "      <td>promenade-loisirs</td>\n",
       "      <td>2.0</td>\n",
       "      <td>8.0</td>\n",
       "      <td>NaN</td>\n",
       "      <td>NaN</td>\n",
       "      <td>-1</td>\n",
       "      <td>NaN</td>\n",
       "    </tr>\n",
       "    <tr>\n",
       "      <th>1</th>\n",
       "      <td>202200000001</td>\n",
       "      <td>1 099 701</td>\n",
       "      <td>813 953</td>\n",
       "      <td>B01</td>\n",
       "      <td>1.0</td>\n",
       "      <td>conducteur</td>\n",
       "      <td>1.0</td>\n",
       "      <td>homme</td>\n",
       "      <td>1948.0</td>\n",
       "      <td>promenade-loisirs</td>\n",
       "      <td>1.0</td>\n",
       "      <td>8.0</td>\n",
       "      <td>NaN</td>\n",
       "      <td>NaN</td>\n",
       "      <td>-1</td>\n",
       "      <td>NaN</td>\n",
       "    </tr>\n",
       "    <tr>\n",
       "      <th>2</th>\n",
       "      <td>202200000002</td>\n",
       "      <td>1 099 698</td>\n",
       "      <td>813 950</td>\n",
       "      <td>B01</td>\n",
       "      <td>1.0</td>\n",
       "      <td>conducteur</td>\n",
       "      <td>2.0</td>\n",
       "      <td>homme</td>\n",
       "      <td>1988.0</td>\n",
       "      <td>autre</td>\n",
       "      <td>1.0</td>\n",
       "      <td>0.0</td>\n",
       "      <td>NaN</td>\n",
       "      <td>0.0</td>\n",
       "      <td>NaN</td>\n",
       "      <td>NaN</td>\n",
       "    </tr>\n",
       "    <tr>\n",
       "      <th>3</th>\n",
       "      <td>202200000002</td>\n",
       "      <td>1 099 699</td>\n",
       "      <td>813 951</td>\n",
       "      <td>A01</td>\n",
       "      <td>1.0</td>\n",
       "      <td>conducteur</td>\n",
       "      <td>1.0</td>\n",
       "      <td>homme</td>\n",
       "      <td>1970.0</td>\n",
       "      <td>utilisation pro</td>\n",
       "      <td>1.0</td>\n",
       "      <td>0.0</td>\n",
       "      <td>NaN</td>\n",
       "      <td>0.0</td>\n",
       "      <td>NaN</td>\n",
       "      <td>NaN</td>\n",
       "    </tr>\n",
       "    <tr>\n",
       "      <th>4</th>\n",
       "      <td>202200000003</td>\n",
       "      <td>1 099 696</td>\n",
       "      <td>813 948</td>\n",
       "      <td>A01</td>\n",
       "      <td>1.0</td>\n",
       "      <td>conducteur</td>\n",
       "      <td>1.0</td>\n",
       "      <td>homme</td>\n",
       "      <td>2002.0</td>\n",
       "      <td>NaN</td>\n",
       "      <td>1.0</td>\n",
       "      <td>0.0</td>\n",
       "      <td>NaN</td>\n",
       "      <td>NaN</td>\n",
       "      <td>-1</td>\n",
       "      <td>NaN</td>\n",
       "    </tr>\n",
       "    <tr>\n",
       "      <th>...</th>\n",
       "      <td>...</td>\n",
       "      <td>...</td>\n",
       "      <td>...</td>\n",
       "      <td>...</td>\n",
       "      <td>...</td>\n",
       "      <td>...</td>\n",
       "      <td>...</td>\n",
       "      <td>...</td>\n",
       "      <td>...</td>\n",
       "      <td>...</td>\n",
       "      <td>...</td>\n",
       "      <td>...</td>\n",
       "      <td>...</td>\n",
       "      <td>...</td>\n",
       "      <td>...</td>\n",
       "      <td>...</td>\n",
       "    </tr>\n",
       "    <tr>\n",
       "      <th>126657</th>\n",
       "      <td>202200055301</td>\n",
       "      <td>968 230</td>\n",
       "      <td>715 631</td>\n",
       "      <td>A01</td>\n",
       "      <td>1.0</td>\n",
       "      <td>conducteur</td>\n",
       "      <td>1.0</td>\n",
       "      <td>femme</td>\n",
       "      <td>2002.0</td>\n",
       "      <td>promenade-loisirs</td>\n",
       "      <td>1.0</td>\n",
       "      <td>NaN</td>\n",
       "      <td>NaN</td>\n",
       "      <td>0.0</td>\n",
       "      <td>NaN</td>\n",
       "      <td>NaN</td>\n",
       "    </tr>\n",
       "    <tr>\n",
       "      <th>126658</th>\n",
       "      <td>202200055301</td>\n",
       "      <td>968 231</td>\n",
       "      <td>715 631</td>\n",
       "      <td>A01</td>\n",
       "      <td>8.0</td>\n",
       "      <td>passager</td>\n",
       "      <td>3.0</td>\n",
       "      <td>femme</td>\n",
       "      <td>2004.0</td>\n",
       "      <td>promenade-loisirs</td>\n",
       "      <td>1.0</td>\n",
       "      <td>NaN</td>\n",
       "      <td>NaN</td>\n",
       "      <td>0.0</td>\n",
       "      <td>NaN</td>\n",
       "      <td>NaN</td>\n",
       "    </tr>\n",
       "    <tr>\n",
       "      <th>126659</th>\n",
       "      <td>202200055301</td>\n",
       "      <td>968 232</td>\n",
       "      <td>715 632</td>\n",
       "      <td>B01</td>\n",
       "      <td>1.0</td>\n",
       "      <td>conducteur</td>\n",
       "      <td>2.0</td>\n",
       "      <td>femme</td>\n",
       "      <td>1953.0</td>\n",
       "      <td>promenade-loisirs</td>\n",
       "      <td>1.0</td>\n",
       "      <td>NaN</td>\n",
       "      <td>NaN</td>\n",
       "      <td>0.0</td>\n",
       "      <td>NaN</td>\n",
       "      <td>NaN</td>\n",
       "    </tr>\n",
       "    <tr>\n",
       "      <th>126660</th>\n",
       "      <td>202200055302</td>\n",
       "      <td>968 228</td>\n",
       "      <td>715 629</td>\n",
       "      <td>A01</td>\n",
       "      <td>1.0</td>\n",
       "      <td>conducteur</td>\n",
       "      <td>3.0</td>\n",
       "      <td>homme</td>\n",
       "      <td>1992.0</td>\n",
       "      <td>domicile-travail</td>\n",
       "      <td>2.0</td>\n",
       "      <td>6.0</td>\n",
       "      <td>NaN</td>\n",
       "      <td>NaN</td>\n",
       "      <td>-1</td>\n",
       "      <td>NaN</td>\n",
       "    </tr>\n",
       "    <tr>\n",
       "      <th>126661</th>\n",
       "      <td>202200055302</td>\n",
       "      <td>968 229</td>\n",
       "      <td>715 630</td>\n",
       "      <td>B01</td>\n",
       "      <td>1.0</td>\n",
       "      <td>conducteur</td>\n",
       "      <td>1.0</td>\n",
       "      <td>homme</td>\n",
       "      <td>2000.0</td>\n",
       "      <td>NaN</td>\n",
       "      <td>1.0</td>\n",
       "      <td>NaN</td>\n",
       "      <td>NaN</td>\n",
       "      <td>NaN</td>\n",
       "      <td>-1</td>\n",
       "      <td>NaN</td>\n",
       "    </tr>\n",
       "  </tbody>\n",
       "</table>\n",
       "<p>126662 rows × 16 columns</p>\n",
       "</div>"
      ],
      "text/plain": [
       "             Num_Acc  id_usager id_vehicule num_veh  place        catu  grav  \\\n",
       "0       202200000001  1 099 700     813 952     A01    1.0  conducteur   3.0   \n",
       "1       202200000001  1 099 701     813 953     B01    1.0  conducteur   1.0   \n",
       "2       202200000002  1 099 698     813 950     B01    1.0  conducteur   2.0   \n",
       "3       202200000002  1 099 699     813 951     A01    1.0  conducteur   1.0   \n",
       "4       202200000003  1 099 696     813 948     A01    1.0  conducteur   1.0   \n",
       "...              ...        ...         ...     ...    ...         ...   ...   \n",
       "126657  202200055301    968 230     715 631     A01    1.0  conducteur   1.0   \n",
       "126658  202200055301    968 231     715 631     A01    8.0    passager   3.0   \n",
       "126659  202200055301    968 232     715 632     B01    1.0  conducteur   2.0   \n",
       "126660  202200055302    968 228     715 629     A01    1.0  conducteur   3.0   \n",
       "126661  202200055302    968 229     715 630     B01    1.0  conducteur   1.0   \n",
       "\n",
       "         sexe  an_nais             trajet  secu1  secu2  secu3  locp actp  \\\n",
       "0       homme   2008.0  promenade-loisirs    2.0    8.0    NaN   NaN   -1   \n",
       "1       homme   1948.0  promenade-loisirs    1.0    8.0    NaN   NaN   -1   \n",
       "2       homme   1988.0              autre    1.0    0.0    NaN   0.0  NaN   \n",
       "3       homme   1970.0    utilisation pro    1.0    0.0    NaN   0.0  NaN   \n",
       "4       homme   2002.0                NaN    1.0    0.0    NaN   NaN   -1   \n",
       "...       ...      ...                ...    ...    ...    ...   ...  ...   \n",
       "126657  femme   2002.0  promenade-loisirs    1.0    NaN    NaN   0.0  NaN   \n",
       "126658  femme   2004.0  promenade-loisirs    1.0    NaN    NaN   0.0  NaN   \n",
       "126659  femme   1953.0  promenade-loisirs    1.0    NaN    NaN   0.0  NaN   \n",
       "126660  homme   1992.0   domicile-travail    2.0    6.0    NaN   NaN   -1   \n",
       "126661  homme   2000.0                NaN    1.0    NaN    NaN   NaN   -1   \n",
       "\n",
       "       etatp  \n",
       "0        NaN  \n",
       "1        NaN  \n",
       "2        NaN  \n",
       "3        NaN  \n",
       "4        NaN  \n",
       "...      ...  \n",
       "126657   NaN  \n",
       "126658   NaN  \n",
       "126659   NaN  \n",
       "126660   NaN  \n",
       "126661   NaN  \n",
       "\n",
       "[126662 rows x 16 columns]"
      ]
     },
     "execution_count": 21,
     "metadata": {},
     "output_type": "execute_result"
    }
   ],
   "source": [
    "df_usagers_22"
   ]
  },
  {
   "cell_type": "markdown",
   "metadata": {},
   "source": [
    "## Bases `caracs`"
   ]
  },
  {
   "cell_type": "code",
   "execution_count": 22,
   "metadata": {},
   "outputs": [
    {
     "name": "stdout",
     "output_type": "stream",
     "text": [
      "<class 'pandas.core.frame.DataFrame'>\n",
      "RangeIndex: 55302 entries, 0 to 55301\n",
      "Data columns (total 15 columns):\n",
      " #   Column       Non-Null Count  Dtype \n",
      "---  ------       --------------  ----- \n",
      " 0   Accident_Id  55302 non-null  int64 \n",
      " 1   jour         55302 non-null  int64 \n",
      " 2   mois         55302 non-null  int64 \n",
      " 3   an           55302 non-null  int64 \n",
      " 4   hrmn         55302 non-null  object\n",
      " 5   lum          55302 non-null  int64 \n",
      " 6   dep          55302 non-null  object\n",
      " 7   com          55302 non-null  object\n",
      " 8   agg          55302 non-null  int64 \n",
      " 9   int          55302 non-null  int64 \n",
      " 10  atm          55302 non-null  int64 \n",
      " 11  col          55302 non-null  int64 \n",
      " 12  adr          54069 non-null  object\n",
      " 13  lat          55302 non-null  object\n",
      " 14  long         55302 non-null  object\n",
      "dtypes: int64(9), object(6)\n",
      "memory usage: 6.3+ MB\n"
     ]
    }
   ],
   "source": [
    "df_caracs_22.info()"
   ]
  },
  {
   "cell_type": "markdown",
   "metadata": {},
   "source": [
    "On modifie le nom de la variable `Accident_Id` de la base `caracs` pour faciliter la jointure tout à l'heure."
   ]
  },
  {
   "cell_type": "code",
   "execution_count": 23,
   "metadata": {},
   "outputs": [],
   "source": [
    "df_caracs_22.rename(columns={\"Accident_Id\": \"Num_Acc\"}, inplace=True)"
   ]
  },
  {
   "cell_type": "markdown",
   "metadata": {},
   "source": [
    "Rien à signaler sur les variables `jour`, `mois` et `an`."
   ]
  },
  {
   "cell_type": "code",
   "execution_count": 24,
   "metadata": {},
   "outputs": [
    {
     "data": {
      "text/plain": [
       "14    1978\n",
       "11    1957\n",
       "21    1934\n",
       "10    1902\n",
       "7     1901\n",
       "5     1882\n",
       "12    1879\n",
       "16    1863\n",
       "9     1863\n",
       "17    1845\n",
       "22    1830\n",
       "15    1830\n",
       "13    1822\n",
       "8     1822\n",
       "4     1805\n",
       "18    1798\n",
       "28    1793\n",
       "26    1793\n",
       "20    1784\n",
       "25    1783\n",
       "1     1783\n",
       "3     1775\n",
       "6     1767\n",
       "2     1756\n",
       "19    1754\n",
       "23    1725\n",
       "24    1714\n",
       "27    1700\n",
       "29    1671\n",
       "30    1640\n",
       "31     953\n",
       "Name: jour, dtype: int64"
      ]
     },
     "execution_count": 24,
     "metadata": {},
     "output_type": "execute_result"
    }
   ],
   "source": [
    "df_caracs_22[\"jour\"].value_counts()"
   ]
  },
  {
   "cell_type": "code",
   "execution_count": 25,
   "metadata": {},
   "outputs": [
    {
     "data": {
      "text/plain": [
       "6     5418\n",
       "5     5299\n",
       "7     5068\n",
       "10    5026\n",
       "9     4919\n",
       "11    4542\n",
       "3     4529\n",
       "4     4340\n",
       "8     4173\n",
       "12    4106\n",
       "1     3981\n",
       "2     3901\n",
       "Name: mois, dtype: int64"
      ]
     },
     "execution_count": 25,
     "metadata": {},
     "output_type": "execute_result"
    }
   ],
   "source": [
    "df_caracs_22[\"mois\"].value_counts()"
   ]
  },
  {
   "cell_type": "code",
   "execution_count": 26,
   "metadata": {},
   "outputs": [
    {
     "data": {
      "text/plain": [
       "2022    55302\n",
       "Name: an, dtype: int64"
      ]
     },
     "execution_count": 26,
     "metadata": {},
     "output_type": "execute_result"
    }
   ],
   "source": [
    "df_caracs_22[\"an\"].value_counts()"
   ]
  },
  {
   "cell_type": "markdown",
   "metadata": {},
   "source": [
    "Pour la variable `hrmn`, certaines valeurs sont précises (03:32 par exemple), tandis que la plupart sont arrondies à la demi-heure (sans doute dû aux conditions réelles de renseignement de l'information)."
   ]
  },
  {
   "cell_type": "code",
   "execution_count": 27,
   "metadata": {},
   "outputs": [
    {
     "data": {
      "text/plain": [
       "18:00    692\n",
       "17:00    675\n",
       "18:30    607\n",
       "19:00    582\n",
       "17:30    572\n",
       "        ... \n",
       "03:32      1\n",
       "13:59      1\n",
       "06:31      1\n",
       "06:56      1\n",
       "04:43      1\n",
       "Name: hrmn, Length: 1398, dtype: int64"
      ]
     },
     "execution_count": 27,
     "metadata": {},
     "output_type": "execute_result"
    }
   ],
   "source": [
    "df_caracs_22[\"hrmn\"].value_counts()"
   ]
  },
  {
   "cell_type": "markdown",
   "metadata": {},
   "source": [
    "Pour une bonne exploitation, il est sans doute plus utile d'homogénéiser tout ça en assimilant tous les horaires à leur heure `h`. C'est l'objet du code suivant, qui crée une nouvelle variable `heure` pour cela."
   ]
  },
  {
   "cell_type": "code",
   "execution_count": 28,
   "metadata": {},
   "outputs": [],
   "source": [
    "df_caracs_22['heure'] = pd.to_datetime(df_caracs_22['hrmn'], format='%H:%M').dt.time"
   ]
  },
  {
   "cell_type": "markdown",
   "metadata": {},
   "source": [
    "La variable `lum` admet quelques valeurs `-1` (non indiquées dans la documentation) qui correspondent sans doute, à l'instar des autres variables, à des données manquantes. Nous les remplacerons plus tard (de façon centralisée avec les autres variables) par des `NaN`."
   ]
  },
  {
   "cell_type": "code",
   "execution_count": 29,
   "metadata": {},
   "outputs": [
    {
     "data": {
      "text/plain": [
       " 1    36845\n",
       " 5     8727\n",
       " 3     5628\n",
       " 2     3589\n",
       " 4      511\n",
       "-1        2\n",
       "Name: lum, dtype: int64"
      ]
     },
     "execution_count": 29,
     "metadata": {},
     "output_type": "execute_result"
    }
   ],
   "source": [
    "df_caracs_22[\"lum\"].value_counts()"
   ]
  },
  {
   "cell_type": "code",
   "execution_count": 30,
   "metadata": {},
   "outputs": [
    {
     "data": {
      "text/plain": [
       "75     5071\n",
       "93     2756\n",
       "92     2510\n",
       "94     2280\n",
       "13     2255\n",
       "       ... \n",
       "23       45\n",
       "978      21\n",
       "986      14\n",
       "977       7\n",
       "975       3\n",
       "Name: dep, Length: 107, dtype: int64"
      ]
     },
     "execution_count": 30,
     "metadata": {},
     "output_type": "execute_result"
    }
   ],
   "source": [
    "df_caracs_22[\"dep\"].value_counts()"
   ]
  },
  {
   "cell_type": "code",
   "execution_count": 31,
   "metadata": {},
   "outputs": [
    {
     "data": {
      "text/plain": [
       "75116    551\n",
       "75112    421\n",
       "97302    398\n",
       "75119    392\n",
       "75117    375\n",
       "        ... \n",
       "76314      1\n",
       "23139      1\n",
       "73082      1\n",
       "43232      1\n",
       "74001      1\n",
       "Name: com, Length: 11253, dtype: int64"
      ]
     },
     "execution_count": 31,
     "metadata": {},
     "output_type": "execute_result"
    }
   ],
   "source": [
    "df_caracs_22[\"com\"].value_counts()"
   ]
  },
  {
   "cell_type": "code",
   "execution_count": 32,
   "metadata": {},
   "outputs": [
    {
     "data": {
      "text/plain": [
       "2    35036\n",
       "1    20266\n",
       "Name: agg, dtype: int64"
      ]
     },
     "execution_count": 32,
     "metadata": {},
     "output_type": "execute_result"
    }
   ],
   "source": [
    "df_caracs_22[\"agg\"].value_counts()"
   ]
  },
  {
   "cell_type": "markdown",
   "metadata": {},
   "source": [
    "Rien à signaler sur la suite."
   ]
  },
  {
   "cell_type": "code",
   "execution_count": 33,
   "metadata": {},
   "outputs": [
    {
     "data": {
      "text/plain": [
       " 1    35349\n",
       " 2     6759\n",
       " 3     6170\n",
       " 6     2415\n",
       " 9     2245\n",
       " 4     1280\n",
       " 7      630\n",
       " 5      348\n",
       " 8       99\n",
       "-1        7\n",
       "Name: int, dtype: int64"
      ]
     },
     "execution_count": 33,
     "metadata": {},
     "output_type": "execute_result"
    }
   ],
   "source": [
    "df_caracs_22[\"int\"].value_counts()"
   ]
  },
  {
   "cell_type": "code",
   "execution_count": 34,
   "metadata": {},
   "outputs": [
    {
     "data": {
      "text/plain": [
       " 1    45269\n",
       " 2     4934\n",
       " 8     1927\n",
       " 7     1143\n",
       " 3      981\n",
       " 5      531\n",
       " 9      263\n",
       " 4      130\n",
       " 6      123\n",
       "-1        1\n",
       "Name: atm, dtype: int64"
      ]
     },
     "execution_count": 34,
     "metadata": {},
     "output_type": "execute_result"
    }
   ],
   "source": [
    "df_caracs_22[\"atm\"].value_counts()"
   ]
  },
  {
   "cell_type": "code",
   "execution_count": 35,
   "metadata": {},
   "outputs": [
    {
     "data": {
      "text/plain": [
       " 3    16838\n",
       " 6    16039\n",
       " 2     7419\n",
       " 1     5933\n",
       " 7     5531\n",
       " 4     1944\n",
       " 5     1535\n",
       "-1       63\n",
       "Name: col, dtype: int64"
      ]
     },
     "execution_count": 35,
     "metadata": {},
     "output_type": "execute_result"
    }
   ],
   "source": [
    "df_caracs_22[\"col\"].value_counts()"
   ]
  },
  {
   "cell_type": "markdown",
   "metadata": {},
   "source": [
    "Pour les adresses, il y a clairement beaucoup d'hétérogénéité."
   ]
  },
  {
   "cell_type": "code",
   "execution_count": 36,
   "metadata": {},
   "outputs": [
    {
     "data": {
      "text/plain": [
       "21681                  22 Route de Chemault\n",
       "32030       RUE EMILE DEUTSCH DE LA MEURTHE\n",
       "6383     PRINCESSE GRACE DE MONACO (AVENUE)\n",
       "18698                         Route de Lyon\n",
       "16987          CRIQUE FOUILLEE (ROND POINT)\n",
       "1390                                 RD 958\n",
       "33946               JAURES (BOULEVARD JEAN)\n",
       "33825                AVENUE EMILE DESCHANEL\n",
       "39579                                  D300\n",
       "27153                    AVENUE DE GRAVELLE\n",
       "54803                          AUTOROUTE A1\n",
       "36175                                  RN24\n",
       "38519               BOULEVARD SAINT GERMAIN\n",
       "16500                            Rocade Est\n",
       "48950                                   NaN\n",
       "14874                                  A34 \n",
       "31082                         AUTOROUTE A86\n",
       "50452                                RD 612\n",
       "32257                                    A3\n",
       "7913                                   RN12\n",
       "Name: adr, dtype: object"
      ]
     },
     "execution_count": 36,
     "metadata": {},
     "output_type": "execute_result"
    }
   ],
   "source": [
    "df_caracs_22[\"adr\"].sample(20)"
   ]
  },
  {
   "cell_type": "markdown",
   "metadata": {},
   "source": [
    "Les variables `lat` et `long` sont codées avec une virgule (convention française)."
   ]
  },
  {
   "cell_type": "code",
   "execution_count": 37,
   "metadata": {},
   "outputs": [
    {
     "data": {
      "text/html": [
       "<div>\n",
       "<style scoped>\n",
       "    .dataframe tbody tr th:only-of-type {\n",
       "        vertical-align: middle;\n",
       "    }\n",
       "\n",
       "    .dataframe tbody tr th {\n",
       "        vertical-align: top;\n",
       "    }\n",
       "\n",
       "    .dataframe thead th {\n",
       "        text-align: right;\n",
       "    }\n",
       "</style>\n",
       "<table border=\"1\" class=\"dataframe\">\n",
       "  <thead>\n",
       "    <tr style=\"text-align: right;\">\n",
       "      <th></th>\n",
       "      <th>lat</th>\n",
       "      <th>long</th>\n",
       "    </tr>\n",
       "  </thead>\n",
       "  <tbody>\n",
       "    <tr>\n",
       "      <th>16753</th>\n",
       "      <td>43,6293190000</td>\n",
       "      <td>5,1343060000</td>\n",
       "    </tr>\n",
       "    <tr>\n",
       "      <th>38734</th>\n",
       "      <td>16,2412500000</td>\n",
       "      <td>-61,5364200000</td>\n",
       "    </tr>\n",
       "    <tr>\n",
       "      <th>15792</th>\n",
       "      <td>16,2117400000</td>\n",
       "      <td>-61,4744700000</td>\n",
       "    </tr>\n",
       "    <tr>\n",
       "      <th>48452</th>\n",
       "      <td>45,1608200000</td>\n",
       "      <td>1,5182500000</td>\n",
       "    </tr>\n",
       "    <tr>\n",
       "      <th>1981</th>\n",
       "      <td>45,7729621773</td>\n",
       "      <td>4,8210740089</td>\n",
       "    </tr>\n",
       "    <tr>\n",
       "      <th>41857</th>\n",
       "      <td>43,2962000000</td>\n",
       "      <td>-0,3687500000</td>\n",
       "    </tr>\n",
       "    <tr>\n",
       "      <th>40548</th>\n",
       "      <td>48,8044500000</td>\n",
       "      <td>2,5086300000</td>\n",
       "    </tr>\n",
       "    <tr>\n",
       "      <th>27577</th>\n",
       "      <td>43,8935330000</td>\n",
       "      <td>5,0605940000</td>\n",
       "    </tr>\n",
       "    <tr>\n",
       "      <th>25593</th>\n",
       "      <td>48,9004260000</td>\n",
       "      <td>2,3888780000</td>\n",
       "    </tr>\n",
       "    <tr>\n",
       "      <th>23017</th>\n",
       "      <td>43,9309200000</td>\n",
       "      <td>2,1632500000</td>\n",
       "    </tr>\n",
       "  </tbody>\n",
       "</table>\n",
       "</div>"
      ],
      "text/plain": [
       "                 lat             long\n",
       "16753  43,6293190000     5,1343060000\n",
       "38734  16,2412500000   -61,5364200000\n",
       "15792  16,2117400000   -61,4744700000\n",
       "48452  45,1608200000     1,5182500000\n",
       "1981   45,7729621773     4,8210740089\n",
       "41857  43,2962000000    -0,3687500000\n",
       "40548  48,8044500000     2,5086300000\n",
       "27577  43,8935330000     5,0605940000\n",
       "25593  48,9004260000     2,3888780000\n",
       "23017  43,9309200000     2,1632500000"
      ]
     },
     "execution_count": 37,
     "metadata": {},
     "output_type": "execute_result"
    }
   ],
   "source": [
    "df_caracs_22[[\"lat\", \"long\"]].sample(10)"
   ]
  },
  {
   "cell_type": "markdown",
   "metadata": {},
   "source": [
    "Arrangeons cela !"
   ]
  },
  {
   "cell_type": "code",
   "execution_count": 38,
   "metadata": {},
   "outputs": [],
   "source": [
    "df_caracs_22['lat'] = df_caracs_22['lat'].str.replace(',', '.').astype(float)\n",
    "df_caracs_22['long'] = df_caracs_22['long'].str.replace(',', '.').astype(float)"
   ]
  },
  {
   "cell_type": "markdown",
   "metadata": {},
   "source": [
    "### Recodage de certaines variables"
   ]
  },
  {
   "cell_type": "code",
   "execution_count": 39,
   "metadata": {},
   "outputs": [],
   "source": [
    "df_caracs_22[\"agg\"].replace({1: \"hors agglo\",\n",
    "                             2: \"agglo\"},\n",
    "                             inplace=True)\n",
    "\n",
    "df_caracs_22.replace(-1, np.NaN, inplace=True)"
   ]
  },
  {
   "cell_type": "markdown",
   "metadata": {},
   "source": [
    "Regardons à quoi ressemble notre base nettoyée !"
   ]
  },
  {
   "cell_type": "code",
   "execution_count": 40,
   "metadata": {},
   "outputs": [
    {
     "data": {
      "text/html": [
       "<div>\n",
       "<style scoped>\n",
       "    .dataframe tbody tr th:only-of-type {\n",
       "        vertical-align: middle;\n",
       "    }\n",
       "\n",
       "    .dataframe tbody tr th {\n",
       "        vertical-align: top;\n",
       "    }\n",
       "\n",
       "    .dataframe thead th {\n",
       "        text-align: right;\n",
       "    }\n",
       "</style>\n",
       "<table border=\"1\" class=\"dataframe\">\n",
       "  <thead>\n",
       "    <tr style=\"text-align: right;\">\n",
       "      <th></th>\n",
       "      <th>Num_Acc</th>\n",
       "      <th>jour</th>\n",
       "      <th>mois</th>\n",
       "      <th>an</th>\n",
       "      <th>hrmn</th>\n",
       "      <th>lum</th>\n",
       "      <th>dep</th>\n",
       "      <th>com</th>\n",
       "      <th>agg</th>\n",
       "      <th>int</th>\n",
       "      <th>atm</th>\n",
       "      <th>col</th>\n",
       "      <th>adr</th>\n",
       "      <th>lat</th>\n",
       "      <th>long</th>\n",
       "      <th>heure</th>\n",
       "    </tr>\n",
       "  </thead>\n",
       "  <tbody>\n",
       "    <tr>\n",
       "      <th>0</th>\n",
       "      <td>202200000001</td>\n",
       "      <td>19</td>\n",
       "      <td>10</td>\n",
       "      <td>2022</td>\n",
       "      <td>16:15</td>\n",
       "      <td>1.0</td>\n",
       "      <td>26</td>\n",
       "      <td>26198</td>\n",
       "      <td>agglo</td>\n",
       "      <td>3.0</td>\n",
       "      <td>1.0</td>\n",
       "      <td>3.0</td>\n",
       "      <td>TEIL(vieille route du)</td>\n",
       "      <td>44.559420</td>\n",
       "      <td>4.725720</td>\n",
       "      <td>16:15:00</td>\n",
       "    </tr>\n",
       "    <tr>\n",
       "      <th>1</th>\n",
       "      <td>202200000002</td>\n",
       "      <td>20</td>\n",
       "      <td>10</td>\n",
       "      <td>2022</td>\n",
       "      <td>08:34</td>\n",
       "      <td>1.0</td>\n",
       "      <td>25</td>\n",
       "      <td>25204</td>\n",
       "      <td>agglo</td>\n",
       "      <td>3.0</td>\n",
       "      <td>1.0</td>\n",
       "      <td>3.0</td>\n",
       "      <td>Miranda</td>\n",
       "      <td>46.925810</td>\n",
       "      <td>6.346200</td>\n",
       "      <td>08:34:00</td>\n",
       "    </tr>\n",
       "    <tr>\n",
       "      <th>2</th>\n",
       "      <td>202200000003</td>\n",
       "      <td>20</td>\n",
       "      <td>10</td>\n",
       "      <td>2022</td>\n",
       "      <td>17:15</td>\n",
       "      <td>1.0</td>\n",
       "      <td>22</td>\n",
       "      <td>22360</td>\n",
       "      <td>agglo</td>\n",
       "      <td>6.0</td>\n",
       "      <td>1.0</td>\n",
       "      <td>2.0</td>\n",
       "      <td>ROND POINT DE BREZILLET</td>\n",
       "      <td>48.493162</td>\n",
       "      <td>-2.760439</td>\n",
       "      <td>17:15:00</td>\n",
       "    </tr>\n",
       "    <tr>\n",
       "      <th>3</th>\n",
       "      <td>202200000004</td>\n",
       "      <td>20</td>\n",
       "      <td>10</td>\n",
       "      <td>2022</td>\n",
       "      <td>18:00</td>\n",
       "      <td>1.0</td>\n",
       "      <td>16</td>\n",
       "      <td>16102</td>\n",
       "      <td>agglo</td>\n",
       "      <td>3.0</td>\n",
       "      <td>8.0</td>\n",
       "      <td>6.0</td>\n",
       "      <td>LOHMEYER (RUE)</td>\n",
       "      <td>45.692652</td>\n",
       "      <td>-0.326290</td>\n",
       "      <td>18:00:00</td>\n",
       "    </tr>\n",
       "    <tr>\n",
       "      <th>4</th>\n",
       "      <td>202200000005</td>\n",
       "      <td>19</td>\n",
       "      <td>10</td>\n",
       "      <td>2022</td>\n",
       "      <td>11:45</td>\n",
       "      <td>1.0</td>\n",
       "      <td>13</td>\n",
       "      <td>13103</td>\n",
       "      <td>hors agglo</td>\n",
       "      <td>1.0</td>\n",
       "      <td>1.0</td>\n",
       "      <td>2.0</td>\n",
       "      <td>ROUTE DE JEAN MOULIN-RN 538</td>\n",
       "      <td>43.675579</td>\n",
       "      <td>5.092703</td>\n",
       "      <td>11:45:00</td>\n",
       "    </tr>\n",
       "    <tr>\n",
       "      <th>...</th>\n",
       "      <td>...</td>\n",
       "      <td>...</td>\n",
       "      <td>...</td>\n",
       "      <td>...</td>\n",
       "      <td>...</td>\n",
       "      <td>...</td>\n",
       "      <td>...</td>\n",
       "      <td>...</td>\n",
       "      <td>...</td>\n",
       "      <td>...</td>\n",
       "      <td>...</td>\n",
       "      <td>...</td>\n",
       "      <td>...</td>\n",
       "      <td>...</td>\n",
       "      <td>...</td>\n",
       "      <td>...</td>\n",
       "    </tr>\n",
       "    <tr>\n",
       "      <th>55297</th>\n",
       "      <td>202200055298</td>\n",
       "      <td>1</td>\n",
       "      <td>1</td>\n",
       "      <td>2022</td>\n",
       "      <td>03:50</td>\n",
       "      <td>3.0</td>\n",
       "      <td>2B</td>\n",
       "      <td>2B293</td>\n",
       "      <td>hors agglo</td>\n",
       "      <td>1.0</td>\n",
       "      <td>1.0</td>\n",
       "      <td>6.0</td>\n",
       "      <td>D71</td>\n",
       "      <td>42.310165</td>\n",
       "      <td>9.478583</td>\n",
       "      <td>03:50:00</td>\n",
       "    </tr>\n",
       "    <tr>\n",
       "      <th>55298</th>\n",
       "      <td>202200055299</td>\n",
       "      <td>1</td>\n",
       "      <td>1</td>\n",
       "      <td>2022</td>\n",
       "      <td>07:20</td>\n",
       "      <td>3.0</td>\n",
       "      <td>84</td>\n",
       "      <td>84074</td>\n",
       "      <td>hors agglo</td>\n",
       "      <td>1.0</td>\n",
       "      <td>1.0</td>\n",
       "      <td>6.0</td>\n",
       "      <td>D973</td>\n",
       "      <td>43.753164</td>\n",
       "      <td>5.224476</td>\n",
       "      <td>07:20:00</td>\n",
       "    </tr>\n",
       "    <tr>\n",
       "      <th>55299</th>\n",
       "      <td>202200055300</td>\n",
       "      <td>1</td>\n",
       "      <td>1</td>\n",
       "      <td>2022</td>\n",
       "      <td>04:27</td>\n",
       "      <td>3.0</td>\n",
       "      <td>74</td>\n",
       "      <td>74001</td>\n",
       "      <td>hors agglo</td>\n",
       "      <td>1.0</td>\n",
       "      <td>9.0</td>\n",
       "      <td>6.0</td>\n",
       "      <td>D22</td>\n",
       "      <td>46.282532</td>\n",
       "      <td>6.732806</td>\n",
       "      <td>04:27:00</td>\n",
       "    </tr>\n",
       "    <tr>\n",
       "      <th>55300</th>\n",
       "      <td>202200055301</td>\n",
       "      <td>1</td>\n",
       "      <td>1</td>\n",
       "      <td>2022</td>\n",
       "      <td>08:40</td>\n",
       "      <td>1.0</td>\n",
       "      <td>81</td>\n",
       "      <td>81099</td>\n",
       "      <td>hors agglo</td>\n",
       "      <td>3.0</td>\n",
       "      <td>1.0</td>\n",
       "      <td>3.0</td>\n",
       "      <td>Chemin Toulze</td>\n",
       "      <td>43.927265</td>\n",
       "      <td>1.915637</td>\n",
       "      <td>08:40:00</td>\n",
       "    </tr>\n",
       "    <tr>\n",
       "      <th>55301</th>\n",
       "      <td>202200055302</td>\n",
       "      <td>1</td>\n",
       "      <td>3</td>\n",
       "      <td>2022</td>\n",
       "      <td>16:55</td>\n",
       "      <td>1.0</td>\n",
       "      <td>41</td>\n",
       "      <td>41018</td>\n",
       "      <td>agglo</td>\n",
       "      <td>1.0</td>\n",
       "      <td>1.0</td>\n",
       "      <td>2.0</td>\n",
       "      <td>RD956 - Pont Charles De Gaulle</td>\n",
       "      <td>47.594404</td>\n",
       "      <td>1.353329</td>\n",
       "      <td>16:55:00</td>\n",
       "    </tr>\n",
       "  </tbody>\n",
       "</table>\n",
       "<p>55302 rows × 16 columns</p>\n",
       "</div>"
      ],
      "text/plain": [
       "            Num_Acc  jour  mois    an   hrmn  lum dep    com         agg  int  \\\n",
       "0      202200000001    19    10  2022  16:15  1.0  26  26198       agglo  3.0   \n",
       "1      202200000002    20    10  2022  08:34  1.0  25  25204       agglo  3.0   \n",
       "2      202200000003    20    10  2022  17:15  1.0  22  22360       agglo  6.0   \n",
       "3      202200000004    20    10  2022  18:00  1.0  16  16102       agglo  3.0   \n",
       "4      202200000005    19    10  2022  11:45  1.0  13  13103  hors agglo  1.0   \n",
       "...             ...   ...   ...   ...    ...  ...  ..    ...         ...  ...   \n",
       "55297  202200055298     1     1  2022  03:50  3.0  2B  2B293  hors agglo  1.0   \n",
       "55298  202200055299     1     1  2022  07:20  3.0  84  84074  hors agglo  1.0   \n",
       "55299  202200055300     1     1  2022  04:27  3.0  74  74001  hors agglo  1.0   \n",
       "55300  202200055301     1     1  2022  08:40  1.0  81  81099  hors agglo  3.0   \n",
       "55301  202200055302     1     3  2022  16:55  1.0  41  41018       agglo  1.0   \n",
       "\n",
       "       atm  col                             adr        lat      long     heure  \n",
       "0      1.0  3.0          TEIL(vieille route du)  44.559420  4.725720  16:15:00  \n",
       "1      1.0  3.0                         Miranda  46.925810  6.346200  08:34:00  \n",
       "2      1.0  2.0         ROND POINT DE BREZILLET  48.493162 -2.760439  17:15:00  \n",
       "3      8.0  6.0                  LOHMEYER (RUE)  45.692652 -0.326290  18:00:00  \n",
       "4      1.0  2.0     ROUTE DE JEAN MOULIN-RN 538  43.675579  5.092703  11:45:00  \n",
       "...    ...  ...                             ...        ...       ...       ...  \n",
       "55297  1.0  6.0                             D71  42.310165  9.478583  03:50:00  \n",
       "55298  1.0  6.0                            D973  43.753164  5.224476  07:20:00  \n",
       "55299  9.0  6.0                             D22  46.282532  6.732806  04:27:00  \n",
       "55300  1.0  3.0                   Chemin Toulze  43.927265  1.915637  08:40:00  \n",
       "55301  1.0  2.0  RD956 - Pont Charles De Gaulle  47.594404  1.353329  16:55:00  \n",
       "\n",
       "[55302 rows x 16 columns]"
      ]
     },
     "execution_count": 40,
     "metadata": {},
     "output_type": "execute_result"
    }
   ],
   "source": [
    "df_caracs_22"
   ]
  },
  {
   "cell_type": "markdown",
   "metadata": {},
   "source": [
    "## Bases `lieux` "
   ]
  },
  {
   "cell_type": "code",
   "execution_count": 65,
   "metadata": {},
   "outputs": [
    {
     "name": "stdout",
     "output_type": "stream",
     "text": [
      "<class 'pandas.core.frame.DataFrame'>\n",
      "RangeIndex: 55302 entries, 0 to 55301\n",
      "Data columns (total 18 columns):\n",
      " #   Column   Non-Null Count  Dtype \n",
      "---  ------   --------------  ----- \n",
      " 0   Num_Acc  55302 non-null  int64 \n",
      " 1   catr     55302 non-null  int64 \n",
      " 2   voie     50497 non-null  object\n",
      " 3   v1       55302 non-null  int64 \n",
      " 4   v2       5255 non-null   object\n",
      " 5   circ     55302 non-null  int64 \n",
      " 6   nbv      55302 non-null  object\n",
      " 7   vosp     55302 non-null  int64 \n",
      " 8   prof     55302 non-null  int64 \n",
      " 9   pr       55302 non-null  object\n",
      " 10  pr1      55302 non-null  object\n",
      " 11  plan     55302 non-null  int64 \n",
      " 12  lartpc   28 non-null     object\n",
      " 13  larrout  55302 non-null  object\n",
      " 14  surf     55302 non-null  int64 \n",
      " 15  infra    55302 non-null  int64 \n",
      " 16  situ     55302 non-null  int64 \n",
      " 17  vma      55302 non-null  int64 \n",
      "dtypes: int64(11), object(7)\n",
      "memory usage: 7.6+ MB\n"
     ]
    }
   ],
   "source": [
    "df_lieux_22.info()"
   ]
  },
  {
   "cell_type": "code",
   "execution_count": 66,
   "metadata": {},
   "outputs": [
    {
     "data": {
      "text/html": [
       "<div>\n",
       "<style scoped>\n",
       "    .dataframe tbody tr th:only-of-type {\n",
       "        vertical-align: middle;\n",
       "    }\n",
       "\n",
       "    .dataframe tbody tr th {\n",
       "        vertical-align: top;\n",
       "    }\n",
       "\n",
       "    .dataframe thead th {\n",
       "        text-align: right;\n",
       "    }\n",
       "</style>\n",
       "<table border=\"1\" class=\"dataframe\">\n",
       "  <thead>\n",
       "    <tr style=\"text-align: right;\">\n",
       "      <th></th>\n",
       "      <th>Num_Acc</th>\n",
       "      <th>catr</th>\n",
       "      <th>voie</th>\n",
       "      <th>v1</th>\n",
       "      <th>v2</th>\n",
       "      <th>circ</th>\n",
       "      <th>nbv</th>\n",
       "      <th>vosp</th>\n",
       "      <th>prof</th>\n",
       "      <th>pr</th>\n",
       "      <th>pr1</th>\n",
       "      <th>plan</th>\n",
       "      <th>lartpc</th>\n",
       "      <th>larrout</th>\n",
       "      <th>surf</th>\n",
       "      <th>infra</th>\n",
       "      <th>situ</th>\n",
       "      <th>vma</th>\n",
       "    </tr>\n",
       "  </thead>\n",
       "  <tbody>\n",
       "    <tr>\n",
       "      <th>0</th>\n",
       "      <td>202200000001</td>\n",
       "      <td>4</td>\n",
       "      <td>TEIL(vieille route du)</td>\n",
       "      <td>0</td>\n",
       "      <td>NaN</td>\n",
       "      <td>2</td>\n",
       "      <td>2</td>\n",
       "      <td>0</td>\n",
       "      <td>1</td>\n",
       "      <td>(1)</td>\n",
       "      <td>(1)</td>\n",
       "      <td>1</td>\n",
       "      <td>NaN</td>\n",
       "      <td>-1</td>\n",
       "      <td>1</td>\n",
       "      <td>0</td>\n",
       "      <td>1</td>\n",
       "      <td>50</td>\n",
       "    </tr>\n",
       "    <tr>\n",
       "      <th>1</th>\n",
       "      <td>202200000002</td>\n",
       "      <td>4</td>\n",
       "      <td>NaN</td>\n",
       "      <td>0</td>\n",
       "      <td>NaN</td>\n",
       "      <td>2</td>\n",
       "      <td>2</td>\n",
       "      <td>0</td>\n",
       "      <td>1</td>\n",
       "      <td>(1)</td>\n",
       "      <td>(1)</td>\n",
       "      <td>1</td>\n",
       "      <td>NaN</td>\n",
       "      <td>-1</td>\n",
       "      <td>1</td>\n",
       "      <td>0</td>\n",
       "      <td>1</td>\n",
       "      <td>50</td>\n",
       "    </tr>\n",
       "    <tr>\n",
       "      <th>2</th>\n",
       "      <td>202200000003</td>\n",
       "      <td>3</td>\n",
       "      <td>ROND POINT DE BREZILLET</td>\n",
       "      <td>0</td>\n",
       "      <td>NaN</td>\n",
       "      <td>-1</td>\n",
       "      <td>2</td>\n",
       "      <td>0</td>\n",
       "      <td>1</td>\n",
       "      <td>0</td>\n",
       "      <td>0</td>\n",
       "      <td>1</td>\n",
       "      <td>NaN</td>\n",
       "      <td>-1</td>\n",
       "      <td>1</td>\n",
       "      <td>5</td>\n",
       "      <td>1</td>\n",
       "      <td>50</td>\n",
       "    </tr>\n",
       "    <tr>\n",
       "      <th>3</th>\n",
       "      <td>202200000004</td>\n",
       "      <td>4</td>\n",
       "      <td>QUATORZE JUILLET (RUE DU)</td>\n",
       "      <td>0</td>\n",
       "      <td>NaN</td>\n",
       "      <td>1</td>\n",
       "      <td>1</td>\n",
       "      <td>0</td>\n",
       "      <td>2</td>\n",
       "      <td>(1)</td>\n",
       "      <td>(1)</td>\n",
       "      <td>1</td>\n",
       "      <td>NaN</td>\n",
       "      <td>4</td>\n",
       "      <td>1</td>\n",
       "      <td>0</td>\n",
       "      <td>1</td>\n",
       "      <td>30</td>\n",
       "    </tr>\n",
       "    <tr>\n",
       "      <th>4</th>\n",
       "      <td>202200000005</td>\n",
       "      <td>3</td>\n",
       "      <td>ROUTE DE JEAN MOULIN-RN 538</td>\n",
       "      <td>0</td>\n",
       "      <td>NaN</td>\n",
       "      <td>2</td>\n",
       "      <td>2</td>\n",
       "      <td>0</td>\n",
       "      <td>1</td>\n",
       "      <td>8</td>\n",
       "      <td>0</td>\n",
       "      <td>1</td>\n",
       "      <td>NaN</td>\n",
       "      <td>-1</td>\n",
       "      <td>1</td>\n",
       "      <td>0</td>\n",
       "      <td>1</td>\n",
       "      <td>80</td>\n",
       "    </tr>\n",
       "    <tr>\n",
       "      <th>...</th>\n",
       "      <td>...</td>\n",
       "      <td>...</td>\n",
       "      <td>...</td>\n",
       "      <td>...</td>\n",
       "      <td>...</td>\n",
       "      <td>...</td>\n",
       "      <td>...</td>\n",
       "      <td>...</td>\n",
       "      <td>...</td>\n",
       "      <td>...</td>\n",
       "      <td>...</td>\n",
       "      <td>...</td>\n",
       "      <td>...</td>\n",
       "      <td>...</td>\n",
       "      <td>...</td>\n",
       "      <td>...</td>\n",
       "      <td>...</td>\n",
       "      <td>...</td>\n",
       "    </tr>\n",
       "    <tr>\n",
       "      <th>55297</th>\n",
       "      <td>202200055298</td>\n",
       "      <td>3</td>\n",
       "      <td>71</td>\n",
       "      <td>-1</td>\n",
       "      <td>NaN</td>\n",
       "      <td>2</td>\n",
       "      <td>2</td>\n",
       "      <td>0</td>\n",
       "      <td>2</td>\n",
       "      <td>(1)</td>\n",
       "      <td>(1)</td>\n",
       "      <td>1</td>\n",
       "      <td>NaN</td>\n",
       "      <td>-1</td>\n",
       "      <td>1</td>\n",
       "      <td>0</td>\n",
       "      <td>8</td>\n",
       "      <td>80</td>\n",
       "    </tr>\n",
       "    <tr>\n",
       "      <th>55298</th>\n",
       "      <td>202200055299</td>\n",
       "      <td>3</td>\n",
       "      <td>973</td>\n",
       "      <td>-1</td>\n",
       "      <td>NaN</td>\n",
       "      <td>2</td>\n",
       "      <td>2</td>\n",
       "      <td>0</td>\n",
       "      <td>1</td>\n",
       "      <td>29</td>\n",
       "      <td>0</td>\n",
       "      <td>2</td>\n",
       "      <td>NaN</td>\n",
       "      <td>-1</td>\n",
       "      <td>1</td>\n",
       "      <td>0</td>\n",
       "      <td>3</td>\n",
       "      <td>80</td>\n",
       "    </tr>\n",
       "    <tr>\n",
       "      <th>55299</th>\n",
       "      <td>202200055300</td>\n",
       "      <td>3</td>\n",
       "      <td>22</td>\n",
       "      <td>0</td>\n",
       "      <td>D</td>\n",
       "      <td>2</td>\n",
       "      <td>2</td>\n",
       "      <td>0</td>\n",
       "      <td>1</td>\n",
       "      <td>39</td>\n",
       "      <td>553</td>\n",
       "      <td>2</td>\n",
       "      <td>NaN</td>\n",
       "      <td>-1</td>\n",
       "      <td>7</td>\n",
       "      <td>0</td>\n",
       "      <td>3</td>\n",
       "      <td>80</td>\n",
       "    </tr>\n",
       "    <tr>\n",
       "      <th>55300</th>\n",
       "      <td>202200055301</td>\n",
       "      <td>3</td>\n",
       "      <td>18</td>\n",
       "      <td>-1</td>\n",
       "      <td>D</td>\n",
       "      <td>2</td>\n",
       "      <td>2</td>\n",
       "      <td>0</td>\n",
       "      <td>1</td>\n",
       "      <td>30</td>\n",
       "      <td>125</td>\n",
       "      <td>1</td>\n",
       "      <td>NaN</td>\n",
       "      <td>-1</td>\n",
       "      <td>1</td>\n",
       "      <td>0</td>\n",
       "      <td>1</td>\n",
       "      <td>80</td>\n",
       "    </tr>\n",
       "    <tr>\n",
       "      <th>55301</th>\n",
       "      <td>202200055302</td>\n",
       "      <td>3</td>\n",
       "      <td>NaN</td>\n",
       "      <td>-1</td>\n",
       "      <td>NaN</td>\n",
       "      <td>3</td>\n",
       "      <td>4</td>\n",
       "      <td>0</td>\n",
       "      <td>1</td>\n",
       "      <td>(1)</td>\n",
       "      <td>(1)</td>\n",
       "      <td>1</td>\n",
       "      <td>NaN</td>\n",
       "      <td>4</td>\n",
       "      <td>1</td>\n",
       "      <td>0</td>\n",
       "      <td>1</td>\n",
       "      <td>70</td>\n",
       "    </tr>\n",
       "  </tbody>\n",
       "</table>\n",
       "<p>55302 rows × 18 columns</p>\n",
       "</div>"
      ],
      "text/plain": [
       "            Num_Acc  catr                         voie  v1   v2  circ nbv  \\\n",
       "0      202200000001     4       TEIL(vieille route du)   0  NaN     2   2   \n",
       "1      202200000002     4                          NaN   0  NaN     2   2   \n",
       "2      202200000003     3      ROND POINT DE BREZILLET   0  NaN    -1   2   \n",
       "3      202200000004     4    QUATORZE JUILLET (RUE DU)   0  NaN     1   1   \n",
       "4      202200000005     3  ROUTE DE JEAN MOULIN-RN 538   0  NaN     2   2   \n",
       "...             ...   ...                          ...  ..  ...   ...  ..   \n",
       "55297  202200055298     3                           71  -1  NaN     2   2   \n",
       "55298  202200055299     3                          973  -1  NaN     2   2   \n",
       "55299  202200055300     3                           22   0    D     2   2   \n",
       "55300  202200055301     3                           18  -1    D     2   2   \n",
       "55301  202200055302     3                          NaN  -1  NaN     3   4   \n",
       "\n",
       "       vosp  prof   pr  pr1  plan lartpc larrout  surf  infra  situ  vma  \n",
       "0         0     1  (1)  (1)     1    NaN      -1     1      0     1   50  \n",
       "1         0     1  (1)  (1)     1    NaN      -1     1      0     1   50  \n",
       "2         0     1    0    0     1    NaN      -1     1      5     1   50  \n",
       "3         0     2  (1)  (1)     1    NaN       4     1      0     1   30  \n",
       "4         0     1    8    0     1    NaN      -1     1      0     1   80  \n",
       "...     ...   ...  ...  ...   ...    ...     ...   ...    ...   ...  ...  \n",
       "55297     0     2  (1)  (1)     1    NaN      -1     1      0     8   80  \n",
       "55298     0     1   29    0     2    NaN      -1     1      0     3   80  \n",
       "55299     0     1   39  553     2    NaN      -1     7      0     3   80  \n",
       "55300     0     1   30  125     1    NaN      -1     1      0     1   80  \n",
       "55301     0     1  (1)  (1)     1    NaN       4     1      0     1   70  \n",
       "\n",
       "[55302 rows x 18 columns]"
      ]
     },
     "execution_count": 66,
     "metadata": {},
     "output_type": "execute_result"
    }
   ],
   "source": [
    "df_lieux_22"
   ]
  },
  {
   "cell_type": "code",
   "execution_count": 67,
   "metadata": {},
   "outputs": [
    {
     "data": {
      "text/plain": [
       "4    22671\n",
       "3    21162\n",
       "1     5083\n",
       "2     3584\n",
       "7     2090\n",
       "6      394\n",
       "9      262\n",
       "5       56\n",
       "Name: catr, dtype: int64"
      ]
     },
     "execution_count": 67,
     "metadata": {},
     "output_type": "execute_result"
    }
   ],
   "source": [
    "df_lieux_22[\"catr\"].value_counts()"
   ]
  },
  {
   "cell_type": "code",
   "execution_count": 68,
   "metadata": {},
   "outputs": [],
   "source": [
    "df_lieux_22[\"catr\"] = df_lieux_22[\"catr\"].replace({\n",
    "    1: \"autoroute\",\n",
    "    2: \"route nationale\",\n",
    "    3: \"route departementale\",\n",
    "    4: \"voie communale\",\n",
    "    5: \"hors réseau public\",\n",
    "    6: \"parc de stationnement\",\n",
    "    7: \"route de métropole urbaine\",\n",
    "    9: \"autre\"\n",
    "})\n"
   ]
  },
  {
   "cell_type": "code",
   "execution_count": 69,
   "metadata": {},
   "outputs": [
    {
     "data": {
      "text/plain": [
       "voie communale                22671\n",
       "route departementale          21162\n",
       "autoroute                      5083\n",
       "route nationale                3584\n",
       "route de métropole urbaine     2090\n",
       "parc de stationnement           394\n",
       "autre                           262\n",
       "hors réseau public               56\n",
       "Name: catr, dtype: int64"
      ]
     },
     "execution_count": 69,
     "metadata": {},
     "output_type": "execute_result"
    }
   ],
   "source": [
    "df_lieux_22[\"catr\"].value_counts()"
   ]
  },
  {
   "cell_type": "code",
   "execution_count": 70,
   "metadata": {},
   "outputs": [],
   "source": [
    "#df_lieux_22[\"surf\"].replace(1, np.NaN, inplace=True)\n",
    "#df_lieux_22[\"surf\"]\n",
    "#sns.countplot(data=df_lieux_22, x=\"surf\")"
   ]
  },
  {
   "cell_type": "code",
   "execution_count": 71,
   "metadata": {},
   "outputs": [
    {
     "data": {
      "text/plain": [
       "1                           478\n",
       "7                           401\n",
       "2                           300\n",
       "A4                          274\n",
       "10                          262\n",
       "                           ... \n",
       "ORPHELINAT (ALLEE DE L )      1\n",
       "ESTAING (RUE D')              1\n",
       "DELORY (R GUSTAVE )           1\n",
       "RD 694                        1\n",
       "2120                          1\n",
       "Name: voie, Length: 16310, dtype: int64"
      ]
     },
     "execution_count": 71,
     "metadata": {},
     "output_type": "execute_result"
    }
   ],
   "source": [
    "df_lieux_22[\"voie\"].value_counts()\n"
   ]
  },
  {
   "cell_type": "code",
   "execution_count": 72,
   "metadata": {},
   "outputs": [
    {
     "data": {
      "text/plain": [
       "0             TEIL(vieille route du)\n",
       "1                                NaN\n",
       "2            ROND POINT DE BREZILLET\n",
       "3          QUATORZE JUILLET (RUE DU)\n",
       "4        ROUTE DE JEAN MOULIN-RN 538\n",
       "                    ...             \n",
       "55297                             71\n",
       "55298                            973\n",
       "55299                             22\n",
       "55300                             18\n",
       "55301                            NaN\n",
       "Name: voie, Length: 55302, dtype: object"
      ]
     },
     "execution_count": 72,
     "metadata": {},
     "output_type": "execute_result"
    }
   ],
   "source": [
    "df_lieux_22[\"voie\"].dtype\n",
    "df_lieux_22[\"voie\"]"
   ]
  },
  {
   "cell_type": "markdown",
   "metadata": {},
   "source": [
    " La variable `voie`, contient des chaines de caractères, des noms de rue et des numéros, variable  difficilment exploitable et sans doute trop précise pour prédire la gravité des accidents (le type de voie sera par exemple plus pertinent)."
   ]
  },
  {
   "cell_type": "code",
   "execution_count": 73,
   "metadata": {},
   "outputs": [
    {
     "data": {
      "text/plain": [
       " 0    45266\n",
       "-1     9924\n",
       " 2       96\n",
       " 3       16\n",
       "Name: v1, dtype: int64"
      ]
     },
     "execution_count": 73,
     "metadata": {},
     "output_type": "execute_result"
    }
   ],
   "source": [
    "df_lieux_22[\"v1\"].value_counts()"
   ]
  },
  {
   "cell_type": "markdown",
   "metadata": {},
   "source": [
    "`v1` indique le numéro de la route peu d'intéret "
   ]
  },
  {
   "cell_type": "code",
   "execution_count": 74,
   "metadata": {},
   "outputs": [
    {
     "data": {
      "text/plain": [
       "D     3377\n",
       "A      862\n",
       "N      259\n",
       "E      109\n",
       "M      107\n",
       "R      105\n",
       "C      100\n",
       "B       89\n",
       " -      72\n",
       "T       50\n",
       "X       21\n",
       "G       19\n",
       "F       15\n",
       "Z       11\n",
       "U       10\n",
       "V       10\n",
       "S        9\n",
       "O        8\n",
       "H        7\n",
       "K        4\n",
       "P        4\n",
       "L        3\n",
       "W        2\n",
       "J        1\n",
       "Y        1\n",
       "Name: v2, dtype: int64"
      ]
     },
     "execution_count": 74,
     "metadata": {},
     "output_type": "execute_result"
    }
   ],
   "source": [
    "df_lieux_22[\"v2\"].value_counts()"
   ]
  },
  {
   "cell_type": "markdown",
   "metadata": {},
   "source": [
    "idem"
   ]
  },
  {
   "cell_type": "code",
   "execution_count": 75,
   "metadata": {},
   "outputs": [
    {
     "data": {
      "text/plain": [
       " 2    34610\n",
       " 1     9511\n",
       " 3     7696\n",
       "-1     3160\n",
       " 4      325\n",
       "Name: circ, dtype: int64"
      ]
     },
     "execution_count": 75,
     "metadata": {},
     "output_type": "execute_result"
    }
   ],
   "source": [
    "df_lieux_22[\"circ\"].value_counts()"
   ]
  },
  {
   "cell_type": "code",
   "execution_count": 76,
   "metadata": {},
   "outputs": [],
   "source": [
    "df_lieux_22[\"circ\"] = df_lieux_22[\"circ\"].replace(-1, np.nan)\n",
    "df_lieux_22[\"circ\"] = df_lieux_22[\"circ\"].replace(1, \"chaussée unidirectionnelle\")\n",
    "df_lieux_22[\"circ\"] = df_lieux_22[\"circ\"].replace(2, \"chausée bidirectionnelle\")\n",
    "df_lieux_22[\"circ\"] = df_lieux_22[\"circ\"].replace(3, \"chaussée séparée\")\n",
    "df_lieux_22[\"circ\"] = df_lieux_22[\"circ\"].replace(4, \"avec voies d’affectation variable\")"
   ]
  },
  {
   "cell_type": "markdown",
   "metadata": {},
   "source": [
    "### Variable `nbv`\n",
    "\n",
    "La variable est très sale..."
   ]
  },
  {
   "cell_type": "code",
   "execution_count": 78,
   "metadata": {},
   "outputs": [
    {
     "data": {
      "text/plain": [
       "2          20311\n",
       "2          13854\n",
       "4           3793\n",
       "1           3362\n",
       "4           2735\n",
       "3           2550\n",
       "1           2280\n",
       "3           1749\n",
       "6            854\n",
       "0            648\n",
       "6            568\n",
       "5            541\n",
       "0            451\n",
       "5            395\n",
       " -1          328\n",
       "8            256\n",
       "-1           233\n",
       "8            157\n",
       "7             52\n",
       "7             51\n",
       "10            42\n",
       "10            22\n",
       "9             21\n",
       "9             19\n",
       "12            11\n",
       "12             9\n",
       "11             6\n",
       "11             3\n",
       "#ERREUR        1\n",
       "Name: nbv, dtype: int64"
      ]
     },
     "execution_count": 78,
     "metadata": {},
     "output_type": "execute_result"
    }
   ],
   "source": [
    "df_lieux_22[\"nbv\"].value_counts()"
   ]
  },
  {
   "cell_type": "code",
   "execution_count": 79,
   "metadata": {},
   "outputs": [
    {
     "data": {
      "text/plain": [
       "['2',\n",
       " '1',\n",
       " '4',\n",
       " '3',\n",
       " '6',\n",
       " '0',\n",
       " '9',\n",
       " '8',\n",
       " ' -1',\n",
       " '5',\n",
       " '7',\n",
       " '12',\n",
       " '10',\n",
       " '#ERREUR',\n",
       " '11',\n",
       " 2,\n",
       " 3,\n",
       " 4,\n",
       " 1,\n",
       " 5,\n",
       " 0,\n",
       " 6,\n",
       " -1,\n",
       " 8,\n",
       " 10,\n",
       " 9,\n",
       " 7,\n",
       " 12,\n",
       " 11]"
      ]
     },
     "execution_count": 79,
     "metadata": {},
     "output_type": "execute_result"
    }
   ],
   "source": [
    "df_lieux_22[\"nbv\"].unique().tolist()"
   ]
  },
  {
   "cell_type": "code",
   "execution_count": 80,
   "metadata": {},
   "outputs": [],
   "source": [
    "df_lieux_22[\"nbv\"] = df_lieux_22[\"nbv\"].replace({\"#ERREUR\": np.nan}).astype(float).replace({-1: np.nan, 0: np.nan})"
   ]
  },
  {
   "cell_type": "code",
   "execution_count": 81,
   "metadata": {},
   "outputs": [
    {
     "data": {
      "text/plain": [
       "2.0     34165\n",
       "4.0      6528\n",
       "1.0      5642\n",
       "3.0      4299\n",
       "6.0      1422\n",
       "5.0       936\n",
       "8.0       413\n",
       "7.0       103\n",
       "10.0       64\n",
       "9.0        40\n",
       "12.0       20\n",
       "11.0        9\n",
       "Name: nbv, dtype: int64"
      ]
     },
     "execution_count": 81,
     "metadata": {},
     "output_type": "execute_result"
    }
   ],
   "source": [
    "df_lieux_22[\"nbv\"].value_counts()"
   ]
  },
  {
   "cell_type": "code",
   "execution_count": 53,
   "metadata": {},
   "outputs": [],
   "source": [
    "df_lieux_22[\"vosp\"] = df_lieux_22[\"vosp\"].replace(-1, np.nan)\n",
    "df_lieux_22[\"vosp\"] = df_lieux_22[\"vosp\"].replace(0, np.nan)\n",
    "df_lieux_22[\"vosp\"] = df_lieux_22[\"vosp\"].replace(1, \"piste_cyclable\")\n",
    "df_lieux_22[\"vosp\"] = df_lieux_22[\"vosp\"].replace(2, \"bande cyclable\")\n",
    "df_lieux_22[\"vosp\"] = df_lieux_22[\"vosp\"].replace(3, \"voie réservée\")\n"
   ]
  },
  {
   "cell_type": "code",
   "execution_count": 54,
   "metadata": {},
   "outputs": [
    {
     "data": {
      "text/plain": [
       "piste_cyclable    2995\n",
       "voie réservée     2129\n",
       "bande cyclable    1766\n",
       "Name: vosp, dtype: int64"
      ]
     },
     "execution_count": 54,
     "metadata": {},
     "output_type": "execute_result"
    }
   ],
   "source": [
    "df_lieux_22[\"vosp\"].value_counts()"
   ]
  },
  {
   "cell_type": "code",
   "execution_count": 55,
   "metadata": {},
   "outputs": [],
   "source": [
    "df_lieux_22[\"vosp\"].value_counts()\n",
    "df_lieux_22[\"vosp\"] = df_lieux_22[\"vosp\"].replace(-1, np.nan)\n",
    "df_lieux_22[\"vosp\"] = df_lieux_22[\"vosp\"].replace(1, \"partie rectiligne\")\n",
    "df_lieux_22[\"vosp\"] = df_lieux_22[\"vosp\"].replace(2, \"courbe gauche\" )\n",
    "df_lieux_22[\"vosp\"] = df_lieux_22[\"vosp\"].replace(3, \"courbe à droite\")\n",
    "df_lieux_22[\"vosp\"] = df_lieux_22[\"vosp\"].replace(4, \"courbe en S\")\n"
   ]
  },
  {
   "cell_type": "code",
   "execution_count": 56,
   "metadata": {},
   "outputs": [
    {
     "data": {
      "text/plain": [
       " -1     51456\n",
       "4        1533\n",
       "5         574\n",
       "3         509\n",
       "7         314\n",
       "        ...  \n",
       "6,9         1\n",
       "14,5        1\n",
       "5,79        1\n",
       "11,3        1\n",
       "9,1         1\n",
       "Name: larrout, Length: 88, dtype: int64"
      ]
     },
     "execution_count": 56,
     "metadata": {},
     "output_type": "execute_result"
    }
   ],
   "source": [
    "df_lieux_22[\"larrout\"]=df_lieux_22[\"larrout\"].replace(-1,np.nan)\n",
    "df_lieux_22[\"larrout\"].value_counts()\n"
   ]
  },
  {
   "cell_type": "markdown",
   "metadata": {},
   "source": [
    "largeur de la route "
   ]
  },
  {
   "cell_type": "code",
   "execution_count": 57,
   "metadata": {},
   "outputs": [
    {
     "data": {
      "text/plain": [
       " 1    46026\n",
       " 2     8429\n",
       " 9      331\n",
       " 7      218\n",
       " 3       88\n",
       " 8       87\n",
       " 5       51\n",
       " 6       37\n",
       " 4       26\n",
       "-1        9\n",
       "Name: surf, dtype: int64"
      ]
     },
     "execution_count": 57,
     "metadata": {},
     "output_type": "execute_result"
    }
   ],
   "source": [
    "df_lieux_22[\"surf\"].value_counts()"
   ]
  },
  {
   "cell_type": "code",
   "execution_count": 58,
   "metadata": {},
   "outputs": [],
   "source": [
    "df_lieux_22[\"surf\"] = df_lieux_22[\"surf\"].replace(-1, np.nan)\n",
    "df_lieux_22[\"surf\"] = df_lieux_22[\"surf\"].replace(1, \"normale\")\n",
    "df_lieux_22[\"surf\"] = df_lieux_22[\"surf\"].replace(2, \"mouillée\")\n",
    "df_lieux_22[\"surf\"] = df_lieux_22[\"surf\"].replace(3, \"flaque\")\n",
    "df_lieux_22[\"surf\"] = df_lieux_22[\"surf\"].replace(4, \"inondée\")\n",
    "df_lieux_22[\"surf\"] = df_lieux_22[\"surf\"].replace(5, \"enneigée\")\n",
    "df_lieux_22[\"surf\"] = df_lieux_22[\"surf\"].replace(6, \"boue\")\n",
    "df_lieux_22[\"surf\"] = df_lieux_22[\"surf\"].replace(7, \"verglacée\")\n",
    "df_lieux_22[\"surf\"] = df_lieux_22[\"surf\"].replace(8, \"corps gras\")\n",
    "df_lieux_22[\"surf\"] = df_lieux_22[\"surf\"].replace(9, \"autre\")"
   ]
  },
  {
   "cell_type": "markdown",
   "metadata": {},
   "source": [
    "Surface indique le type de surface où à  l'accident à eu lieux "
   ]
  },
  {
   "cell_type": "code",
   "execution_count": 59,
   "metadata": {},
   "outputs": [],
   "source": [
    "df_lieux_22[\"infra\"] = df_lieux_22[\"infra\"].replace(-1, np.nan)\n",
    "df_lieux_22[\"infra\"] = df_lieux_22[\"infra\"].replace(0, np.nan)\n",
    "df_lieux_22[\"infra\"] = df_lieux_22[\"infra\"].replace(1, \"tunnel\")\n",
    "df_lieux_22[\"infra\"] = df_lieux_22[\"infra\"].replace(2, \"pont\")\n",
    "df_lieux_22[\"infra\"] = df_lieux_22[\"infra\"].replace(3, \"bretelle\")\n",
    "df_lieux_22[\"infra\"] = df_lieux_22[\"infra\"].replace(4, \"voie ferrée\")\n",
    "df_lieux_22[\"infra\"] = df_lieux_22[\"infra\"].replace(5, \"carrefour aménagé\")\n",
    "df_lieux_22[\"infra\"] = df_lieux_22[\"infra\"].replace(6, \"zone piétonne\")\n",
    "df_lieux_22[\"infra\"] = df_lieux_22[\"infra\"].replace(7, \"zone de péage\")\n",
    "df_lieux_22[\"infra\"] = df_lieux_22[\"infra\"].replace(8, \"chantier\")\n",
    "df_lieux_22[\"infra\"] = df_lieux_22[\"infra\"].replace(9, \"autre\")"
   ]
  },
  {
   "cell_type": "code",
   "execution_count": 60,
   "metadata": {},
   "outputs": [
    {
     "data": {
      "text/plain": [
       "carrefour aménagé    2862\n",
       "autre                1970\n",
       "pont                  961\n",
       "bretelle              677\n",
       "tunnel                656\n",
       "zone piétonne         519\n",
       "chantier              411\n",
       "voie ferrée           135\n",
       "zone de péage          31\n",
       "Name: infra, dtype: int64"
      ]
     },
     "execution_count": 60,
     "metadata": {},
     "output_type": "execute_result"
    }
   ],
   "source": [
    "df_lieux_22[\"infra\"].value_counts() #vérification que le recodage à fonctionné "
   ]
  },
  {
   "cell_type": "markdown",
   "metadata": {},
   "source": [
    "Infra indique le type d'infrastructure. Comme souvent dans la base il existe un item qui sembble intermédiaire entre non renseingée et autre, ici il s'agit d'aucun. à l'instar de ce nous avon fait avant je recode autre en \"Nan\". \n"
   ]
  },
  {
   "cell_type": "code",
   "execution_count": 61,
   "metadata": {},
   "outputs": [],
   "source": [
    "\n",
    "df_lieux_22[\"situ\"] = df_lieux_22[\"situ\"].replace(-1, np.nan)\n",
    "df_lieux_22[\"situ\"] = df_lieux_22[\"situ\"].replace(0, np.nan)\n",
    "df_lieux_22[\"situ\"] = df_lieux_22[\"situ\"].replace(1, \"chaussée\")\n",
    "df_lieux_22[\"situ\"] = df_lieux_22[\"situ\"].replace(2, \"bande d'arrêt d'urgence\")\n",
    "df_lieux_22[\"situ\"] = df_lieux_22[\"situ\"].replace(3, \"acottement\")\n",
    "df_lieux_22[\"situ\"] = df_lieux_22[\"situ\"].replace(4, \"trottoir\")\n",
    "df_lieux_22[\"situ\"] = df_lieux_22[\"situ\"].replace(5, \"piste cyclable\")\n",
    "df_lieux_22[\"situ\"] = df_lieux_22[\"situ\"].replace(6, \"voie spéciale\")\n",
    "df_lieux_22[\"situ\"] = df_lieux_22[\"situ\"].replace(7, np.nan)\n",
    "df_lieux_22[\"situ\"] = df_lieux_22[\"situ\"].replace(8, \"autre\")\n",
    "\n"
   ]
  },
  {
   "cell_type": "code",
   "execution_count": 62,
   "metadata": {},
   "outputs": [
    {
     "data": {
      "text/plain": [
       "chaussée                   45401\n",
       "acottement                  4118\n",
       "autre                       1890\n",
       "piste cyclable              1437\n",
       "trottoir                    1326\n",
       "voie spéciale                729\n",
       "bande d'arrêt d'urgence      394\n",
       "Name: situ, dtype: int64"
      ]
     },
     "execution_count": 62,
     "metadata": {},
     "output_type": "execute_result"
    }
   ],
   "source": [
    "df_lieux_22[\"situ\"].value_counts()"
   ]
  },
  {
   "cell_type": "markdown",
   "metadata": {},
   "source": [
    "\"Situ\" indique la situation de l'accident encore une fois la documentation ne mentionne pas l'entrée 7 qui à cela dit peu d'observation. "
   ]
  },
  {
   "cell_type": "code",
   "execution_count": null,
   "metadata": {},
   "outputs": [],
   "source": []
  },
  {
   "cell_type": "code",
   "execution_count": 63,
   "metadata": {},
   "outputs": [
    {
     "data": {
      "text/plain": [
       " 700        1\n",
       " 3          2\n",
       " 4          2\n",
       " 35         3\n",
       " 300        5\n",
       " 2          5\n",
       " 100        5\n",
       " 6          6\n",
       " 500        8\n",
       " 1         15\n",
       " 45        25\n",
       " 15        29\n",
       " 5         34\n",
       " 25        35\n",
       " 40        60\n",
       " 60       111\n",
       " 10       141\n",
       " 20       157\n",
       "-1        897\n",
       " 130     1118\n",
       " 110     1922\n",
       " 70      4093\n",
       " 90      4494\n",
       " 80      7616\n",
       " 30      9066\n",
       " 50     25452\n",
       "Name: vma, dtype: int64"
      ]
     },
     "execution_count": 63,
     "metadata": {},
     "output_type": "execute_result"
    }
   ],
   "source": [
    "df_lieux_22[\"vma\"].value_counts(ascending=True)\n",
    "\n"
   ]
  },
  {
   "cell_type": "markdown",
   "metadata": {},
   "source": [
    "VMA indique la vitesse maximal autorisé , les vitesses supérieur à 130 sont donc des erreurs, de fait, toutes vitesses  supérieur à 130 est une erreur, il n'existe pas d'autre base rescençant les vitesse qui permeterait d'imputer les bonnes valeurs à l'aide d'un merge, on va donc les metre en NAN/. les valeurs trés faible comme 1 sont suspectes , mais possible, il est sans doute préférable de les conserver "
   ]
  },
  {
   "cell_type": "code",
   "execution_count": 64,
   "metadata": {},
   "outputs": [],
   "source": [
    "df_lieux_22.loc[df_lieux_22['vma'] > 130, 'vma'] = np.nan"
   ]
  },
  {
   "cell_type": "code",
   "execution_count": 65,
   "metadata": {},
   "outputs": [],
   "source": [
    "df_lieux_22[\"vma\"] = df_lieux_22[\"vma\"].replace(-1, np.nan)"
   ]
  },
  {
   "cell_type": "code",
   "execution_count": 66,
   "metadata": {},
   "outputs": [
    {
     "name": "stdout",
     "output_type": "stream",
     "text": [
      "<class 'pandas.core.frame.DataFrame'>\n",
      "RangeIndex: 55302 entries, 0 to 55301\n",
      "Data columns (total 18 columns):\n",
      " #   Column   Non-Null Count  Dtype  \n",
      "---  ------   --------------  -----  \n",
      " 0   Num_Acc  55302 non-null  int64  \n",
      " 1   catr     55302 non-null  object \n",
      " 2   voie     50497 non-null  object \n",
      " 3   v1       55302 non-null  int64  \n",
      " 4   v2       5255 non-null   object \n",
      " 5   circ     52142 non-null  object \n",
      " 6   nbv      55302 non-null  object \n",
      " 7   vosp     6890 non-null   object \n",
      " 8   prof     55302 non-null  int64  \n",
      " 9   pr       55302 non-null  object \n",
      " 10  pr1      55302 non-null  object \n",
      " 11  plan     55302 non-null  int64  \n",
      " 12  lartpc   28 non-null     object \n",
      " 13  larrout  55302 non-null  object \n",
      " 14  surf     55293 non-null  object \n",
      " 15  infra    8222 non-null   object \n",
      " 16  situ     55295 non-null  object \n",
      " 17  vma      54391 non-null  float64\n",
      "dtypes: float64(1), int64(4), object(13)\n",
      "memory usage: 7.6+ MB\n"
     ]
    }
   ],
   "source": [
    "df_lieux_22.info()"
   ]
  },
  {
   "cell_type": "code",
   "execution_count": 67,
   "metadata": {},
   "outputs": [
    {
     "data": {
      "text/html": [
       "<div>\n",
       "<style scoped>\n",
       "    .dataframe tbody tr th:only-of-type {\n",
       "        vertical-align: middle;\n",
       "    }\n",
       "\n",
       "    .dataframe tbody tr th {\n",
       "        vertical-align: top;\n",
       "    }\n",
       "\n",
       "    .dataframe thead th {\n",
       "        text-align: right;\n",
       "    }\n",
       "</style>\n",
       "<table border=\"1\" class=\"dataframe\">\n",
       "  <thead>\n",
       "    <tr style=\"text-align: right;\">\n",
       "      <th></th>\n",
       "      <th>Num_Acc</th>\n",
       "      <th>v1</th>\n",
       "      <th>prof</th>\n",
       "      <th>plan</th>\n",
       "      <th>vma</th>\n",
       "    </tr>\n",
       "  </thead>\n",
       "  <tbody>\n",
       "    <tr>\n",
       "      <th>count</th>\n",
       "      <td>5.530200e+04</td>\n",
       "      <td>55302.000000</td>\n",
       "      <td>55302.000000</td>\n",
       "      <td>55302.000000</td>\n",
       "      <td>54391.000000</td>\n",
       "    </tr>\n",
       "    <tr>\n",
       "      <th>mean</th>\n",
       "      <td>2.022000e+11</td>\n",
       "      <td>-0.175111</td>\n",
       "      <td>1.234838</td>\n",
       "      <td>1.312538</td>\n",
       "      <td>59.173117</td>\n",
       "    </tr>\n",
       "    <tr>\n",
       "      <th>std</th>\n",
       "      <td>1.596446e+04</td>\n",
       "      <td>0.397916</td>\n",
       "      <td>0.544126</td>\n",
       "      <td>0.687786</td>\n",
       "      <td>23.248682</td>\n",
       "    </tr>\n",
       "    <tr>\n",
       "      <th>min</th>\n",
       "      <td>2.022000e+11</td>\n",
       "      <td>-1.000000</td>\n",
       "      <td>-1.000000</td>\n",
       "      <td>-1.000000</td>\n",
       "      <td>1.000000</td>\n",
       "    </tr>\n",
       "    <tr>\n",
       "      <th>25%</th>\n",
       "      <td>2.022000e+11</td>\n",
       "      <td>0.000000</td>\n",
       "      <td>1.000000</td>\n",
       "      <td>1.000000</td>\n",
       "      <td>50.000000</td>\n",
       "    </tr>\n",
       "    <tr>\n",
       "      <th>50%</th>\n",
       "      <td>2.022000e+11</td>\n",
       "      <td>0.000000</td>\n",
       "      <td>1.000000</td>\n",
       "      <td>1.000000</td>\n",
       "      <td>50.000000</td>\n",
       "    </tr>\n",
       "    <tr>\n",
       "      <th>75%</th>\n",
       "      <td>2.022000e+11</td>\n",
       "      <td>0.000000</td>\n",
       "      <td>1.000000</td>\n",
       "      <td>1.000000</td>\n",
       "      <td>80.000000</td>\n",
       "    </tr>\n",
       "    <tr>\n",
       "      <th>max</th>\n",
       "      <td>2.022001e+11</td>\n",
       "      <td>3.000000</td>\n",
       "      <td>4.000000</td>\n",
       "      <td>4.000000</td>\n",
       "      <td>130.000000</td>\n",
       "    </tr>\n",
       "  </tbody>\n",
       "</table>\n",
       "</div>"
      ],
      "text/plain": [
       "            Num_Acc            v1          prof          plan           vma\n",
       "count  5.530200e+04  55302.000000  55302.000000  55302.000000  54391.000000\n",
       "mean   2.022000e+11     -0.175111      1.234838      1.312538     59.173117\n",
       "std    1.596446e+04      0.397916      0.544126      0.687786     23.248682\n",
       "min    2.022000e+11     -1.000000     -1.000000     -1.000000      1.000000\n",
       "25%    2.022000e+11      0.000000      1.000000      1.000000     50.000000\n",
       "50%    2.022000e+11      0.000000      1.000000      1.000000     50.000000\n",
       "75%    2.022000e+11      0.000000      1.000000      1.000000     80.000000\n",
       "max    2.022001e+11      3.000000      4.000000      4.000000    130.000000"
      ]
     },
     "execution_count": 67,
     "metadata": {},
     "output_type": "execute_result"
    }
   ],
   "source": [
    "df_lieux_22.describe()"
   ]
  },
  {
   "cell_type": "markdown",
   "metadata": {},
   "source": [
    "Regardons à quoi ressemble notre base nettoyée !"
   ]
  },
  {
   "cell_type": "code",
   "execution_count": 85,
   "metadata": {},
   "outputs": [
    {
     "data": {
      "text/html": [
       "<div>\n",
       "<style scoped>\n",
       "    .dataframe tbody tr th:only-of-type {\n",
       "        vertical-align: middle;\n",
       "    }\n",
       "\n",
       "    .dataframe tbody tr th {\n",
       "        vertical-align: top;\n",
       "    }\n",
       "\n",
       "    .dataframe thead th {\n",
       "        text-align: right;\n",
       "    }\n",
       "</style>\n",
       "<table border=\"1\" class=\"dataframe\">\n",
       "  <thead>\n",
       "    <tr style=\"text-align: right;\">\n",
       "      <th></th>\n",
       "      <th>Num_Acc</th>\n",
       "      <th>catr</th>\n",
       "      <th>voie</th>\n",
       "      <th>v1</th>\n",
       "      <th>v2</th>\n",
       "      <th>circ</th>\n",
       "      <th>nbv</th>\n",
       "      <th>vosp</th>\n",
       "      <th>prof</th>\n",
       "      <th>pr</th>\n",
       "      <th>pr1</th>\n",
       "      <th>plan</th>\n",
       "      <th>lartpc</th>\n",
       "      <th>larrout</th>\n",
       "      <th>surf</th>\n",
       "      <th>infra</th>\n",
       "      <th>situ</th>\n",
       "      <th>vma</th>\n",
       "    </tr>\n",
       "  </thead>\n",
       "  <tbody>\n",
       "    <tr>\n",
       "      <th>0</th>\n",
       "      <td>202200000001</td>\n",
       "      <td>voie communale</td>\n",
       "      <td>TEIL(vieille route du)</td>\n",
       "      <td>0</td>\n",
       "      <td>NaN</td>\n",
       "      <td>chausée bidirectionnelle</td>\n",
       "      <td>2</td>\n",
       "      <td>NaN</td>\n",
       "      <td>1</td>\n",
       "      <td>(1)</td>\n",
       "      <td>(1)</td>\n",
       "      <td>1</td>\n",
       "      <td>NaN</td>\n",
       "      <td>-1</td>\n",
       "      <td>normale</td>\n",
       "      <td>NaN</td>\n",
       "      <td>chaussée</td>\n",
       "      <td>50.0</td>\n",
       "    </tr>\n",
       "    <tr>\n",
       "      <th>1</th>\n",
       "      <td>202200000002</td>\n",
       "      <td>voie communale</td>\n",
       "      <td>NaN</td>\n",
       "      <td>0</td>\n",
       "      <td>NaN</td>\n",
       "      <td>chausée bidirectionnelle</td>\n",
       "      <td>2</td>\n",
       "      <td>NaN</td>\n",
       "      <td>1</td>\n",
       "      <td>(1)</td>\n",
       "      <td>(1)</td>\n",
       "      <td>1</td>\n",
       "      <td>NaN</td>\n",
       "      <td>-1</td>\n",
       "      <td>normale</td>\n",
       "      <td>NaN</td>\n",
       "      <td>chaussée</td>\n",
       "      <td>50.0</td>\n",
       "    </tr>\n",
       "    <tr>\n",
       "      <th>2</th>\n",
       "      <td>202200000003</td>\n",
       "      <td>route departementale</td>\n",
       "      <td>ROND POINT DE BREZILLET</td>\n",
       "      <td>0</td>\n",
       "      <td>NaN</td>\n",
       "      <td>NaN</td>\n",
       "      <td>2</td>\n",
       "      <td>NaN</td>\n",
       "      <td>1</td>\n",
       "      <td>0</td>\n",
       "      <td>0</td>\n",
       "      <td>1</td>\n",
       "      <td>NaN</td>\n",
       "      <td>-1</td>\n",
       "      <td>normale</td>\n",
       "      <td>carrefour aménagé</td>\n",
       "      <td>chaussée</td>\n",
       "      <td>50.0</td>\n",
       "    </tr>\n",
       "    <tr>\n",
       "      <th>3</th>\n",
       "      <td>202200000004</td>\n",
       "      <td>voie communale</td>\n",
       "      <td>QUATORZE JUILLET (RUE DU)</td>\n",
       "      <td>0</td>\n",
       "      <td>NaN</td>\n",
       "      <td>chaussée unidirectionnelle</td>\n",
       "      <td>1</td>\n",
       "      <td>NaN</td>\n",
       "      <td>2</td>\n",
       "      <td>(1)</td>\n",
       "      <td>(1)</td>\n",
       "      <td>1</td>\n",
       "      <td>NaN</td>\n",
       "      <td>4</td>\n",
       "      <td>normale</td>\n",
       "      <td>NaN</td>\n",
       "      <td>chaussée</td>\n",
       "      <td>30.0</td>\n",
       "    </tr>\n",
       "    <tr>\n",
       "      <th>4</th>\n",
       "      <td>202200000005</td>\n",
       "      <td>route departementale</td>\n",
       "      <td>ROUTE DE JEAN MOULIN-RN 538</td>\n",
       "      <td>0</td>\n",
       "      <td>NaN</td>\n",
       "      <td>chausée bidirectionnelle</td>\n",
       "      <td>2</td>\n",
       "      <td>NaN</td>\n",
       "      <td>1</td>\n",
       "      <td>8</td>\n",
       "      <td>0</td>\n",
       "      <td>1</td>\n",
       "      <td>NaN</td>\n",
       "      <td>-1</td>\n",
       "      <td>normale</td>\n",
       "      <td>NaN</td>\n",
       "      <td>chaussée</td>\n",
       "      <td>80.0</td>\n",
       "    </tr>\n",
       "    <tr>\n",
       "      <th>...</th>\n",
       "      <td>...</td>\n",
       "      <td>...</td>\n",
       "      <td>...</td>\n",
       "      <td>...</td>\n",
       "      <td>...</td>\n",
       "      <td>...</td>\n",
       "      <td>...</td>\n",
       "      <td>...</td>\n",
       "      <td>...</td>\n",
       "      <td>...</td>\n",
       "      <td>...</td>\n",
       "      <td>...</td>\n",
       "      <td>...</td>\n",
       "      <td>...</td>\n",
       "      <td>...</td>\n",
       "      <td>...</td>\n",
       "      <td>...</td>\n",
       "      <td>...</td>\n",
       "    </tr>\n",
       "    <tr>\n",
       "      <th>55297</th>\n",
       "      <td>202200055298</td>\n",
       "      <td>route departementale</td>\n",
       "      <td>71</td>\n",
       "      <td>-1</td>\n",
       "      <td>NaN</td>\n",
       "      <td>chausée bidirectionnelle</td>\n",
       "      <td>2</td>\n",
       "      <td>NaN</td>\n",
       "      <td>2</td>\n",
       "      <td>(1)</td>\n",
       "      <td>(1)</td>\n",
       "      <td>1</td>\n",
       "      <td>NaN</td>\n",
       "      <td>-1</td>\n",
       "      <td>normale</td>\n",
       "      <td>NaN</td>\n",
       "      <td>autre</td>\n",
       "      <td>80.0</td>\n",
       "    </tr>\n",
       "    <tr>\n",
       "      <th>55298</th>\n",
       "      <td>202200055299</td>\n",
       "      <td>route departementale</td>\n",
       "      <td>973</td>\n",
       "      <td>-1</td>\n",
       "      <td>NaN</td>\n",
       "      <td>chausée bidirectionnelle</td>\n",
       "      <td>2</td>\n",
       "      <td>NaN</td>\n",
       "      <td>1</td>\n",
       "      <td>29</td>\n",
       "      <td>0</td>\n",
       "      <td>2</td>\n",
       "      <td>NaN</td>\n",
       "      <td>-1</td>\n",
       "      <td>normale</td>\n",
       "      <td>NaN</td>\n",
       "      <td>acottement</td>\n",
       "      <td>80.0</td>\n",
       "    </tr>\n",
       "    <tr>\n",
       "      <th>55299</th>\n",
       "      <td>202200055300</td>\n",
       "      <td>route departementale</td>\n",
       "      <td>22</td>\n",
       "      <td>0</td>\n",
       "      <td>D</td>\n",
       "      <td>chausée bidirectionnelle</td>\n",
       "      <td>2</td>\n",
       "      <td>NaN</td>\n",
       "      <td>1</td>\n",
       "      <td>39</td>\n",
       "      <td>553</td>\n",
       "      <td>2</td>\n",
       "      <td>NaN</td>\n",
       "      <td>-1</td>\n",
       "      <td>verglacée</td>\n",
       "      <td>NaN</td>\n",
       "      <td>acottement</td>\n",
       "      <td>80.0</td>\n",
       "    </tr>\n",
       "    <tr>\n",
       "      <th>55300</th>\n",
       "      <td>202200055301</td>\n",
       "      <td>route departementale</td>\n",
       "      <td>18</td>\n",
       "      <td>-1</td>\n",
       "      <td>D</td>\n",
       "      <td>chausée bidirectionnelle</td>\n",
       "      <td>2</td>\n",
       "      <td>NaN</td>\n",
       "      <td>1</td>\n",
       "      <td>30</td>\n",
       "      <td>125</td>\n",
       "      <td>1</td>\n",
       "      <td>NaN</td>\n",
       "      <td>-1</td>\n",
       "      <td>normale</td>\n",
       "      <td>NaN</td>\n",
       "      <td>chaussée</td>\n",
       "      <td>80.0</td>\n",
       "    </tr>\n",
       "    <tr>\n",
       "      <th>55301</th>\n",
       "      <td>202200055302</td>\n",
       "      <td>route departementale</td>\n",
       "      <td>NaN</td>\n",
       "      <td>-1</td>\n",
       "      <td>NaN</td>\n",
       "      <td>chaussée séparée</td>\n",
       "      <td>4</td>\n",
       "      <td>NaN</td>\n",
       "      <td>1</td>\n",
       "      <td>(1)</td>\n",
       "      <td>(1)</td>\n",
       "      <td>1</td>\n",
       "      <td>NaN</td>\n",
       "      <td>4</td>\n",
       "      <td>normale</td>\n",
       "      <td>NaN</td>\n",
       "      <td>chaussée</td>\n",
       "      <td>70.0</td>\n",
       "    </tr>\n",
       "  </tbody>\n",
       "</table>\n",
       "<p>55302 rows × 18 columns</p>\n",
       "</div>"
      ],
      "text/plain": [
       "            Num_Acc                  catr                         voie  v1  \\\n",
       "0      202200000001        voie communale       TEIL(vieille route du)   0   \n",
       "1      202200000002        voie communale                          NaN   0   \n",
       "2      202200000003  route departementale      ROND POINT DE BREZILLET   0   \n",
       "3      202200000004        voie communale    QUATORZE JUILLET (RUE DU)   0   \n",
       "4      202200000005  route departementale  ROUTE DE JEAN MOULIN-RN 538   0   \n",
       "...             ...                   ...                          ...  ..   \n",
       "55297  202200055298  route departementale                           71  -1   \n",
       "55298  202200055299  route departementale                          973  -1   \n",
       "55299  202200055300  route departementale                           22   0   \n",
       "55300  202200055301  route departementale                           18  -1   \n",
       "55301  202200055302  route departementale                          NaN  -1   \n",
       "\n",
       "        v2                        circ nbv vosp  prof   pr  pr1  plan lartpc  \\\n",
       "0      NaN    chausée bidirectionnelle   2  NaN     1  (1)  (1)     1    NaN   \n",
       "1      NaN    chausée bidirectionnelle   2  NaN     1  (1)  (1)     1    NaN   \n",
       "2      NaN                         NaN   2  NaN     1    0    0     1    NaN   \n",
       "3      NaN  chaussée unidirectionnelle   1  NaN     2  (1)  (1)     1    NaN   \n",
       "4      NaN    chausée bidirectionnelle   2  NaN     1    8    0     1    NaN   \n",
       "...    ...                         ...  ..  ...   ...  ...  ...   ...    ...   \n",
       "55297  NaN    chausée bidirectionnelle   2  NaN     2  (1)  (1)     1    NaN   \n",
       "55298  NaN    chausée bidirectionnelle   2  NaN     1   29    0     2    NaN   \n",
       "55299    D    chausée bidirectionnelle   2  NaN     1   39  553     2    NaN   \n",
       "55300    D    chausée bidirectionnelle   2  NaN     1   30  125     1    NaN   \n",
       "55301  NaN            chaussée séparée   4  NaN     1  (1)  (1)     1    NaN   \n",
       "\n",
       "      larrout       surf              infra        situ   vma  \n",
       "0          -1    normale                NaN    chaussée  50.0  \n",
       "1          -1    normale                NaN    chaussée  50.0  \n",
       "2          -1    normale  carrefour aménagé    chaussée  50.0  \n",
       "3           4    normale                NaN    chaussée  30.0  \n",
       "4          -1    normale                NaN    chaussée  80.0  \n",
       "...       ...        ...                ...         ...   ...  \n",
       "55297      -1    normale                NaN       autre  80.0  \n",
       "55298      -1    normale                NaN  acottement  80.0  \n",
       "55299      -1  verglacée                NaN  acottement  80.0  \n",
       "55300      -1    normale                NaN    chaussée  80.0  \n",
       "55301       4    normale                NaN    chaussée  70.0  \n",
       "\n",
       "[55302 rows x 18 columns]"
      ]
     },
     "execution_count": 85,
     "metadata": {},
     "output_type": "execute_result"
    }
   ],
   "source": [
    "df_lieux_22"
   ]
  },
  {
   "cell_type": "markdown",
   "metadata": {},
   "source": [
    "## Base `vehicules` "
   ]
  },
  {
   "cell_type": "markdown",
   "metadata": {},
   "source": [
    "Dans cette DF  il y à parfois plus de 40 entrées valeur possible pour une colone, on  ne recodera pas ces variables catégorielles \n",
    "et on se referra à la documentation pour connaître leur signification\n"
   ]
  },
  {
   "cell_type": "code",
   "execution_count": 68,
   "metadata": {},
   "outputs": [
    {
     "data": {
      "text/html": [
       "<div>\n",
       "<style scoped>\n",
       "    .dataframe tbody tr th:only-of-type {\n",
       "        vertical-align: middle;\n",
       "    }\n",
       "\n",
       "    .dataframe tbody tr th {\n",
       "        vertical-align: top;\n",
       "    }\n",
       "\n",
       "    .dataframe thead th {\n",
       "        text-align: right;\n",
       "    }\n",
       "</style>\n",
       "<table border=\"1\" class=\"dataframe\">\n",
       "  <thead>\n",
       "    <tr style=\"text-align: right;\">\n",
       "      <th></th>\n",
       "      <th>Num_Acc</th>\n",
       "      <th>id_vehicule</th>\n",
       "      <th>num_veh</th>\n",
       "      <th>senc</th>\n",
       "      <th>catv</th>\n",
       "      <th>obs</th>\n",
       "      <th>obsm</th>\n",
       "      <th>choc</th>\n",
       "      <th>manv</th>\n",
       "      <th>motor</th>\n",
       "      <th>occutc</th>\n",
       "    </tr>\n",
       "  </thead>\n",
       "  <tbody>\n",
       "    <tr>\n",
       "      <th>0</th>\n",
       "      <td>202200000001</td>\n",
       "      <td>813 952</td>\n",
       "      <td>A01</td>\n",
       "      <td>1</td>\n",
       "      <td>2</td>\n",
       "      <td>0</td>\n",
       "      <td>2</td>\n",
       "      <td>1</td>\n",
       "      <td>9</td>\n",
       "      <td>1</td>\n",
       "      <td>NaN</td>\n",
       "    </tr>\n",
       "    <tr>\n",
       "      <th>1</th>\n",
       "      <td>202200000001</td>\n",
       "      <td>813 953</td>\n",
       "      <td>B01</td>\n",
       "      <td>1</td>\n",
       "      <td>7</td>\n",
       "      <td>0</td>\n",
       "      <td>2</td>\n",
       "      <td>2</td>\n",
       "      <td>1</td>\n",
       "      <td>1</td>\n",
       "      <td>NaN</td>\n",
       "    </tr>\n",
       "    <tr>\n",
       "      <th>2</th>\n",
       "      <td>202200000002</td>\n",
       "      <td>813 950</td>\n",
       "      <td>B01</td>\n",
       "      <td>2</td>\n",
       "      <td>7</td>\n",
       "      <td>0</td>\n",
       "      <td>2</td>\n",
       "      <td>8</td>\n",
       "      <td>15</td>\n",
       "      <td>1</td>\n",
       "      <td>NaN</td>\n",
       "    </tr>\n",
       "    <tr>\n",
       "      <th>3</th>\n",
       "      <td>202200000002</td>\n",
       "      <td>813 951</td>\n",
       "      <td>A01</td>\n",
       "      <td>2</td>\n",
       "      <td>10</td>\n",
       "      <td>0</td>\n",
       "      <td>2</td>\n",
       "      <td>1</td>\n",
       "      <td>1</td>\n",
       "      <td>1</td>\n",
       "      <td>NaN</td>\n",
       "    </tr>\n",
       "    <tr>\n",
       "      <th>4</th>\n",
       "      <td>202200000003</td>\n",
       "      <td>813 948</td>\n",
       "      <td>A01</td>\n",
       "      <td>2</td>\n",
       "      <td>7</td>\n",
       "      <td>0</td>\n",
       "      <td>2</td>\n",
       "      <td>1</td>\n",
       "      <td>2</td>\n",
       "      <td>1</td>\n",
       "      <td>NaN</td>\n",
       "    </tr>\n",
       "  </tbody>\n",
       "</table>\n",
       "</div>"
      ],
      "text/plain": [
       "        Num_Acc id_vehicule num_veh  senc  catv  obs  obsm  choc  manv  motor  \\\n",
       "0  202200000001     813 952     A01     1     2    0     2     1     9      1   \n",
       "1  202200000001     813 953     B01     1     7    0     2     2     1      1   \n",
       "2  202200000002     813 950     B01     2     7    0     2     8    15      1   \n",
       "3  202200000002     813 951     A01     2    10    0     2     1     1      1   \n",
       "4  202200000003     813 948     A01     2     7    0     2     1     2      1   \n",
       "\n",
       "   occutc  \n",
       "0     NaN  \n",
       "1     NaN  \n",
       "2     NaN  \n",
       "3     NaN  \n",
       "4     NaN  "
      ]
     },
     "execution_count": 68,
     "metadata": {},
     "output_type": "execute_result"
    }
   ],
   "source": [
    "df_vehicules_22.head()"
   ]
  },
  {
   "cell_type": "code",
   "execution_count": 69,
   "metadata": {},
   "outputs": [
    {
     "name": "stdout",
     "output_type": "stream",
     "text": [
      "<class 'pandas.core.frame.DataFrame'>\n",
      "RangeIndex: 94493 entries, 0 to 94492\n",
      "Data columns (total 11 columns):\n",
      " #   Column       Non-Null Count  Dtype  \n",
      "---  ------       --------------  -----  \n",
      " 0   Num_Acc      94493 non-null  int64  \n",
      " 1   id_vehicule  94493 non-null  object \n",
      " 2   num_veh      94493 non-null  object \n",
      " 3   senc         94493 non-null  int64  \n",
      " 4   catv         94493 non-null  int64  \n",
      " 5   obs          94493 non-null  int64  \n",
      " 6   obsm         94493 non-null  int64  \n",
      " 7   choc         94493 non-null  int64  \n",
      " 8   manv         94493 non-null  int64  \n",
      " 9   motor        94493 non-null  int64  \n",
      " 10  occutc       817 non-null    float64\n",
      "dtypes: float64(1), int64(8), object(2)\n",
      "memory usage: 7.9+ MB\n"
     ]
    }
   ],
   "source": [
    "df_vehicules_22.info()"
   ]
  },
  {
   "cell_type": "code",
   "execution_count": 70,
   "metadata": {},
   "outputs": [
    {
     "data": {
      "text/html": [
       "<div>\n",
       "<style scoped>\n",
       "    .dataframe tbody tr th:only-of-type {\n",
       "        vertical-align: middle;\n",
       "    }\n",
       "\n",
       "    .dataframe tbody tr th {\n",
       "        vertical-align: top;\n",
       "    }\n",
       "\n",
       "    .dataframe thead th {\n",
       "        text-align: right;\n",
       "    }\n",
       "</style>\n",
       "<table border=\"1\" class=\"dataframe\">\n",
       "  <thead>\n",
       "    <tr style=\"text-align: right;\">\n",
       "      <th></th>\n",
       "      <th>Num_Acc</th>\n",
       "      <th>senc</th>\n",
       "      <th>catv</th>\n",
       "      <th>obs</th>\n",
       "      <th>obsm</th>\n",
       "      <th>choc</th>\n",
       "      <th>manv</th>\n",
       "      <th>motor</th>\n",
       "      <th>occutc</th>\n",
       "    </tr>\n",
       "  </thead>\n",
       "  <tbody>\n",
       "    <tr>\n",
       "      <th>count</th>\n",
       "      <td>9.449300e+04</td>\n",
       "      <td>94493.000000</td>\n",
       "      <td>94493.000000</td>\n",
       "      <td>94493.000000</td>\n",
       "      <td>94493.000000</td>\n",
       "      <td>94493.000000</td>\n",
       "      <td>94493.000000</td>\n",
       "      <td>94493.000000</td>\n",
       "      <td>817.000000</td>\n",
       "    </tr>\n",
       "    <tr>\n",
       "      <th>mean</th>\n",
       "      <td>2.022000e+11</td>\n",
       "      <td>1.573439</td>\n",
       "      <td>13.456245</td>\n",
       "      <td>1.027579</td>\n",
       "      <td>1.664515</td>\n",
       "      <td>2.876837</td>\n",
       "      <td>6.924270</td>\n",
       "      <td>1.320352</td>\n",
       "      <td>1.919217</td>\n",
       "    </tr>\n",
       "    <tr>\n",
       "      <th>std</th>\n",
       "      <td>1.592168e+04</td>\n",
       "      <td>0.822237</td>\n",
       "      <td>14.322038</td>\n",
       "      <td>3.128954</td>\n",
       "      <td>1.265675</td>\n",
       "      <td>2.419628</td>\n",
       "      <td>7.888078</td>\n",
       "      <td>1.080011</td>\n",
       "      <td>3.432234</td>\n",
       "    </tr>\n",
       "    <tr>\n",
       "      <th>min</th>\n",
       "      <td>2.022000e+11</td>\n",
       "      <td>-1.000000</td>\n",
       "      <td>-1.000000</td>\n",
       "      <td>-1.000000</td>\n",
       "      <td>-1.000000</td>\n",
       "      <td>-1.000000</td>\n",
       "      <td>-1.000000</td>\n",
       "      <td>-1.000000</td>\n",
       "      <td>1.000000</td>\n",
       "    </tr>\n",
       "    <tr>\n",
       "      <th>25%</th>\n",
       "      <td>2.022000e+11</td>\n",
       "      <td>1.000000</td>\n",
       "      <td>7.000000</td>\n",
       "      <td>0.000000</td>\n",
       "      <td>1.000000</td>\n",
       "      <td>1.000000</td>\n",
       "      <td>1.000000</td>\n",
       "      <td>1.000000</td>\n",
       "      <td>1.000000</td>\n",
       "    </tr>\n",
       "    <tr>\n",
       "      <th>50%</th>\n",
       "      <td>2.022000e+11</td>\n",
       "      <td>1.000000</td>\n",
       "      <td>7.000000</td>\n",
       "      <td>0.000000</td>\n",
       "      <td>2.000000</td>\n",
       "      <td>2.000000</td>\n",
       "      <td>2.000000</td>\n",
       "      <td>1.000000</td>\n",
       "      <td>1.000000</td>\n",
       "    </tr>\n",
       "    <tr>\n",
       "      <th>75%</th>\n",
       "      <td>2.022000e+11</td>\n",
       "      <td>2.000000</td>\n",
       "      <td>10.000000</td>\n",
       "      <td>0.000000</td>\n",
       "      <td>2.000000</td>\n",
       "      <td>4.000000</td>\n",
       "      <td>15.000000</td>\n",
       "      <td>1.000000</td>\n",
       "      <td>1.000000</td>\n",
       "    </tr>\n",
       "    <tr>\n",
       "      <th>max</th>\n",
       "      <td>2.022001e+11</td>\n",
       "      <td>3.000000</td>\n",
       "      <td>99.000000</td>\n",
       "      <td>17.000000</td>\n",
       "      <td>9.000000</td>\n",
       "      <td>9.000000</td>\n",
       "      <td>26.000000</td>\n",
       "      <td>6.000000</td>\n",
       "      <td>38.000000</td>\n",
       "    </tr>\n",
       "  </tbody>\n",
       "</table>\n",
       "</div>"
      ],
      "text/plain": [
       "            Num_Acc          senc          catv           obs          obsm  \\\n",
       "count  9.449300e+04  94493.000000  94493.000000  94493.000000  94493.000000   \n",
       "mean   2.022000e+11      1.573439     13.456245      1.027579      1.664515   \n",
       "std    1.592168e+04      0.822237     14.322038      3.128954      1.265675   \n",
       "min    2.022000e+11     -1.000000     -1.000000     -1.000000     -1.000000   \n",
       "25%    2.022000e+11      1.000000      7.000000      0.000000      1.000000   \n",
       "50%    2.022000e+11      1.000000      7.000000      0.000000      2.000000   \n",
       "75%    2.022000e+11      2.000000     10.000000      0.000000      2.000000   \n",
       "max    2.022001e+11      3.000000     99.000000     17.000000      9.000000   \n",
       "\n",
       "               choc          manv         motor      occutc  \n",
       "count  94493.000000  94493.000000  94493.000000  817.000000  \n",
       "mean       2.876837      6.924270      1.320352    1.919217  \n",
       "std        2.419628      7.888078      1.080011    3.432234  \n",
       "min       -1.000000     -1.000000     -1.000000    1.000000  \n",
       "25%        1.000000      1.000000      1.000000    1.000000  \n",
       "50%        2.000000      2.000000      1.000000    1.000000  \n",
       "75%        4.000000     15.000000      1.000000    1.000000  \n",
       "max        9.000000     26.000000      6.000000   38.000000  "
      ]
     },
     "execution_count": 70,
     "metadata": {},
     "output_type": "execute_result"
    }
   ],
   "source": [
    "df_vehicules_22.describe()"
   ]
  },
  {
   "cell_type": "code",
   "execution_count": 71,
   "metadata": {},
   "outputs": [],
   "source": [
    "df_vehicules_22[\"senc\"].value_counts()\n",
    "df_vehicules_22[\"senc\"] = df_vehicules_22[\"senc\"].replace(-1, np.nan)"
   ]
  },
  {
   "cell_type": "markdown",
   "metadata": {},
   "source": [
    "Senc indique le sens de circulation"
   ]
  },
  {
   "cell_type": "code",
   "execution_count": 72,
   "metadata": {},
   "outputs": [
    {
     "data": {
      "text/plain": [
       " 7     55406\n",
       " 33     7349\n",
       " 10     6759\n",
       " 1      5320\n",
       " 2      3304\n",
       " 30     2724\n",
       " 32     2121\n",
       " 50     2087\n",
       " 31     1603\n",
       " 34      947\n",
       " 15      923\n",
       " 14      723\n",
       " 80      680\n",
       " 37      637\n",
       " 17      627\n",
       " 43      612\n",
       " 3       506\n",
       " 99      405\n",
       " 13      381\n",
       " 0       273\n",
       " 21      235\n",
       " 60      201\n",
       " 38      180\n",
       " 36      173\n",
       " 40      125\n",
       " 20       77\n",
       " 39       29\n",
       " 16       26\n",
       " 35       21\n",
       " 42       18\n",
       " 41       17\n",
       "-1         4\n",
       "Name: catv, dtype: int64"
      ]
     },
     "execution_count": 72,
     "metadata": {},
     "output_type": "execute_result"
    }
   ],
   "source": [
    "df_vehicules_22[\"catv\"].value_counts()"
   ]
  },
  {
   "cell_type": "code",
   "execution_count": 73,
   "metadata": {},
   "outputs": [],
   "source": [
    "df_vehicules_22[\"catv\"] = df_vehicules_22[\"catv\"].replace(00, np.nan)\n",
    "df_vehicules_22[\"senc\"] = df_vehicules_22[\"senc\"].replace(-1, np.nan)"
   ]
  },
  {
   "cell_type": "markdown",
   "metadata": {},
   "source": [
    "Catv est la catégorie du véhicule\n",
    "00 correspond  à \" indetérminable\" l'imputé sera utile pour déterminer quel types de véhicules sont les plus dangereu( I.E cause les accidents les plus graves )"
   ]
  },
  {
   "cell_type": "code",
   "execution_count": 74,
   "metadata": {},
   "outputs": [
    {
     "data": {
      "text/plain": [
       " 0     80425\n",
       " 1      2247\n",
       " 13     1661\n",
       " 2      1507\n",
       " 4      1301\n",
       " 3      1292\n",
       " 8      1183\n",
       " 6      1099\n",
       " 12      758\n",
       " 14      644\n",
       " 15      552\n",
       " 9       503\n",
       " 16      415\n",
       " 7       259\n",
       " 5       194\n",
       " 11      171\n",
       " 17      116\n",
       " 10       98\n",
       "-1        68\n",
       "Name: obs, dtype: int64"
      ]
     },
     "execution_count": 74,
     "metadata": {},
     "output_type": "execute_result"
    }
   ],
   "source": [
    "df_vehicules_22[\"obs\"].value_counts()"
   ]
  },
  {
   "cell_type": "code",
   "execution_count": 75,
   "metadata": {},
   "outputs": [],
   "source": [
    "\n",
    "df_vehicules_22[\"obs\"] = df_vehicules_22[\"obs\"].replace(-1, np.nan)"
   ]
  },
  {
   "cell_type": "markdown",
   "metadata": {},
   "source": [
    "Obs correspond  à l'obstacle fixe heurté ici il est nécessaire de garder la valeur 0 qui indique qu'aucun obstacle fixe n'a été heurté .\n",
    " "
   ]
  },
  {
   "cell_type": "code",
   "execution_count": 76,
   "metadata": {},
   "outputs": [
    {
     "data": {
      "text/plain": [
       " 2    66333\n",
       " 0    17638\n",
       " 1     8551\n",
       " 9     1621\n",
       " 6      119\n",
       " 4      102\n",
       " 5       81\n",
       "-1       48\n",
       "Name: obsm, dtype: int64"
      ]
     },
     "execution_count": 76,
     "metadata": {},
     "output_type": "execute_result"
    }
   ],
   "source": [
    "df_vehicules_22[\"obsm\"].value_counts()"
   ]
  },
  {
   "cell_type": "code",
   "execution_count": 77,
   "metadata": {},
   "outputs": [],
   "source": [
    "df_vehicules_22[\"obsm\"] = df_vehicules_22[\"obsm\"].replace(-1, np.nan)"
   ]
  },
  {
   "cell_type": "markdown",
   "metadata": {},
   "source": [
    "Obsm : obstacle mobile"
   ]
  },
  {
   "cell_type": "code",
   "execution_count": 78,
   "metadata": {},
   "outputs": [
    {
     "data": {
      "text/plain": [
       " 1    34362\n",
       " 3    14010\n",
       " 2    11301\n",
       " 4     9208\n",
       " 8     6467\n",
       " 0     6185\n",
       " 7     5568\n",
       " 6     3317\n",
       " 5     2656\n",
       " 9     1354\n",
       "-1       65\n",
       "Name: choc, dtype: int64"
      ]
     },
     "execution_count": 78,
     "metadata": {},
     "output_type": "execute_result"
    }
   ],
   "source": [
    "df_vehicules_22[\"choc\"].value_counts()"
   ]
  },
  {
   "cell_type": "code",
   "execution_count": 79,
   "metadata": {},
   "outputs": [],
   "source": [
    "df_vehicules_22[\"choc\"] = df_vehicules_22[\"choc\"].replace(-1, np.nan)"
   ]
  },
  {
   "cell_type": "markdown",
   "metadata": {},
   "source": [
    "Ici le point de choc initial est renseigné "
   ]
  },
  {
   "cell_type": "code",
   "execution_count": 80,
   "metadata": {},
   "outputs": [
    {
     "data": {
      "text/plain": [
       " 1     38754\n",
       " 2     11073\n",
       " 15     7533\n",
       " 0      6170\n",
       " 13     4154\n",
       " 17     3120\n",
       " 9      2914\n",
       " 26     2732\n",
       " 16     2490\n",
       " 23     2251\n",
       " 19     2250\n",
       " 14     1894\n",
       " 21     1360\n",
       " 5      1155\n",
       " 11     1042\n",
       " 3      1024\n",
       " 12      992\n",
       " 10      617\n",
       " 20      563\n",
       " 18      533\n",
       " 4       427\n",
       " 24      406\n",
       " 22      291\n",
       " 25      265\n",
       " 7       231\n",
       " 6       173\n",
       " 8        41\n",
       "-1        38\n",
       "Name: manv, dtype: int64"
      ]
     },
     "execution_count": 80,
     "metadata": {},
     "output_type": "execute_result"
    }
   ],
   "source": [
    "df_vehicules_22[\"manv\"].value_counts()"
   ]
  },
  {
   "cell_type": "code",
   "execution_count": 81,
   "metadata": {},
   "outputs": [],
   "source": [
    "df_vehicules_22[\"manv\"] = df_vehicules_22[\"manv\"].replace(-1, np.nan)\n",
    "df_vehicules_22[\"manv\"] = df_vehicules_22[\"manv\"].replace(0, np.nan)"
   ]
  },
  {
   "cell_type": "markdown",
   "metadata": {},
   "source": [
    "Manv indique la manoeuvre initial entamé avant l'accident, ici  0 correspond à non renseigné là encore l'imputé semble utile pour prédire la graviter d'un acident "
   ]
  },
  {
   "cell_type": "code",
   "execution_count": 82,
   "metadata": {},
   "outputs": [
    {
     "data": {
      "text/plain": [
       " 1    77750\n",
       " 5     5440\n",
       " 3     4353\n",
       " 0     3994\n",
       " 2     2429\n",
       " 6      322\n",
       "-1      171\n",
       " 4       34\n",
       "Name: motor, dtype: int64"
      ]
     },
     "execution_count": 82,
     "metadata": {},
     "output_type": "execute_result"
    }
   ],
   "source": [
    "df_vehicules_22[\"motor\"].value_counts()"
   ]
  },
  {
   "cell_type": "code",
   "execution_count": 83,
   "metadata": {},
   "outputs": [],
   "source": [
    "df_vehicules_22[\"motor\"] = df_vehicules_22[\"motor\"].replace(-1, np.nan)\n",
    "df_vehicules_22[\"motor\"] = df_vehicules_22[\"motor\"].replace(0, np.nan)"
   ]
  },
  {
   "cell_type": "markdown",
   "metadata": {},
   "source": [
    "Motor indique le type de motorisation du véhicule "
   ]
  },
  {
   "cell_type": "code",
   "execution_count": 84,
   "metadata": {},
   "outputs": [
    {
     "data": {
      "text/plain": [
       "1.0     620\n",
       "2.0      94\n",
       "3.0      37\n",
       "4.0      16\n",
       "6.0       9\n",
       "7.0       8\n",
       "5.0       7\n",
       "9.0       4\n",
       "8.0       4\n",
       "10.0      3\n",
       "11.0      2\n",
       "19.0      2\n",
       "13.0      1\n",
       "16.0      1\n",
       "31.0      1\n",
       "38.0      1\n",
       "22.0      1\n",
       "12.0      1\n",
       "27.0      1\n",
       "37.0      1\n",
       "35.0      1\n",
       "15.0      1\n",
       "36.0      1\n",
       "Name: occutc, dtype: int64"
      ]
     },
     "execution_count": 84,
     "metadata": {},
     "output_type": "execute_result"
    }
   ],
   "source": [
    "df_vehicules_22[\"occutc\"].value_counts()"
   ]
  },
  {
   "cell_type": "markdown",
   "metadata": {},
   "source": [
    "Cette var indique le nombre de personne présente dans un le véhicule si ce dernier est un transport en commun "
   ]
  },
  {
   "cell_type": "markdown",
   "metadata": {},
   "source": [
    "Regardons à quoi ressemble notre base nettoyée !"
   ]
  },
  {
   "cell_type": "code",
   "execution_count": 86,
   "metadata": {},
   "outputs": [
    {
     "data": {
      "text/html": [
       "<div>\n",
       "<style scoped>\n",
       "    .dataframe tbody tr th:only-of-type {\n",
       "        vertical-align: middle;\n",
       "    }\n",
       "\n",
       "    .dataframe tbody tr th {\n",
       "        vertical-align: top;\n",
       "    }\n",
       "\n",
       "    .dataframe thead th {\n",
       "        text-align: right;\n",
       "    }\n",
       "</style>\n",
       "<table border=\"1\" class=\"dataframe\">\n",
       "  <thead>\n",
       "    <tr style=\"text-align: right;\">\n",
       "      <th></th>\n",
       "      <th>Num_Acc</th>\n",
       "      <th>id_vehicule</th>\n",
       "      <th>num_veh</th>\n",
       "      <th>senc</th>\n",
       "      <th>catv</th>\n",
       "      <th>obs</th>\n",
       "      <th>obsm</th>\n",
       "      <th>choc</th>\n",
       "      <th>manv</th>\n",
       "      <th>motor</th>\n",
       "      <th>occutc</th>\n",
       "    </tr>\n",
       "  </thead>\n",
       "  <tbody>\n",
       "    <tr>\n",
       "      <th>0</th>\n",
       "      <td>202200000001</td>\n",
       "      <td>813 952</td>\n",
       "      <td>A01</td>\n",
       "      <td>1.0</td>\n",
       "      <td>2.0</td>\n",
       "      <td>0.0</td>\n",
       "      <td>2.0</td>\n",
       "      <td>1.0</td>\n",
       "      <td>9.0</td>\n",
       "      <td>1.0</td>\n",
       "      <td>NaN</td>\n",
       "    </tr>\n",
       "    <tr>\n",
       "      <th>1</th>\n",
       "      <td>202200000001</td>\n",
       "      <td>813 953</td>\n",
       "      <td>B01</td>\n",
       "      <td>1.0</td>\n",
       "      <td>7.0</td>\n",
       "      <td>0.0</td>\n",
       "      <td>2.0</td>\n",
       "      <td>2.0</td>\n",
       "      <td>1.0</td>\n",
       "      <td>1.0</td>\n",
       "      <td>NaN</td>\n",
       "    </tr>\n",
       "    <tr>\n",
       "      <th>2</th>\n",
       "      <td>202200000002</td>\n",
       "      <td>813 950</td>\n",
       "      <td>B01</td>\n",
       "      <td>2.0</td>\n",
       "      <td>7.0</td>\n",
       "      <td>0.0</td>\n",
       "      <td>2.0</td>\n",
       "      <td>8.0</td>\n",
       "      <td>15.0</td>\n",
       "      <td>1.0</td>\n",
       "      <td>NaN</td>\n",
       "    </tr>\n",
       "    <tr>\n",
       "      <th>3</th>\n",
       "      <td>202200000002</td>\n",
       "      <td>813 951</td>\n",
       "      <td>A01</td>\n",
       "      <td>2.0</td>\n",
       "      <td>10.0</td>\n",
       "      <td>0.0</td>\n",
       "      <td>2.0</td>\n",
       "      <td>1.0</td>\n",
       "      <td>1.0</td>\n",
       "      <td>1.0</td>\n",
       "      <td>NaN</td>\n",
       "    </tr>\n",
       "    <tr>\n",
       "      <th>4</th>\n",
       "      <td>202200000003</td>\n",
       "      <td>813 948</td>\n",
       "      <td>A01</td>\n",
       "      <td>2.0</td>\n",
       "      <td>7.0</td>\n",
       "      <td>0.0</td>\n",
       "      <td>2.0</td>\n",
       "      <td>1.0</td>\n",
       "      <td>2.0</td>\n",
       "      <td>1.0</td>\n",
       "      <td>NaN</td>\n",
       "    </tr>\n",
       "    <tr>\n",
       "      <th>...</th>\n",
       "      <td>...</td>\n",
       "      <td>...</td>\n",
       "      <td>...</td>\n",
       "      <td>...</td>\n",
       "      <td>...</td>\n",
       "      <td>...</td>\n",
       "      <td>...</td>\n",
       "      <td>...</td>\n",
       "      <td>...</td>\n",
       "      <td>...</td>\n",
       "      <td>...</td>\n",
       "    </tr>\n",
       "    <tr>\n",
       "      <th>94488</th>\n",
       "      <td>202200055300</td>\n",
       "      <td>715 633</td>\n",
       "      <td>A01</td>\n",
       "      <td>2.0</td>\n",
       "      <td>7.0</td>\n",
       "      <td>2.0</td>\n",
       "      <td>0.0</td>\n",
       "      <td>1.0</td>\n",
       "      <td>1.0</td>\n",
       "      <td>1.0</td>\n",
       "      <td>NaN</td>\n",
       "    </tr>\n",
       "    <tr>\n",
       "      <th>94489</th>\n",
       "      <td>202200055301</td>\n",
       "      <td>715 631</td>\n",
       "      <td>A01</td>\n",
       "      <td>2.0</td>\n",
       "      <td>7.0</td>\n",
       "      <td>0.0</td>\n",
       "      <td>0.0</td>\n",
       "      <td>8.0</td>\n",
       "      <td>19.0</td>\n",
       "      <td>1.0</td>\n",
       "      <td>NaN</td>\n",
       "    </tr>\n",
       "    <tr>\n",
       "      <th>94490</th>\n",
       "      <td>202200055301</td>\n",
       "      <td>715 632</td>\n",
       "      <td>B01</td>\n",
       "      <td>2.0</td>\n",
       "      <td>7.0</td>\n",
       "      <td>0.0</td>\n",
       "      <td>2.0</td>\n",
       "      <td>1.0</td>\n",
       "      <td>1.0</td>\n",
       "      <td>1.0</td>\n",
       "      <td>NaN</td>\n",
       "    </tr>\n",
       "    <tr>\n",
       "      <th>94491</th>\n",
       "      <td>202200055302</td>\n",
       "      <td>715 629</td>\n",
       "      <td>A01</td>\n",
       "      <td>1.0</td>\n",
       "      <td>33.0</td>\n",
       "      <td>0.0</td>\n",
       "      <td>2.0</td>\n",
       "      <td>1.0</td>\n",
       "      <td>1.0</td>\n",
       "      <td>1.0</td>\n",
       "      <td>NaN</td>\n",
       "    </tr>\n",
       "    <tr>\n",
       "      <th>94492</th>\n",
       "      <td>202200055302</td>\n",
       "      <td>715 630</td>\n",
       "      <td>B01</td>\n",
       "      <td>1.0</td>\n",
       "      <td>7.0</td>\n",
       "      <td>0.0</td>\n",
       "      <td>0.0</td>\n",
       "      <td>4.0</td>\n",
       "      <td>21.0</td>\n",
       "      <td>1.0</td>\n",
       "      <td>NaN</td>\n",
       "    </tr>\n",
       "  </tbody>\n",
       "</table>\n",
       "<p>94493 rows × 11 columns</p>\n",
       "</div>"
      ],
      "text/plain": [
       "            Num_Acc id_vehicule num_veh  senc  catv  obs  obsm  choc  manv  \\\n",
       "0      202200000001     813 952     A01   1.0   2.0  0.0   2.0   1.0   9.0   \n",
       "1      202200000001     813 953     B01   1.0   7.0  0.0   2.0   2.0   1.0   \n",
       "2      202200000002     813 950     B01   2.0   7.0  0.0   2.0   8.0  15.0   \n",
       "3      202200000002     813 951     A01   2.0  10.0  0.0   2.0   1.0   1.0   \n",
       "4      202200000003     813 948     A01   2.0   7.0  0.0   2.0   1.0   2.0   \n",
       "...             ...         ...     ...   ...   ...  ...   ...   ...   ...   \n",
       "94488  202200055300     715 633     A01   2.0   7.0  2.0   0.0   1.0   1.0   \n",
       "94489  202200055301     715 631     A01   2.0   7.0  0.0   0.0   8.0  19.0   \n",
       "94490  202200055301     715 632     B01   2.0   7.0  0.0   2.0   1.0   1.0   \n",
       "94491  202200055302     715 629     A01   1.0  33.0  0.0   2.0   1.0   1.0   \n",
       "94492  202200055302     715 630     B01   1.0   7.0  0.0   0.0   4.0  21.0   \n",
       "\n",
       "       motor  occutc  \n",
       "0        1.0     NaN  \n",
       "1        1.0     NaN  \n",
       "2        1.0     NaN  \n",
       "3        1.0     NaN  \n",
       "4        1.0     NaN  \n",
       "...      ...     ...  \n",
       "94488    1.0     NaN  \n",
       "94489    1.0     NaN  \n",
       "94490    1.0     NaN  \n",
       "94491    1.0     NaN  \n",
       "94492    1.0     NaN  \n",
       "\n",
       "[94493 rows x 11 columns]"
      ]
     },
     "execution_count": 86,
     "metadata": {},
     "output_type": "execute_result"
    }
   ],
   "source": [
    "df_vehicules_22"
   ]
  },
  {
   "cell_type": "markdown",
   "metadata": {},
   "source": [
    "## La jointure en pratique"
   ]
  },
  {
   "cell_type": "code",
   "execution_count": 87,
   "metadata": {},
   "outputs": [
    {
     "name": "stdout",
     "output_type": "stream",
     "text": [
      "<class 'pandas.core.frame.DataFrame'>\n",
      "RangeIndex: 126662 entries, 0 to 126661\n",
      "Data columns (total 16 columns):\n",
      " #   Column       Non-Null Count   Dtype  \n",
      "---  ------       --------------   -----  \n",
      " 0   Num_Acc      126662 non-null  int64  \n",
      " 1   id_usager    126662 non-null  object \n",
      " 2   id_vehicule  126662 non-null  object \n",
      " 3   num_veh      126662 non-null  object \n",
      " 4   place        126662 non-null  int64  \n",
      " 5   catu         126662 non-null  object \n",
      " 6   grav         126662 non-null  int64  \n",
      " 7   sexe         123918 non-null  object \n",
      " 8   an_nais      123788 non-null  float64\n",
      " 9   trajet       91051 non-null   object \n",
      " 10  secu1        126662 non-null  int64  \n",
      " 11  secu2        126662 non-null  int64  \n",
      " 12  secu3        126662 non-null  int64  \n",
      " 13  locp         126662 non-null  int64  \n",
      " 14  actp         58804 non-null   object \n",
      " 15  etatp        9473 non-null    object \n",
      "dtypes: float64(1), int64(7), object(8)\n",
      "memory usage: 15.5+ MB\n",
      "<class 'pandas.core.frame.DataFrame'>\n",
      "RangeIndex: 94493 entries, 0 to 94492\n",
      "Data columns (total 11 columns):\n",
      " #   Column       Non-Null Count  Dtype  \n",
      "---  ------       --------------  -----  \n",
      " 0   Num_Acc      94493 non-null  int64  \n",
      " 1   id_vehicule  94493 non-null  object \n",
      " 2   num_veh      94493 non-null  object \n",
      " 3   senc         94206 non-null  float64\n",
      " 4   catv         94220 non-null  float64\n",
      " 5   obs          94425 non-null  float64\n",
      " 6   obsm         94445 non-null  float64\n",
      " 7   choc         94428 non-null  float64\n",
      " 8   manv         88285 non-null  float64\n",
      " 9   motor        90328 non-null  float64\n",
      " 10  occutc       817 non-null    float64\n",
      "dtypes: float64(8), int64(1), object(2)\n",
      "memory usage: 7.9+ MB\n",
      "<class 'pandas.core.frame.DataFrame'>\n",
      "RangeIndex: 55302 entries, 0 to 55301\n",
      "Data columns (total 18 columns):\n",
      " #   Column   Non-Null Count  Dtype  \n",
      "---  ------   --------------  -----  \n",
      " 0   Num_Acc  55302 non-null  int64  \n",
      " 1   catr     55302 non-null  object \n",
      " 2   voie     50497 non-null  object \n",
      " 3   v1       55302 non-null  int64  \n",
      " 4   v2       5255 non-null   object \n",
      " 5   circ     52142 non-null  object \n",
      " 6   nbv      55302 non-null  object \n",
      " 7   vosp     6890 non-null   object \n",
      " 8   prof     55302 non-null  int64  \n",
      " 9   pr       55302 non-null  object \n",
      " 10  pr1      55302 non-null  object \n",
      " 11  plan     55302 non-null  int64  \n",
      " 12  lartpc   28 non-null     object \n",
      " 13  larrout  55302 non-null  object \n",
      " 14  surf     55293 non-null  object \n",
      " 15  infra    8222 non-null   object \n",
      " 16  situ     55295 non-null  object \n",
      " 17  vma      54391 non-null  float64\n",
      "dtypes: float64(1), int64(4), object(13)\n",
      "memory usage: 7.6+ MB\n",
      "<class 'pandas.core.frame.DataFrame'>\n",
      "RangeIndex: 55302 entries, 0 to 55301\n",
      "Data columns (total 16 columns):\n",
      " #   Column   Non-Null Count  Dtype  \n",
      "---  ------   --------------  -----  \n",
      " 0   Num_Acc  55302 non-null  int64  \n",
      " 1   jour     55302 non-null  int64  \n",
      " 2   mois     55302 non-null  int64  \n",
      " 3   an       55302 non-null  int64  \n",
      " 4   hrmn     55302 non-null  object \n",
      " 5   lum      55300 non-null  float64\n",
      " 6   dep      55302 non-null  object \n",
      " 7   com      55302 non-null  object \n",
      " 8   agg      55302 non-null  object \n",
      " 9   int      55295 non-null  float64\n",
      " 10  atm      55301 non-null  float64\n",
      " 11  col      55239 non-null  float64\n",
      " 12  adr      54069 non-null  object \n",
      " 13  lat      55302 non-null  float64\n",
      " 14  long     55302 non-null  float64\n",
      " 15  heure    55302 non-null  object \n",
      "dtypes: float64(6), int64(4), object(6)\n",
      "memory usage: 6.8+ MB\n"
     ]
    },
    {
     "data": {
      "text/plain": [
       "(None, None, None, None)"
      ]
     },
     "execution_count": 87,
     "metadata": {},
     "output_type": "execute_result"
    }
   ],
   "source": [
    "df_usagers_22.info(), df_vehicules_22.info(), df_lieux_22.info(), df_caracs_22.info()"
   ]
  },
  {
   "cell_type": "markdown",
   "metadata": {},
   "source": [
    "On s'assure qu'on a bien autant d'observations dont le triplet `(Num_Acc, id_vehicule, num_veh)` est unique dans les bases `usagers` et `véhicules`."
   ]
  },
  {
   "cell_type": "code",
   "execution_count": 88,
   "metadata": {},
   "outputs": [
    {
     "data": {
      "text/plain": [
       "94493"
      ]
     },
     "execution_count": 88,
     "metadata": {},
     "output_type": "execute_result"
    }
   ],
   "source": [
    "(~df_usagers_22.duplicated([\"Num_Acc\", \"id_vehicule\", \"num_veh\"])).sum()"
   ]
  },
  {
   "cell_type": "code",
   "execution_count": 89,
   "metadata": {},
   "outputs": [
    {
     "data": {
      "text/plain": [
       "94493"
      ]
     },
     "execution_count": 89,
     "metadata": {},
     "output_type": "execute_result"
    }
   ],
   "source": [
    "(~df_vehicules_22.duplicated([\"Num_Acc\", \"id_vehicule\", \"num_veh\"])).sum()"
   ]
  },
  {
   "cell_type": "markdown",
   "metadata": {},
   "source": [
    "À présent, on peut procéder à la jointure à l'aide de `pd.merge`. On joint d'abord les bases `usagers` et `vehicules` sur `(Num_Acc, id_vehicule, num_veh)`, puis on joint également les bases `lieux` et `caracs` sur l'identifiant de l'accident, codé par `Num_Acc`."
   ]
  },
  {
   "cell_type": "code",
   "execution_count": 92,
   "metadata": {},
   "outputs": [],
   "source": [
    "df_merged_22 = pd.merge(pd.merge(pd.merge(df_usagers_22, df_vehicules_22, on=[\"Num_Acc\", \"id_vehicule\", \"num_veh\"]), \\\n",
    "    df_lieux_22, on=\"Num_Acc\"), df_caracs_22, on=\"Num_Acc\")\n"
   ]
  },
  {
   "cell_type": "code",
   "execution_count": 93,
   "metadata": {},
   "outputs": [
    {
     "name": "stdout",
     "output_type": "stream",
     "text": [
      "<class 'pandas.core.frame.DataFrame'>\n",
      "Int64Index: 126662 entries, 0 to 126661\n",
      "Data columns (total 56 columns):\n",
      " #   Column       Non-Null Count   Dtype  \n",
      "---  ------       --------------   -----  \n",
      " 0   Num_Acc      126662 non-null  int64  \n",
      " 1   id_usager    126662 non-null  object \n",
      " 2   id_vehicule  126662 non-null  object \n",
      " 3   num_veh      126662 non-null  object \n",
      " 4   place        126662 non-null  int64  \n",
      " 5   catu         126662 non-null  object \n",
      " 6   grav         126662 non-null  int64  \n",
      " 7   sexe         123918 non-null  object \n",
      " 8   an_nais      123788 non-null  float64\n",
      " 9   trajet       91051 non-null   object \n",
      " 10  secu1        126662 non-null  int64  \n",
      " 11  secu2        126662 non-null  int64  \n",
      " 12  secu3        126662 non-null  int64  \n",
      " 13  locp         126662 non-null  int64  \n",
      " 14  actp         58804 non-null   object \n",
      " 15  etatp        9473 non-null    object \n",
      " 16  senc         126292 non-null  float64\n",
      " 17  catv         126281 non-null  float64\n",
      " 18  obs          126575 non-null  float64\n",
      " 19  obsm         126599 non-null  float64\n",
      " 20  choc         126574 non-null  float64\n",
      " 21  manv         118580 non-null  float64\n",
      " 22  motor        121064 non-null  float64\n",
      " 23  occutc       1770 non-null    float64\n",
      " 24  catr         126662 non-null  object \n",
      " 25  voie         116777 non-null  object \n",
      " 26  v1           126662 non-null  int64  \n",
      " 27  v2           11893 non-null   object \n",
      " 28  circ         119736 non-null  object \n",
      " 29  nbv          126662 non-null  object \n",
      " 30  vosp         15202 non-null   object \n",
      " 31  prof         126662 non-null  int64  \n",
      " 32  pr           126662 non-null  object \n",
      " 33  pr1          126662 non-null  object \n",
      " 34  plan         126662 non-null  int64  \n",
      " 35  lartpc       63 non-null      object \n",
      " 36  larrout      126662 non-null  object \n",
      " 37  surf         126647 non-null  object \n",
      " 38  infra        19134 non-null   object \n",
      " 39  situ         126648 non-null  object \n",
      " 40  vma          124763 non-null  float64\n",
      " 41  jour         126662 non-null  int64  \n",
      " 42  mois         126662 non-null  int64  \n",
      " 43  an           126662 non-null  int64  \n",
      " 44  hrmn         126662 non-null  object \n",
      " 45  lum          126658 non-null  float64\n",
      " 46  dep          126662 non-null  object \n",
      " 47  com          126662 non-null  object \n",
      " 48  agg          126662 non-null  object \n",
      " 49  int          126643 non-null  float64\n",
      " 50  atm          126660 non-null  float64\n",
      " 51  col          126536 non-null  float64\n",
      " 52  adr          123787 non-null  object \n",
      " 53  lat          126662 non-null  float64\n",
      " 54  long         126662 non-null  float64\n",
      " 55  heure        126662 non-null  object \n",
      "dtypes: float64(16), int64(13), object(27)\n",
      "memory usage: 55.1+ MB\n"
     ]
    }
   ],
   "source": [
    "df_merged_22.info()"
   ]
  },
  {
   "cell_type": "markdown",
   "metadata": {},
   "source": [
    "On retombe bien sur un total de 126 662 observations, soit la longueur de la base usagers."
   ]
  },
  {
   "cell_type": "code",
   "execution_count": null,
   "metadata": {},
   "outputs": [],
   "source": [
    "df_merged_22.to_csv('df_merged_22.csv', index=False)"
   ]
  }
 ],
 "metadata": {
  "kernelspec": {
   "display_name": "base",
   "language": "python",
   "name": "python3"
  },
  "language_info": {
   "codemirror_mode": {
    "name": "ipython",
    "version": 3
   },
   "file_extension": ".py",
   "mimetype": "text/x-python",
   "name": "python",
   "nbconvert_exporter": "python",
   "pygments_lexer": "ipython3",
   "version": "3.9.7"
  }
 },
 "nbformat": 4,
 "nbformat_minor": 2
}
