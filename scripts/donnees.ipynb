{
 "cells": [
  {
   "cell_type": "markdown",
   "metadata": {},
   "source": [
    "# Préparation des données"
   ]
  },
  {
   "cell_type": "code",
   "execution_count": 1,
   "metadata": {},
   "outputs": [],
   "source": [
    "import numpy as np\n",
    "import pandas as pd\n",
    "import matplotlib.pyplot as plt\n",
    "import seaborn as sns"
   ]
  },
  {
   "cell_type": "code",
   "execution_count": 42,
   "metadata": {},
   "outputs": [
    {
     "name": "stderr",
     "output_type": "stream",
     "text": [
      "c:\\Users\\nahta\\anaconda3\\lib\\site-packages\\IPython\\core\\interactiveshell.py:3444: DtypeWarning: Columns (6) have mixed types.Specify dtype option on import or set low_memory=False.\n",
      "  exec(code_obj, self.user_global_ns, self.user_ns)\n"
     ]
    }
   ],
   "source": [
    "df_usagers_22 = pd.read_csv(\"https://www.data.gouv.fr/fr/datasets/r/62c20524-d442-46f5-bfd8-982c59763ec8\", sep=\";\")\n",
    "df_vehicules_22 = pd.read_csv(\"https://www.data.gouv.fr/fr/datasets/r/c9742921-4427-41e5-81bc-f13af8bc31a0\", sep=\";\")\n",
    "df_lieux_22 = pd.read_csv(\"https://www.data.gouv.fr/fr/datasets/r/a6ef711a-1f03-44cb-921a-0ce8ec975995\", sep=\";\")\n",
    "df_caracs_22 = pd.read_csv(\"https://www.data.gouv.fr/fr/datasets/r/5fc299c0-4598-4c29-b74c-6a67b0cc27e7\", sep=\";\")"
   ]
  },
  {
   "cell_type": "code",
   "execution_count": 43,
   "metadata": {},
   "outputs": [
    {
     "name": "stdout",
     "output_type": "stream",
     "text": [
      "126662\n",
      "94493\n",
      "55302\n",
      "55302\n"
     ]
    }
   ],
   "source": [
    "print(len(df_usagers_22))\n",
    "print(len(df_vehicules_22))\n",
    "print(len(df_lieux_22))\n",
    "print(len(df_caracs_22))"
   ]
  },
  {
   "cell_type": "markdown",
   "metadata": {},
   "source": [
    "Un accident a des caractéristiques uniques et un lieu unique, mais il peut impliquer plusieurs véhicules, ces derniers pouvant eux-mêmes impliquer plusieurs usagers (en plus des piétons !).\n",
    "\n",
    "Pour cette raison, les longueurs différentes ne sont pas surprenantes."
   ]
  },
  {
   "cell_type": "markdown",
   "metadata": {},
   "source": [
    "Ci-dessous, on compte le nombre de valeurs uniques pour la variable `id_vehicule` dans la base `usagers`, et on trouve bien 94 493, la longueur de la base `vehicules`."
   ]
  },
  {
   "cell_type": "code",
   "execution_count": 44,
   "metadata": {},
   "outputs": [
    {
     "data": {
      "text/plain": [
       "94493"
      ]
     },
     "execution_count": 44,
     "metadata": {},
     "output_type": "execute_result"
    }
   ],
   "source": [
    "(~df_usagers_22.duplicated(\"id_vehicule\")).sum()"
   ]
  },
  {
   "cell_type": "markdown",
   "metadata": {},
   "source": [
    "## Base `usagers`"
   ]
  },
  {
   "cell_type": "markdown",
   "metadata": {},
   "source": [
    "On remplacera à la fin les valeurs `-1` par des `NaN` pour toutes les variables catégorielles, conformément à la documentation."
   ]
  },
  {
   "cell_type": "code",
   "execution_count": 7,
   "metadata": {},
   "outputs": [
    {
     "name": "stdout",
     "output_type": "stream",
     "text": [
      "<class 'pandas.core.frame.DataFrame'>\n",
      "RangeIndex: 126662 entries, 0 to 126661\n",
      "Data columns (total 16 columns):\n",
      " #   Column       Non-Null Count   Dtype  \n",
      "---  ------       --------------   -----  \n",
      " 0   Num_Acc      126662 non-null  int64  \n",
      " 1   id_usager    126662 non-null  object \n",
      " 2   id_vehicule  126662 non-null  object \n",
      " 3   num_veh      126662 non-null  object \n",
      " 4   place        126662 non-null  int64  \n",
      " 5   catu         126662 non-null  int64  \n",
      " 6   grav         126662 non-null  int64  \n",
      " 7   sexe         126662 non-null  int64  \n",
      " 8   an_nais      123788 non-null  float64\n",
      " 9   trajet       126662 non-null  int64  \n",
      " 10  secu1        126662 non-null  int64  \n",
      " 11  secu2        126662 non-null  int64  \n",
      " 12  secu3        126662 non-null  int64  \n",
      " 13  locp         126662 non-null  int64  \n",
      " 14  actp         126662 non-null  object \n",
      " 15  etatp        126662 non-null  int64  \n",
      "dtypes: float64(1), int64(11), object(4)\n",
      "memory usage: 15.5+ MB\n"
     ]
    }
   ],
   "source": [
    "df_usagers_22.info()"
   ]
  },
  {
   "cell_type": "markdown",
   "metadata": {},
   "source": [
    "La variable `num_veh` est difficile à comprendre. La documentation n'est pas très claire à ce sujet, notamment en quoi elle se distingue de la variable `id_vehicule`."
   ]
  },
  {
   "cell_type": "code",
   "execution_count": 39,
   "metadata": {},
   "outputs": [
    {
     "data": {
      "text/plain": [
       "A01     76240\n",
       "B01     42087\n",
       "C01      4674\n",
       "Z01      1939\n",
       "D01      1022\n",
       "E01       326\n",
       "F01       114\n",
       "Y01        92\n",
       "G01        44\n",
       "X01        18\n",
       "H01        15\n",
       "[01        12\n",
       "T01        11\n",
       "I01         8\n",
       "V01         4\n",
       "WX01        4\n",
       "JA01        4\n",
       "\\01         3\n",
       "FA01        3\n",
       "M01         3\n",
       "LA01        3\n",
       "ZZ01        3\n",
       "P01         2\n",
       "GA01        2\n",
       "PA01        2\n",
       "MA01        2\n",
       "IA01        2\n",
       "PB01        2\n",
       "J01         2\n",
       "U01         2\n",
       "OB01        1\n",
       "UB01        1\n",
       "VA01        1\n",
       "LB01        1\n",
       "L01         1\n",
       "W01         1\n",
       "RB01        1\n",
       "S01         1\n",
       "R01         1\n",
       "Q01         1\n",
       "O01         1\n",
       "N01         1\n",
       "K01         1\n",
       "DA01        1\n",
       "NA01        1\n",
       "XB01        1\n",
       "ZA01        1\n",
       "Name: num_veh, dtype: int64"
      ]
     },
     "execution_count": 39,
     "metadata": {},
     "output_type": "execute_result"
    }
   ],
   "source": [
    "df_usagers_22[\"num_veh\"].value_counts()"
   ]
  },
  {
   "cell_type": "markdown",
   "metadata": {},
   "source": [
    "Rien à signaler sur la variable place. La valeur `-1`, qui n'est pas présente dans la documentation, correspond sans aucun doute à un champ non renseigné, comme pour les autres variables. Nous les remplacerons par des `NaN` plus tard, de façon centralisée."
   ]
  },
  {
   "cell_type": "code",
   "execution_count": 40,
   "metadata": {},
   "outputs": [
    {
     "data": {
      "text/plain": [
       " 1     94292\n",
       " 2     14001\n",
       " 10     9567\n",
       " 3      2459\n",
       " 4      2232\n",
       " 9      1340\n",
       " 7      1241\n",
       " 5       728\n",
       " 8       610\n",
       " 6       184\n",
       "-1         8\n",
       "Name: place, dtype: int64"
      ]
     },
     "execution_count": 40,
     "metadata": {},
     "output_type": "execute_result"
    }
   ],
   "source": [
    "df_usagers_22[\"place\"].value_counts()"
   ]
  },
  {
   "cell_type": "markdown",
   "metadata": {},
   "source": [
    "Rien à signaler sur les variables suivantes (il faudra juste remplacer les `-1` par des `np.NaN`)."
   ]
  },
  {
   "cell_type": "code",
   "execution_count": 45,
   "metadata": {},
   "outputs": [
    {
     "data": {
      "text/plain": [
       "1    94421\n",
       "2    22675\n",
       "3     9566\n",
       "Name: catu, dtype: int64"
      ]
     },
     "execution_count": 45,
     "metadata": {},
     "output_type": "execute_result"
    }
   ],
   "source": [
    "df_usagers_22[\"catu\"].value_counts()"
   ]
  },
  {
   "cell_type": "code",
   "execution_count": 46,
   "metadata": {},
   "outputs": [
    {
     "data": {
      "text/plain": [
       " 1    53630\n",
       " 4    49981\n",
       " 3    19260\n",
       " 2     3550\n",
       "-1      241\n",
       "Name: grav, dtype: int64"
      ]
     },
     "execution_count": 46,
     "metadata": {},
     "output_type": "execute_result"
    }
   ],
   "source": [
    "df_usagers_22[\"grav\"].value_counts()"
   ]
  },
  {
   "cell_type": "code",
   "execution_count": 47,
   "metadata": {},
   "outputs": [
    {
     "data": {
      "text/plain": [
       " 1    84795\n",
       " 2    39123\n",
       "-1     2744\n",
       "Name: sexe, dtype: int64"
      ]
     },
     "execution_count": 47,
     "metadata": {},
     "output_type": "execute_result"
    }
   ],
   "source": [
    "df_usagers_22[\"sexe\"].value_counts()"
   ]
  },
  {
   "cell_type": "code",
   "execution_count": 48,
   "metadata": {},
   "outputs": [
    {
     "data": {
      "text/plain": [
       "2001.0    3742\n",
       "2002.0    3708\n",
       "2000.0    3698\n",
       "2003.0    3383\n",
       "1999.0    3382\n",
       "          ... \n",
       "1922.0       3\n",
       "1921.0       2\n",
       "1923.0       2\n",
       "1920.0       1\n",
       "1924.0       1\n",
       "Name: an_nais, Length: 104, dtype: int64"
      ]
     },
     "execution_count": 48,
     "metadata": {},
     "output_type": "execute_result"
    }
   ],
   "source": [
    "df_usagers_22[\"an_nais\"].value_counts()"
   ]
  },
  {
   "cell_type": "code",
   "execution_count": 49,
   "metadata": {},
   "outputs": [
    {
     "data": {
      "text/plain": [
       " 5    46253\n",
       " 0    32737\n",
       " 1    16282\n",
       " 4    11622\n",
       " 9    10494\n",
       " 3     3713\n",
       "-1     2874\n",
       " 2     2687\n",
       "Name: trajet, dtype: int64"
      ]
     },
     "execution_count": 49,
     "metadata": {},
     "output_type": "execute_result"
    }
   ],
   "source": [
    "df_usagers_22[\"trajet\"].value_counts()"
   ]
  },
  {
   "cell_type": "code",
   "execution_count": 54,
   "metadata": {},
   "outputs": [
    {
     "data": {
      "text/plain": [
       " 1    73953\n",
       " 2    22651\n",
       " 8    14117\n",
       " 0    12144\n",
       "-1     2679\n",
       " 3      774\n",
       " 9      115\n",
       " 4      102\n",
       " 6       97\n",
       " 5       25\n",
       " 7        5\n",
       "Name: secu1, dtype: int64"
      ]
     },
     "execution_count": 54,
     "metadata": {},
     "output_type": "execute_result"
    }
   ],
   "source": [
    "df_usagers_22[\"secu1\"].value_counts()"
   ]
  },
  {
   "cell_type": "code",
   "execution_count": 56,
   "metadata": {},
   "outputs": [
    {
     "data": {
      "text/plain": [
       "-1    58601\n",
       " 0    42898\n",
       " 6    11686\n",
       " 8     9711\n",
       " 4     1482\n",
       " 5     1211\n",
       " 9      422\n",
       " 1      226\n",
       " 3      172\n",
       " 7      151\n",
       " 2      102\n",
       "Name: secu2, dtype: int64"
      ]
     },
     "execution_count": 56,
     "metadata": {},
     "output_type": "execute_result"
    }
   ],
   "source": [
    "df_usagers_22[\"secu2\"].value_counts()"
   ]
  },
  {
   "cell_type": "code",
   "execution_count": 57,
   "metadata": {},
   "outputs": [
    {
     "data": {
      "text/plain": [
       "-1    125296\n",
       " 9       890\n",
       " 0       226\n",
       " 8        71\n",
       " 1        66\n",
       " 6        60\n",
       " 4        20\n",
       " 5        19\n",
       " 2         8\n",
       " 7         4\n",
       " 3         2\n",
       "Name: secu3, dtype: int64"
      ]
     },
     "execution_count": 57,
     "metadata": {},
     "output_type": "execute_result"
    }
   ],
   "source": [
    "df_usagers_22[\"secu3\"].value_counts()"
   ]
  },
  {
   "cell_type": "code",
   "execution_count": 58,
   "metadata": {},
   "outputs": [
    {
     "data": {
      "text/plain": [
       " 0    66113\n",
       "-1    51092\n",
       " 3     3059\n",
       " 2     1989\n",
       " 4     1388\n",
       " 1     1364\n",
       " 5      740\n",
       " 9      474\n",
       " 6      298\n",
       " 8      138\n",
       " 7        7\n",
       "Name: locp, dtype: int64"
      ]
     },
     "execution_count": 58,
     "metadata": {},
     "output_type": "execute_result"
    }
   ],
   "source": [
    "df_usagers_22[\"locp\"].value_counts()"
   ]
  },
  {
   "cell_type": "code",
   "execution_count": 59,
   "metadata": {},
   "outputs": [
    {
     "data": {
      "text/plain": [
       "0      67558\n",
       " -1    49604\n",
       "3       6959\n",
       "9        647\n",
       "1        639\n",
       "5        347\n",
       "2        334\n",
       "B        300\n",
       "4        120\n",
       "A         98\n",
       "6         23\n",
       "7         21\n",
       "8         12\n",
       "Name: actp, dtype: int64"
      ]
     },
     "execution_count": 59,
     "metadata": {},
     "output_type": "execute_result"
    }
   ],
   "source": [
    "df_usagers_22[\"actp\"].value_counts()\n"
   ]
  },
  {
   "cell_type": "code",
   "execution_count": 60,
   "metadata": {},
   "outputs": [
    {
     "data": {
      "text/plain": [
       "-1    117189\n",
       " 1      7222\n",
       " 2      1892\n",
       " 3       359\n",
       "Name: etatp, dtype: int64"
      ]
     },
     "execution_count": 60,
     "metadata": {},
     "output_type": "execute_result"
    }
   ],
   "source": [
    "df_usagers_22[\"etatp\"].value_counts()"
   ]
  },
  {
   "cell_type": "markdown",
   "metadata": {},
   "source": [
    "On recode toutes les variables catégorielles pour obtenir des modalités plus compréhensibles."
   ]
  },
  {
   "cell_type": "code",
   "execution_count": 8,
   "metadata": {},
   "outputs": [],
   "source": [
    "df_usagers_22[\"grav\"].replace({2: 4, 4: 2}, inplace=True)\n",
    "df_usagers_22[\"sexe\"].replace({1: \"homme\", \n",
    "                               2: \"femme\", \n",
    "                               -1: np.NaN}, \n",
    "                               inplace=True)\n",
    "df_usagers_22[\"catu\"].replace({1: \"conducteur\", \n",
    "                               2: \"passager\", \n",
    "                               3: \"piéton\", \n",
    "                               -1: np.NaN}, inplace=True)\n",
    "df_usagers_22[\"trajet\"].replace({-1: np.NaN, \n",
    "                                 0: np.NaN, \n",
    "                                 1: \"domicile-travail\",\n",
    "                                 2: \"domicile-école\",\n",
    "                                 3: \"courses-achats\",\n",
    "                                 4: \"utilisation pro\",\n",
    "                                 5: \"promenade-loisirs\",\n",
    "                                 9: \"autre\"},\n",
    "                                 inplace=True)\n",
    "df_usagers_22[\"etatp\"].replace({-1: np.NaN,\n",
    "                                1: \"seul\",\n",
    "                                2: \"accompagne\",\n",
    "                                3: \"en groupe\"},\n",
    "                                inplace=True)\n",
    "df_usagers_22[\"actp\"].replace({\"-1\": np.NaN,\n",
    "                               \"0\": np.NaN,\n",
    "                               \"1\": \"sens véhicule heurtant\",\n",
    "                               \"2\": \"sens inverse du véhicule\",\n",
    "                               \"3\": \"traversant\",\n",
    "                               \"4\": \"masqué\",\n",
    "                               \"5\": \"jouant - courant\",\n",
    "                               \"6\": \"avec animal\",\n",
    "                               \"9\": \"autre\",\n",
    "                               \"A\": \"monte/descend du véhicule\", \n",
    "                               \"B\": np.NaN}, inplace=True)\n",
    "df_usagers_22[\"etatp\"].replace({\"-1\": np.NaN,\n",
    "                                1: \"seul\",\n",
    "                                2: \"accompagné\",\n",
    "                                3: \"en groupe\"})"
   ]
  },
  {
   "cell_type": "markdown",
   "metadata": {},
   "source": [
    "À présent, on remplace tous les `-1` (restants) par des `NaN`."
   ]
  },
  {
   "cell_type": "code",
   "execution_count": null,
   "metadata": {},
   "outputs": [],
   "source": [
    "df_caracs_22.replace(-1, np.NaN, inplace=True)"
   ]
  },
  {
   "cell_type": "markdown",
   "metadata": {},
   "source": [
    "## Bases `caracs`"
   ]
  },
  {
   "cell_type": "code",
   "execution_count": 9,
   "metadata": {},
   "outputs": [
    {
     "name": "stdout",
     "output_type": "stream",
     "text": [
      "<class 'pandas.core.frame.DataFrame'>\n",
      "RangeIndex: 55302 entries, 0 to 55301\n",
      "Data columns (total 15 columns):\n",
      " #   Column       Non-Null Count  Dtype \n",
      "---  ------       --------------  ----- \n",
      " 0   Accident_Id  55302 non-null  int64 \n",
      " 1   jour         55302 non-null  int64 \n",
      " 2   mois         55302 non-null  int64 \n",
      " 3   an           55302 non-null  int64 \n",
      " 4   hrmn         55302 non-null  object\n",
      " 5   lum          55302 non-null  int64 \n",
      " 6   dep          55302 non-null  object\n",
      " 7   com          55302 non-null  object\n",
      " 8   agg          55302 non-null  int64 \n",
      " 9   int          55302 non-null  int64 \n",
      " 10  atm          55302 non-null  int64 \n",
      " 11  col          55302 non-null  int64 \n",
      " 12  adr          54069 non-null  object\n",
      " 13  lat          55302 non-null  object\n",
      " 14  long         55302 non-null  object\n",
      "dtypes: int64(9), object(6)\n",
      "memory usage: 6.3+ MB\n"
     ]
    }
   ],
   "source": [
    "df_caracs_22.info()"
   ]
  },
  {
   "cell_type": "markdown",
   "metadata": {},
   "source": [
    "On modifie le nom de la variable `Accident_Id` de la base `caracs` pour faciliter la jointure tout à l'heure."
   ]
  },
  {
   "cell_type": "code",
   "execution_count": 10,
   "metadata": {},
   "outputs": [],
   "source": [
    "df_caracs_22.rename(columns={\"Accident_Id\": \"Num_Acc\"}, inplace=True)"
   ]
  },
  {
   "cell_type": "markdown",
   "metadata": {},
   "source": [
    "Rien à signaler sur les variables `jour`, `mois` et `an`."
   ]
  },
  {
   "cell_type": "code",
   "execution_count": 11,
   "metadata": {},
   "outputs": [
    {
     "data": {
      "text/plain": [
       "14    1978\n",
       "11    1957\n",
       "21    1934\n",
       "10    1902\n",
       "7     1901\n",
       "5     1882\n",
       "12    1879\n",
       "16    1863\n",
       "9     1863\n",
       "17    1845\n",
       "22    1830\n",
       "15    1830\n",
       "13    1822\n",
       "8     1822\n",
       "4     1805\n",
       "18    1798\n",
       "28    1793\n",
       "26    1793\n",
       "20    1784\n",
       "25    1783\n",
       "1     1783\n",
       "3     1775\n",
       "6     1767\n",
       "2     1756\n",
       "19    1754\n",
       "23    1725\n",
       "24    1714\n",
       "27    1700\n",
       "29    1671\n",
       "30    1640\n",
       "31     953\n",
       "Name: jour, dtype: int64"
      ]
     },
     "execution_count": 11,
     "metadata": {},
     "output_type": "execute_result"
    }
   ],
   "source": [
    "df_caracs_22[\"jour\"].value_counts()"
   ]
  },
  {
   "cell_type": "code",
   "execution_count": 12,
   "metadata": {},
   "outputs": [
    {
     "data": {
      "text/plain": [
       "6     5418\n",
       "5     5299\n",
       "7     5068\n",
       "10    5026\n",
       "9     4919\n",
       "11    4542\n",
       "3     4529\n",
       "4     4340\n",
       "8     4173\n",
       "12    4106\n",
       "1     3981\n",
       "2     3901\n",
       "Name: mois, dtype: int64"
      ]
     },
     "execution_count": 12,
     "metadata": {},
     "output_type": "execute_result"
    }
   ],
   "source": [
    "df_caracs_22[\"mois\"].value_counts()"
   ]
  },
  {
   "cell_type": "code",
   "execution_count": 13,
   "metadata": {},
   "outputs": [
    {
     "data": {
      "text/plain": [
       "2022    55302\n",
       "Name: an, dtype: int64"
      ]
     },
     "execution_count": 13,
     "metadata": {},
     "output_type": "execute_result"
    }
   ],
   "source": [
    "df_caracs_22[\"an\"].value_counts()"
   ]
  },
  {
   "cell_type": "markdown",
   "metadata": {},
   "source": [
    "Pour la variable `hrmn`, certaines valeurs sont précises (03:32 par exemple), tandis que la plupart sont arrondies à la demi-heure (sans doute dû aux conditions réelles de renseignement de l'information)."
   ]
  },
  {
   "cell_type": "code",
   "execution_count": 14,
   "metadata": {},
   "outputs": [
    {
     "data": {
      "text/plain": [
       "18:00    692\n",
       "17:00    675\n",
       "18:30    607\n",
       "19:00    582\n",
       "17:30    572\n",
       "        ... \n",
       "03:32      1\n",
       "13:59      1\n",
       "06:31      1\n",
       "06:56      1\n",
       "04:43      1\n",
       "Name: hrmn, Length: 1398, dtype: int64"
      ]
     },
     "execution_count": 14,
     "metadata": {},
     "output_type": "execute_result"
    }
   ],
   "source": [
    "df_caracs_22[\"hrmn\"].value_counts()"
   ]
  },
  {
   "cell_type": "markdown",
   "metadata": {},
   "source": [
    "Pour une bonne exploitation, il est sans doute plus utile d'homogénéiser tout ça en assimilant tous les horaires à leur heure `h`. C'est l'objet du code suivant, qui crée une nouvelle variable `heure` pour cela."
   ]
  },
  {
   "cell_type": "code",
   "execution_count": 15,
   "metadata": {},
   "outputs": [],
   "source": [
    "df_caracs_22['heure'] = pd.to_datetime(df_caracs_22['hrmn'], format='%H:%M').dt.time"
   ]
  },
  {
   "cell_type": "markdown",
   "metadata": {},
   "source": [
    "La variable `lum` admet quelques valeurs `-1` (non indiquées dans la documentation) qui correspondent sans doute, à l'instar des autres variables, à des données manquantes. Nous les remplacerons plus tard (de façon centralisée avec les autres variables) par des `NaN`."
   ]
  },
  {
   "cell_type": "code",
   "execution_count": 16,
   "metadata": {},
   "outputs": [
    {
     "data": {
      "text/plain": [
       " 1    36845\n",
       " 5     8727\n",
       " 3     5628\n",
       " 2     3589\n",
       " 4      511\n",
       "-1        2\n",
       "Name: lum, dtype: int64"
      ]
     },
     "execution_count": 16,
     "metadata": {},
     "output_type": "execute_result"
    }
   ],
   "source": [
    "df_caracs_22[\"lum\"].value_counts()"
   ]
  },
  {
   "cell_type": "code",
   "execution_count": 17,
   "metadata": {},
   "outputs": [
    {
     "data": {
      "text/plain": [
       "75     5071\n",
       "93     2756\n",
       "92     2510\n",
       "94     2280\n",
       "13     2255\n",
       "       ... \n",
       "23       45\n",
       "978      21\n",
       "986      14\n",
       "977       7\n",
       "975       3\n",
       "Name: dep, Length: 107, dtype: int64"
      ]
     },
     "execution_count": 17,
     "metadata": {},
     "output_type": "execute_result"
    }
   ],
   "source": [
    "df_caracs_22[\"dep\"].value_counts()"
   ]
  },
  {
   "cell_type": "code",
   "execution_count": 18,
   "metadata": {},
   "outputs": [
    {
     "data": {
      "text/plain": [
       "75116    551\n",
       "75112    421\n",
       "97302    398\n",
       "75119    392\n",
       "75117    375\n",
       "        ... \n",
       "76314      1\n",
       "23139      1\n",
       "73082      1\n",
       "43232      1\n",
       "74001      1\n",
       "Name: com, Length: 11253, dtype: int64"
      ]
     },
     "execution_count": 18,
     "metadata": {},
     "output_type": "execute_result"
    }
   ],
   "source": [
    "df_caracs_22[\"com\"].value_counts()"
   ]
  },
  {
   "cell_type": "code",
   "execution_count": 19,
   "metadata": {},
   "outputs": [
    {
     "data": {
      "text/plain": [
       "2    35036\n",
       "1    20266\n",
       "Name: agg, dtype: int64"
      ]
     },
     "execution_count": 19,
     "metadata": {},
     "output_type": "execute_result"
    }
   ],
   "source": [
    "df_caracs_22[\"agg\"].value_counts()"
   ]
  },
  {
   "cell_type": "markdown",
   "metadata": {},
   "source": [
    "Rien à signaler sur la suite."
   ]
  },
  {
   "cell_type": "code",
   "execution_count": 20,
   "metadata": {},
   "outputs": [
    {
     "data": {
      "text/plain": [
       " 1    35349\n",
       " 2     6759\n",
       " 3     6170\n",
       " 6     2415\n",
       " 9     2245\n",
       " 4     1280\n",
       " 7      630\n",
       " 5      348\n",
       " 8       99\n",
       "-1        7\n",
       "Name: int, dtype: int64"
      ]
     },
     "execution_count": 20,
     "metadata": {},
     "output_type": "execute_result"
    }
   ],
   "source": [
    "df_caracs_22[\"int\"].value_counts()"
   ]
  },
  {
   "cell_type": "code",
   "execution_count": 21,
   "metadata": {},
   "outputs": [
    {
     "data": {
      "text/plain": [
       " 1    45269\n",
       " 2     4934\n",
       " 8     1927\n",
       " 7     1143\n",
       " 3      981\n",
       " 5      531\n",
       " 9      263\n",
       " 4      130\n",
       " 6      123\n",
       "-1        1\n",
       "Name: atm, dtype: int64"
      ]
     },
     "execution_count": 21,
     "metadata": {},
     "output_type": "execute_result"
    }
   ],
   "source": [
    "df_caracs_22[\"atm\"].value_counts()"
   ]
  },
  {
   "cell_type": "code",
   "execution_count": 22,
   "metadata": {},
   "outputs": [
    {
     "data": {
      "text/plain": [
       " 3    16838\n",
       " 6    16039\n",
       " 2     7419\n",
       " 1     5933\n",
       " 7     5531\n",
       " 4     1944\n",
       " 5     1535\n",
       "-1       63\n",
       "Name: col, dtype: int64"
      ]
     },
     "execution_count": 22,
     "metadata": {},
     "output_type": "execute_result"
    }
   ],
   "source": [
    "df_caracs_22[\"col\"].value_counts()"
   ]
  },
  {
   "cell_type": "markdown",
   "metadata": {},
   "source": [
    "Pour les adresses, il y a clairement beaucoup d'hétérogénéité."
   ]
  },
  {
   "cell_type": "code",
   "execution_count": 23,
   "metadata": {},
   "outputs": [
    {
     "data": {
      "text/plain": [
       "24531                                     D809\n",
       "3904                                       NaN\n",
       "27231                                RN1 PK197\n",
       "6919                                      D408\n",
       "20992                                      D65\n",
       "51166                        Avenue d’Alphasis\n",
       "42540                            AUTOROUTE A86\n",
       "51691                   Louis VILLECROZE (Bld)\n",
       "22041                          METZ (ROUTE DE)\n",
       "13343              AEROPORT (ROND POINT DE L')\n",
       "20551                      Route de Villeneuve\n",
       "52760                   TROIS FERMES (RUE DES)\n",
       "49916    Rue de la République / Rue Emile Zola\n",
       "20461               MENDES FRANCE (RUE PIERRE)\n",
       "27357                        Rue Paul Langevin\n",
       "36849                  Avenue Gaston Bonnardel\n",
       "50136                  Avenue de la République\n",
       "37554                           Avenue Pasteur\n",
       "3649                      AVRANCHES (ROUTE D')\n",
       "6001                            Autoroute A.35\n",
       "Name: adr, dtype: object"
      ]
     },
     "execution_count": 23,
     "metadata": {},
     "output_type": "execute_result"
    }
   ],
   "source": [
    "df_caracs_22[\"adr\"].sample(20)"
   ]
  },
  {
   "cell_type": "markdown",
   "metadata": {},
   "source": [
    "Les variables `lat` et `long` sont codées avec une virgule (convention française)."
   ]
  },
  {
   "cell_type": "code",
   "execution_count": 24,
   "metadata": {},
   "outputs": [
    {
     "data": {
      "text/html": [
       "<div>\n",
       "<style scoped>\n",
       "    .dataframe tbody tr th:only-of-type {\n",
       "        vertical-align: middle;\n",
       "    }\n",
       "\n",
       "    .dataframe tbody tr th {\n",
       "        vertical-align: top;\n",
       "    }\n",
       "\n",
       "    .dataframe thead th {\n",
       "        text-align: right;\n",
       "    }\n",
       "</style>\n",
       "<table border=\"1\" class=\"dataframe\">\n",
       "  <thead>\n",
       "    <tr style=\"text-align: right;\">\n",
       "      <th></th>\n",
       "      <th>lat</th>\n",
       "      <th>long</th>\n",
       "    </tr>\n",
       "  </thead>\n",
       "  <tbody>\n",
       "    <tr>\n",
       "      <th>21247</th>\n",
       "      <td>43,6102790000</td>\n",
       "      <td>1,5196650000</td>\n",
       "    </tr>\n",
       "    <tr>\n",
       "      <th>34040</th>\n",
       "      <td>48,8632310000</td>\n",
       "      <td>2,3516670000</td>\n",
       "    </tr>\n",
       "    <tr>\n",
       "      <th>42733</th>\n",
       "      <td>47,3623593892</td>\n",
       "      <td>0,6958803535</td>\n",
       "    </tr>\n",
       "    <tr>\n",
       "      <th>24238</th>\n",
       "      <td>47,5520930000</td>\n",
       "      <td>0,9212500000</td>\n",
       "    </tr>\n",
       "    <tr>\n",
       "      <th>10951</th>\n",
       "      <td>43,1134400000</td>\n",
       "      <td>6,1296700000</td>\n",
       "    </tr>\n",
       "    <tr>\n",
       "      <th>16713</th>\n",
       "      <td>47,3317916342</td>\n",
       "      <td>0,7062309980</td>\n",
       "    </tr>\n",
       "    <tr>\n",
       "      <th>54294</th>\n",
       "      <td>48,8592890000</td>\n",
       "      <td>2,2829240000</td>\n",
       "    </tr>\n",
       "    <tr>\n",
       "      <th>27235</th>\n",
       "      <td>5,4346709360</td>\n",
       "      <td>-53,7412333488</td>\n",
       "    </tr>\n",
       "    <tr>\n",
       "      <th>32995</th>\n",
       "      <td>48,8527010000</td>\n",
       "      <td>2,4061170000</td>\n",
       "    </tr>\n",
       "    <tr>\n",
       "      <th>38354</th>\n",
       "      <td>43,4134100000</td>\n",
       "      <td>5,2808700000</td>\n",
       "    </tr>\n",
       "  </tbody>\n",
       "</table>\n",
       "</div>"
      ],
      "text/plain": [
       "                 lat             long\n",
       "21247  43,6102790000     1,5196650000\n",
       "34040  48,8632310000     2,3516670000\n",
       "42733  47,3623593892     0,6958803535\n",
       "24238  47,5520930000     0,9212500000\n",
       "10951  43,1134400000     6,1296700000\n",
       "16713  47,3317916342     0,7062309980\n",
       "54294  48,8592890000     2,2829240000\n",
       "27235   5,4346709360   -53,7412333488\n",
       "32995  48,8527010000     2,4061170000\n",
       "38354  43,4134100000     5,2808700000"
      ]
     },
     "execution_count": 24,
     "metadata": {},
     "output_type": "execute_result"
    }
   ],
   "source": [
    "df_caracs_22[[\"lat\", \"long\"]].sample(10)"
   ]
  },
  {
   "cell_type": "markdown",
   "metadata": {},
   "source": [
    "Arrangeons cela !"
   ]
  },
  {
   "cell_type": "code",
   "execution_count": 25,
   "metadata": {},
   "outputs": [],
   "source": [
    "df_caracs_22['lat'] = df_caracs_22['lat'].str.replace(',', '.').astype(float)\n",
    "df_caracs_22['long'] = df_caracs_22['long'].str.replace(',', '.').astype(float)"
   ]
  },
  {
   "cell_type": "markdown",
   "metadata": {},
   "source": [
    "### Recodage de certaines variables"
   ]
  },
  {
   "cell_type": "code",
   "execution_count": 26,
   "metadata": {},
   "outputs": [],
   "source": [
    "df_caracs_22[\"agg\"].replace({1: \"hors agglo\",\n",
    "                             2: \"agglo\"},\n",
    "                             inplace=True)\n",
    "\n",
    "df_caracs_22.replace(-1, np.NaN, inplace=True)"
   ]
  },
  {
   "cell_type": "markdown",
   "metadata": {},
   "source": [
    "# Base"
   ]
  },
  {
   "cell_type": "markdown",
   "metadata": {},
   "source": [
    "## La jointure en pratique"
   ]
  },
  {
   "cell_type": "code",
   "execution_count": 27,
   "metadata": {},
   "outputs": [
    {
     "name": "stdout",
     "output_type": "stream",
     "text": [
      "<class 'pandas.core.frame.DataFrame'>\n",
      "RangeIndex: 126662 entries, 0 to 126661\n",
      "Data columns (total 16 columns):\n",
      " #   Column       Non-Null Count   Dtype  \n",
      "---  ------       --------------   -----  \n",
      " 0   Num_Acc      126662 non-null  int64  \n",
      " 1   id_usager    126662 non-null  object \n",
      " 2   id_vehicule  126662 non-null  object \n",
      " 3   num_veh      126662 non-null  object \n",
      " 4   place        126662 non-null  int64  \n",
      " 5   catu         126662 non-null  object \n",
      " 6   grav         126662 non-null  int64  \n",
      " 7   sexe         123918 non-null  object \n",
      " 8   an_nais      123788 non-null  float64\n",
      " 9   trajet       91051 non-null   object \n",
      " 10  secu1        126662 non-null  int64  \n",
      " 11  secu2        126662 non-null  int64  \n",
      " 12  secu3        126662 non-null  int64  \n",
      " 13  locp         126662 non-null  int64  \n",
      " 14  actp         126662 non-null  object \n",
      " 15  etatp        9473 non-null    object \n",
      "dtypes: float64(1), int64(7), object(8)\n",
      "memory usage: 15.5+ MB\n",
      "<class 'pandas.core.frame.DataFrame'>\n",
      "RangeIndex: 94493 entries, 0 to 94492\n",
      "Data columns (total 11 columns):\n",
      " #   Column       Non-Null Count  Dtype  \n",
      "---  ------       --------------  -----  \n",
      " 0   Num_Acc      94493 non-null  int64  \n",
      " 1   id_vehicule  94493 non-null  object \n",
      " 2   num_veh      94493 non-null  object \n",
      " 3   senc         94493 non-null  int64  \n",
      " 4   catv         94493 non-null  int64  \n",
      " 5   obs          94493 non-null  int64  \n",
      " 6   obsm         94493 non-null  int64  \n",
      " 7   choc         94493 non-null  int64  \n",
      " 8   manv         94493 non-null  int64  \n",
      " 9   motor        94493 non-null  int64  \n",
      " 10  occutc       817 non-null    float64\n",
      "dtypes: float64(1), int64(8), object(2)\n",
      "memory usage: 7.9+ MB\n",
      "<class 'pandas.core.frame.DataFrame'>\n",
      "RangeIndex: 55302 entries, 0 to 55301\n",
      "Data columns (total 18 columns):\n",
      " #   Column   Non-Null Count  Dtype \n",
      "---  ------   --------------  ----- \n",
      " 0   Num_Acc  55302 non-null  int64 \n",
      " 1   catr     55302 non-null  int64 \n",
      " 2   voie     50497 non-null  object\n",
      " 3   v1       55302 non-null  int64 \n",
      " 4   v2       5255 non-null   object\n",
      " 5   circ     55302 non-null  int64 \n",
      " 6   nbv      55302 non-null  object\n",
      " 7   vosp     55302 non-null  int64 \n",
      " 8   prof     55302 non-null  int64 \n",
      " 9   pr       55302 non-null  object\n",
      " 10  pr1      55302 non-null  object\n",
      " 11  plan     55302 non-null  int64 \n",
      " 12  lartpc   28 non-null     object\n",
      " 13  larrout  55302 non-null  object\n",
      " 14  surf     55302 non-null  int64 \n",
      " 15  infra    55302 non-null  int64 \n",
      " 16  situ     55302 non-null  int64 \n",
      " 17  vma      55302 non-null  int64 \n",
      "dtypes: int64(11), object(7)\n",
      "memory usage: 7.6+ MB\n",
      "<class 'pandas.core.frame.DataFrame'>\n",
      "RangeIndex: 55302 entries, 0 to 55301\n",
      "Data columns (total 16 columns):\n",
      " #   Column   Non-Null Count  Dtype  \n",
      "---  ------   --------------  -----  \n",
      " 0   Num_Acc  55302 non-null  int64  \n",
      " 1   jour     55302 non-null  int64  \n",
      " 2   mois     55302 non-null  int64  \n",
      " 3   an       55302 non-null  int64  \n",
      " 4   hrmn     55302 non-null  object \n",
      " 5   lum      55300 non-null  float64\n",
      " 6   dep      55302 non-null  object \n",
      " 7   com      55302 non-null  object \n",
      " 8   agg      55302 non-null  object \n",
      " 9   int      55295 non-null  float64\n",
      " 10  atm      55301 non-null  float64\n",
      " 11  col      55239 non-null  float64\n",
      " 12  adr      54069 non-null  object \n",
      " 13  lat      55302 non-null  float64\n",
      " 14  long     55302 non-null  float64\n",
      " 15  heure    55302 non-null  object \n",
      "dtypes: float64(6), int64(4), object(6)\n",
      "memory usage: 6.8+ MB\n"
     ]
    },
    {
     "data": {
      "text/plain": [
       "(None, None, None, None)"
      ]
     },
     "execution_count": 27,
     "metadata": {},
     "output_type": "execute_result"
    }
   ],
   "source": [
    "df_usagers_22.info(), df_vehicules_22.info(), df_lieux_22.info(), df_caracs_22.info()"
   ]
  },
  {
   "cell_type": "markdown",
   "metadata": {},
   "source": [
    "On s'assure qu'on a bien autant d'observations dont le triplet `(Num_Acc, id_vehicule, num_veh)` est unique dans les bases `usagers` et `véhicules`."
   ]
  },
  {
   "cell_type": "code",
   "execution_count": 28,
   "metadata": {},
   "outputs": [
    {
     "data": {
      "text/plain": [
       "94493"
      ]
     },
     "execution_count": 28,
     "metadata": {},
     "output_type": "execute_result"
    }
   ],
   "source": [
    "(~df_usagers_22.duplicated([\"Num_Acc\", \"id_vehicule\", \"num_veh\"])).sum()"
   ]
  },
  {
   "cell_type": "code",
   "execution_count": 29,
   "metadata": {},
   "outputs": [
    {
     "data": {
      "text/plain": [
       "94493"
      ]
     },
     "execution_count": 29,
     "metadata": {},
     "output_type": "execute_result"
    }
   ],
   "source": [
    "(~df_vehicules_22.duplicated([\"Num_Acc\", \"id_vehicule\", \"num_veh\"])).sum()"
   ]
  },
  {
   "cell_type": "markdown",
   "metadata": {},
   "source": [
    "À présent, on peut procéder à la jointure à l'aide de `pd.merge`. On joint d'abord les bases `usagers` et `vehicules` sur `(Num_Acc, id_vehicule, num_veh)`, puis on joint également les bases `lieux` et `caracs` sur l'identifiant de l'accident, codé par `Num_Acc`."
   ]
  },
  {
   "cell_type": "code",
   "execution_count": 30,
   "metadata": {},
   "outputs": [],
   "source": [
    "df_merged_22 = pd.merge(pd.merge(pd.merge(df_usagers_22, df_vehicules_22, on=[\"Num_Acc\", \"id_vehicule\", \"num_veh\"]), \\\n",
    "    df_lieux_22, on=\"Num_Acc\"), df_caracs_22, on=\"Num_Acc\")\n"
   ]
  },
  {
   "cell_type": "markdown",
   "metadata": {},
   "source": [
    "On retombe bien sur un total de 126 662 observations, soit la longueur de la base usagers."
   ]
  },
  {
   "cell_type": "code",
   "execution_count": 35,
   "metadata": {},
   "outputs": [],
   "source": [
    "df_merged_22.to_csv(\"df_merged_22.csv\", index=False)"
   ]
  },
  {
   "cell_type": "code",
   "execution_count": null,
   "metadata": {},
   "outputs": [],
   "source": []
  }
 ],
 "metadata": {
  "kernelspec": {
   "display_name": "base",
   "language": "python",
   "name": "python3"
  },
  "language_info": {
   "codemirror_mode": {
    "name": "ipython",
    "version": 3
   },
   "file_extension": ".py",
   "mimetype": "text/x-python",
   "name": "python",
   "nbconvert_exporter": "python",
   "pygments_lexer": "ipython3",
   "version": "3.9.7"
  }
 },
 "nbformat": 4,
 "nbformat_minor": 2
}
