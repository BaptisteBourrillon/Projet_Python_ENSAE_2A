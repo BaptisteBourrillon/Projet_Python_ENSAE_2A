{
 "cells": [
  {
   "cell_type": "markdown",
   "metadata": {},
   "source": [
    "# Préparation des données"
   ]
  },
  {
   "cell_type": "code",
   "execution_count": 1,
   "metadata": {},
   "outputs": [],
   "source": [
    "import numpy as np\n",
    "import pandas as pd\n",
    "import matplotlib.pyplot as plt\n",
    "import seaborn as sns"
   ]
  },
  {
   "cell_type": "code",
   "execution_count": 2,
   "metadata": {},
   "outputs": [
    {
     "name": "stderr",
     "output_type": "stream",
     "text": [
      "c:\\Users\\nahta\\anaconda3\\lib\\site-packages\\IPython\\core\\interactiveshell.py:3444: DtypeWarning: Columns (6) have mixed types.Specify dtype option on import or set low_memory=False.\n",
      "  exec(code_obj, self.user_global_ns, self.user_ns)\n"
     ]
    }
   ],
   "source": [
    "df_usagers_22 = pd.read_csv(\"https://www.data.gouv.fr/fr/datasets/r/62c20524-d442-46f5-bfd8-982c59763ec8\", sep=\";\")\n",
    "df_vehicules_22 = pd.read_csv(\"https://www.data.gouv.fr/fr/datasets/r/c9742921-4427-41e5-81bc-f13af8bc31a0\", sep=\";\")\n",
    "df_lieux_22 = pd.read_csv(\"https://www.data.gouv.fr/fr/datasets/r/a6ef711a-1f03-44cb-921a-0ce8ec975995\", sep=\";\")\n",
    "df_caracs_22 = pd.read_csv(\"https://www.data.gouv.fr/fr/datasets/r/5fc299c0-4598-4c29-b74c-6a67b0cc27e7\", sep=\";\")"
   ]
  },
  {
   "cell_type": "code",
   "execution_count": 5,
   "metadata": {},
   "outputs": [
    {
     "name": "stdout",
     "output_type": "stream",
     "text": [
      "126662\n",
      "94493\n",
      "55302\n",
      "55302\n"
     ]
    }
   ],
   "source": [
    "print(len(df_usagers_22))\n",
    "print(len(df_vehicules_22))\n",
    "print(len(df_lieux_22))\n",
    "print(len(df_caracs_22))"
   ]
  },
  {
   "cell_type": "markdown",
   "metadata": {},
   "source": [
    "Un accident a des caractéristiques uniques et un lieu unique, mais il peut impliquer plusieurs véhicules, ces derniers pouvant eux-mêmes impliquer plusieurs usagers (en plus des piétons !).\n",
    "\n",
    "Pour cette raison, les longueurs différentes ne sont pas surprenantes."
   ]
  },
  {
   "cell_type": "markdown",
   "metadata": {},
   "source": [
    "Ci-dessous, on compte le nombre de valeurs uniques pour la variable `id_vehicule` dans la base `usagers`, et on trouve bien 94 493, la longueur de la base `vehicules`."
   ]
  },
  {
   "cell_type": "code",
   "execution_count": 10,
   "metadata": {},
   "outputs": [
    {
     "data": {
      "text/plain": [
       "94493"
      ]
     },
     "execution_count": 10,
     "metadata": {},
     "output_type": "execute_result"
    }
   ],
   "source": [
    "(~df_usagers_22.duplicated(\"id_vehicule\")).sum()"
   ]
  },
  {
   "cell_type": "markdown",
   "metadata": {},
   "source": [
    "## Base `usagers`"
   ]
  },
  {
   "cell_type": "code",
   "execution_count": 4,
   "metadata": {},
   "outputs": [
    {
     "name": "stdout",
     "output_type": "stream",
     "text": [
      "<class 'pandas.core.frame.DataFrame'>\n",
      "RangeIndex: 126662 entries, 0 to 126661\n",
      "Data columns (total 16 columns):\n",
      " #   Column       Non-Null Count   Dtype  \n",
      "---  ------       --------------   -----  \n",
      " 0   Num_Acc      126662 non-null  int64  \n",
      " 1   id_usager    126662 non-null  object \n",
      " 2   id_vehicule  126662 non-null  object \n",
      " 3   num_veh      126662 non-null  object \n",
      " 4   place        126662 non-null  int64  \n",
      " 5   catu         126662 non-null  object \n",
      " 6   grav         126662 non-null  int64  \n",
      " 7   sexe         123918 non-null  object \n",
      " 8   an_nais      123788 non-null  float64\n",
      " 9   trajet       91051 non-null   object \n",
      " 10  secu1        126662 non-null  int64  \n",
      " 11  secu2        126662 non-null  int64  \n",
      " 12  secu3        126662 non-null  int64  \n",
      " 13  locp         126662 non-null  int64  \n",
      " 14  actp         126662 non-null  object \n",
      " 15  etatp        126662 non-null  int64  \n",
      "dtypes: float64(1), int64(8), object(7)\n",
      "memory usage: 15.5+ MB\n"
     ]
    }
   ],
   "source": [
    "df_usagers_22.info()"
   ]
  },
  {
   "cell_type": "code",
   "execution_count": 9,
   "metadata": {},
   "outputs": [],
   "source": [
    "df_usagers_22[\"grav\"].replace({2: 4, 4: 2}, inplace=True)\n",
    "df_usagers_22[\"sexe\"].replace({1: \"homme\", \n",
    "                               2: \"femme\", \n",
    "                               -1: np.NaN}, \n",
    "                               inplace=True)\n",
    "df_usagers_22[\"catu\"].replace({1: \"conducteur\", \n",
    "                               2: \"passager\", \n",
    "                               3: \"pieton\", \n",
    "                               -1: np.NaN}, inplace=True)\n",
    "df_usagers_22[\"trajet\"].replace({-1: np.NaN, \n",
    "                                 0: np.NaN, \n",
    "                                 1: \"domicile-travail\",\n",
    "                                 2: \"domicile-ecole\",\n",
    "                                 3: \"courses-achats\",\n",
    "                                 4: \"utilisation pro\",\n",
    "                                 5: \"promenade-loisirs\",\n",
    "                                 9: \"autre\"},\n",
    "                                 inplace=True)\n",
    "df_usagers_22[\"etatp\"].replace({-1: np.NaN,\n",
    "                                1: \"seul\",\n",
    "                                2: \"accompagne\",\n",
    "                                3: \"en groupe\"},\n",
    "                                inplace=True)"
   ]
  },
  {
   "cell_type": "markdown",
   "metadata": {},
   "source": [
    "## Bases `caracs`"
   ]
  },
  {
   "cell_type": "code",
   "execution_count": 10,
   "metadata": {},
   "outputs": [
    {
     "name": "stdout",
     "output_type": "stream",
     "text": [
      "<class 'pandas.core.frame.DataFrame'>\n",
      "RangeIndex: 55302 entries, 0 to 55301\n",
      "Data columns (total 15 columns):\n",
      " #   Column       Non-Null Count  Dtype \n",
      "---  ------       --------------  ----- \n",
      " 0   Accident_Id  55302 non-null  int64 \n",
      " 1   jour         55302 non-null  int64 \n",
      " 2   mois         55302 non-null  int64 \n",
      " 3   an           55302 non-null  int64 \n",
      " 4   hrmn         55302 non-null  object\n",
      " 5   lum          55302 non-null  int64 \n",
      " 6   dep          55302 non-null  object\n",
      " 7   com          55302 non-null  object\n",
      " 8   agg          55302 non-null  int64 \n",
      " 9   int          55302 non-null  int64 \n",
      " 10  atm          55302 non-null  int64 \n",
      " 11  col          55302 non-null  int64 \n",
      " 12  adr          54069 non-null  object\n",
      " 13  lat          55302 non-null  object\n",
      " 14  long         55302 non-null  object\n",
      "dtypes: int64(9), object(6)\n",
      "memory usage: 6.3+ MB\n"
     ]
    }
   ],
   "source": [
    "df_caracs_22.info()"
   ]
  },
  {
   "cell_type": "markdown",
   "metadata": {},
   "source": [
    "On modifie le nom de la variable `Accident_Id` de la base `caracs` pour faciliter la jointure tout à l'heure."
   ]
  },
  {
   "cell_type": "code",
   "execution_count": 31,
   "metadata": {},
   "outputs": [],
   "source": [
    "df_caracs_22.rename(columns={\"Accident_Id\": \"Num_Acc\"}, inplace=True)"
   ]
  },
  {
   "cell_type": "markdown",
   "metadata": {},
   "source": [
    "Rien à signaler sur les variables `jour`, `mois` et `an`."
   ]
  },
  {
   "cell_type": "code",
   "execution_count": 13,
   "metadata": {},
   "outputs": [
    {
     "data": {
      "text/plain": [
       "14    1978\n",
       "11    1957\n",
       "21    1934\n",
       "10    1902\n",
       "7     1901\n",
       "5     1882\n",
       "12    1879\n",
       "16    1863\n",
       "9     1863\n",
       "17    1845\n",
       "22    1830\n",
       "15    1830\n",
       "13    1822\n",
       "8     1822\n",
       "4     1805\n",
       "18    1798\n",
       "28    1793\n",
       "26    1793\n",
       "20    1784\n",
       "25    1783\n",
       "1     1783\n",
       "3     1775\n",
       "6     1767\n",
       "2     1756\n",
       "19    1754\n",
       "23    1725\n",
       "24    1714\n",
       "27    1700\n",
       "29    1671\n",
       "30    1640\n",
       "31     953\n",
       "Name: jour, dtype: int64"
      ]
     },
     "execution_count": 13,
     "metadata": {},
     "output_type": "execute_result"
    }
   ],
   "source": [
    "df_caracs_22[\"jour\"].value_counts()"
   ]
  },
  {
   "cell_type": "code",
   "execution_count": 12,
   "metadata": {},
   "outputs": [
    {
     "data": {
      "text/plain": [
       "6     5418\n",
       "5     5299\n",
       "7     5068\n",
       "10    5026\n",
       "9     4919\n",
       "11    4542\n",
       "3     4529\n",
       "4     4340\n",
       "8     4173\n",
       "12    4106\n",
       "1     3981\n",
       "2     3901\n",
       "Name: mois, dtype: int64"
      ]
     },
     "execution_count": 12,
     "metadata": {},
     "output_type": "execute_result"
    }
   ],
   "source": [
    "df_caracs_22[\"mois\"].value_counts()"
   ]
  },
  {
   "cell_type": "code",
   "execution_count": 14,
   "metadata": {},
   "outputs": [
    {
     "data": {
      "text/plain": [
       "2022    55302\n",
       "Name: an, dtype: int64"
      ]
     },
     "execution_count": 14,
     "metadata": {},
     "output_type": "execute_result"
    }
   ],
   "source": [
    "df_caracs_22[\"an\"].value_counts()"
   ]
  },
  {
   "cell_type": "markdown",
   "metadata": {},
   "source": [
    "Pour la variable `hrmn`, certaines valeurs sont précises (03:32 par exemple), tandis que la plupart sont arrondies à la demi-heure (sans doute dû aux conditions réelles de renseignement de l'information)."
   ]
  },
  {
   "cell_type": "code",
   "execution_count": 15,
   "metadata": {},
   "outputs": [
    {
     "data": {
      "text/plain": [
       "18:00    692\n",
       "17:00    675\n",
       "18:30    607\n",
       "19:00    582\n",
       "17:30    572\n",
       "        ... \n",
       "03:32      1\n",
       "13:59      1\n",
       "06:31      1\n",
       "06:56      1\n",
       "04:43      1\n",
       "Name: hrmn, Length: 1398, dtype: int64"
      ]
     },
     "execution_count": 15,
     "metadata": {},
     "output_type": "execute_result"
    }
   ],
   "source": [
    "df_caracs_22[\"hrmn\"].value_counts()"
   ]
  },
  {
   "cell_type": "markdown",
   "metadata": {},
   "source": [
    "Pour une bonne exploitation, il est sans doute plus utile d'homogénéiser tout ça en assimilant tous les horaires à leur heure `h`. C'est l'objet du code suivant, qui crée une nouvelle variable `heure` pour cela."
   ]
  },
  {
   "cell_type": "code",
   "execution_count": 17,
   "metadata": {},
   "outputs": [],
   "source": [
    "df_caracs_22['heure'] = pd.to_datetime(df_caracs_22['hrmn'], format='%H:%M').dt.time"
   ]
  },
  {
   "cell_type": "markdown",
   "metadata": {},
   "source": [
    "La variable `lum` admet quelques valeurs `-1` (non indiquées dans la documentation) qui correspondent sans doute, à l'instar des autres variables, à des données manquantes. Nous les remplacerons plus tard (de façon centralisée avec les autres variables) par des `NaN`."
   ]
  },
  {
   "cell_type": "code",
   "execution_count": 19,
   "metadata": {},
   "outputs": [
    {
     "data": {
      "text/plain": [
       " 1    36845\n",
       " 5     8727\n",
       " 3     5628\n",
       " 2     3589\n",
       " 4      511\n",
       "-1        2\n",
       "Name: lum, dtype: int64"
      ]
     },
     "execution_count": 19,
     "metadata": {},
     "output_type": "execute_result"
    }
   ],
   "source": [
    "df_caracs_22[\"lum\"].value_counts()"
   ]
  },
  {
   "cell_type": "code",
   "execution_count": 21,
   "metadata": {},
   "outputs": [
    {
     "data": {
      "text/plain": [
       "75     5071\n",
       "93     2756\n",
       "92     2510\n",
       "94     2280\n",
       "13     2255\n",
       "       ... \n",
       "23       45\n",
       "978      21\n",
       "986      14\n",
       "977       7\n",
       "975       3\n",
       "Name: dep, Length: 107, dtype: int64"
      ]
     },
     "execution_count": 21,
     "metadata": {},
     "output_type": "execute_result"
    }
   ],
   "source": [
    "df_caracs_22[\"dep\"].value_counts()"
   ]
  },
  {
   "cell_type": "code",
   "execution_count": 24,
   "metadata": {},
   "outputs": [
    {
     "data": {
      "text/plain": [
       "75116    551\n",
       "75112    421\n",
       "97302    398\n",
       "75119    392\n",
       "75117    375\n",
       "        ... \n",
       "76314      1\n",
       "23139      1\n",
       "73082      1\n",
       "43232      1\n",
       "74001      1\n",
       "Name: com, Length: 11253, dtype: int64"
      ]
     },
     "execution_count": 24,
     "metadata": {},
     "output_type": "execute_result"
    }
   ],
   "source": [
    "df_caracs_22[\"com\"].value_counts()"
   ]
  },
  {
   "cell_type": "code",
   "execution_count": 25,
   "metadata": {},
   "outputs": [
    {
     "data": {
      "text/plain": [
       "2    35036\n",
       "1    20266\n",
       "Name: agg, dtype: int64"
      ]
     },
     "execution_count": 25,
     "metadata": {},
     "output_type": "execute_result"
    }
   ],
   "source": [
    "df_caracs_22[\"agg\"].value_counts()"
   ]
  },
  {
   "cell_type": "markdown",
   "metadata": {},
   "source": [
    "Rien à signaler sur la suite."
   ]
  },
  {
   "cell_type": "code",
   "execution_count": 28,
   "metadata": {},
   "outputs": [
    {
     "data": {
      "text/plain": [
       " 1    35349\n",
       " 2     6759\n",
       " 3     6170\n",
       " 6     2415\n",
       " 9     2245\n",
       " 4     1280\n",
       " 7      630\n",
       " 5      348\n",
       " 8       99\n",
       "-1        7\n",
       "Name: int, dtype: int64"
      ]
     },
     "execution_count": 28,
     "metadata": {},
     "output_type": "execute_result"
    }
   ],
   "source": [
    "df_caracs_22[\"int\"].value_counts()"
   ]
  },
  {
   "cell_type": "code",
   "execution_count": 30,
   "metadata": {},
   "outputs": [
    {
     "data": {
      "text/plain": [
       " 1    45269\n",
       " 2     4934\n",
       " 8     1927\n",
       " 7     1143\n",
       " 3      981\n",
       " 5      531\n",
       " 9      263\n",
       " 4      130\n",
       " 6      123\n",
       "-1        1\n",
       "Name: atm, dtype: int64"
      ]
     },
     "execution_count": 30,
     "metadata": {},
     "output_type": "execute_result"
    }
   ],
   "source": [
    "df_caracs_22[\"atm\"].value_counts()"
   ]
  },
  {
   "cell_type": "code",
   "execution_count": 32,
   "metadata": {},
   "outputs": [
    {
     "data": {
      "text/plain": [
       " 3    16838\n",
       " 6    16039\n",
       " 2     7419\n",
       " 1     5933\n",
       " 7     5531\n",
       " 4     1944\n",
       " 5     1535\n",
       "-1       63\n",
       "Name: col, dtype: int64"
      ]
     },
     "execution_count": 32,
     "metadata": {},
     "output_type": "execute_result"
    }
   ],
   "source": [
    "df_caracs_22[\"col\"].value_counts()"
   ]
  },
  {
   "cell_type": "markdown",
   "metadata": {},
   "source": [
    "Pour les adresses, il y a clairement beaucoup d'hétérogénéité."
   ]
  },
  {
   "cell_type": "code",
   "execution_count": 37,
   "metadata": {},
   "outputs": [
    {
     "data": {
      "text/plain": [
       "38770               PLACE DE L OPERA\n",
       "3343               Route de Tramoyes\n",
       "18231              ARAGON (AV LOUIS)\n",
       "42132                            D53\n",
       "46814              Route de Guissény\n",
       "17767                         CD1029\n",
       "53797       Avenue du Docteur Lamaze\n",
       "19763                          RD 14\n",
       "44282        GENERAL LECLERC (AV DU)\n",
       "36179                             N2\n",
       "17233    LECLERCQ AVENUE DU GENERAL.\n",
       "8084               8 Rue de l'Eglise\n",
       "32779                           D316\n",
       "15084             départementale 109\n",
       "38379                            A15\n",
       "29268     RUE DE LA CHAUSSEE D ANTIN\n",
       "43354                            A13\n",
       "28048                  Rue Léon Blum\n",
       "419              63 Rue Roger Gibrat\n",
       "4300                             NaN\n",
       "Name: adr, dtype: object"
      ]
     },
     "execution_count": 37,
     "metadata": {},
     "output_type": "execute_result"
    }
   ],
   "source": [
    "df_caracs_22[\"adr\"].sample(20)"
   ]
  },
  {
   "cell_type": "markdown",
   "metadata": {},
   "source": [
    "Les variables `lat` et `long` sont codées avec une virgule (convention française)."
   ]
  },
  {
   "cell_type": "code",
   "execution_count": 43,
   "metadata": {},
   "outputs": [
    {
     "data": {
      "text/html": [
       "<div>\n",
       "<style scoped>\n",
       "    .dataframe tbody tr th:only-of-type {\n",
       "        vertical-align: middle;\n",
       "    }\n",
       "\n",
       "    .dataframe tbody tr th {\n",
       "        vertical-align: top;\n",
       "    }\n",
       "\n",
       "    .dataframe thead th {\n",
       "        text-align: right;\n",
       "    }\n",
       "</style>\n",
       "<table border=\"1\" class=\"dataframe\">\n",
       "  <thead>\n",
       "    <tr style=\"text-align: right;\">\n",
       "      <th></th>\n",
       "      <th>lat</th>\n",
       "      <th>long</th>\n",
       "    </tr>\n",
       "  </thead>\n",
       "  <tbody>\n",
       "    <tr>\n",
       "      <th>423</th>\n",
       "      <td>48,8802183655</td>\n",
       "      <td>2,2739046514</td>\n",
       "    </tr>\n",
       "    <tr>\n",
       "      <th>27640</th>\n",
       "      <td>45,7639200000</td>\n",
       "      <td>3,1157000000</td>\n",
       "    </tr>\n",
       "    <tr>\n",
       "      <th>52077</th>\n",
       "      <td>48,9778790000</td>\n",
       "      <td>1,0035000000</td>\n",
       "    </tr>\n",
       "    <tr>\n",
       "      <th>23364</th>\n",
       "      <td>44,8426000000</td>\n",
       "      <td>-0,5699000000</td>\n",
       "    </tr>\n",
       "    <tr>\n",
       "      <th>54652</th>\n",
       "      <td>48,1178300000</td>\n",
       "      <td>-1,6855500000</td>\n",
       "    </tr>\n",
       "    <tr>\n",
       "      <th>38261</th>\n",
       "      <td>48,7646930000</td>\n",
       "      <td>2,3067860000</td>\n",
       "    </tr>\n",
       "    <tr>\n",
       "      <th>48744</th>\n",
       "      <td>44,4510530000</td>\n",
       "      <td>5,3706410000</td>\n",
       "    </tr>\n",
       "    <tr>\n",
       "      <th>26400</th>\n",
       "      <td>4,9373000000</td>\n",
       "      <td>-52,2980800000</td>\n",
       "    </tr>\n",
       "    <tr>\n",
       "      <th>33921</th>\n",
       "      <td>43,5506000000</td>\n",
       "      <td>6,9965000000</td>\n",
       "    </tr>\n",
       "    <tr>\n",
       "      <th>28108</th>\n",
       "      <td>49,1233720000</td>\n",
       "      <td>-0,1887380000</td>\n",
       "    </tr>\n",
       "  </tbody>\n",
       "</table>\n",
       "</div>"
      ],
      "text/plain": [
       "                 lat             long\n",
       "423    48,8802183655     2,2739046514\n",
       "27640  45,7639200000     3,1157000000\n",
       "52077  48,9778790000     1,0035000000\n",
       "23364  44,8426000000    -0,5699000000\n",
       "54652  48,1178300000    -1,6855500000\n",
       "38261  48,7646930000     2,3067860000\n",
       "48744  44,4510530000     5,3706410000\n",
       "26400   4,9373000000   -52,2980800000\n",
       "33921  43,5506000000     6,9965000000\n",
       "28108  49,1233720000    -0,1887380000"
      ]
     },
     "execution_count": 43,
     "metadata": {},
     "output_type": "execute_result"
    }
   ],
   "source": [
    "df_caracs_22[[\"lat\", \"long\"]].sample(10)"
   ]
  },
  {
   "cell_type": "markdown",
   "metadata": {},
   "source": [
    "Arrangeons cela !"
   ]
  },
  {
   "cell_type": "code",
   "execution_count": 44,
   "metadata": {},
   "outputs": [],
   "source": [
    "df_caracs_22['lat'] = df_caracs_22['lat'].str.replace(',', '.').astype(float)\n",
    "df_caracs_22['long'] = df_caracs_22['long'].str.replace(',', '.').astype(float)"
   ]
  },
  {
   "cell_type": "markdown",
   "metadata": {},
   "source": [
    "### Recodage de certaines variables"
   ]
  },
  {
   "cell_type": "code",
   "execution_count": 34,
   "metadata": {},
   "outputs": [],
   "source": [
    "df_caracs_22[\"agg\"].replace({1: \"hors agglo\",\n",
    "                             2: \"agglo\"},\n",
    "                             inplace=True)\n",
    "\n",
    "df_caracs_22.replace(-1, np.NaN, inplace=True)"
   ]
  },
  {
   "cell_type": "markdown",
   "metadata": {},
   "source": [
    "## La jointure en pratique"
   ]
  },
  {
   "cell_type": "code",
   "execution_count": 30,
   "metadata": {},
   "outputs": [
    {
     "name": "stdout",
     "output_type": "stream",
     "text": [
      "<class 'pandas.core.frame.DataFrame'>\n",
      "RangeIndex: 126662 entries, 0 to 126661\n",
      "Data columns (total 16 columns):\n",
      " #   Column       Non-Null Count   Dtype  \n",
      "---  ------       --------------   -----  \n",
      " 0   Num_Acc      126662 non-null  int64  \n",
      " 1   id_usager    126662 non-null  object \n",
      " 2   id_vehicule  126662 non-null  object \n",
      " 3   num_veh      126662 non-null  object \n",
      " 4   place        126662 non-null  int64  \n",
      " 5   catu         126662 non-null  int64  \n",
      " 6   grav         126662 non-null  int64  \n",
      " 7   sexe         126662 non-null  int64  \n",
      " 8   an_nais      123788 non-null  float64\n",
      " 9   trajet       126662 non-null  int64  \n",
      " 10  secu1        126662 non-null  int64  \n",
      " 11  secu2        126662 non-null  int64  \n",
      " 12  secu3        126662 non-null  int64  \n",
      " 13  locp         126662 non-null  int64  \n",
      " 14  actp         126662 non-null  object \n",
      " 15  etatp        126662 non-null  int64  \n",
      "dtypes: float64(1), int64(11), object(4)\n",
      "memory usage: 15.5+ MB\n",
      "<class 'pandas.core.frame.DataFrame'>\n",
      "RangeIndex: 94493 entries, 0 to 94492\n",
      "Data columns (total 11 columns):\n",
      " #   Column       Non-Null Count  Dtype  \n",
      "---  ------       --------------  -----  \n",
      " 0   Num_Acc      94493 non-null  int64  \n",
      " 1   id_vehicule  94493 non-null  object \n",
      " 2   num_veh      94493 non-null  object \n",
      " 3   senc         94493 non-null  int64  \n",
      " 4   catv         94493 non-null  int64  \n",
      " 5   obs          94493 non-null  int64  \n",
      " 6   obsm         94493 non-null  int64  \n",
      " 7   choc         94493 non-null  int64  \n",
      " 8   manv         94493 non-null  int64  \n",
      " 9   motor        94493 non-null  int64  \n",
      " 10  occutc       817 non-null    float64\n",
      "dtypes: float64(1), int64(8), object(2)\n",
      "memory usage: 7.9+ MB\n",
      "<class 'pandas.core.frame.DataFrame'>\n",
      "RangeIndex: 55302 entries, 0 to 55301\n",
      "Data columns (total 18 columns):\n",
      " #   Column   Non-Null Count  Dtype \n",
      "---  ------   --------------  ----- \n",
      " 0   Num_Acc  55302 non-null  int64 \n",
      " 1   catr     55302 non-null  int64 \n",
      " 2   voie     50497 non-null  object\n",
      " 3   v1       55302 non-null  int64 \n",
      " 4   v2       5255 non-null   object\n",
      " 5   circ     55302 non-null  int64 \n",
      " 6   nbv      55302 non-null  object\n",
      " 7   vosp     55302 non-null  int64 \n",
      " 8   prof     55302 non-null  int64 \n",
      " 9   pr       55302 non-null  object\n",
      " 10  pr1      55302 non-null  object\n",
      " 11  plan     55302 non-null  int64 \n",
      " 12  lartpc   28 non-null     object\n",
      " 13  larrout  55302 non-null  object\n",
      " 14  surf     55302 non-null  int64 \n",
      " 15  infra    55302 non-null  int64 \n",
      " 16  situ     55302 non-null  int64 \n",
      " 17  vma      55302 non-null  int64 \n",
      "dtypes: int64(11), object(7)\n",
      "memory usage: 7.6+ MB\n",
      "<class 'pandas.core.frame.DataFrame'>\n",
      "RangeIndex: 55302 entries, 0 to 55301\n",
      "Data columns (total 15 columns):\n",
      " #   Column       Non-Null Count  Dtype \n",
      "---  ------       --------------  ----- \n",
      " 0   Accident_Id  55302 non-null  int64 \n",
      " 1   jour         55302 non-null  int64 \n",
      " 2   mois         55302 non-null  int64 \n",
      " 3   an           55302 non-null  int64 \n",
      " 4   hrmn         55302 non-null  object\n",
      " 5   lum          55302 non-null  int64 \n",
      " 6   dep          55302 non-null  object\n",
      " 7   com          55302 non-null  object\n",
      " 8   agg          55302 non-null  int64 \n",
      " 9   int          55302 non-null  int64 \n",
      " 10  atm          55302 non-null  int64 \n",
      " 11  col          55302 non-null  int64 \n",
      " 12  adr          54069 non-null  object\n",
      " 13  lat          55302 non-null  object\n",
      " 14  long         55302 non-null  object\n",
      "dtypes: int64(9), object(6)\n",
      "memory usage: 6.3+ MB\n"
     ]
    },
    {
     "data": {
      "text/plain": [
       "(None, None, None, None)"
      ]
     },
     "execution_count": 30,
     "metadata": {},
     "output_type": "execute_result"
    }
   ],
   "source": [
    "df_usagers_22.info(), df_vehicules_22.info(), df_lieux_22.info(), df_caracs_22.info()"
   ]
  },
  {
   "cell_type": "markdown",
   "metadata": {},
   "source": [
    "On s'assure qu'on a bien autant d'observations dont le triplet `(Num_Acc, id_vehicule, num_veh)` est unique dans les bases `usagers` et `véhicules`."
   ]
  },
  {
   "cell_type": "code",
   "execution_count": 20,
   "metadata": {},
   "outputs": [
    {
     "data": {
      "text/plain": [
       "94493"
      ]
     },
     "execution_count": 20,
     "metadata": {},
     "output_type": "execute_result"
    }
   ],
   "source": [
    "(~df_usagers_22.duplicated([\"Num_Acc\", \"id_vehicule\", \"num_veh\"])).sum()"
   ]
  },
  {
   "cell_type": "code",
   "execution_count": 21,
   "metadata": {},
   "outputs": [
    {
     "data": {
      "text/plain": [
       "94493"
      ]
     },
     "execution_count": 21,
     "metadata": {},
     "output_type": "execute_result"
    }
   ],
   "source": [
    "(~df_vehicules_22.duplicated([\"Num_Acc\", \"id_vehicule\", \"num_veh\"])).sum()"
   ]
  },
  {
   "cell_type": "markdown",
   "metadata": {},
   "source": [
    "À présent, on peut procéder à la jointure à l'aide de `pd.merge`. On joint d'abord les bases `usagers` et `vehicules` sur `(Num_Acc, id_vehicule, num_veh)`, puis on joint également les bases `lieux` et `caracs` sur l'identifiant de l'accident, codé par `Num_Acc`."
   ]
  },
  {
   "cell_type": "code",
   "execution_count": 32,
   "metadata": {},
   "outputs": [
    {
     "data": {
      "text/html": [
       "<div>\n",
       "<style scoped>\n",
       "    .dataframe tbody tr th:only-of-type {\n",
       "        vertical-align: middle;\n",
       "    }\n",
       "\n",
       "    .dataframe tbody tr th {\n",
       "        vertical-align: top;\n",
       "    }\n",
       "\n",
       "    .dataframe thead th {\n",
       "        text-align: right;\n",
       "    }\n",
       "</style>\n",
       "<table border=\"1\" class=\"dataframe\">\n",
       "  <thead>\n",
       "    <tr style=\"text-align: right;\">\n",
       "      <th></th>\n",
       "      <th>Num_Acc</th>\n",
       "      <th>id_usager</th>\n",
       "      <th>id_vehicule</th>\n",
       "      <th>num_veh</th>\n",
       "      <th>place</th>\n",
       "      <th>catu</th>\n",
       "      <th>grav</th>\n",
       "      <th>sexe</th>\n",
       "      <th>an_nais</th>\n",
       "      <th>trajet</th>\n",
       "      <th>...</th>\n",
       "      <th>lum</th>\n",
       "      <th>dep</th>\n",
       "      <th>com</th>\n",
       "      <th>agg</th>\n",
       "      <th>int</th>\n",
       "      <th>atm</th>\n",
       "      <th>col</th>\n",
       "      <th>adr</th>\n",
       "      <th>lat</th>\n",
       "      <th>long</th>\n",
       "    </tr>\n",
       "  </thead>\n",
       "  <tbody>\n",
       "    <tr>\n",
       "      <th>0</th>\n",
       "      <td>202200000001</td>\n",
       "      <td>1 099 700</td>\n",
       "      <td>813 952</td>\n",
       "      <td>A01</td>\n",
       "      <td>1</td>\n",
       "      <td>1</td>\n",
       "      <td>3</td>\n",
       "      <td>1</td>\n",
       "      <td>2008.0</td>\n",
       "      <td>5</td>\n",
       "      <td>...</td>\n",
       "      <td>1</td>\n",
       "      <td>26</td>\n",
       "      <td>26198</td>\n",
       "      <td>2</td>\n",
       "      <td>3</td>\n",
       "      <td>1</td>\n",
       "      <td>3</td>\n",
       "      <td>TEIL(vieille route du)</td>\n",
       "      <td>44,5594200000</td>\n",
       "      <td>4,7257200000</td>\n",
       "    </tr>\n",
       "    <tr>\n",
       "      <th>1</th>\n",
       "      <td>202200000001</td>\n",
       "      <td>1 099 701</td>\n",
       "      <td>813 953</td>\n",
       "      <td>B01</td>\n",
       "      <td>1</td>\n",
       "      <td>1</td>\n",
       "      <td>1</td>\n",
       "      <td>1</td>\n",
       "      <td>1948.0</td>\n",
       "      <td>5</td>\n",
       "      <td>...</td>\n",
       "      <td>1</td>\n",
       "      <td>26</td>\n",
       "      <td>26198</td>\n",
       "      <td>2</td>\n",
       "      <td>3</td>\n",
       "      <td>1</td>\n",
       "      <td>3</td>\n",
       "      <td>TEIL(vieille route du)</td>\n",
       "      <td>44,5594200000</td>\n",
       "      <td>4,7257200000</td>\n",
       "    </tr>\n",
       "    <tr>\n",
       "      <th>2</th>\n",
       "      <td>202200000002</td>\n",
       "      <td>1 099 698</td>\n",
       "      <td>813 950</td>\n",
       "      <td>B01</td>\n",
       "      <td>1</td>\n",
       "      <td>1</td>\n",
       "      <td>4</td>\n",
       "      <td>1</td>\n",
       "      <td>1988.0</td>\n",
       "      <td>9</td>\n",
       "      <td>...</td>\n",
       "      <td>1</td>\n",
       "      <td>25</td>\n",
       "      <td>25204</td>\n",
       "      <td>2</td>\n",
       "      <td>3</td>\n",
       "      <td>1</td>\n",
       "      <td>3</td>\n",
       "      <td>Miranda</td>\n",
       "      <td>46,9258100000</td>\n",
       "      <td>6,3462000000</td>\n",
       "    </tr>\n",
       "    <tr>\n",
       "      <th>3</th>\n",
       "      <td>202200000002</td>\n",
       "      <td>1 099 699</td>\n",
       "      <td>813 951</td>\n",
       "      <td>A01</td>\n",
       "      <td>1</td>\n",
       "      <td>1</td>\n",
       "      <td>1</td>\n",
       "      <td>1</td>\n",
       "      <td>1970.0</td>\n",
       "      <td>4</td>\n",
       "      <td>...</td>\n",
       "      <td>1</td>\n",
       "      <td>25</td>\n",
       "      <td>25204</td>\n",
       "      <td>2</td>\n",
       "      <td>3</td>\n",
       "      <td>1</td>\n",
       "      <td>3</td>\n",
       "      <td>Miranda</td>\n",
       "      <td>46,9258100000</td>\n",
       "      <td>6,3462000000</td>\n",
       "    </tr>\n",
       "    <tr>\n",
       "      <th>4</th>\n",
       "      <td>202200000003</td>\n",
       "      <td>1 099 696</td>\n",
       "      <td>813 948</td>\n",
       "      <td>A01</td>\n",
       "      <td>1</td>\n",
       "      <td>1</td>\n",
       "      <td>1</td>\n",
       "      <td>1</td>\n",
       "      <td>2002.0</td>\n",
       "      <td>0</td>\n",
       "      <td>...</td>\n",
       "      <td>1</td>\n",
       "      <td>22</td>\n",
       "      <td>22360</td>\n",
       "      <td>2</td>\n",
       "      <td>6</td>\n",
       "      <td>1</td>\n",
       "      <td>2</td>\n",
       "      <td>ROND POINT DE BREZILLET</td>\n",
       "      <td>48,4931620000</td>\n",
       "      <td>-2,7604390000</td>\n",
       "    </tr>\n",
       "    <tr>\n",
       "      <th>...</th>\n",
       "      <td>...</td>\n",
       "      <td>...</td>\n",
       "      <td>...</td>\n",
       "      <td>...</td>\n",
       "      <td>...</td>\n",
       "      <td>...</td>\n",
       "      <td>...</td>\n",
       "      <td>...</td>\n",
       "      <td>...</td>\n",
       "      <td>...</td>\n",
       "      <td>...</td>\n",
       "      <td>...</td>\n",
       "      <td>...</td>\n",
       "      <td>...</td>\n",
       "      <td>...</td>\n",
       "      <td>...</td>\n",
       "      <td>...</td>\n",
       "      <td>...</td>\n",
       "      <td>...</td>\n",
       "      <td>...</td>\n",
       "      <td>...</td>\n",
       "    </tr>\n",
       "    <tr>\n",
       "      <th>126657</th>\n",
       "      <td>202200055301</td>\n",
       "      <td>968 230</td>\n",
       "      <td>715 631</td>\n",
       "      <td>A01</td>\n",
       "      <td>1</td>\n",
       "      <td>1</td>\n",
       "      <td>1</td>\n",
       "      <td>2</td>\n",
       "      <td>2002.0</td>\n",
       "      <td>5</td>\n",
       "      <td>...</td>\n",
       "      <td>1</td>\n",
       "      <td>81</td>\n",
       "      <td>81099</td>\n",
       "      <td>1</td>\n",
       "      <td>3</td>\n",
       "      <td>1</td>\n",
       "      <td>3</td>\n",
       "      <td>Chemin Toulze</td>\n",
       "      <td>43,9272650000</td>\n",
       "      <td>1,9156370000</td>\n",
       "    </tr>\n",
       "    <tr>\n",
       "      <th>126658</th>\n",
       "      <td>202200055301</td>\n",
       "      <td>968 231</td>\n",
       "      <td>715 631</td>\n",
       "      <td>A01</td>\n",
       "      <td>8</td>\n",
       "      <td>2</td>\n",
       "      <td>3</td>\n",
       "      <td>2</td>\n",
       "      <td>2004.0</td>\n",
       "      <td>5</td>\n",
       "      <td>...</td>\n",
       "      <td>1</td>\n",
       "      <td>81</td>\n",
       "      <td>81099</td>\n",
       "      <td>1</td>\n",
       "      <td>3</td>\n",
       "      <td>1</td>\n",
       "      <td>3</td>\n",
       "      <td>Chemin Toulze</td>\n",
       "      <td>43,9272650000</td>\n",
       "      <td>1,9156370000</td>\n",
       "    </tr>\n",
       "    <tr>\n",
       "      <th>126659</th>\n",
       "      <td>202200055301</td>\n",
       "      <td>968 232</td>\n",
       "      <td>715 632</td>\n",
       "      <td>B01</td>\n",
       "      <td>1</td>\n",
       "      <td>1</td>\n",
       "      <td>4</td>\n",
       "      <td>2</td>\n",
       "      <td>1953.0</td>\n",
       "      <td>5</td>\n",
       "      <td>...</td>\n",
       "      <td>1</td>\n",
       "      <td>81</td>\n",
       "      <td>81099</td>\n",
       "      <td>1</td>\n",
       "      <td>3</td>\n",
       "      <td>1</td>\n",
       "      <td>3</td>\n",
       "      <td>Chemin Toulze</td>\n",
       "      <td>43,9272650000</td>\n",
       "      <td>1,9156370000</td>\n",
       "    </tr>\n",
       "    <tr>\n",
       "      <th>126660</th>\n",
       "      <td>202200055302</td>\n",
       "      <td>968 228</td>\n",
       "      <td>715 629</td>\n",
       "      <td>A01</td>\n",
       "      <td>1</td>\n",
       "      <td>1</td>\n",
       "      <td>3</td>\n",
       "      <td>1</td>\n",
       "      <td>1992.0</td>\n",
       "      <td>1</td>\n",
       "      <td>...</td>\n",
       "      <td>1</td>\n",
       "      <td>41</td>\n",
       "      <td>41018</td>\n",
       "      <td>2</td>\n",
       "      <td>1</td>\n",
       "      <td>1</td>\n",
       "      <td>2</td>\n",
       "      <td>RD956 - Pont Charles De Gaulle</td>\n",
       "      <td>47,5944040000</td>\n",
       "      <td>1,3533290000</td>\n",
       "    </tr>\n",
       "    <tr>\n",
       "      <th>126661</th>\n",
       "      <td>202200055302</td>\n",
       "      <td>968 229</td>\n",
       "      <td>715 630</td>\n",
       "      <td>B01</td>\n",
       "      <td>1</td>\n",
       "      <td>1</td>\n",
       "      <td>1</td>\n",
       "      <td>1</td>\n",
       "      <td>2000.0</td>\n",
       "      <td>-1</td>\n",
       "      <td>...</td>\n",
       "      <td>1</td>\n",
       "      <td>41</td>\n",
       "      <td>41018</td>\n",
       "      <td>2</td>\n",
       "      <td>1</td>\n",
       "      <td>1</td>\n",
       "      <td>2</td>\n",
       "      <td>RD956 - Pont Charles De Gaulle</td>\n",
       "      <td>47,5944040000</td>\n",
       "      <td>1,3533290000</td>\n",
       "    </tr>\n",
       "  </tbody>\n",
       "</table>\n",
       "<p>126662 rows × 55 columns</p>\n",
       "</div>"
      ],
      "text/plain": [
       "             Num_Acc  id_usager id_vehicule num_veh  place  catu  grav  sexe  \\\n",
       "0       202200000001  1 099 700     813 952     A01      1     1     3     1   \n",
       "1       202200000001  1 099 701     813 953     B01      1     1     1     1   \n",
       "2       202200000002  1 099 698     813 950     B01      1     1     4     1   \n",
       "3       202200000002  1 099 699     813 951     A01      1     1     1     1   \n",
       "4       202200000003  1 099 696     813 948     A01      1     1     1     1   \n",
       "...              ...        ...         ...     ...    ...   ...   ...   ...   \n",
       "126657  202200055301    968 230     715 631     A01      1     1     1     2   \n",
       "126658  202200055301    968 231     715 631     A01      8     2     3     2   \n",
       "126659  202200055301    968 232     715 632     B01      1     1     4     2   \n",
       "126660  202200055302    968 228     715 629     A01      1     1     3     1   \n",
       "126661  202200055302    968 229     715 630     B01      1     1     1     1   \n",
       "\n",
       "        an_nais  trajet  ...  lum  dep    com  agg int  atm  col  \\\n",
       "0        2008.0       5  ...    1   26  26198    2   3    1    3   \n",
       "1        1948.0       5  ...    1   26  26198    2   3    1    3   \n",
       "2        1988.0       9  ...    1   25  25204    2   3    1    3   \n",
       "3        1970.0       4  ...    1   25  25204    2   3    1    3   \n",
       "4        2002.0       0  ...    1   22  22360    2   6    1    2   \n",
       "...         ...     ...  ...  ...  ...    ...  ...  ..  ...  ...   \n",
       "126657   2002.0       5  ...    1   81  81099    1   3    1    3   \n",
       "126658   2004.0       5  ...    1   81  81099    1   3    1    3   \n",
       "126659   1953.0       5  ...    1   81  81099    1   3    1    3   \n",
       "126660   1992.0       1  ...    1   41  41018    2   1    1    2   \n",
       "126661   2000.0      -1  ...    1   41  41018    2   1    1    2   \n",
       "\n",
       "                                   adr            lat            long  \n",
       "0               TEIL(vieille route du)  44,5594200000    4,7257200000  \n",
       "1               TEIL(vieille route du)  44,5594200000    4,7257200000  \n",
       "2                              Miranda  46,9258100000    6,3462000000  \n",
       "3                              Miranda  46,9258100000    6,3462000000  \n",
       "4              ROND POINT DE BREZILLET  48,4931620000   -2,7604390000  \n",
       "...                                ...            ...             ...  \n",
       "126657                   Chemin Toulze  43,9272650000    1,9156370000  \n",
       "126658                   Chemin Toulze  43,9272650000    1,9156370000  \n",
       "126659                   Chemin Toulze  43,9272650000    1,9156370000  \n",
       "126660  RD956 - Pont Charles De Gaulle  47,5944040000    1,3533290000  \n",
       "126661  RD956 - Pont Charles De Gaulle  47,5944040000    1,3533290000  \n",
       "\n",
       "[126662 rows x 55 columns]"
      ]
     },
     "execution_count": 32,
     "metadata": {},
     "output_type": "execute_result"
    }
   ],
   "source": [
    "pd.merge(pd.merge(pd.merge(df_usagers_22, df_vehicules_22, on=[\"Num_Acc\", \"id_vehicule\", \"num_veh\"]), \\\n",
    "    df_lieux_22, on=\"Num_Acc\"), df_caracs_22, on=\"Num_Acc\")\n"
   ]
  },
  {
   "cell_type": "markdown",
   "metadata": {},
   "source": [
    "On retombe bien sur un total de 126 662 observations, soit la longueur de la base usagers."
   ]
  }
 ],
 "metadata": {
  "kernelspec": {
   "display_name": "base",
   "language": "python",
   "name": "python3"
  },
  "language_info": {
   "codemirror_mode": {
    "name": "ipython",
    "version": 3
   },
   "file_extension": ".py",
   "mimetype": "text/x-python",
   "name": "python",
   "nbconvert_exporter": "python",
   "pygments_lexer": "ipython3",
   "version": "3.9.7"
  }
 },
 "nbformat": 4,
 "nbformat_minor": 2
}
