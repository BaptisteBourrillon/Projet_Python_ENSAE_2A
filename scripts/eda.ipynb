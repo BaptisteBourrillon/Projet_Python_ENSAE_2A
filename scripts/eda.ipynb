{
 "cells": [
  {
   "cell_type": "markdown",
   "metadata": {},
   "source": [
    "# Exploratory Data Analysis\n",
    "\n",
    "- [Accéder aux bases](https://www.data.gouv.fr/fr/datasets/bases-de-donnees-annuelles-des-accidents-corporels-de-la-circulation-routiere-annees-de-2005-a-2021/)\n",
    "- [Accéder à la documentation](https://www.data.gouv.fr/fr/datasets/r/8ef4c2a3-91a0-4d98-ae3a-989bde87b62a)"
   ]
  },
  {
   "cell_type": "markdown",
   "metadata": {},
   "source": [
    "# Objectifs : prédire la gravité d'un accident\n",
    "\n",
    "La gravité d'un accident est codée par la variable `grav`, présente (uniquement) dans la base _usagers_, qui peut prendre les valeurs suivantes :\n",
    "- 1 : indemne ;\n",
    "- 2 : tué ;\n",
    "- 3 : blessé hospitalisé ;\n",
    "- 4 : blessé léger."
   ]
  },
  {
   "cell_type": "markdown",
   "metadata": {},
   "source": [
    "On charge dans un premier temps tous les packages nécessaires."
   ]
  },
  {
   "cell_type": "code",
   "execution_count": 1,
   "metadata": {},
   "outputs": [],
   "source": [
    "import numpy as np\n",
    "import pandas as pd\n",
    "import matplotlib.pyplot as plt\n",
    "import seaborn as sns"
   ]
  },
  {
   "cell_type": "markdown",
   "metadata": {},
   "source": [
    "Sur data.gouv, quatre bases de données sont publiées annuellement. Elles concernent : les usages, les véhicules, les lieux et les caractéristiques. Nous chargeons ci-dessous les quatre bases de 2021 (les plus récentes)."
   ]
  },
  {
   "cell_type": "code",
   "execution_count": 2,
   "metadata": {},
   "outputs": [
    {
     "name": "stderr",
     "output_type": "stream",
     "text": [
      "c:\\Users\\nahta\\anaconda3\\lib\\site-packages\\IPython\\core\\interactiveshell.py:3444: DtypeWarning: Columns (6) have mixed types.Specify dtype option on import or set low_memory=False.\n",
      "  exec(code_obj, self.user_global_ns, self.user_ns)\n"
     ]
    }
   ],
   "source": [
    "df_usagers_21 = pd.read_csv(\"https://www.data.gouv.fr/fr/datasets/r/62c20524-d442-46f5-bfd8-982c59763ec8\", sep=\";\")\n",
    "df_vehicules_22 = pd.read_csv(\"https://www.data.gouv.fr/fr/datasets/r/c9742921-4427-41e5-81bc-f13af8bc31a0\", sep=\";\")\n",
    "df_lieux_22 = pd.read_csv(\"https://www.data.gouv.fr/fr/datasets/r/a6ef711a-1f03-44cb-921a-0ce8ec975995\", sep=\";\")\n",
    "df_caracs_22 = pd.read_csv(\"https://www.data.gouv.fr/fr/datasets/r/5fc299c0-4598-4c29-b74c-6a67b0cc27e7\", sep=\";\")\n",
    "\n",
    "df_usagers_21 = pd.read_csv(\"https://www.data.gouv.fr/fr/datasets/r/ba5a1956-7e82-41b7-a602-89d7dd484d7a\", sep=\";\")\n",
    "df_vehicules_21 = pd.read_csv(\"https://www.data.gouv.fr/fr/datasets/r/0bb5953a-25d8-46f8-8c25-b5c2f5ba905e\", sep=\";\")\n",
    "df_lieux_21 = pd.read_csv(\"https://www.data.gouv.fr/fr/datasets/r/8a4935aa-38cd-43af-bf10-0209d6d17434\", sep=\";\")\n",
    "df_caracs_21 = pd.read_csv(\"https://www.data.gouv.fr/fr/datasets/r/85cfdc0c-23e4-4674-9bcd-79a970d7269b\", sep=\";\")"
   ]
  },
  {
   "cell_type": "code",
   "execution_count": 4,
   "metadata": {},
   "outputs": [],
   "source": [
    "from data_cleaning import *"
   ]
  },
  {
   "cell_type": "code",
   "execution_count": 5,
   "metadata": {},
   "outputs": [],
   "source": [
    "df_usagers_22 = clean_df_usagers(df_usagers_22)\n",
    "df_vehicules_22 = clean_df_vehicules(df_vehicules_22)\n",
    "df_lieux_22 = clean_df_lieux(df_lieux_22)\n",
    "df_caracs_22 = clean_df_caracs(df_caracs_22)\n",
    "\n",
    "df_usagers_21 = clean_df_usagers(df_usagers_21)\n",
    "df_vehicules_21 = clean_df_vehicules(df_vehicules_21)\n",
    "df_lieux_21 = clean_df_lieux(df_lieux_21)\n",
    "df_caracs_21 = clean_df_caracs(df_caracs_21)"
   ]
  },
  {
   "cell_type": "markdown",
   "metadata": {},
   "source": [
    "# Jointure"
   ]
  },
  {
   "cell_type": "markdown",
   "metadata": {},
   "source": [
    "On s'assure qu'on a bien autant d'observations dont le triplet `(Num_Acc, id_vehicule, num_veh)` est unique dans les bases `usagers` et `véhicules`."
   ]
  },
  {
   "cell_type": "code",
   "execution_count": 6,
   "metadata": {},
   "outputs": [
    {
     "data": {
      "text/plain": [
       "94493"
      ]
     },
     "execution_count": 6,
     "metadata": {},
     "output_type": "execute_result"
    }
   ],
   "source": [
    "(~df_usagers_22.duplicated([\"Num_Acc\", \"id_vehicule\", \"num_veh\"])).sum()"
   ]
  },
  {
   "cell_type": "code",
   "execution_count": 7,
   "metadata": {},
   "outputs": [
    {
     "data": {
      "text/plain": [
       "94493"
      ]
     },
     "execution_count": 7,
     "metadata": {},
     "output_type": "execute_result"
    }
   ],
   "source": [
    "(~df_vehicules_22.duplicated([\"Num_Acc\", \"id_vehicule\", \"num_veh\"])).sum()"
   ]
  },
  {
   "cell_type": "markdown",
   "metadata": {},
   "source": [
    "À présent, on peut procéder à la jointure à l'aide de `pd.merge`. On joint d'abord les bases `usagers` et `vehicules` sur `(Num_Acc, id_vehicule, num_veh)`, puis on joint également les bases `lieux` et `caracs` sur l'identifiant de l'accident, codé par `Num_Acc`."
   ]
  },
  {
   "cell_type": "code",
   "execution_count": 8,
   "metadata": {},
   "outputs": [],
   "source": [
    "df_merged_22 = pd.merge(pd.merge(pd.merge(df_usagers_22, df_vehicules_22, on=[\"Num_Acc\", \"id_vehicule\", \"num_veh\"]), \\\n",
    "    df_lieux_22, on=\"Num_Acc\"), df_caracs_22, on=\"Num_Acc\")"
   ]
  },
  {
   "cell_type": "markdown",
   "metadata": {},
   "source": [
    "On fait de même pour les autres années (2021)."
   ]
  },
  {
   "cell_type": "code",
   "execution_count": 9,
   "metadata": {},
   "outputs": [],
   "source": [
    "df_merged_21 = pd.merge(pd.merge(pd.merge(df_usagers_21, df_vehicules_21, on=[\"Num_Acc\", \"id_vehicule\", \"num_veh\"]), \\\n",
    "    df_lieux_21, on=\"Num_Acc\"), df_caracs_21, on=\"Num_Acc\")"
   ]
  },
  {
   "cell_type": "code",
   "execution_count": 11,
   "metadata": {},
   "outputs": [],
   "source": [
    "df_merged = pd.concat([df_merged_21, df_merged_22], ignore_index=True)"
   ]
  },
  {
   "cell_type": "code",
   "execution_count": 13,
   "metadata": {},
   "outputs": [
    {
     "name": "stdout",
     "output_type": "stream",
     "text": [
      "<class 'pandas.core.frame.DataFrame'>\n",
      "RangeIndex: 255910 entries, 0 to 255909\n",
      "Data columns (total 56 columns):\n",
      " #   Column       Non-Null Count   Dtype  \n",
      "---  ------       --------------   -----  \n",
      " 0   Num_Acc      255910 non-null  int64  \n",
      " 1   id_usager    255910 non-null  object \n",
      " 2   id_vehicule  255910 non-null  object \n",
      " 3   num_veh      255910 non-null  object \n",
      " 4   place        255910 non-null  int64  \n",
      " 5   catu         255910 non-null  object \n",
      " 6   grav         255910 non-null  int64  \n",
      " 7   sexe         250104 non-null  object \n",
      " 8   an_nais      249969 non-null  float64\n",
      " 9   trajet       184462 non-null  object \n",
      " 10  secu1        255910 non-null  int64  \n",
      " 11  secu2        255910 non-null  int64  \n",
      " 12  secu3        255910 non-null  int64  \n",
      " 13  locp         255910 non-null  int64  \n",
      " 14  actp         131045 non-null  object \n",
      " 15  etatp        255910 non-null  object \n",
      " 16  senc         254999 non-null  float64\n",
      " 17  catv         255219 non-null  float64\n",
      " 18  obs          255792 non-null  float64\n",
      " 19  obsm         255804 non-null  float64\n",
      " 20  choc         255769 non-null  float64\n",
      " 21  manv         240636 non-null  float64\n",
      " 22  motor        244311 non-null  float64\n",
      " 23  occutc       3150 non-null    float64\n",
      " 24  catr         255910 non-null  object \n",
      " 25  voie         236813 non-null  object \n",
      " 26  v1           255910 non-null  int64  \n",
      " 27  v2           23171 non-null   object \n",
      " 28  circ         241844 non-null  object \n",
      " 29  nbv          248295 non-null  float64\n",
      " 30  vosp         29639 non-null   object \n",
      " 31  prof         255910 non-null  int64  \n",
      " 32  pr           255910 non-null  object \n",
      " 33  pr1          255910 non-null  object \n",
      " 34  plan         255874 non-null  object \n",
      " 35  lartpc       309 non-null     object \n",
      " 36  larrout      255910 non-null  object \n",
      " 37  surf         255868 non-null  object \n",
      " 38  infra        38615 non-null   object \n",
      " 39  situ         255879 non-null  object \n",
      " 40  vma          252092 non-null  float64\n",
      " 41  jour         255910 non-null  int64  \n",
      " 42  mois         255910 non-null  int64  \n",
      " 43  an           255910 non-null  int64  \n",
      " 44  hrmn         255910 non-null  object \n",
      " 45  lum          255906 non-null  float64\n",
      " 46  dep          255910 non-null  object \n",
      " 47  com          255910 non-null  object \n",
      " 48  agg          255910 non-null  object \n",
      " 49  int          255891 non-null  float64\n",
      " 50  atm          255893 non-null  float64\n",
      " 51  col          255744 non-null  float64\n",
      " 52  adr          251670 non-null  object \n",
      " 53  lat          255910 non-null  float64\n",
      " 54  long         255909 non-null  float64\n",
      " 55  heure        255910 non-null  object \n",
      "dtypes: float64(17), int64(12), object(27)\n",
      "memory usage: 109.3+ MB\n"
     ]
    }
   ],
   "source": [
    "df_merged.info()"
   ]
  },
  {
   "cell_type": "markdown",
   "metadata": {},
   "source": [
    "On retombe bien sur un total de 126 662 observations, soit la longueur de la base usagers."
   ]
  },
  {
   "cell_type": "markdown",
   "metadata": {},
   "source": [
    "# Nettoyages"
   ]
  },
  {
   "cell_type": "code",
   "execution_count": 14,
   "metadata": {},
   "outputs": [],
   "source": [
    "df_merged[\"grav\"].replace({2: 4, 4: 2}, inplace=True)"
   ]
  },
  {
   "cell_type": "markdown",
   "metadata": {},
   "source": [
    "Eliminons d'emblée certaines variables qui ne serviront pas au modèle de prédiction de la gravité."
   ]
  },
  {
   "cell_type": "code",
   "execution_count": 15,
   "metadata": {},
   "outputs": [],
   "source": [
    "df_merged.drop([\"Num_Acc\", \"id_usager\", \"id_vehicule\", \"num_veh\", \"voie\", \"v1\", \"v2\"], axis=1, inplace=True)"
   ]
  },
  {
   "cell_type": "markdown",
   "metadata": {},
   "source": [
    "**[WARNING : pas forcément une bonne idée car `catu` est parfois peut-être plus pertinent que `place`]**\n",
    "On élimine également la variable `catu` qui posera des problèmes de colinéarité, car son information est redondante par rapport à la variable `place`."
   ]
  },
  {
   "cell_type": "code",
   "execution_count": 16,
   "metadata": {},
   "outputs": [],
   "source": [
    "df_merged.drop(\"catu\", axis=1, inplace=True)"
   ]
  },
  {
   "cell_type": "code",
   "execution_count": 17,
   "metadata": {},
   "outputs": [
    {
     "data": {
      "text/plain": [
       "Index(['place', 'grav', 'sexe', 'an_nais', 'trajet', 'secu1', 'secu2', 'secu3',\n",
       "       'locp', 'actp', 'etatp', 'senc', 'catv', 'obs', 'obsm', 'choc', 'manv',\n",
       "       'motor', 'occutc', 'catr', 'circ', 'nbv', 'vosp', 'prof', 'pr', 'pr1',\n",
       "       'plan', 'lartpc', 'larrout', 'surf', 'infra', 'situ', 'vma', 'jour',\n",
       "       'mois', 'an', 'hrmn', 'lum', 'dep', 'com', 'agg', 'int', 'atm', 'col',\n",
       "       'adr', 'lat', 'long', 'heure'],\n",
       "      dtype='object')"
      ]
     },
     "execution_count": 17,
     "metadata": {},
     "output_type": "execute_result"
    }
   ],
   "source": [
    "df_merged.columns"
   ]
  },
  {
   "cell_type": "markdown",
   "metadata": {},
   "source": [
    "Description des variables\n",
    "- `place` : place occupée dans le véhicule par l'usager au moment de l'accident ; 1 conducteur, 10 piéton\n",
    "- `sexe` : sexe de l'usager\n",
    "- `an_nais` : année de naissance de l'usager\n",
    "- `trajet` : motif du déplacement au moment de l'accident\n",
    "- `secu` : présence et utilisation de tel équipement de sécurité\n",
    "- `locp` : localisation du piéton\n",
    "- `actp` : action du piéton\n",
    "- `etatp` : piéton seul, accompagné ou en groupe\n",
    "- `senc` : sens de circulation\n",
    "- `catv` : catégorie du véhicule\n",
    "- `obs` : obstacle fixe heurté\n",
    "- `obsm` : obstacle mobile heurté\n",
    "- `choc` : point de choc initial"
   ]
  },
  {
   "cell_type": "markdown",
   "metadata": {},
   "source": [
    "# Statistiques descriptives"
   ]
  },
  {
   "cell_type": "markdown",
   "metadata": {},
   "source": [
    "### Variable `agg`\n",
    "\n",
    "On constate que\n",
    "- la majorité des accidents de gravité 1 et 2 ont lieu en agglomération ;\n",
    "- la majorité des accidents de gravité 3 et 4 ont lieu hors agglomération."
   ]
  },
  {
   "cell_type": "code",
   "execution_count": 18,
   "metadata": {},
   "outputs": [
    {
     "data": {
      "text/plain": [
       "<AxesSubplot:xlabel='agg', ylabel='count'>"
      ]
     },
     "execution_count": 18,
     "metadata": {},
     "output_type": "execute_result"
    },
    {
     "data": {
      "image/png": "[encoded data removed]",
      "text/plain": [
       "<Figure size 432x288 with 1 Axes>"
      ]
     },
     "metadata": {
      "needs_background": "light"
     },
     "output_type": "display_data"
    }
   ],
   "source": [
    "sns.countplot(data=df_merged, x=\"agg\")"
   ]
  },
  {
   "cell_type": "code",
   "execution_count": 23,
   "metadata": {},
   "outputs": [
    {
     "data": {
      "text/plain": [
       "<AxesSubplot:xlabel='agg', ylabel='proportion'>"
      ]
     },
     "execution_count": 23,
     "metadata": {},
     "output_type": "execute_result"
    },
    {
     "data": {
      "image/png": "[encoded data removed]",
      "text/plain": [
       "<Figure size 432x288 with 1 Axes>"
      ]
     },
     "metadata": {
      "needs_background": "light"
     },
     "output_type": "display_data"
    }
   ],
   "source": [
    "proportions = df_merged.groupby('agg')['grav'].value_counts(normalize=True).rename('proportion').reset_index()\n",
    "sns.barplot(x='agg', y='proportion', hue='grav', data=proportions)"
   ]
  },
  {
   "cell_type": "markdown",
   "metadata": {},
   "source": [
    "### Variable `place`"
   ]
  },
  {
   "cell_type": "code",
   "execution_count": 20,
   "metadata": {},
   "outputs": [
    {
     "data": {
      "text/plain": [
       "<AxesSubplot:xlabel='place', ylabel='count'>"
      ]
     },
     "execution_count": 20,
     "metadata": {},
     "output_type": "execute_result"
    },
    {
     "data": {
      "image/png": "[encoded data removed]",
      "text/plain": [
       "<Figure size 432x288 with 1 Axes>"
      ]
     },
     "metadata": {
      "needs_background": "light"
     },
     "output_type": "display_data"
    }
   ],
   "source": [
    "sns.countplot(data=df_merged, x=\"place\")"
   ]
  },
  {
   "cell_type": "code",
   "execution_count": 21,
   "metadata": {},
   "outputs": [
    {
     "data": {
      "text/plain": [
       "<AxesSubplot:xlabel='place', ylabel='proportion'>"
      ]
     },
     "execution_count": 21,
     "metadata": {},
     "output_type": "execute_result"
    },
    {
     "data": {
      "image/png": "[encoded data removed]",
      "text/plain": [
       "<Figure size 432x288 with 1 Axes>"
      ]
     },
     "metadata": {
      "needs_background": "light"
     },
     "output_type": "display_data"
    }
   ],
   "source": [
    "var = \"place\"\n",
    "proportions = df_merged.groupby(var)['grav'].value_counts(normalize=True).rename('proportion').reset_index()\n",
    "sns.barplot(x=var, y='proportion', hue='grav', data=proportions)"
   ]
  },
  {
   "cell_type": "markdown",
   "metadata": {},
   "source": [
    "### Variable `catu`"
   ]
  },
  {
   "cell_type": "code",
   "execution_count": 117,
   "metadata": {},
   "outputs": [
    {
     "data": {
      "image/png": "[encoded data removed]",
      "text/plain": [
       "<Figure size 432x288 with 1 Axes>"
      ]
     },
     "metadata": {
      "needs_background": "light"
     },
     "output_type": "display_data"
    }
   ],
   "source": [
    "var = \"catu\"\n",
    "sns.countplot(data=df_merged, x=var, order=df_merged[var].value_counts().index)\n",
    "plt.xticks(rotation=45, ha='right')\n",
    "plt.show()"
   ]
  },
  {
   "cell_type": "code",
   "execution_count": 118,
   "metadata": {},
   "outputs": [
    {
     "data": {
      "image/png": "[encoded data removed]",
      "text/plain": [
       "<Figure size 432x288 with 1 Axes>"
      ]
     },
     "metadata": {
      "needs_background": "light"
     },
     "output_type": "display_data"
    }
   ],
   "source": [
    "var = \"catu\"\n",
    "proportions = df_merged.groupby(var)['grav'].value_counts(normalize=True).rename('proportion').reset_index()\n",
    "sns.barplot(x=var, y='proportion', hue='grav', data=proportions, order=df_merged[var].value_counts().index)\n",
    "plt.xticks(rotation=45, ha='right')\n",
    "plt.show()"
   ]
  },
  {
   "cell_type": "markdown",
   "metadata": {},
   "source": [
    "### Variable `sexe`"
   ]
  },
  {
   "cell_type": "code",
   "execution_count": 119,
   "metadata": {},
   "outputs": [
    {
     "data": {
      "text/plain": [
       "<AxesSubplot:xlabel='sexe', ylabel='count'>"
      ]
     },
     "execution_count": 119,
     "metadata": {},
     "output_type": "execute_result"
    },
    {
     "data": {
      "image/png": "[encoded data removed]",
      "text/plain": [
       "<Figure size 432x288 with 1 Axes>"
      ]
     },
     "metadata": {
      "needs_background": "light"
     },
     "output_type": "display_data"
    }
   ],
   "source": [
    "sns.countplot(data=df_merged, x=\"sexe\")"
   ]
  },
  {
   "cell_type": "code",
   "execution_count": 157,
   "metadata": {},
   "outputs": [
    {
     "data": {
      "image/png": "[encoded data removed]",
      "text/plain": [
       "<Figure size 432x288 with 1 Axes>"
      ]
     },
     "metadata": {
      "needs_background": "light"
     },
     "output_type": "display_data"
    }
   ],
   "source": [
    "var = \"sexe\"\n",
    "proportions = df_merged.groupby(var)['grav'].value_counts(normalize=True).rename('proportion').reset_index()\n",
    "sns.barplot(x=var, y='proportion', hue='grav', data=proportions, order=df_merged[var].value_counts().index)\n",
    "plt.xticks(rotation=45, ha='right')\n",
    "plt.show()"
   ]
  },
  {
   "cell_type": "markdown",
   "metadata": {},
   "source": [
    "### Variable `an_nais` (année de naissance)"
   ]
  },
  {
   "cell_type": "code",
   "execution_count": 156,
   "metadata": {},
   "outputs": [
    {
     "data": {
      "image/png": "[encoded data removed]",
      "text/plain": [
       "<Figure size 432x288 with 1 Axes>"
      ]
     },
     "metadata": {
      "needs_background": "light"
     },
     "output_type": "display_data"
    }
   ],
   "source": [
    "var = \"an_nais\"\n",
    "proportions = df_merged.groupby(var)['grav'].value_counts(normalize=True).rename('proportion').reset_index()\n",
    "sns.scatterplot(data=proportions, x=var, y='proportion', hue='grav', palette='viridis')\n",
    "plt.title('Scatter plot pour an_nais et grav')\n",
    "plt.show()"
   ]
  },
  {
   "cell_type": "markdown",
   "metadata": {},
   "source": [
    "### Variable `nbv`"
   ]
  },
  {
   "cell_type": "code",
   "execution_count": 122,
   "metadata": {},
   "outputs": [
    {
     "data": {
      "text/plain": [
       "<AxesSubplot:xlabel='nbv', ylabel='count'>"
      ]
     },
     "execution_count": 122,
     "metadata": {},
     "output_type": "execute_result"
    },
    {
     "data": {
      "image/png": "[encoded data removed]",
      "text/plain": [
       "<Figure size 432x288 with 1 Axes>"
      ]
     },
     "metadata": {
      "needs_background": "light"
     },
     "output_type": "display_data"
    }
   ],
   "source": [
    "sns.countplot(data=df_merged, x=\"nbv\")"
   ]
  },
  {
   "cell_type": "code",
   "execution_count": 123,
   "metadata": {},
   "outputs": [
    {
     "data": {
      "text/plain": [
       "<AxesSubplot:xlabel='nbv', ylabel='proportion'>"
      ]
     },
     "execution_count": 123,
     "metadata": {},
     "output_type": "execute_result"
    },
    {
     "data": {
      "image/png": "[encoded data removed]",
      "text/plain": [
       "<Figure size 432x288 with 1 Axes>"
      ]
     },
     "metadata": {
      "needs_background": "light"
     },
     "output_type": "display_data"
    }
   ],
   "source": [
    "var = \"nbv\"\n",
    "proportions = df_merged.groupby(var)['grav'].value_counts(normalize=True).rename('proportion').reset_index()\n",
    "sns.barplot(x=var, y='proportion', hue='grav', data=proportions)"
   ]
  },
  {
   "cell_type": "markdown",
   "metadata": {},
   "source": [
    "### Variable `trajet`"
   ]
  },
  {
   "cell_type": "code",
   "execution_count": 124,
   "metadata": {},
   "outputs": [
    {
     "data": {
      "image/png": "[encoded data removed]",
      "text/plain": [
       "<Figure size 432x288 with 1 Axes>"
      ]
     },
     "metadata": {
      "needs_background": "light"
     },
     "output_type": "display_data"
    }
   ],
   "source": [
    "sns.countplot(data=df_merged, x=\"trajet\")\n",
    "plt.xticks(rotation=45, ha='right')\n",
    "plt.show()"
   ]
  },
  {
   "cell_type": "code",
   "execution_count": 125,
   "metadata": {},
   "outputs": [
    {
     "data": {
      "image/png": "[encoded data removed]",
      "text/plain": [
       "<Figure size 432x288 with 1 Axes>"
      ]
     },
     "metadata": {
      "needs_background": "light"
     },
     "output_type": "display_data"
    }
   ],
   "source": [
    "var = \"trajet\"\n",
    "proportions = df_merged.groupby(var)['grav'].value_counts(normalize=True).rename('proportion').reset_index()\n",
    "sns.barplot(x=var, y='proportion', hue='grav', data=proportions)\n",
    "plt.xticks(rotation=45, ha='right')\n",
    "plt.show()"
   ]
  },
  {
   "cell_type": "markdown",
   "metadata": {},
   "source": [
    "### Variable `choc`"
   ]
  },
  {
   "cell_type": "code",
   "execution_count": 126,
   "metadata": {},
   "outputs": [
    {
     "data": {
      "text/plain": [
       "<AxesSubplot:xlabel='choc', ylabel='count'>"
      ]
     },
     "execution_count": 126,
     "metadata": {},
     "output_type": "execute_result"
    },
    {
     "data": {
      "image/png": "[encoded data removed]",
      "text/plain": [
       "<Figure size 432x288 with 1 Axes>"
      ]
     },
     "metadata": {
      "needs_background": "light"
     },
     "output_type": "display_data"
    }
   ],
   "source": [
    "sns.countplot(data=df_merged, x=\"choc\")"
   ]
  },
  {
   "cell_type": "code",
   "execution_count": 127,
   "metadata": {},
   "outputs": [
    {
     "data": {
      "text/plain": [
       "<AxesSubplot:xlabel='choc', ylabel='proportion'>"
      ]
     },
     "execution_count": 127,
     "metadata": {},
     "output_type": "execute_result"
    },
    {
     "data": {
      "image/png": "[encoded data removed]",
      "text/plain": [
       "<Figure size 432x288 with 1 Axes>"
      ]
     },
     "metadata": {
      "needs_background": "light"
     },
     "output_type": "display_data"
    }
   ],
   "source": [
    "var = \"choc\"\n",
    "proportions = df_merged.groupby(var)['grav'].value_counts(normalize=True).rename('proportion').reset_index()\n",
    "sns.barplot(x=var, y='proportion', hue='grav', data=proportions)"
   ]
  },
  {
   "cell_type": "markdown",
   "metadata": {},
   "source": [
    "### Variable `lum`"
   ]
  },
  {
   "cell_type": "code",
   "execution_count": 128,
   "metadata": {},
   "outputs": [
    {
     "data": {
      "text/plain": [
       "<AxesSubplot:xlabel='lum', ylabel='count'>"
      ]
     },
     "execution_count": 128,
     "metadata": {},
     "output_type": "execute_result"
    },
    {
     "data": {
      "image/png": "[encoded data removed]",
      "text/plain": [
       "<Figure size 432x288 with 1 Axes>"
      ]
     },
     "metadata": {
      "needs_background": "light"
     },
     "output_type": "display_data"
    }
   ],
   "source": [
    "sns.countplot(data=df_merged, x=\"lum\")"
   ]
  },
  {
   "cell_type": "code",
   "execution_count": 129,
   "metadata": {},
   "outputs": [
    {
     "data": {
      "text/plain": [
       "<AxesSubplot:xlabel='lum', ylabel='proportion'>"
      ]
     },
     "execution_count": 129,
     "metadata": {},
     "output_type": "execute_result"
    },
    {
     "data": {
      "image/png": "[encoded data removed]",
      "text/plain": [
       "<Figure size 432x288 with 1 Axes>"
      ]
     },
     "metadata": {
      "needs_background": "light"
     },
     "output_type": "display_data"
    }
   ],
   "source": [
    "var = \"lum\"\n",
    "proportions = df_merged.groupby(var)['grav'].value_counts(normalize=True).rename('proportion').reset_index()\n",
    "sns.barplot(x=var, y='proportion', hue='grav', data=proportions)"
   ]
  },
  {
   "cell_type": "markdown",
   "metadata": {},
   "source": [
    "### Variable `surf` (surface)"
   ]
  },
  {
   "cell_type": "code",
   "execution_count": 130,
   "metadata": {},
   "outputs": [
    {
     "data": {
      "image/png": "[encoded data removed]",
      "text/plain": [
       "<Figure size 432x288 with 1 Axes>"
      ]
     },
     "metadata": {
      "needs_background": "light"
     },
     "output_type": "display_data"
    }
   ],
   "source": [
    "var = \"surf\"\n",
    "sns.countplot(data=df_merged, x=var, order=df_merged[var].value_counts().index)\n",
    "plt.xticks(rotation=45, ha='right')\n",
    "plt.show()"
   ]
  },
  {
   "cell_type": "code",
   "execution_count": 131,
   "metadata": {},
   "outputs": [
    {
     "data": {
      "image/png": "[encoded data removed]",
      "text/plain": [
       "<Figure size 432x288 with 1 Axes>"
      ]
     },
     "metadata": {
      "needs_background": "light"
     },
     "output_type": "display_data"
    }
   ],
   "source": [
    "var = \"surf\"\n",
    "proportions = df_merged.groupby(var)['grav'].value_counts(normalize=True).rename('proportion').reset_index()\n",
    "sns.barplot(x=var, y='proportion', hue='grav', data=proportions, order=df_merged[var].value_counts().index)\n",
    "plt.xticks(rotation=45, ha='right')\n",
    "plt.show()"
   ]
  },
  {
   "cell_type": "markdown",
   "metadata": {},
   "source": [
    "# Premiers modèles"
   ]
  },
  {
   "cell_type": "code",
   "execution_count": 133,
   "metadata": {},
   "outputs": [],
   "source": [
    "from sklearn.model_selection import train_test_split\n",
    "from sklearn.preprocessing import StandardScaler, OneHotEncoder\n",
    "from sklearn.compose import ColumnTransformer\n",
    "from sklearn.pipeline import Pipeline"
   ]
  },
  {
   "cell_type": "code",
   "execution_count": 132,
   "metadata": {},
   "outputs": [
    {
     "name": "stderr",
     "output_type": "stream",
     "text": [
      "c:\\Users\\nahta\\anaconda3\\lib\\site-packages\\pandas\\util\\_decorators.py:311: SettingWithCopyWarning: \n",
      "A value is trying to be set on a copy of a slice from a DataFrame\n",
      "\n",
      "See the caveats in the documentation: https://pandas.pydata.org/pandas-docs/stable/user_guide/indexing.html#returning-a-view-versus-a-copy\n",
      "  return func(*args, **kwargs)\n"
     ]
    },
    {
     "data": {
      "text/html": [
       "<div>\n",
       "<style scoped>\n",
       "    .dataframe tbody tr th:only-of-type {\n",
       "        vertical-align: middle;\n",
       "    }\n",
       "\n",
       "    .dataframe tbody tr th {\n",
       "        vertical-align: top;\n",
       "    }\n",
       "\n",
       "    .dataframe thead th {\n",
       "        text-align: right;\n",
       "    }\n",
       "</style>\n",
       "<table border=\"1\" class=\"dataframe\">\n",
       "  <thead>\n",
       "    <tr style=\"text-align: right;\">\n",
       "      <th></th>\n",
       "      <th>grav</th>\n",
       "      <th>place</th>\n",
       "      <th>an_nais</th>\n",
       "      <th>lum</th>\n",
       "      <th>vma</th>\n",
       "      <th>trajet</th>\n",
       "      <th>sexe</th>\n",
       "      <th>agg</th>\n",
       "    </tr>\n",
       "  </thead>\n",
       "  <tbody>\n",
       "    <tr>\n",
       "      <th>0</th>\n",
       "      <td>3.0</td>\n",
       "      <td>1.0</td>\n",
       "      <td>2008.0</td>\n",
       "      <td>1.0</td>\n",
       "      <td>50.0</td>\n",
       "      <td>promenade-loisirs</td>\n",
       "      <td>homme</td>\n",
       "      <td>agglo</td>\n",
       "    </tr>\n",
       "    <tr>\n",
       "      <th>1</th>\n",
       "      <td>1.0</td>\n",
       "      <td>1.0</td>\n",
       "      <td>1948.0</td>\n",
       "      <td>1.0</td>\n",
       "      <td>50.0</td>\n",
       "      <td>promenade-loisirs</td>\n",
       "      <td>homme</td>\n",
       "      <td>agglo</td>\n",
       "    </tr>\n",
       "    <tr>\n",
       "      <th>2</th>\n",
       "      <td>2.0</td>\n",
       "      <td>1.0</td>\n",
       "      <td>1988.0</td>\n",
       "      <td>1.0</td>\n",
       "      <td>50.0</td>\n",
       "      <td>autre</td>\n",
       "      <td>homme</td>\n",
       "      <td>agglo</td>\n",
       "    </tr>\n",
       "    <tr>\n",
       "      <th>3</th>\n",
       "      <td>1.0</td>\n",
       "      <td>1.0</td>\n",
       "      <td>1970.0</td>\n",
       "      <td>1.0</td>\n",
       "      <td>50.0</td>\n",
       "      <td>utilisation pro</td>\n",
       "      <td>homme</td>\n",
       "      <td>agglo</td>\n",
       "    </tr>\n",
       "    <tr>\n",
       "      <th>5</th>\n",
       "      <td>2.0</td>\n",
       "      <td>1.0</td>\n",
       "      <td>1987.0</td>\n",
       "      <td>1.0</td>\n",
       "      <td>50.0</td>\n",
       "      <td>autre</td>\n",
       "      <td>femme</td>\n",
       "      <td>agglo</td>\n",
       "    </tr>\n",
       "    <tr>\n",
       "      <th>...</th>\n",
       "      <td>...</td>\n",
       "      <td>...</td>\n",
       "      <td>...</td>\n",
       "      <td>...</td>\n",
       "      <td>...</td>\n",
       "      <td>...</td>\n",
       "      <td>...</td>\n",
       "      <td>...</td>\n",
       "    </tr>\n",
       "    <tr>\n",
       "      <th>126656</th>\n",
       "      <td>4.0</td>\n",
       "      <td>1.0</td>\n",
       "      <td>1995.0</td>\n",
       "      <td>3.0</td>\n",
       "      <td>80.0</td>\n",
       "      <td>promenade-loisirs</td>\n",
       "      <td>homme</td>\n",
       "      <td>hors agglo</td>\n",
       "    </tr>\n",
       "    <tr>\n",
       "      <th>126657</th>\n",
       "      <td>1.0</td>\n",
       "      <td>1.0</td>\n",
       "      <td>2002.0</td>\n",
       "      <td>1.0</td>\n",
       "      <td>80.0</td>\n",
       "      <td>promenade-loisirs</td>\n",
       "      <td>femme</td>\n",
       "      <td>hors agglo</td>\n",
       "    </tr>\n",
       "    <tr>\n",
       "      <th>126658</th>\n",
       "      <td>3.0</td>\n",
       "      <td>8.0</td>\n",
       "      <td>2004.0</td>\n",
       "      <td>1.0</td>\n",
       "      <td>80.0</td>\n",
       "      <td>promenade-loisirs</td>\n",
       "      <td>femme</td>\n",
       "      <td>hors agglo</td>\n",
       "    </tr>\n",
       "    <tr>\n",
       "      <th>126659</th>\n",
       "      <td>2.0</td>\n",
       "      <td>1.0</td>\n",
       "      <td>1953.0</td>\n",
       "      <td>1.0</td>\n",
       "      <td>80.0</td>\n",
       "      <td>promenade-loisirs</td>\n",
       "      <td>femme</td>\n",
       "      <td>hors agglo</td>\n",
       "    </tr>\n",
       "    <tr>\n",
       "      <th>126660</th>\n",
       "      <td>3.0</td>\n",
       "      <td>1.0</td>\n",
       "      <td>1992.0</td>\n",
       "      <td>1.0</td>\n",
       "      <td>70.0</td>\n",
       "      <td>domicile-travail</td>\n",
       "      <td>homme</td>\n",
       "      <td>agglo</td>\n",
       "    </tr>\n",
       "  </tbody>\n",
       "</table>\n",
       "<p>89571 rows × 8 columns</p>\n",
       "</div>"
      ],
      "text/plain": [
       "        grav  place  an_nais  lum   vma             trajet   sexe         agg\n",
       "0        3.0    1.0   2008.0  1.0  50.0  promenade-loisirs  homme       agglo\n",
       "1        1.0    1.0   1948.0  1.0  50.0  promenade-loisirs  homme       agglo\n",
       "2        2.0    1.0   1988.0  1.0  50.0              autre  homme       agglo\n",
       "3        1.0    1.0   1970.0  1.0  50.0    utilisation pro  homme       agglo\n",
       "5        2.0    1.0   1987.0  1.0  50.0              autre  femme       agglo\n",
       "...      ...    ...      ...  ...   ...                ...    ...         ...\n",
       "126656   4.0    1.0   1995.0  3.0  80.0  promenade-loisirs  homme  hors agglo\n",
       "126657   1.0    1.0   2002.0  1.0  80.0  promenade-loisirs  femme  hors agglo\n",
       "126658   3.0    8.0   2004.0  1.0  80.0  promenade-loisirs  femme  hors agglo\n",
       "126659   2.0    1.0   1953.0  1.0  80.0  promenade-loisirs  femme  hors agglo\n",
       "126660   3.0    1.0   1992.0  1.0  70.0   domicile-travail  homme       agglo\n",
       "\n",
       "[89571 rows x 8 columns]"
      ]
     },
     "execution_count": 132,
     "metadata": {},
     "output_type": "execute_result"
    }
   ],
   "source": [
    "df_elem1 = df_merged[[\"grav\", \"place\", \"an_nais\", \"lum\", \"vma\", \"trajet\", \"sexe\", \"agg\"]]\n",
    "\n",
    "df_elem1.dropna(inplace=True)\n",
    "\n",
    "df_elem1"
   ]
  },
  {
   "cell_type": "markdown",
   "metadata": {},
   "source": [
    "### KNeighbors"
   ]
  },
  {
   "cell_type": "code",
   "execution_count": 134,
   "metadata": {},
   "outputs": [
    {
     "name": "stderr",
     "output_type": "stream",
     "text": [
      "c:\\Users\\nahta\\anaconda3\\lib\\site-packages\\pandas\\util\\_decorators.py:311: SettingWithCopyWarning: \n",
      "A value is trying to be set on a copy of a slice from a DataFrame\n",
      "\n",
      "See the caveats in the documentation: https://pandas.pydata.org/pandas-docs/stable/user_guide/indexing.html#returning-a-view-versus-a-copy\n",
      "  return func(*args, **kwargs)\n"
     ]
    },
    {
     "data": {
      "text/html": [
       "<div>\n",
       "<style scoped>\n",
       "    .dataframe tbody tr th:only-of-type {\n",
       "        vertical-align: middle;\n",
       "    }\n",
       "\n",
       "    .dataframe tbody tr th {\n",
       "        vertical-align: top;\n",
       "    }\n",
       "\n",
       "    .dataframe thead th {\n",
       "        text-align: right;\n",
       "    }\n",
       "</style>\n",
       "<table border=\"1\" class=\"dataframe\">\n",
       "  <thead>\n",
       "    <tr style=\"text-align: right;\">\n",
       "      <th></th>\n",
       "      <th>grav</th>\n",
       "      <th>catu</th>\n",
       "      <th>an_nais</th>\n",
       "      <th>lum</th>\n",
       "      <th>vma</th>\n",
       "      <th>trajet</th>\n",
       "      <th>sexe</th>\n",
       "      <th>agg</th>\n",
       "    </tr>\n",
       "  </thead>\n",
       "  <tbody>\n",
       "    <tr>\n",
       "      <th>0</th>\n",
       "      <td>3.0</td>\n",
       "      <td>conducteur</td>\n",
       "      <td>2008.0</td>\n",
       "      <td>1.0</td>\n",
       "      <td>50.0</td>\n",
       "      <td>promenade-loisirs</td>\n",
       "      <td>homme</td>\n",
       "      <td>agglo</td>\n",
       "    </tr>\n",
       "    <tr>\n",
       "      <th>1</th>\n",
       "      <td>1.0</td>\n",
       "      <td>conducteur</td>\n",
       "      <td>1948.0</td>\n",
       "      <td>1.0</td>\n",
       "      <td>50.0</td>\n",
       "      <td>promenade-loisirs</td>\n",
       "      <td>homme</td>\n",
       "      <td>agglo</td>\n",
       "    </tr>\n",
       "    <tr>\n",
       "      <th>2</th>\n",
       "      <td>2.0</td>\n",
       "      <td>conducteur</td>\n",
       "      <td>1988.0</td>\n",
       "      <td>1.0</td>\n",
       "      <td>50.0</td>\n",
       "      <td>autre</td>\n",
       "      <td>homme</td>\n",
       "      <td>agglo</td>\n",
       "    </tr>\n",
       "    <tr>\n",
       "      <th>3</th>\n",
       "      <td>1.0</td>\n",
       "      <td>conducteur</td>\n",
       "      <td>1970.0</td>\n",
       "      <td>1.0</td>\n",
       "      <td>50.0</td>\n",
       "      <td>utilisation pro</td>\n",
       "      <td>homme</td>\n",
       "      <td>agglo</td>\n",
       "    </tr>\n",
       "    <tr>\n",
       "      <th>5</th>\n",
       "      <td>2.0</td>\n",
       "      <td>conducteur</td>\n",
       "      <td>1987.0</td>\n",
       "      <td>1.0</td>\n",
       "      <td>50.0</td>\n",
       "      <td>autre</td>\n",
       "      <td>femme</td>\n",
       "      <td>agglo</td>\n",
       "    </tr>\n",
       "    <tr>\n",
       "      <th>...</th>\n",
       "      <td>...</td>\n",
       "      <td>...</td>\n",
       "      <td>...</td>\n",
       "      <td>...</td>\n",
       "      <td>...</td>\n",
       "      <td>...</td>\n",
       "      <td>...</td>\n",
       "      <td>...</td>\n",
       "    </tr>\n",
       "    <tr>\n",
       "      <th>126656</th>\n",
       "      <td>4.0</td>\n",
       "      <td>conducteur</td>\n",
       "      <td>1995.0</td>\n",
       "      <td>3.0</td>\n",
       "      <td>80.0</td>\n",
       "      <td>promenade-loisirs</td>\n",
       "      <td>homme</td>\n",
       "      <td>hors agglo</td>\n",
       "    </tr>\n",
       "    <tr>\n",
       "      <th>126657</th>\n",
       "      <td>1.0</td>\n",
       "      <td>conducteur</td>\n",
       "      <td>2002.0</td>\n",
       "      <td>1.0</td>\n",
       "      <td>80.0</td>\n",
       "      <td>promenade-loisirs</td>\n",
       "      <td>femme</td>\n",
       "      <td>hors agglo</td>\n",
       "    </tr>\n",
       "    <tr>\n",
       "      <th>126658</th>\n",
       "      <td>3.0</td>\n",
       "      <td>passager</td>\n",
       "      <td>2004.0</td>\n",
       "      <td>1.0</td>\n",
       "      <td>80.0</td>\n",
       "      <td>promenade-loisirs</td>\n",
       "      <td>femme</td>\n",
       "      <td>hors agglo</td>\n",
       "    </tr>\n",
       "    <tr>\n",
       "      <th>126659</th>\n",
       "      <td>2.0</td>\n",
       "      <td>conducteur</td>\n",
       "      <td>1953.0</td>\n",
       "      <td>1.0</td>\n",
       "      <td>80.0</td>\n",
       "      <td>promenade-loisirs</td>\n",
       "      <td>femme</td>\n",
       "      <td>hors agglo</td>\n",
       "    </tr>\n",
       "    <tr>\n",
       "      <th>126660</th>\n",
       "      <td>3.0</td>\n",
       "      <td>conducteur</td>\n",
       "      <td>1992.0</td>\n",
       "      <td>1.0</td>\n",
       "      <td>70.0</td>\n",
       "      <td>domicile-travail</td>\n",
       "      <td>homme</td>\n",
       "      <td>agglo</td>\n",
       "    </tr>\n",
       "  </tbody>\n",
       "</table>\n",
       "<p>89571 rows × 8 columns</p>\n",
       "</div>"
      ],
      "text/plain": [
       "        grav        catu  an_nais  lum   vma             trajet   sexe  \\\n",
       "0        3.0  conducteur   2008.0  1.0  50.0  promenade-loisirs  homme   \n",
       "1        1.0  conducteur   1948.0  1.0  50.0  promenade-loisirs  homme   \n",
       "2        2.0  conducteur   1988.0  1.0  50.0              autre  homme   \n",
       "3        1.0  conducteur   1970.0  1.0  50.0    utilisation pro  homme   \n",
       "5        2.0  conducteur   1987.0  1.0  50.0              autre  femme   \n",
       "...      ...         ...      ...  ...   ...                ...    ...   \n",
       "126656   4.0  conducteur   1995.0  3.0  80.0  promenade-loisirs  homme   \n",
       "126657   1.0  conducteur   2002.0  1.0  80.0  promenade-loisirs  femme   \n",
       "126658   3.0    passager   2004.0  1.0  80.0  promenade-loisirs  femme   \n",
       "126659   2.0  conducteur   1953.0  1.0  80.0  promenade-loisirs  femme   \n",
       "126660   3.0  conducteur   1992.0  1.0  70.0   domicile-travail  homme   \n",
       "\n",
       "               agg  \n",
       "0            agglo  \n",
       "1            agglo  \n",
       "2            agglo  \n",
       "3            agglo  \n",
       "5            agglo  \n",
       "...            ...  \n",
       "126656  hors agglo  \n",
       "126657  hors agglo  \n",
       "126658  hors agglo  \n",
       "126659  hors agglo  \n",
       "126660       agglo  \n",
       "\n",
       "[89571 rows x 8 columns]"
      ]
     },
     "execution_count": 134,
     "metadata": {},
     "output_type": "execute_result"
    }
   ],
   "source": [
    "df_elem1 = df_merged[[\"grav\", \"catu\", \"an_nais\", \"lum\", \"vma\", \"trajet\", \"sexe\", \"agg\"]]\n",
    "\n",
    "df_elem1.dropna(inplace=True)\n",
    "\n",
    "df_elem1"
   ]
  },
  {
   "cell_type": "code",
   "execution_count": 137,
   "metadata": {},
   "outputs": [
    {
     "name": "stdout",
     "output_type": "stream",
     "text": [
      "Accuracy: 0.49\n"
     ]
    }
   ],
   "source": [
    "from sklearn.neighbors import KNeighborsClassifier\n",
    "\n",
    "# Supposons que vous ayez un DataFrame df_elem1 avec les colonnes nécessaires\n",
    "# Remplacez cela par votre DataFrame réel\n",
    "\n",
    "# Séparation des features (X) et de la variable cible (y)\n",
    "X = df_elem1.drop(\"grav\", axis=1)\n",
    "y = df_elem1[\"grav\"]\n",
    "\n",
    "# Diviser les données en ensembles d'entraînement et de test\n",
    "X_train, X_test, y_train, y_test = train_test_split(X, y, test_size=0.2, random_state=42)\n",
    "\n",
    "# Créer un transformateur pour les variables continues et catégorielles\n",
    "numeric_features = [\"an_nais\", \"vma\"]\n",
    "categorical_features = [\"catu\", \"lum\", \"trajet\", \"sexe\", \"agg\"]\n",
    "\n",
    "numeric_transformer = Pipeline(steps=[\n",
    "    ('scaler', StandardScaler())\n",
    "])\n",
    "\n",
    "categorical_transformer = Pipeline(steps=[\n",
    "    ('onehot', OneHotEncoder(handle_unknown='ignore'))\n",
    "])\n",
    "\n",
    "preprocessor = ColumnTransformer(\n",
    "    transformers=[\n",
    "        ('num', numeric_transformer, numeric_features),\n",
    "        ('cat', categorical_transformer, categorical_features)\n",
    "    ])\n",
    "\n",
    "# Créer le pipeline SVC avec le préprocesseur\n",
    "model = Pipeline(steps=[\n",
    "    ('preprocessor', preprocessor),\n",
    "    ('classifier', KNeighborsClassifier(n_neighbors=15))  # Vous pouvez choisir un autre noyau selon vos besoins\n",
    "])\n",
    "\n",
    "# Entraîner le modèle sur les données d'entraînement\n",
    "model.fit(X_train, y_train)\n",
    "\n",
    "# Évaluer le modèle sur les données de test\n",
    "accuracy = model.score(X_test, y_test)\n",
    "print(f\"Accuracy: {accuracy:.2f}\")\n"
   ]
  },
  {
   "cell_type": "markdown",
   "metadata": {},
   "source": [
    "### SVC"
   ]
  },
  {
   "cell_type": "code",
   "execution_count": 76,
   "metadata": {},
   "outputs": [
    {
     "name": "stdout",
     "output_type": "stream",
     "text": [
      "Accuracy: 0.48\n"
     ]
    }
   ],
   "source": [
    "import pandas as pd\n",
    "from sklearn.model_selection import train_test_split\n",
    "from sklearn.preprocessing import StandardScaler, OneHotEncoder\n",
    "from sklearn.compose import ColumnTransformer\n",
    "from sklearn.pipeline import Pipeline\n",
    "from sklearn.svm import SVC\n",
    "\n",
    "# Supposons que vous ayez un DataFrame df_elem1 avec les colonnes nécessaires\n",
    "# Remplacez cela par votre DataFrame réel\n",
    "\n",
    "# Séparation des features (X) et de la variable cible (y)\n",
    "X = df_elem1.drop(\"grav\", axis=1)\n",
    "y = df_elem1[\"grav\"]\n",
    "\n",
    "# Diviser les données en ensembles d'entraînement et de test\n",
    "X_train, X_test, y_train, y_test = train_test_split(X, y, test_size=0.2, random_state=42)\n",
    "\n",
    "# Créer un transformateur pour les variables continues et catégorielles\n",
    "numeric_features = [\"an_nais\", \"vma\"]\n",
    "categorical_features = [\"place\", \"lum\"]\n",
    "\n",
    "numeric_transformer = Pipeline(steps=[\n",
    "    ('scaler', StandardScaler())\n",
    "])\n",
    "\n",
    "categorical_transformer = Pipeline(steps=[\n",
    "    ('onehot', OneHotEncoder(handle_unknown='ignore'))\n",
    "])\n",
    "\n",
    "preprocessor = ColumnTransformer(\n",
    "    transformers=[\n",
    "        ('num', numeric_transformer, numeric_features),\n",
    "        ('cat', categorical_transformer, categorical_features)\n",
    "    ])\n",
    "\n",
    "# Créer le pipeline SVC avec le préprocesseur\n",
    "model = Pipeline(steps=[\n",
    "    ('preprocessor', preprocessor),\n",
    "    ('classifier', SVC(kernel='linear'))  # Vous pouvez choisir un autre noyau selon vos besoins\n",
    "])\n",
    "\n",
    "# Entraîner le modèle sur les données d'entraînement\n",
    "model.fit(X_train, y_train)\n",
    "\n",
    "# Évaluer le modèle sur les données de test\n",
    "accuracy = model.score(X_test, y_test)\n",
    "print(f\"Accuracy: {accuracy:.2f}\")\n"
   ]
  }
 ],
 "metadata": {
  "kernelspec": {
   "display_name": "Python 3",
   "language": "python",
   "name": "python3"
  },
  "language_info": {
   "codemirror_mode": {
    "name": "ipython",
    "version": 3
   },
   "file_extension": ".py",
   "mimetype": "text/x-python",
   "name": "python",
   "nbconvert_exporter": "python",
   "pygments_lexer": "ipython3",
   "version": "3.9.7"
  }
 },
 "nbformat": 4,
 "nbformat_minor": 2
}
