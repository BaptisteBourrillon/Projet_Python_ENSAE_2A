{
 "cells": [
  {
   "cell_type": "markdown",
   "metadata": {},
   "source": [
    "# Exploratory Data Analysis\n",
    "\n",
    "- [Accéder aux bases](https://www.data.gouv.fr/fr/datasets/bases-de-donnees-annuelles-des-accidents-corporels-de-la-circulation-routiere-annees-de-2005-a-2022/)\n",
    "- [Accéder à la documentation](https://www.data.gouv.fr/fr/datasets/r/8ef4c2a3-91a0-4d98-ae3a-989bde87b62a)"
   ]
  },
  {
   "cell_type": "markdown",
   "metadata": {},
   "source": [
    "# Objectifs : prédire la gravité d'un accident\n",
    "\n",
    "La gravité d'un accident est codée par la variable `grav`, présente (uniquement) dans la base _usagers_, qui peut prendre les valeurs suivantes :\n",
    "- 1 : indemne ;\n",
    "- 2 : tué ;\n",
    "- 3 : blessé hospitalisé ;\n",
    "- 4 : blessé léger."
   ]
  },
  {
   "cell_type": "markdown",
   "metadata": {},
   "source": [
    "On charge dans un premier temps tous les packages nécessaires."
   ]
  },
  {
   "cell_type": "code",
   "execution_count": 1,
   "metadata": {},
   "outputs": [],
   "source": [
    "import numpy as np\n",
    "import pandas as pd\n",
    "import matplotlib.pyplot as plt\n",
    "import seaborn as sns"
   ]
  },
  {
   "cell_type": "markdown",
   "metadata": {},
   "source": [
    "Sur data.gouv, quatre bases de données sont publiées annuellement. Elles concernent : les usages, les véhicules, les lieux et les caractéristiques. Nous chargeons ci-dessous les quatre bases de 2022 (les plus récentes)."
   ]
  },
  {
   "cell_type": "code",
   "execution_count": 2,
   "metadata": {},
   "outputs": [
    {
     "name": "stderr",
     "output_type": "stream",
     "text": [
      "c:\\Users\\nahta\\anaconda3\\lib\\site-packages\\IPython\\core\\interactiveshell.py:3444: DtypeWarning: Columns (6) have mixed types.Specify dtype option on import or set low_memory=False.\n",
      "  exec(code_obj, self.user_global_ns, self.user_ns)\n"
     ]
    }
   ],
   "source": [
    "df_usagers_22 = pd.read_csv(\"https://www.data.gouv.fr/fr/datasets/r/62c20524-d442-46f5-bfd8-982c59763ec8\", sep=\";\")\n",
    "df_vehicules_22 = pd.read_csv(\"https://www.data.gouv.fr/fr/datasets/r/c9742921-4427-41e5-81bc-f13af8bc31a0\", sep=\";\")\n",
    "df_lieux_22 = pd.read_csv(\"https://www.data.gouv.fr/fr/datasets/r/a6ef711a-1f03-44cb-921a-0ce8ec975995\", sep=\";\")\n",
    "df_caracs_22 = pd.read_csv(\"https://www.data.gouv.fr/fr/datasets/r/5fc299c0-4598-4c29-b74c-6a67b0cc27e7\", sep=\";\")"
   ]
  },
  {
   "cell_type": "code",
   "execution_count": 3,
   "metadata": {},
   "outputs": [],
   "source": [
    "from data_cleaning import *"
   ]
  },
  {
   "cell_type": "markdown",
   "metadata": {},
   "source": [
    "# Usagers\n",
    "\n",
    "- 126 662 observations et 16 colonnes\n",
    "- Quelques NaN, uniquement pour la variable `an_nais` (année de naissance)\n",
    "\n",
    "La base est composée de variables essentiellement catégorielles."
   ]
  },
  {
   "cell_type": "code",
   "execution_count": 4,
   "metadata": {},
   "outputs": [],
   "source": [
    "df_usagers_22 = clean_df_usagers(df_usagers_22)"
   ]
  },
  {
   "cell_type": "code",
   "execution_count": 5,
   "metadata": {},
   "outputs": [
    {
     "data": {
      "text/html": [
       "<div>\n",
       "<style scoped>\n",
       "    .dataframe tbody tr th:only-of-type {\n",
       "        vertical-align: middle;\n",
       "    }\n",
       "\n",
       "    .dataframe tbody tr th {\n",
       "        vertical-align: top;\n",
       "    }\n",
       "\n",
       "    .dataframe thead th {\n",
       "        text-align: right;\n",
       "    }\n",
       "</style>\n",
       "<table border=\"1\" class=\"dataframe\">\n",
       "  <thead>\n",
       "    <tr style=\"text-align: right;\">\n",
       "      <th></th>\n",
       "      <th>Num_Acc</th>\n",
       "      <th>id_usager</th>\n",
       "      <th>id_vehicule</th>\n",
       "      <th>num_veh</th>\n",
       "      <th>place</th>\n",
       "      <th>catu</th>\n",
       "      <th>grav</th>\n",
       "      <th>sexe</th>\n",
       "      <th>an_nais</th>\n",
       "      <th>trajet</th>\n",
       "      <th>secu1</th>\n",
       "      <th>secu2</th>\n",
       "      <th>secu3</th>\n",
       "      <th>locp</th>\n",
       "      <th>actp</th>\n",
       "      <th>etatp</th>\n",
       "    </tr>\n",
       "  </thead>\n",
       "  <tbody>\n",
       "    <tr>\n",
       "      <th>0</th>\n",
       "      <td>202200000001</td>\n",
       "      <td>1 099 700</td>\n",
       "      <td>813 952</td>\n",
       "      <td>A01</td>\n",
       "      <td>1</td>\n",
       "      <td>conducteur</td>\n",
       "      <td>3</td>\n",
       "      <td>homme</td>\n",
       "      <td>2008.0</td>\n",
       "      <td>promenade-loisirs</td>\n",
       "      <td>2</td>\n",
       "      <td>8</td>\n",
       "      <td>-1</td>\n",
       "      <td>-1</td>\n",
       "      <td>-1</td>\n",
       "      <td>-1</td>\n",
       "    </tr>\n",
       "    <tr>\n",
       "      <th>1</th>\n",
       "      <td>202200000001</td>\n",
       "      <td>1 099 701</td>\n",
       "      <td>813 953</td>\n",
       "      <td>B01</td>\n",
       "      <td>1</td>\n",
       "      <td>conducteur</td>\n",
       "      <td>1</td>\n",
       "      <td>homme</td>\n",
       "      <td>1948.0</td>\n",
       "      <td>promenade-loisirs</td>\n",
       "      <td>1</td>\n",
       "      <td>8</td>\n",
       "      <td>-1</td>\n",
       "      <td>-1</td>\n",
       "      <td>-1</td>\n",
       "      <td>-1</td>\n",
       "    </tr>\n",
       "    <tr>\n",
       "      <th>2</th>\n",
       "      <td>202200000002</td>\n",
       "      <td>1 099 698</td>\n",
       "      <td>813 950</td>\n",
       "      <td>B01</td>\n",
       "      <td>1</td>\n",
       "      <td>conducteur</td>\n",
       "      <td>2</td>\n",
       "      <td>homme</td>\n",
       "      <td>1988.0</td>\n",
       "      <td>autre</td>\n",
       "      <td>1</td>\n",
       "      <td>0</td>\n",
       "      <td>-1</td>\n",
       "      <td>0</td>\n",
       "      <td>NaN</td>\n",
       "      <td>-1</td>\n",
       "    </tr>\n",
       "    <tr>\n",
       "      <th>3</th>\n",
       "      <td>202200000002</td>\n",
       "      <td>1 099 699</td>\n",
       "      <td>813 951</td>\n",
       "      <td>A01</td>\n",
       "      <td>1</td>\n",
       "      <td>conducteur</td>\n",
       "      <td>1</td>\n",
       "      <td>homme</td>\n",
       "      <td>1970.0</td>\n",
       "      <td>utilisation pro</td>\n",
       "      <td>1</td>\n",
       "      <td>0</td>\n",
       "      <td>-1</td>\n",
       "      <td>0</td>\n",
       "      <td>NaN</td>\n",
       "      <td>-1</td>\n",
       "    </tr>\n",
       "    <tr>\n",
       "      <th>4</th>\n",
       "      <td>202200000003</td>\n",
       "      <td>1 099 696</td>\n",
       "      <td>813 948</td>\n",
       "      <td>A01</td>\n",
       "      <td>1</td>\n",
       "      <td>conducteur</td>\n",
       "      <td>1</td>\n",
       "      <td>homme</td>\n",
       "      <td>2002.0</td>\n",
       "      <td>NaN</td>\n",
       "      <td>1</td>\n",
       "      <td>0</td>\n",
       "      <td>-1</td>\n",
       "      <td>-1</td>\n",
       "      <td>-1</td>\n",
       "      <td>-1</td>\n",
       "    </tr>\n",
       "  </tbody>\n",
       "</table>\n",
       "</div>"
      ],
      "text/plain": [
       "        Num_Acc  id_usager id_vehicule num_veh  place        catu  grav  \\\n",
       "0  202200000001  1 099 700     813 952     A01      1  conducteur     3   \n",
       "1  202200000001  1 099 701     813 953     B01      1  conducteur     1   \n",
       "2  202200000002  1 099 698     813 950     B01      1  conducteur     2   \n",
       "3  202200000002  1 099 699     813 951     A01      1  conducteur     1   \n",
       "4  202200000003  1 099 696     813 948     A01      1  conducteur     1   \n",
       "\n",
       "    sexe  an_nais             trajet  secu1  secu2  secu3  locp actp etatp  \n",
       "0  homme   2008.0  promenade-loisirs      2      8     -1    -1   -1    -1  \n",
       "1  homme   1948.0  promenade-loisirs      1      8     -1    -1   -1    -1  \n",
       "2  homme   1988.0              autre      1      0     -1     0  NaN    -1  \n",
       "3  homme   1970.0    utilisation pro      1      0     -1     0  NaN    -1  \n",
       "4  homme   2002.0                NaN      1      0     -1    -1   -1    -1  "
      ]
     },
     "execution_count": 5,
     "metadata": {},
     "output_type": "execute_result"
    }
   ],
   "source": [
    "df_usagers_22.head()"
   ]
  },
  {
   "cell_type": "code",
   "execution_count": 6,
   "metadata": {},
   "outputs": [
    {
     "name": "stdout",
     "output_type": "stream",
     "text": [
      "<class 'pandas.core.frame.DataFrame'>\n",
      "RangeIndex: 126662 entries, 0 to 126661\n",
      "Data columns (total 16 columns):\n",
      " #   Column       Non-Null Count   Dtype  \n",
      "---  ------       --------------   -----  \n",
      " 0   Num_Acc      126662 non-null  int64  \n",
      " 1   id_usager    126662 non-null  object \n",
      " 2   id_vehicule  126662 non-null  object \n",
      " 3   num_veh      126662 non-null  object \n",
      " 4   place        126662 non-null  int64  \n",
      " 5   catu         126662 non-null  object \n",
      " 6   grav         126662 non-null  int64  \n",
      " 7   sexe         123918 non-null  object \n",
      " 8   an_nais      123788 non-null  float64\n",
      " 9   trajet       91051 non-null   object \n",
      " 10  secu1        126662 non-null  int64  \n",
      " 11  secu2        126662 non-null  int64  \n",
      " 12  secu3        126662 non-null  int64  \n",
      " 13  locp         126662 non-null  int64  \n",
      " 14  actp         58804 non-null   object \n",
      " 15  etatp        126662 non-null  object \n",
      "dtypes: float64(1), int64(7), object(8)\n",
      "memory usage: 15.5+ MB\n"
     ]
    }
   ],
   "source": [
    "df_usagers_22.info()"
   ]
  },
  {
   "cell_type": "markdown",
   "metadata": {},
   "source": [
    "## Statistiques descriptives"
   ]
  },
  {
   "cell_type": "markdown",
   "metadata": {},
   "source": [
    "Etudions un peu plus en détails la variable `grav`."
   ]
  },
  {
   "cell_type": "code",
   "execution_count": 7,
   "metadata": {},
   "outputs": [
    {
     "data": {
      "text/plain": [
       " 1    53630\n",
       " 2    49981\n",
       " 3    19260\n",
       " 4     3550\n",
       "-1      241\n",
       "Name: grav, dtype: int64"
      ]
     },
     "execution_count": 7,
     "metadata": {},
     "output_type": "execute_result"
    }
   ],
   "source": [
    "df_usagers_22[\"grav\"].value_counts()"
   ]
  },
  {
   "cell_type": "markdown",
   "metadata": {},
   "source": [
    "Conclusion : il y a majoritairement des victimes indemmes ou légèrement blessées.\n",
    "\n",
    "On note toutefois la présence (étrange, puisque non renseignée dans la documentation) de la valeur `-1`. Explorons cette bizarrerie en affichant le début du tableau avec des observations filtrées pour ne conserver que celles dont `grav==-1`."
   ]
  },
  {
   "cell_type": "code",
   "execution_count": 8,
   "metadata": {},
   "outputs": [
    {
     "data": {
      "text/html": [
       "<div>\n",
       "<style scoped>\n",
       "    .dataframe tbody tr th:only-of-type {\n",
       "        vertical-align: middle;\n",
       "    }\n",
       "\n",
       "    .dataframe tbody tr th {\n",
       "        vertical-align: top;\n",
       "    }\n",
       "\n",
       "    .dataframe thead th {\n",
       "        text-align: right;\n",
       "    }\n",
       "</style>\n",
       "<table border=\"1\" class=\"dataframe\">\n",
       "  <thead>\n",
       "    <tr style=\"text-align: right;\">\n",
       "      <th></th>\n",
       "      <th>Num_Acc</th>\n",
       "      <th>id_usager</th>\n",
       "      <th>id_vehicule</th>\n",
       "      <th>num_veh</th>\n",
       "      <th>place</th>\n",
       "      <th>catu</th>\n",
       "      <th>grav</th>\n",
       "      <th>sexe</th>\n",
       "      <th>an_nais</th>\n",
       "      <th>trajet</th>\n",
       "      <th>secu1</th>\n",
       "      <th>secu2</th>\n",
       "      <th>secu3</th>\n",
       "      <th>locp</th>\n",
       "      <th>actp</th>\n",
       "      <th>etatp</th>\n",
       "    </tr>\n",
       "  </thead>\n",
       "  <tbody>\n",
       "    <tr>\n",
       "      <th>92</th>\n",
       "      <td>202200000042</td>\n",
       "      <td>1 099 608</td>\n",
       "      <td>813 891</td>\n",
       "      <td>B01</td>\n",
       "      <td>1</td>\n",
       "      <td>conducteur</td>\n",
       "      <td>-1</td>\n",
       "      <td>NaN</td>\n",
       "      <td>NaN</td>\n",
       "      <td>NaN</td>\n",
       "      <td>-1</td>\n",
       "      <td>-1</td>\n",
       "      <td>-1</td>\n",
       "      <td>0</td>\n",
       "      <td>NaN</td>\n",
       "      <td>-1</td>\n",
       "    </tr>\n",
       "    <tr>\n",
       "      <th>106</th>\n",
       "      <td>202200000048</td>\n",
       "      <td>1 099 595</td>\n",
       "      <td>813 880</td>\n",
       "      <td>C01</td>\n",
       "      <td>1</td>\n",
       "      <td>conducteur</td>\n",
       "      <td>-1</td>\n",
       "      <td>NaN</td>\n",
       "      <td>NaN</td>\n",
       "      <td>NaN</td>\n",
       "      <td>-1</td>\n",
       "      <td>-1</td>\n",
       "      <td>-1</td>\n",
       "      <td>-1</td>\n",
       "      <td>-1</td>\n",
       "      <td>-1</td>\n",
       "    </tr>\n",
       "    <tr>\n",
       "      <th>1069</th>\n",
       "      <td>202200000466</td>\n",
       "      <td>1 098 604</td>\n",
       "      <td>813 136</td>\n",
       "      <td>B01</td>\n",
       "      <td>1</td>\n",
       "      <td>conducteur</td>\n",
       "      <td>-1</td>\n",
       "      <td>NaN</td>\n",
       "      <td>NaN</td>\n",
       "      <td>NaN</td>\n",
       "      <td>-1</td>\n",
       "      <td>-1</td>\n",
       "      <td>-1</td>\n",
       "      <td>-1</td>\n",
       "      <td>-1</td>\n",
       "      <td>-1</td>\n",
       "    </tr>\n",
       "    <tr>\n",
       "      <th>1218</th>\n",
       "      <td>202200000530</td>\n",
       "      <td>1 098 453</td>\n",
       "      <td>813 034</td>\n",
       "      <td>A01</td>\n",
       "      <td>1</td>\n",
       "      <td>conducteur</td>\n",
       "      <td>-1</td>\n",
       "      <td>NaN</td>\n",
       "      <td>NaN</td>\n",
       "      <td>NaN</td>\n",
       "      <td>-1</td>\n",
       "      <td>-1</td>\n",
       "      <td>-1</td>\n",
       "      <td>-1</td>\n",
       "      <td>-1</td>\n",
       "      <td>-1</td>\n",
       "    </tr>\n",
       "    <tr>\n",
       "      <th>2238</th>\n",
       "      <td>202200000966</td>\n",
       "      <td>1 097 379</td>\n",
       "      <td>812 214</td>\n",
       "      <td>B01</td>\n",
       "      <td>1</td>\n",
       "      <td>conducteur</td>\n",
       "      <td>-1</td>\n",
       "      <td>NaN</td>\n",
       "      <td>NaN</td>\n",
       "      <td>NaN</td>\n",
       "      <td>-1</td>\n",
       "      <td>-1</td>\n",
       "      <td>-1</td>\n",
       "      <td>-1</td>\n",
       "      <td>-1</td>\n",
       "      <td>-1</td>\n",
       "    </tr>\n",
       "  </tbody>\n",
       "</table>\n",
       "</div>"
      ],
      "text/plain": [
       "           Num_Acc  id_usager id_vehicule num_veh  place        catu  grav  \\\n",
       "92    202200000042  1 099 608     813 891     B01      1  conducteur    -1   \n",
       "106   202200000048  1 099 595     813 880     C01      1  conducteur    -1   \n",
       "1069  202200000466  1 098 604     813 136     B01      1  conducteur    -1   \n",
       "1218  202200000530  1 098 453     813 034     A01      1  conducteur    -1   \n",
       "2238  202200000966  1 097 379     812 214     B01      1  conducteur    -1   \n",
       "\n",
       "     sexe  an_nais trajet  secu1  secu2  secu3  locp actp etatp  \n",
       "92    NaN      NaN    NaN     -1     -1     -1     0  NaN    -1  \n",
       "106   NaN      NaN    NaN     -1     -1     -1    -1   -1    -1  \n",
       "1069  NaN      NaN    NaN     -1     -1     -1    -1   -1    -1  \n",
       "1218  NaN      NaN    NaN     -1     -1     -1    -1   -1    -1  \n",
       "2238  NaN      NaN    NaN     -1     -1     -1    -1   -1    -1  "
      ]
     },
     "execution_count": 8,
     "metadata": {},
     "output_type": "execute_result"
    }
   ],
   "source": [
    "df_usagers_22[df_usagers_22[\"grav\"]==-1].head()"
   ]
  },
  {
   "cell_type": "markdown",
   "metadata": {},
   "source": [
    "On note qu'on a souvent également `sexe==-1`, et qu'on a également beaucoup de valeurs `-1` pour les autres variables. Dans la documentation, pour ces autres variables, une valeur de `-1` signifie \"non renseigné\". Il est probable que ces `-1` pour les variables `grav` et `sexe` correspondent également à des valeurs non renseignées !"
   ]
  },
  {
   "cell_type": "markdown",
   "metadata": {},
   "source": [
    "Nous allons donc en profiter pour remplacer les `-1` par des `NaN`."
   ]
  },
  {
   "cell_type": "code",
   "execution_count": 9,
   "metadata": {},
   "outputs": [
    {
     "data": {
      "text/html": [
       "<div>\n",
       "<style scoped>\n",
       "    .dataframe tbody tr th:only-of-type {\n",
       "        vertical-align: middle;\n",
       "    }\n",
       "\n",
       "    .dataframe tbody tr th {\n",
       "        vertical-align: top;\n",
       "    }\n",
       "\n",
       "    .dataframe thead th {\n",
       "        text-align: right;\n",
       "    }\n",
       "</style>\n",
       "<table border=\"1\" class=\"dataframe\">\n",
       "  <thead>\n",
       "    <tr style=\"text-align: right;\">\n",
       "      <th></th>\n",
       "      <th>Num_Acc</th>\n",
       "      <th>id_usager</th>\n",
       "      <th>id_vehicule</th>\n",
       "      <th>num_veh</th>\n",
       "      <th>place</th>\n",
       "      <th>catu</th>\n",
       "      <th>grav</th>\n",
       "      <th>sexe</th>\n",
       "      <th>an_nais</th>\n",
       "      <th>trajet</th>\n",
       "      <th>secu1</th>\n",
       "      <th>secu2</th>\n",
       "      <th>secu3</th>\n",
       "      <th>locp</th>\n",
       "      <th>actp</th>\n",
       "      <th>etatp</th>\n",
       "    </tr>\n",
       "  </thead>\n",
       "  <tbody>\n",
       "    <tr>\n",
       "      <th>0</th>\n",
       "      <td>202200000001</td>\n",
       "      <td>1 099 700</td>\n",
       "      <td>813 952</td>\n",
       "      <td>A01</td>\n",
       "      <td>1.0</td>\n",
       "      <td>conducteur</td>\n",
       "      <td>3.0</td>\n",
       "      <td>homme</td>\n",
       "      <td>2008.0</td>\n",
       "      <td>promenade-loisirs</td>\n",
       "      <td>2.0</td>\n",
       "      <td>8.0</td>\n",
       "      <td>NaN</td>\n",
       "      <td>NaN</td>\n",
       "      <td>-1</td>\n",
       "      <td>NaN</td>\n",
       "    </tr>\n",
       "    <tr>\n",
       "      <th>1</th>\n",
       "      <td>202200000001</td>\n",
       "      <td>1 099 701</td>\n",
       "      <td>813 953</td>\n",
       "      <td>B01</td>\n",
       "      <td>1.0</td>\n",
       "      <td>conducteur</td>\n",
       "      <td>1.0</td>\n",
       "      <td>homme</td>\n",
       "      <td>1948.0</td>\n",
       "      <td>promenade-loisirs</td>\n",
       "      <td>1.0</td>\n",
       "      <td>8.0</td>\n",
       "      <td>NaN</td>\n",
       "      <td>NaN</td>\n",
       "      <td>-1</td>\n",
       "      <td>NaN</td>\n",
       "    </tr>\n",
       "    <tr>\n",
       "      <th>2</th>\n",
       "      <td>202200000002</td>\n",
       "      <td>1 099 698</td>\n",
       "      <td>813 950</td>\n",
       "      <td>B01</td>\n",
       "      <td>1.0</td>\n",
       "      <td>conducteur</td>\n",
       "      <td>2.0</td>\n",
       "      <td>homme</td>\n",
       "      <td>1988.0</td>\n",
       "      <td>autre</td>\n",
       "      <td>1.0</td>\n",
       "      <td>0.0</td>\n",
       "      <td>NaN</td>\n",
       "      <td>0.0</td>\n",
       "      <td>NaN</td>\n",
       "      <td>NaN</td>\n",
       "    </tr>\n",
       "    <tr>\n",
       "      <th>3</th>\n",
       "      <td>202200000002</td>\n",
       "      <td>1 099 699</td>\n",
       "      <td>813 951</td>\n",
       "      <td>A01</td>\n",
       "      <td>1.0</td>\n",
       "      <td>conducteur</td>\n",
       "      <td>1.0</td>\n",
       "      <td>homme</td>\n",
       "      <td>1970.0</td>\n",
       "      <td>utilisation pro</td>\n",
       "      <td>1.0</td>\n",
       "      <td>0.0</td>\n",
       "      <td>NaN</td>\n",
       "      <td>0.0</td>\n",
       "      <td>NaN</td>\n",
       "      <td>NaN</td>\n",
       "    </tr>\n",
       "    <tr>\n",
       "      <th>4</th>\n",
       "      <td>202200000003</td>\n",
       "      <td>1 099 696</td>\n",
       "      <td>813 948</td>\n",
       "      <td>A01</td>\n",
       "      <td>1.0</td>\n",
       "      <td>conducteur</td>\n",
       "      <td>1.0</td>\n",
       "      <td>homme</td>\n",
       "      <td>2002.0</td>\n",
       "      <td>NaN</td>\n",
       "      <td>1.0</td>\n",
       "      <td>0.0</td>\n",
       "      <td>NaN</td>\n",
       "      <td>NaN</td>\n",
       "      <td>-1</td>\n",
       "      <td>NaN</td>\n",
       "    </tr>\n",
       "    <tr>\n",
       "      <th>...</th>\n",
       "      <td>...</td>\n",
       "      <td>...</td>\n",
       "      <td>...</td>\n",
       "      <td>...</td>\n",
       "      <td>...</td>\n",
       "      <td>...</td>\n",
       "      <td>...</td>\n",
       "      <td>...</td>\n",
       "      <td>...</td>\n",
       "      <td>...</td>\n",
       "      <td>...</td>\n",
       "      <td>...</td>\n",
       "      <td>...</td>\n",
       "      <td>...</td>\n",
       "      <td>...</td>\n",
       "      <td>...</td>\n",
       "    </tr>\n",
       "    <tr>\n",
       "      <th>126657</th>\n",
       "      <td>202200055301</td>\n",
       "      <td>968 230</td>\n",
       "      <td>715 631</td>\n",
       "      <td>A01</td>\n",
       "      <td>1.0</td>\n",
       "      <td>conducteur</td>\n",
       "      <td>1.0</td>\n",
       "      <td>femme</td>\n",
       "      <td>2002.0</td>\n",
       "      <td>promenade-loisirs</td>\n",
       "      <td>1.0</td>\n",
       "      <td>NaN</td>\n",
       "      <td>NaN</td>\n",
       "      <td>0.0</td>\n",
       "      <td>NaN</td>\n",
       "      <td>NaN</td>\n",
       "    </tr>\n",
       "    <tr>\n",
       "      <th>126658</th>\n",
       "      <td>202200055301</td>\n",
       "      <td>968 231</td>\n",
       "      <td>715 631</td>\n",
       "      <td>A01</td>\n",
       "      <td>8.0</td>\n",
       "      <td>passager</td>\n",
       "      <td>3.0</td>\n",
       "      <td>femme</td>\n",
       "      <td>2004.0</td>\n",
       "      <td>promenade-loisirs</td>\n",
       "      <td>1.0</td>\n",
       "      <td>NaN</td>\n",
       "      <td>NaN</td>\n",
       "      <td>0.0</td>\n",
       "      <td>NaN</td>\n",
       "      <td>NaN</td>\n",
       "    </tr>\n",
       "    <tr>\n",
       "      <th>126659</th>\n",
       "      <td>202200055301</td>\n",
       "      <td>968 232</td>\n",
       "      <td>715 632</td>\n",
       "      <td>B01</td>\n",
       "      <td>1.0</td>\n",
       "      <td>conducteur</td>\n",
       "      <td>2.0</td>\n",
       "      <td>femme</td>\n",
       "      <td>1953.0</td>\n",
       "      <td>promenade-loisirs</td>\n",
       "      <td>1.0</td>\n",
       "      <td>NaN</td>\n",
       "      <td>NaN</td>\n",
       "      <td>0.0</td>\n",
       "      <td>NaN</td>\n",
       "      <td>NaN</td>\n",
       "    </tr>\n",
       "    <tr>\n",
       "      <th>126660</th>\n",
       "      <td>202200055302</td>\n",
       "      <td>968 228</td>\n",
       "      <td>715 629</td>\n",
       "      <td>A01</td>\n",
       "      <td>1.0</td>\n",
       "      <td>conducteur</td>\n",
       "      <td>3.0</td>\n",
       "      <td>homme</td>\n",
       "      <td>1992.0</td>\n",
       "      <td>domicile-travail</td>\n",
       "      <td>2.0</td>\n",
       "      <td>6.0</td>\n",
       "      <td>NaN</td>\n",
       "      <td>NaN</td>\n",
       "      <td>-1</td>\n",
       "      <td>NaN</td>\n",
       "    </tr>\n",
       "    <tr>\n",
       "      <th>126661</th>\n",
       "      <td>202200055302</td>\n",
       "      <td>968 229</td>\n",
       "      <td>715 630</td>\n",
       "      <td>B01</td>\n",
       "      <td>1.0</td>\n",
       "      <td>conducteur</td>\n",
       "      <td>1.0</td>\n",
       "      <td>homme</td>\n",
       "      <td>2000.0</td>\n",
       "      <td>NaN</td>\n",
       "      <td>1.0</td>\n",
       "      <td>NaN</td>\n",
       "      <td>NaN</td>\n",
       "      <td>NaN</td>\n",
       "      <td>-1</td>\n",
       "      <td>NaN</td>\n",
       "    </tr>\n",
       "  </tbody>\n",
       "</table>\n",
       "<p>126662 rows × 16 columns</p>\n",
       "</div>"
      ],
      "text/plain": [
       "             Num_Acc  id_usager id_vehicule num_veh  place        catu  grav  \\\n",
       "0       202200000001  1 099 700     813 952     A01    1.0  conducteur   3.0   \n",
       "1       202200000001  1 099 701     813 953     B01    1.0  conducteur   1.0   \n",
       "2       202200000002  1 099 698     813 950     B01    1.0  conducteur   2.0   \n",
       "3       202200000002  1 099 699     813 951     A01    1.0  conducteur   1.0   \n",
       "4       202200000003  1 099 696     813 948     A01    1.0  conducteur   1.0   \n",
       "...              ...        ...         ...     ...    ...         ...   ...   \n",
       "126657  202200055301    968 230     715 631     A01    1.0  conducteur   1.0   \n",
       "126658  202200055301    968 231     715 631     A01    8.0    passager   3.0   \n",
       "126659  202200055301    968 232     715 632     B01    1.0  conducteur   2.0   \n",
       "126660  202200055302    968 228     715 629     A01    1.0  conducteur   3.0   \n",
       "126661  202200055302    968 229     715 630     B01    1.0  conducteur   1.0   \n",
       "\n",
       "         sexe  an_nais             trajet  secu1  secu2  secu3  locp actp  \\\n",
       "0       homme   2008.0  promenade-loisirs    2.0    8.0    NaN   NaN   -1   \n",
       "1       homme   1948.0  promenade-loisirs    1.0    8.0    NaN   NaN   -1   \n",
       "2       homme   1988.0              autre    1.0    0.0    NaN   0.0  NaN   \n",
       "3       homme   1970.0    utilisation pro    1.0    0.0    NaN   0.0  NaN   \n",
       "4       homme   2002.0                NaN    1.0    0.0    NaN   NaN   -1   \n",
       "...       ...      ...                ...    ...    ...    ...   ...  ...   \n",
       "126657  femme   2002.0  promenade-loisirs    1.0    NaN    NaN   0.0  NaN   \n",
       "126658  femme   2004.0  promenade-loisirs    1.0    NaN    NaN   0.0  NaN   \n",
       "126659  femme   1953.0  promenade-loisirs    1.0    NaN    NaN   0.0  NaN   \n",
       "126660  homme   1992.0   domicile-travail    2.0    6.0    NaN   NaN   -1   \n",
       "126661  homme   2000.0                NaN    1.0    NaN    NaN   NaN   -1   \n",
       "\n",
       "       etatp  \n",
       "0        NaN  \n",
       "1        NaN  \n",
       "2        NaN  \n",
       "3        NaN  \n",
       "4        NaN  \n",
       "...      ...  \n",
       "126657   NaN  \n",
       "126658   NaN  \n",
       "126659   NaN  \n",
       "126660   NaN  \n",
       "126661   NaN  \n",
       "\n",
       "[126662 rows x 16 columns]"
      ]
     },
     "execution_count": 9,
     "metadata": {},
     "output_type": "execute_result"
    }
   ],
   "source": [
    "df_usagers_22.replace(-1, np.NaN, inplace=True)\n",
    "df_usagers_22"
   ]
  },
  {
   "cell_type": "markdown",
   "metadata": {},
   "source": [
    "Regardons à présent les statistiques descriptives de la base usagers en ventilant selon les modalités des autres variables catégorielles."
   ]
  },
  {
   "cell_type": "code",
   "execution_count": 10,
   "metadata": {},
   "outputs": [
    {
     "data": {
      "text/html": [
       "<div>\n",
       "<style scoped>\n",
       "    .dataframe tbody tr th:only-of-type {\n",
       "        vertical-align: middle;\n",
       "    }\n",
       "\n",
       "    .dataframe tbody tr th {\n",
       "        vertical-align: top;\n",
       "    }\n",
       "\n",
       "    .dataframe thead th {\n",
       "        text-align: right;\n",
       "    }\n",
       "</style>\n",
       "<table border=\"1\" class=\"dataframe\">\n",
       "  <thead>\n",
       "    <tr style=\"text-align: right;\">\n",
       "      <th></th>\n",
       "      <th>Num_Acc</th>\n",
       "      <th>place</th>\n",
       "      <th>an_nais</th>\n",
       "      <th>secu1</th>\n",
       "      <th>secu2</th>\n",
       "      <th>secu3</th>\n",
       "      <th>locp</th>\n",
       "    </tr>\n",
       "    <tr>\n",
       "      <th>grav</th>\n",
       "      <th></th>\n",
       "      <th></th>\n",
       "      <th></th>\n",
       "      <th></th>\n",
       "      <th></th>\n",
       "      <th></th>\n",
       "      <th></th>\n",
       "    </tr>\n",
       "  </thead>\n",
       "  <tbody>\n",
       "    <tr>\n",
       "      <th>1.0</th>\n",
       "      <td>2.022000e+11</td>\n",
       "      <td>1.427285</td>\n",
       "      <td>1982.195721</td>\n",
       "      <td>1.731958</td>\n",
       "      <td>1.681098</td>\n",
       "      <td>4.091346</td>\n",
       "      <td>0.039954</td>\n",
       "    </tr>\n",
       "    <tr>\n",
       "      <th>2.0</th>\n",
       "      <td>2.022000e+11</td>\n",
       "      <td>2.563934</td>\n",
       "      <td>1986.013885</td>\n",
       "      <td>2.065318</td>\n",
       "      <td>2.666243</td>\n",
       "      <td>6.343434</td>\n",
       "      <td>0.710653</td>\n",
       "    </tr>\n",
       "    <tr>\n",
       "      <th>3.0</th>\n",
       "      <td>2.022000e+11</td>\n",
       "      <td>2.605659</td>\n",
       "      <td>1981.571288</td>\n",
       "      <td>1.965533</td>\n",
       "      <td>4.239090</td>\n",
       "      <td>7.989097</td>\n",
       "      <td>0.515363</td>\n",
       "    </tr>\n",
       "    <tr>\n",
       "      <th>4.0</th>\n",
       "      <td>2.022000e+11</td>\n",
       "      <td>2.684225</td>\n",
       "      <td>1974.955775</td>\n",
       "      <td>1.922686</td>\n",
       "      <td>3.901422</td>\n",
       "      <td>6.126050</td>\n",
       "      <td>0.543780</td>\n",
       "    </tr>\n",
       "  </tbody>\n",
       "</table>\n",
       "</div>"
      ],
      "text/plain": [
       "           Num_Acc     place      an_nais     secu1     secu2     secu3  \\\n",
       "grav                                                                      \n",
       "1.0   2.022000e+11  1.427285  1982.195721  1.731958  1.681098  4.091346   \n",
       "2.0   2.022000e+11  2.563934  1986.013885  2.065318  2.666243  6.343434   \n",
       "3.0   2.022000e+11  2.605659  1981.571288  1.965533  4.239090  7.989097   \n",
       "4.0   2.022000e+11  2.684225  1974.955775  1.922686  3.901422  6.126050   \n",
       "\n",
       "          locp  \n",
       "grav            \n",
       "1.0   0.039954  \n",
       "2.0   0.710653  \n",
       "3.0   0.515363  \n",
       "4.0   0.543780  "
      ]
     },
     "execution_count": 10,
     "metadata": {},
     "output_type": "execute_result"
    }
   ],
   "source": [
    "df_usagers_22.groupby(\"grav\").mean()"
   ]
  },
  {
   "cell_type": "markdown",
   "metadata": {},
   "source": [
    "**Catégorie d'usager** - On constate ci-dessous que les piétons sont globalement plus gravement atteints que les conducteurs et passagers (ces derniers étant eux-mêmes légèrement plus gravement atteints que les conducteurs)."
   ]
  },
  {
   "cell_type": "code",
   "execution_count": 11,
   "metadata": {},
   "outputs": [
    {
     "data": {
      "text/html": [
       "<div>\n",
       "<style scoped>\n",
       "    .dataframe tbody tr th:only-of-type {\n",
       "        vertical-align: middle;\n",
       "    }\n",
       "\n",
       "    .dataframe tbody tr th {\n",
       "        vertical-align: top;\n",
       "    }\n",
       "\n",
       "    .dataframe thead th {\n",
       "        text-align: right;\n",
       "    }\n",
       "</style>\n",
       "<table border=\"1\" class=\"dataframe\">\n",
       "  <thead>\n",
       "    <tr style=\"text-align: right;\">\n",
       "      <th></th>\n",
       "      <th>grav</th>\n",
       "    </tr>\n",
       "    <tr>\n",
       "      <th>catu</th>\n",
       "      <th></th>\n",
       "    </tr>\n",
       "  </thead>\n",
       "  <tbody>\n",
       "    <tr>\n",
       "      <th>conducteur</th>\n",
       "      <td>1.718829</td>\n",
       "    </tr>\n",
       "    <tr>\n",
       "      <th>passager</th>\n",
       "      <td>1.817765</td>\n",
       "    </tr>\n",
       "    <tr>\n",
       "      <th>piéton</th>\n",
       "      <td>2.349467</td>\n",
       "    </tr>\n",
       "  </tbody>\n",
       "</table>\n",
       "</div>"
      ],
      "text/plain": [
       "                grav\n",
       "catu                \n",
       "conducteur  1.718829\n",
       "passager    1.817765\n",
       "piéton      2.349467"
      ]
     },
     "execution_count": 11,
     "metadata": {},
     "output_type": "execute_result"
    }
   ],
   "source": [
    "df_usagers_22.groupby(\"catu\")[[\"grav\"]].mean()"
   ]
  },
  {
   "cell_type": "markdown",
   "metadata": {},
   "source": [
    "**Sexe** - Les femmes sont touchées de manière légèrement plus grave que les hommes, mais cela ne semble pas significatif. "
   ]
  },
  {
   "cell_type": "code",
   "execution_count": 12,
   "metadata": {},
   "outputs": [
    {
     "data": {
      "text/html": [
       "<div>\n",
       "<style scoped>\n",
       "    .dataframe tbody tr th:only-of-type {\n",
       "        vertical-align: middle;\n",
       "    }\n",
       "\n",
       "    .dataframe tbody tr th {\n",
       "        vertical-align: top;\n",
       "    }\n",
       "\n",
       "    .dataframe thead th {\n",
       "        text-align: right;\n",
       "    }\n",
       "</style>\n",
       "<table border=\"1\" class=\"dataframe\">\n",
       "  <thead>\n",
       "    <tr style=\"text-align: right;\">\n",
       "      <th></th>\n",
       "      <th>grav</th>\n",
       "    </tr>\n",
       "    <tr>\n",
       "      <th>sexe</th>\n",
       "      <th></th>\n",
       "    </tr>\n",
       "  </thead>\n",
       "  <tbody>\n",
       "    <tr>\n",
       "      <th>femme</th>\n",
       "      <td>1.813946</td>\n",
       "    </tr>\n",
       "    <tr>\n",
       "      <th>homme</th>\n",
       "      <td>1.793771</td>\n",
       "    </tr>\n",
       "  </tbody>\n",
       "</table>\n",
       "</div>"
      ],
      "text/plain": [
       "           grav\n",
       "sexe           \n",
       "femme  1.813946\n",
       "homme  1.793771"
      ]
     },
     "execution_count": 12,
     "metadata": {},
     "output_type": "execute_result"
    }
   ],
   "source": [
    "df_usagers_22.groupby(\"sexe\")[[\"grav\"]].mean()"
   ]
  },
  {
   "cell_type": "markdown",
   "metadata": {},
   "source": [
    "Remarqué un peu par hasard : il semblerait que la différence entre les conducteurs et passagers ne soit significative que chez les femmes."
   ]
  },
  {
   "cell_type": "code",
   "execution_count": 13,
   "metadata": {},
   "outputs": [
    {
     "data": {
      "text/html": [
       "<div>\n",
       "<style scoped>\n",
       "    .dataframe tbody tr th:only-of-type {\n",
       "        vertical-align: middle;\n",
       "    }\n",
       "\n",
       "    .dataframe tbody tr th {\n",
       "        vertical-align: top;\n",
       "    }\n",
       "\n",
       "    .dataframe thead th {\n",
       "        text-align: right;\n",
       "    }\n",
       "</style>\n",
       "<table border=\"1\" class=\"dataframe\">\n",
       "  <thead>\n",
       "    <tr style=\"text-align: right;\">\n",
       "      <th></th>\n",
       "      <th></th>\n",
       "      <th>grav</th>\n",
       "    </tr>\n",
       "    <tr>\n",
       "      <th>sexe</th>\n",
       "      <th>catu</th>\n",
       "      <th></th>\n",
       "    </tr>\n",
       "  </thead>\n",
       "  <tbody>\n",
       "    <tr>\n",
       "      <th rowspan=\"3\" valign=\"top\">femme</th>\n",
       "      <th>conducteur</th>\n",
       "      <td>1.685784</td>\n",
       "    </tr>\n",
       "    <tr>\n",
       "      <th>passager</th>\n",
       "      <td>1.863451</td>\n",
       "    </tr>\n",
       "    <tr>\n",
       "      <th>piéton</th>\n",
       "      <td>2.329261</td>\n",
       "    </tr>\n",
       "    <tr>\n",
       "      <th rowspan=\"3\" valign=\"top\">homme</th>\n",
       "      <th>conducteur</th>\n",
       "      <td>1.756461</td>\n",
       "    </tr>\n",
       "    <tr>\n",
       "      <th>passager</th>\n",
       "      <td>1.774495</td>\n",
       "    </tr>\n",
       "    <tr>\n",
       "      <th>piéton</th>\n",
       "      <td>2.369371</td>\n",
       "    </tr>\n",
       "  </tbody>\n",
       "</table>\n",
       "</div>"
      ],
      "text/plain": [
       "                      grav\n",
       "sexe  catu                \n",
       "femme conducteur  1.685784\n",
       "      passager    1.863451\n",
       "      piéton      2.329261\n",
       "homme conducteur  1.756461\n",
       "      passager    1.774495\n",
       "      piéton      2.369371"
      ]
     },
     "execution_count": 13,
     "metadata": {},
     "output_type": "execute_result"
    }
   ],
   "source": [
    "df_usagers_22.groupby([\"sexe\", \"catu\"])[[\"grav\"]].mean()"
   ]
  },
  {
   "cell_type": "code",
   "execution_count": 14,
   "metadata": {},
   "outputs": [
    {
     "data": {
      "text/html": [
       "<div>\n",
       "<style scoped>\n",
       "    .dataframe tbody tr th:only-of-type {\n",
       "        vertical-align: middle;\n",
       "    }\n",
       "\n",
       "    .dataframe tbody tr th {\n",
       "        vertical-align: top;\n",
       "    }\n",
       "\n",
       "    .dataframe thead th {\n",
       "        text-align: right;\n",
       "    }\n",
       "</style>\n",
       "<table border=\"1\" class=\"dataframe\">\n",
       "  <thead>\n",
       "    <tr style=\"text-align: right;\">\n",
       "      <th></th>\n",
       "      <th></th>\n",
       "      <th>grav</th>\n",
       "    </tr>\n",
       "    <tr>\n",
       "      <th>sexe</th>\n",
       "      <th>catu</th>\n",
       "      <th></th>\n",
       "    </tr>\n",
       "  </thead>\n",
       "  <tbody>\n",
       "    <tr>\n",
       "      <th rowspan=\"3\" valign=\"top\">femme</th>\n",
       "      <th>conducteur</th>\n",
       "      <td>1.685784</td>\n",
       "    </tr>\n",
       "    <tr>\n",
       "      <th>passager</th>\n",
       "      <td>1.863451</td>\n",
       "    </tr>\n",
       "    <tr>\n",
       "      <th>piéton</th>\n",
       "      <td>2.329261</td>\n",
       "    </tr>\n",
       "    <tr>\n",
       "      <th rowspan=\"3\" valign=\"top\">homme</th>\n",
       "      <th>conducteur</th>\n",
       "      <td>1.756461</td>\n",
       "    </tr>\n",
       "    <tr>\n",
       "      <th>passager</th>\n",
       "      <td>1.774495</td>\n",
       "    </tr>\n",
       "    <tr>\n",
       "      <th>piéton</th>\n",
       "      <td>2.369371</td>\n",
       "    </tr>\n",
       "  </tbody>\n",
       "</table>\n",
       "</div>"
      ],
      "text/plain": [
       "                      grav\n",
       "sexe  catu                \n",
       "femme conducteur  1.685784\n",
       "      passager    1.863451\n",
       "      piéton      2.329261\n",
       "homme conducteur  1.756461\n",
       "      passager    1.774495\n",
       "      piéton      2.369371"
      ]
     },
     "execution_count": 14,
     "metadata": {},
     "output_type": "execute_result"
    }
   ],
   "source": [
    "df_usagers_22.groupby([\"sexe\", \"catu\"])[[\"grav\"]].mean()"
   ]
  },
  {
   "cell_type": "code",
   "execution_count": 15,
   "metadata": {},
   "outputs": [
    {
     "data": {
      "text/html": [
       "<div>\n",
       "<style scoped>\n",
       "    .dataframe tbody tr th:only-of-type {\n",
       "        vertical-align: middle;\n",
       "    }\n",
       "\n",
       "    .dataframe tbody tr th {\n",
       "        vertical-align: top;\n",
       "    }\n",
       "\n",
       "    .dataframe thead th {\n",
       "        text-align: right;\n",
       "    }\n",
       "</style>\n",
       "<table border=\"1\" class=\"dataframe\">\n",
       "  <thead>\n",
       "    <tr style=\"text-align: right;\">\n",
       "      <th></th>\n",
       "      <th>grav</th>\n",
       "    </tr>\n",
       "    <tr>\n",
       "      <th>trajet</th>\n",
       "      <th></th>\n",
       "    </tr>\n",
       "  </thead>\n",
       "  <tbody>\n",
       "    <tr>\n",
       "      <th>promenade-loisirs</th>\n",
       "      <td>1.913952</td>\n",
       "    </tr>\n",
       "    <tr>\n",
       "      <th>domicile-école</th>\n",
       "      <td>1.887235</td>\n",
       "    </tr>\n",
       "    <tr>\n",
       "      <th>courses-achats</th>\n",
       "      <td>1.876650</td>\n",
       "    </tr>\n",
       "    <tr>\n",
       "      <th>domicile-travail</th>\n",
       "      <td>1.777607</td>\n",
       "    </tr>\n",
       "    <tr>\n",
       "      <th>autre</th>\n",
       "      <td>1.764627</td>\n",
       "    </tr>\n",
       "    <tr>\n",
       "      <th>NaN</th>\n",
       "      <td>1.720498</td>\n",
       "    </tr>\n",
       "    <tr>\n",
       "      <th>utilisation pro</th>\n",
       "      <td>1.436242</td>\n",
       "    </tr>\n",
       "  </tbody>\n",
       "</table>\n",
       "</div>"
      ],
      "text/plain": [
       "                       grav\n",
       "trajet                     \n",
       "promenade-loisirs  1.913952\n",
       "domicile-école     1.887235\n",
       "courses-achats     1.876650\n",
       "domicile-travail   1.777607\n",
       "autre              1.764627\n",
       "NaN                1.720498\n",
       "utilisation pro    1.436242"
      ]
     },
     "execution_count": 15,
     "metadata": {},
     "output_type": "execute_result"
    }
   ],
   "source": [
    "df_usagers_22.groupby(\"trajet\", dropna=False)[[\"grav\"]].mean().sort_values(\"grav\", ascending=False)"
   ]
  },
  {
   "cell_type": "code",
   "execution_count": 16,
   "metadata": {},
   "outputs": [
    {
     "data": {
      "text/plain": [
       "<AxesSubplot:xlabel='trajet', ylabel='count'>"
      ]
     },
     "execution_count": 16,
     "metadata": {},
     "output_type": "execute_result"
    },
    {
     "data": {
      "image/png": "[encoded data removed]",
      "text/plain": [
       "<Figure size 432x288 with 1 Axes>"
      ]
     },
     "metadata": {
      "needs_background": "light"
     },
     "output_type": "display_data"
    }
   ],
   "source": [
    "sns.countplot(data=df_usagers_22, x=\"trajet\")"
   ]
  },
  {
   "cell_type": "code",
   "execution_count": 17,
   "metadata": {},
   "outputs": [
    {
     "data": {
      "text/plain": [
       "<AxesSubplot:xlabel='catr', ylabel='count'>"
      ]
     },
     "execution_count": 17,
     "metadata": {},
     "output_type": "execute_result"
    },
    {
     "data": {
      "image/png": "[encoded data removed]",
      "text/plain": [
       "<Figure size 432x288 with 1 Axes>"
      ]
     },
     "metadata": {
      "needs_background": "light"
     },
     "output_type": "display_data"
    }
   ],
   "source": [
    "sns.countplot(data=df_lieux_22, x=\"catr\")"
   ]
  },
  {
   "cell_type": "markdown",
   "metadata": {},
   "source": [
    "# Véhicules"
   ]
  },
  {
   "cell_type": "code",
   "execution_count": 18,
   "metadata": {},
   "outputs": [],
   "source": [
    "df_vehicules_22 = clean_df_vehicules(df_vehicules_22)"
   ]
  },
  {
   "cell_type": "code",
   "execution_count": 19,
   "metadata": {},
   "outputs": [
    {
     "data": {
      "text/html": [
       "<div>\n",
       "<style scoped>\n",
       "    .dataframe tbody tr th:only-of-type {\n",
       "        vertical-align: middle;\n",
       "    }\n",
       "\n",
       "    .dataframe tbody tr th {\n",
       "        vertical-align: top;\n",
       "    }\n",
       "\n",
       "    .dataframe thead th {\n",
       "        text-align: right;\n",
       "    }\n",
       "</style>\n",
       "<table border=\"1\" class=\"dataframe\">\n",
       "  <thead>\n",
       "    <tr style=\"text-align: right;\">\n",
       "      <th></th>\n",
       "      <th>Num_Acc</th>\n",
       "      <th>id_vehicule</th>\n",
       "      <th>num_veh</th>\n",
       "      <th>senc</th>\n",
       "      <th>catv</th>\n",
       "      <th>obs</th>\n",
       "      <th>obsm</th>\n",
       "      <th>choc</th>\n",
       "      <th>manv</th>\n",
       "      <th>motor</th>\n",
       "      <th>occutc</th>\n",
       "    </tr>\n",
       "  </thead>\n",
       "  <tbody>\n",
       "    <tr>\n",
       "      <th>0</th>\n",
       "      <td>202200000001</td>\n",
       "      <td>813 952</td>\n",
       "      <td>A01</td>\n",
       "      <td>1.0</td>\n",
       "      <td>2.0</td>\n",
       "      <td>0.0</td>\n",
       "      <td>2.0</td>\n",
       "      <td>1.0</td>\n",
       "      <td>9.0</td>\n",
       "      <td>1.0</td>\n",
       "      <td>NaN</td>\n",
       "    </tr>\n",
       "    <tr>\n",
       "      <th>1</th>\n",
       "      <td>202200000001</td>\n",
       "      <td>813 953</td>\n",
       "      <td>B01</td>\n",
       "      <td>1.0</td>\n",
       "      <td>7.0</td>\n",
       "      <td>0.0</td>\n",
       "      <td>2.0</td>\n",
       "      <td>2.0</td>\n",
       "      <td>1.0</td>\n",
       "      <td>1.0</td>\n",
       "      <td>NaN</td>\n",
       "    </tr>\n",
       "    <tr>\n",
       "      <th>2</th>\n",
       "      <td>202200000002</td>\n",
       "      <td>813 950</td>\n",
       "      <td>B01</td>\n",
       "      <td>2.0</td>\n",
       "      <td>7.0</td>\n",
       "      <td>0.0</td>\n",
       "      <td>2.0</td>\n",
       "      <td>8.0</td>\n",
       "      <td>15.0</td>\n",
       "      <td>1.0</td>\n",
       "      <td>NaN</td>\n",
       "    </tr>\n",
       "    <tr>\n",
       "      <th>3</th>\n",
       "      <td>202200000002</td>\n",
       "      <td>813 951</td>\n",
       "      <td>A01</td>\n",
       "      <td>2.0</td>\n",
       "      <td>10.0</td>\n",
       "      <td>0.0</td>\n",
       "      <td>2.0</td>\n",
       "      <td>1.0</td>\n",
       "      <td>1.0</td>\n",
       "      <td>1.0</td>\n",
       "      <td>NaN</td>\n",
       "    </tr>\n",
       "    <tr>\n",
       "      <th>4</th>\n",
       "      <td>202200000003</td>\n",
       "      <td>813 948</td>\n",
       "      <td>A01</td>\n",
       "      <td>2.0</td>\n",
       "      <td>7.0</td>\n",
       "      <td>0.0</td>\n",
       "      <td>2.0</td>\n",
       "      <td>1.0</td>\n",
       "      <td>2.0</td>\n",
       "      <td>1.0</td>\n",
       "      <td>NaN</td>\n",
       "    </tr>\n",
       "    <tr>\n",
       "      <th>...</th>\n",
       "      <td>...</td>\n",
       "      <td>...</td>\n",
       "      <td>...</td>\n",
       "      <td>...</td>\n",
       "      <td>...</td>\n",
       "      <td>...</td>\n",
       "      <td>...</td>\n",
       "      <td>...</td>\n",
       "      <td>...</td>\n",
       "      <td>...</td>\n",
       "      <td>...</td>\n",
       "    </tr>\n",
       "    <tr>\n",
       "      <th>94488</th>\n",
       "      <td>202200055300</td>\n",
       "      <td>715 633</td>\n",
       "      <td>A01</td>\n",
       "      <td>2.0</td>\n",
       "      <td>7.0</td>\n",
       "      <td>2.0</td>\n",
       "      <td>0.0</td>\n",
       "      <td>1.0</td>\n",
       "      <td>1.0</td>\n",
       "      <td>1.0</td>\n",
       "      <td>NaN</td>\n",
       "    </tr>\n",
       "    <tr>\n",
       "      <th>94489</th>\n",
       "      <td>202200055301</td>\n",
       "      <td>715 631</td>\n",
       "      <td>A01</td>\n",
       "      <td>2.0</td>\n",
       "      <td>7.0</td>\n",
       "      <td>0.0</td>\n",
       "      <td>0.0</td>\n",
       "      <td>8.0</td>\n",
       "      <td>19.0</td>\n",
       "      <td>1.0</td>\n",
       "      <td>NaN</td>\n",
       "    </tr>\n",
       "    <tr>\n",
       "      <th>94490</th>\n",
       "      <td>202200055301</td>\n",
       "      <td>715 632</td>\n",
       "      <td>B01</td>\n",
       "      <td>2.0</td>\n",
       "      <td>7.0</td>\n",
       "      <td>0.0</td>\n",
       "      <td>2.0</td>\n",
       "      <td>1.0</td>\n",
       "      <td>1.0</td>\n",
       "      <td>1.0</td>\n",
       "      <td>NaN</td>\n",
       "    </tr>\n",
       "    <tr>\n",
       "      <th>94491</th>\n",
       "      <td>202200055302</td>\n",
       "      <td>715 629</td>\n",
       "      <td>A01</td>\n",
       "      <td>1.0</td>\n",
       "      <td>33.0</td>\n",
       "      <td>0.0</td>\n",
       "      <td>2.0</td>\n",
       "      <td>1.0</td>\n",
       "      <td>1.0</td>\n",
       "      <td>1.0</td>\n",
       "      <td>NaN</td>\n",
       "    </tr>\n",
       "    <tr>\n",
       "      <th>94492</th>\n",
       "      <td>202200055302</td>\n",
       "      <td>715 630</td>\n",
       "      <td>B01</td>\n",
       "      <td>1.0</td>\n",
       "      <td>7.0</td>\n",
       "      <td>0.0</td>\n",
       "      <td>0.0</td>\n",
       "      <td>4.0</td>\n",
       "      <td>21.0</td>\n",
       "      <td>1.0</td>\n",
       "      <td>NaN</td>\n",
       "    </tr>\n",
       "  </tbody>\n",
       "</table>\n",
       "<p>94493 rows × 11 columns</p>\n",
       "</div>"
      ],
      "text/plain": [
       "            Num_Acc id_vehicule num_veh  senc  catv  obs  obsm  choc  manv  \\\n",
       "0      202200000001     813 952     A01   1.0   2.0  0.0   2.0   1.0   9.0   \n",
       "1      202200000001     813 953     B01   1.0   7.0  0.0   2.0   2.0   1.0   \n",
       "2      202200000002     813 950     B01   2.0   7.0  0.0   2.0   8.0  15.0   \n",
       "3      202200000002     813 951     A01   2.0  10.0  0.0   2.0   1.0   1.0   \n",
       "4      202200000003     813 948     A01   2.0   7.0  0.0   2.0   1.0   2.0   \n",
       "...             ...         ...     ...   ...   ...  ...   ...   ...   ...   \n",
       "94488  202200055300     715 633     A01   2.0   7.0  2.0   0.0   1.0   1.0   \n",
       "94489  202200055301     715 631     A01   2.0   7.0  0.0   0.0   8.0  19.0   \n",
       "94490  202200055301     715 632     B01   2.0   7.0  0.0   2.0   1.0   1.0   \n",
       "94491  202200055302     715 629     A01   1.0  33.0  0.0   2.0   1.0   1.0   \n",
       "94492  202200055302     715 630     B01   1.0   7.0  0.0   0.0   4.0  21.0   \n",
       "\n",
       "       motor  occutc  \n",
       "0        1.0     NaN  \n",
       "1        1.0     NaN  \n",
       "2        1.0     NaN  \n",
       "3        1.0     NaN  \n",
       "4        1.0     NaN  \n",
       "...      ...     ...  \n",
       "94488    1.0     NaN  \n",
       "94489    1.0     NaN  \n",
       "94490    1.0     NaN  \n",
       "94491    1.0     NaN  \n",
       "94492    1.0     NaN  \n",
       "\n",
       "[94493 rows x 11 columns]"
      ]
     },
     "execution_count": 19,
     "metadata": {},
     "output_type": "execute_result"
    }
   ],
   "source": [
    "df_vehicules_22"
   ]
  },
  {
   "cell_type": "markdown",
   "metadata": {},
   "source": [
    "# Lieux"
   ]
  },
  {
   "cell_type": "code",
   "execution_count": 20,
   "metadata": {},
   "outputs": [],
   "source": [
    "df_lieux_22 = clean_df_lieux(df_lieux_22)"
   ]
  },
  {
   "cell_type": "code",
   "execution_count": 21,
   "metadata": {},
   "outputs": [
    {
     "data": {
      "text/html": [
       "<div>\n",
       "<style scoped>\n",
       "    .dataframe tbody tr th:only-of-type {\n",
       "        vertical-align: middle;\n",
       "    }\n",
       "\n",
       "    .dataframe tbody tr th {\n",
       "        vertical-align: top;\n",
       "    }\n",
       "\n",
       "    .dataframe thead th {\n",
       "        text-align: right;\n",
       "    }\n",
       "</style>\n",
       "<table border=\"1\" class=\"dataframe\">\n",
       "  <thead>\n",
       "    <tr style=\"text-align: right;\">\n",
       "      <th></th>\n",
       "      <th>Num_Acc</th>\n",
       "      <th>catr</th>\n",
       "      <th>voie</th>\n",
       "      <th>v1</th>\n",
       "      <th>v2</th>\n",
       "      <th>circ</th>\n",
       "      <th>nbv</th>\n",
       "      <th>vosp</th>\n",
       "      <th>prof</th>\n",
       "      <th>pr</th>\n",
       "      <th>pr1</th>\n",
       "      <th>plan</th>\n",
       "      <th>lartpc</th>\n",
       "      <th>larrout</th>\n",
       "      <th>surf</th>\n",
       "      <th>infra</th>\n",
       "      <th>situ</th>\n",
       "      <th>vma</th>\n",
       "    </tr>\n",
       "  </thead>\n",
       "  <tbody>\n",
       "    <tr>\n",
       "      <th>0</th>\n",
       "      <td>202200000001</td>\n",
       "      <td>voie communale</td>\n",
       "      <td>TEIL(vieille route du)</td>\n",
       "      <td>0</td>\n",
       "      <td>NaN</td>\n",
       "      <td>chausée bidirectionnelle</td>\n",
       "      <td>2.0</td>\n",
       "      <td>NaN</td>\n",
       "      <td>1</td>\n",
       "      <td>(1)</td>\n",
       "      <td>(1)</td>\n",
       "      <td>partie rectiligne</td>\n",
       "      <td>NaN</td>\n",
       "      <td>-1</td>\n",
       "      <td>normale</td>\n",
       "      <td>NaN</td>\n",
       "      <td>chaussée</td>\n",
       "      <td>50.0</td>\n",
       "    </tr>\n",
       "    <tr>\n",
       "      <th>1</th>\n",
       "      <td>202200000002</td>\n",
       "      <td>voie communale</td>\n",
       "      <td>NaN</td>\n",
       "      <td>0</td>\n",
       "      <td>NaN</td>\n",
       "      <td>chausée bidirectionnelle</td>\n",
       "      <td>2.0</td>\n",
       "      <td>NaN</td>\n",
       "      <td>1</td>\n",
       "      <td>(1)</td>\n",
       "      <td>(1)</td>\n",
       "      <td>partie rectiligne</td>\n",
       "      <td>NaN</td>\n",
       "      <td>-1</td>\n",
       "      <td>normale</td>\n",
       "      <td>NaN</td>\n",
       "      <td>chaussée</td>\n",
       "      <td>50.0</td>\n",
       "    </tr>\n",
       "    <tr>\n",
       "      <th>2</th>\n",
       "      <td>202200000003</td>\n",
       "      <td>route departementale</td>\n",
       "      <td>ROND POINT DE BREZILLET</td>\n",
       "      <td>0</td>\n",
       "      <td>NaN</td>\n",
       "      <td>NaN</td>\n",
       "      <td>2.0</td>\n",
       "      <td>NaN</td>\n",
       "      <td>1</td>\n",
       "      <td>0</td>\n",
       "      <td>0</td>\n",
       "      <td>partie rectiligne</td>\n",
       "      <td>NaN</td>\n",
       "      <td>-1</td>\n",
       "      <td>normale</td>\n",
       "      <td>carrefour aménagé</td>\n",
       "      <td>chaussée</td>\n",
       "      <td>50.0</td>\n",
       "    </tr>\n",
       "    <tr>\n",
       "      <th>3</th>\n",
       "      <td>202200000004</td>\n",
       "      <td>voie communale</td>\n",
       "      <td>QUATORZE JUILLET (RUE DU)</td>\n",
       "      <td>0</td>\n",
       "      <td>NaN</td>\n",
       "      <td>chaussée unidirectionnelle</td>\n",
       "      <td>1.0</td>\n",
       "      <td>NaN</td>\n",
       "      <td>2</td>\n",
       "      <td>(1)</td>\n",
       "      <td>(1)</td>\n",
       "      <td>partie rectiligne</td>\n",
       "      <td>NaN</td>\n",
       "      <td>4</td>\n",
       "      <td>normale</td>\n",
       "      <td>NaN</td>\n",
       "      <td>chaussée</td>\n",
       "      <td>30.0</td>\n",
       "    </tr>\n",
       "    <tr>\n",
       "      <th>4</th>\n",
       "      <td>202200000005</td>\n",
       "      <td>route departementale</td>\n",
       "      <td>ROUTE DE JEAN MOULIN-RN 538</td>\n",
       "      <td>0</td>\n",
       "      <td>NaN</td>\n",
       "      <td>chausée bidirectionnelle</td>\n",
       "      <td>2.0</td>\n",
       "      <td>NaN</td>\n",
       "      <td>1</td>\n",
       "      <td>8</td>\n",
       "      <td>0</td>\n",
       "      <td>partie rectiligne</td>\n",
       "      <td>NaN</td>\n",
       "      <td>-1</td>\n",
       "      <td>normale</td>\n",
       "      <td>NaN</td>\n",
       "      <td>chaussée</td>\n",
       "      <td>80.0</td>\n",
       "    </tr>\n",
       "    <tr>\n",
       "      <th>...</th>\n",
       "      <td>...</td>\n",
       "      <td>...</td>\n",
       "      <td>...</td>\n",
       "      <td>...</td>\n",
       "      <td>...</td>\n",
       "      <td>...</td>\n",
       "      <td>...</td>\n",
       "      <td>...</td>\n",
       "      <td>...</td>\n",
       "      <td>...</td>\n",
       "      <td>...</td>\n",
       "      <td>...</td>\n",
       "      <td>...</td>\n",
       "      <td>...</td>\n",
       "      <td>...</td>\n",
       "      <td>...</td>\n",
       "      <td>...</td>\n",
       "      <td>...</td>\n",
       "    </tr>\n",
       "    <tr>\n",
       "      <th>55297</th>\n",
       "      <td>202200055298</td>\n",
       "      <td>route departementale</td>\n",
       "      <td>71</td>\n",
       "      <td>-1</td>\n",
       "      <td>NaN</td>\n",
       "      <td>chausée bidirectionnelle</td>\n",
       "      <td>2.0</td>\n",
       "      <td>NaN</td>\n",
       "      <td>2</td>\n",
       "      <td>(1)</td>\n",
       "      <td>(1)</td>\n",
       "      <td>partie rectiligne</td>\n",
       "      <td>NaN</td>\n",
       "      <td>-1</td>\n",
       "      <td>normale</td>\n",
       "      <td>NaN</td>\n",
       "      <td>autre</td>\n",
       "      <td>80.0</td>\n",
       "    </tr>\n",
       "    <tr>\n",
       "      <th>55298</th>\n",
       "      <td>202200055299</td>\n",
       "      <td>route departementale</td>\n",
       "      <td>973</td>\n",
       "      <td>-1</td>\n",
       "      <td>NaN</td>\n",
       "      <td>chausée bidirectionnelle</td>\n",
       "      <td>2.0</td>\n",
       "      <td>NaN</td>\n",
       "      <td>1</td>\n",
       "      <td>29</td>\n",
       "      <td>0</td>\n",
       "      <td>en courbe à gauche</td>\n",
       "      <td>NaN</td>\n",
       "      <td>-1</td>\n",
       "      <td>normale</td>\n",
       "      <td>NaN</td>\n",
       "      <td>acottement</td>\n",
       "      <td>80.0</td>\n",
       "    </tr>\n",
       "    <tr>\n",
       "      <th>55299</th>\n",
       "      <td>202200055300</td>\n",
       "      <td>route departementale</td>\n",
       "      <td>22</td>\n",
       "      <td>0</td>\n",
       "      <td>D</td>\n",
       "      <td>chausée bidirectionnelle</td>\n",
       "      <td>2.0</td>\n",
       "      <td>NaN</td>\n",
       "      <td>1</td>\n",
       "      <td>39</td>\n",
       "      <td>553</td>\n",
       "      <td>en courbe à gauche</td>\n",
       "      <td>NaN</td>\n",
       "      <td>-1</td>\n",
       "      <td>verglacée</td>\n",
       "      <td>NaN</td>\n",
       "      <td>acottement</td>\n",
       "      <td>80.0</td>\n",
       "    </tr>\n",
       "    <tr>\n",
       "      <th>55300</th>\n",
       "      <td>202200055301</td>\n",
       "      <td>route departementale</td>\n",
       "      <td>18</td>\n",
       "      <td>-1</td>\n",
       "      <td>D</td>\n",
       "      <td>chausée bidirectionnelle</td>\n",
       "      <td>2.0</td>\n",
       "      <td>NaN</td>\n",
       "      <td>1</td>\n",
       "      <td>30</td>\n",
       "      <td>125</td>\n",
       "      <td>partie rectiligne</td>\n",
       "      <td>NaN</td>\n",
       "      <td>-1</td>\n",
       "      <td>normale</td>\n",
       "      <td>NaN</td>\n",
       "      <td>chaussée</td>\n",
       "      <td>80.0</td>\n",
       "    </tr>\n",
       "    <tr>\n",
       "      <th>55301</th>\n",
       "      <td>202200055302</td>\n",
       "      <td>route departementale</td>\n",
       "      <td>NaN</td>\n",
       "      <td>-1</td>\n",
       "      <td>NaN</td>\n",
       "      <td>chaussée séparée</td>\n",
       "      <td>4.0</td>\n",
       "      <td>NaN</td>\n",
       "      <td>1</td>\n",
       "      <td>(1)</td>\n",
       "      <td>(1)</td>\n",
       "      <td>partie rectiligne</td>\n",
       "      <td>NaN</td>\n",
       "      <td>4</td>\n",
       "      <td>normale</td>\n",
       "      <td>NaN</td>\n",
       "      <td>chaussée</td>\n",
       "      <td>70.0</td>\n",
       "    </tr>\n",
       "  </tbody>\n",
       "</table>\n",
       "<p>55302 rows × 18 columns</p>\n",
       "</div>"
      ],
      "text/plain": [
       "            Num_Acc                  catr                         voie  v1  \\\n",
       "0      202200000001        voie communale       TEIL(vieille route du)   0   \n",
       "1      202200000002        voie communale                          NaN   0   \n",
       "2      202200000003  route departementale      ROND POINT DE BREZILLET   0   \n",
       "3      202200000004        voie communale    QUATORZE JUILLET (RUE DU)   0   \n",
       "4      202200000005  route departementale  ROUTE DE JEAN MOULIN-RN 538   0   \n",
       "...             ...                   ...                          ...  ..   \n",
       "55297  202200055298  route departementale                           71  -1   \n",
       "55298  202200055299  route departementale                          973  -1   \n",
       "55299  202200055300  route departementale                           22   0   \n",
       "55300  202200055301  route departementale                           18  -1   \n",
       "55301  202200055302  route departementale                          NaN  -1   \n",
       "\n",
       "        v2                        circ  nbv vosp  prof   pr  pr1  \\\n",
       "0      NaN    chausée bidirectionnelle  2.0  NaN     1  (1)  (1)   \n",
       "1      NaN    chausée bidirectionnelle  2.0  NaN     1  (1)  (1)   \n",
       "2      NaN                         NaN  2.0  NaN     1    0    0   \n",
       "3      NaN  chaussée unidirectionnelle  1.0  NaN     2  (1)  (1)   \n",
       "4      NaN    chausée bidirectionnelle  2.0  NaN     1    8    0   \n",
       "...    ...                         ...  ...  ...   ...  ...  ...   \n",
       "55297  NaN    chausée bidirectionnelle  2.0  NaN     2  (1)  (1)   \n",
       "55298  NaN    chausée bidirectionnelle  2.0  NaN     1   29    0   \n",
       "55299    D    chausée bidirectionnelle  2.0  NaN     1   39  553   \n",
       "55300    D    chausée bidirectionnelle  2.0  NaN     1   30  125   \n",
       "55301  NaN            chaussée séparée  4.0  NaN     1  (1)  (1)   \n",
       "\n",
       "                     plan lartpc larrout       surf              infra  \\\n",
       "0       partie rectiligne    NaN      -1    normale                NaN   \n",
       "1       partie rectiligne    NaN      -1    normale                NaN   \n",
       "2       partie rectiligne    NaN      -1    normale  carrefour aménagé   \n",
       "3       partie rectiligne    NaN       4    normale                NaN   \n",
       "4       partie rectiligne    NaN      -1    normale                NaN   \n",
       "...                   ...    ...     ...        ...                ...   \n",
       "55297   partie rectiligne    NaN      -1    normale                NaN   \n",
       "55298  en courbe à gauche    NaN      -1    normale                NaN   \n",
       "55299  en courbe à gauche    NaN      -1  verglacée                NaN   \n",
       "55300   partie rectiligne    NaN      -1    normale                NaN   \n",
       "55301   partie rectiligne    NaN       4    normale                NaN   \n",
       "\n",
       "             situ   vma  \n",
       "0        chaussée  50.0  \n",
       "1        chaussée  50.0  \n",
       "2        chaussée  50.0  \n",
       "3        chaussée  30.0  \n",
       "4        chaussée  80.0  \n",
       "...           ...   ...  \n",
       "55297       autre  80.0  \n",
       "55298  acottement  80.0  \n",
       "55299  acottement  80.0  \n",
       "55300    chaussée  80.0  \n",
       "55301    chaussée  70.0  \n",
       "\n",
       "[55302 rows x 18 columns]"
      ]
     },
     "execution_count": 21,
     "metadata": {},
     "output_type": "execute_result"
    }
   ],
   "source": [
    "df_lieux_22"
   ]
  },
  {
   "cell_type": "markdown",
   "metadata": {},
   "source": [
    "# Caracs"
   ]
  },
  {
   "cell_type": "code",
   "execution_count": 22,
   "metadata": {},
   "outputs": [],
   "source": [
    "df_caracs_22 = clean_df_caracs(df_caracs_22)"
   ]
  },
  {
   "cell_type": "code",
   "execution_count": 23,
   "metadata": {},
   "outputs": [
    {
     "data": {
      "text/html": [
       "<div>\n",
       "<style scoped>\n",
       "    .dataframe tbody tr th:only-of-type {\n",
       "        vertical-align: middle;\n",
       "    }\n",
       "\n",
       "    .dataframe tbody tr th {\n",
       "        vertical-align: top;\n",
       "    }\n",
       "\n",
       "    .dataframe thead th {\n",
       "        text-align: right;\n",
       "    }\n",
       "</style>\n",
       "<table border=\"1\" class=\"dataframe\">\n",
       "  <thead>\n",
       "    <tr style=\"text-align: right;\">\n",
       "      <th></th>\n",
       "      <th>Num_Acc</th>\n",
       "      <th>jour</th>\n",
       "      <th>mois</th>\n",
       "      <th>an</th>\n",
       "      <th>hrmn</th>\n",
       "      <th>lum</th>\n",
       "      <th>dep</th>\n",
       "      <th>com</th>\n",
       "      <th>agg</th>\n",
       "      <th>int</th>\n",
       "      <th>atm</th>\n",
       "      <th>col</th>\n",
       "      <th>adr</th>\n",
       "      <th>lat</th>\n",
       "      <th>long</th>\n",
       "      <th>heure</th>\n",
       "    </tr>\n",
       "  </thead>\n",
       "  <tbody>\n",
       "    <tr>\n",
       "      <th>0</th>\n",
       "      <td>202200000001</td>\n",
       "      <td>19</td>\n",
       "      <td>10</td>\n",
       "      <td>2022</td>\n",
       "      <td>16:15</td>\n",
       "      <td>1.0</td>\n",
       "      <td>26</td>\n",
       "      <td>26198</td>\n",
       "      <td>agglo</td>\n",
       "      <td>3.0</td>\n",
       "      <td>1.0</td>\n",
       "      <td>3.0</td>\n",
       "      <td>TEIL(vieille route du)</td>\n",
       "      <td>44.559420</td>\n",
       "      <td>4.725720</td>\n",
       "      <td>16:15:00</td>\n",
       "    </tr>\n",
       "    <tr>\n",
       "      <th>1</th>\n",
       "      <td>202200000002</td>\n",
       "      <td>20</td>\n",
       "      <td>10</td>\n",
       "      <td>2022</td>\n",
       "      <td>08:34</td>\n",
       "      <td>1.0</td>\n",
       "      <td>25</td>\n",
       "      <td>25204</td>\n",
       "      <td>agglo</td>\n",
       "      <td>3.0</td>\n",
       "      <td>1.0</td>\n",
       "      <td>3.0</td>\n",
       "      <td>Miranda</td>\n",
       "      <td>46.925810</td>\n",
       "      <td>6.346200</td>\n",
       "      <td>08:34:00</td>\n",
       "    </tr>\n",
       "    <tr>\n",
       "      <th>2</th>\n",
       "      <td>202200000003</td>\n",
       "      <td>20</td>\n",
       "      <td>10</td>\n",
       "      <td>2022</td>\n",
       "      <td>17:15</td>\n",
       "      <td>1.0</td>\n",
       "      <td>22</td>\n",
       "      <td>22360</td>\n",
       "      <td>agglo</td>\n",
       "      <td>6.0</td>\n",
       "      <td>1.0</td>\n",
       "      <td>2.0</td>\n",
       "      <td>ROND POINT DE BREZILLET</td>\n",
       "      <td>48.493162</td>\n",
       "      <td>-2.760439</td>\n",
       "      <td>17:15:00</td>\n",
       "    </tr>\n",
       "    <tr>\n",
       "      <th>3</th>\n",
       "      <td>202200000004</td>\n",
       "      <td>20</td>\n",
       "      <td>10</td>\n",
       "      <td>2022</td>\n",
       "      <td>18:00</td>\n",
       "      <td>1.0</td>\n",
       "      <td>16</td>\n",
       "      <td>16102</td>\n",
       "      <td>agglo</td>\n",
       "      <td>3.0</td>\n",
       "      <td>8.0</td>\n",
       "      <td>6.0</td>\n",
       "      <td>LOHMEYER (RUE)</td>\n",
       "      <td>45.692652</td>\n",
       "      <td>-0.326290</td>\n",
       "      <td>18:00:00</td>\n",
       "    </tr>\n",
       "    <tr>\n",
       "      <th>4</th>\n",
       "      <td>202200000005</td>\n",
       "      <td>19</td>\n",
       "      <td>10</td>\n",
       "      <td>2022</td>\n",
       "      <td>11:45</td>\n",
       "      <td>1.0</td>\n",
       "      <td>13</td>\n",
       "      <td>13103</td>\n",
       "      <td>hors agglo</td>\n",
       "      <td>1.0</td>\n",
       "      <td>1.0</td>\n",
       "      <td>2.0</td>\n",
       "      <td>ROUTE DE JEAN MOULIN-RN 538</td>\n",
       "      <td>43.675579</td>\n",
       "      <td>5.092703</td>\n",
       "      <td>11:45:00</td>\n",
       "    </tr>\n",
       "    <tr>\n",
       "      <th>...</th>\n",
       "      <td>...</td>\n",
       "      <td>...</td>\n",
       "      <td>...</td>\n",
       "      <td>...</td>\n",
       "      <td>...</td>\n",
       "      <td>...</td>\n",
       "      <td>...</td>\n",
       "      <td>...</td>\n",
       "      <td>...</td>\n",
       "      <td>...</td>\n",
       "      <td>...</td>\n",
       "      <td>...</td>\n",
       "      <td>...</td>\n",
       "      <td>...</td>\n",
       "      <td>...</td>\n",
       "      <td>...</td>\n",
       "    </tr>\n",
       "    <tr>\n",
       "      <th>55297</th>\n",
       "      <td>202200055298</td>\n",
       "      <td>1</td>\n",
       "      <td>1</td>\n",
       "      <td>2022</td>\n",
       "      <td>03:50</td>\n",
       "      <td>3.0</td>\n",
       "      <td>2B</td>\n",
       "      <td>2B293</td>\n",
       "      <td>hors agglo</td>\n",
       "      <td>1.0</td>\n",
       "      <td>1.0</td>\n",
       "      <td>6.0</td>\n",
       "      <td>D71</td>\n",
       "      <td>42.310165</td>\n",
       "      <td>9.478583</td>\n",
       "      <td>03:50:00</td>\n",
       "    </tr>\n",
       "    <tr>\n",
       "      <th>55298</th>\n",
       "      <td>202200055299</td>\n",
       "      <td>1</td>\n",
       "      <td>1</td>\n",
       "      <td>2022</td>\n",
       "      <td>07:20</td>\n",
       "      <td>3.0</td>\n",
       "      <td>84</td>\n",
       "      <td>84074</td>\n",
       "      <td>hors agglo</td>\n",
       "      <td>1.0</td>\n",
       "      <td>1.0</td>\n",
       "      <td>6.0</td>\n",
       "      <td>D973</td>\n",
       "      <td>43.753164</td>\n",
       "      <td>5.224476</td>\n",
       "      <td>07:20:00</td>\n",
       "    </tr>\n",
       "    <tr>\n",
       "      <th>55299</th>\n",
       "      <td>202200055300</td>\n",
       "      <td>1</td>\n",
       "      <td>1</td>\n",
       "      <td>2022</td>\n",
       "      <td>04:27</td>\n",
       "      <td>3.0</td>\n",
       "      <td>74</td>\n",
       "      <td>74001</td>\n",
       "      <td>hors agglo</td>\n",
       "      <td>1.0</td>\n",
       "      <td>9.0</td>\n",
       "      <td>6.0</td>\n",
       "      <td>D22</td>\n",
       "      <td>46.282532</td>\n",
       "      <td>6.732806</td>\n",
       "      <td>04:27:00</td>\n",
       "    </tr>\n",
       "    <tr>\n",
       "      <th>55300</th>\n",
       "      <td>202200055301</td>\n",
       "      <td>1</td>\n",
       "      <td>1</td>\n",
       "      <td>2022</td>\n",
       "      <td>08:40</td>\n",
       "      <td>1.0</td>\n",
       "      <td>81</td>\n",
       "      <td>81099</td>\n",
       "      <td>hors agglo</td>\n",
       "      <td>3.0</td>\n",
       "      <td>1.0</td>\n",
       "      <td>3.0</td>\n",
       "      <td>Chemin Toulze</td>\n",
       "      <td>43.927265</td>\n",
       "      <td>1.915637</td>\n",
       "      <td>08:40:00</td>\n",
       "    </tr>\n",
       "    <tr>\n",
       "      <th>55301</th>\n",
       "      <td>202200055302</td>\n",
       "      <td>1</td>\n",
       "      <td>3</td>\n",
       "      <td>2022</td>\n",
       "      <td>16:55</td>\n",
       "      <td>1.0</td>\n",
       "      <td>41</td>\n",
       "      <td>41018</td>\n",
       "      <td>agglo</td>\n",
       "      <td>1.0</td>\n",
       "      <td>1.0</td>\n",
       "      <td>2.0</td>\n",
       "      <td>RD956 - Pont Charles De Gaulle</td>\n",
       "      <td>47.594404</td>\n",
       "      <td>1.353329</td>\n",
       "      <td>16:55:00</td>\n",
       "    </tr>\n",
       "  </tbody>\n",
       "</table>\n",
       "<p>55302 rows × 16 columns</p>\n",
       "</div>"
      ],
      "text/plain": [
       "            Num_Acc  jour  mois    an   hrmn  lum dep    com         agg  int  \\\n",
       "0      202200000001    19    10  2022  16:15  1.0  26  26198       agglo  3.0   \n",
       "1      202200000002    20    10  2022  08:34  1.0  25  25204       agglo  3.0   \n",
       "2      202200000003    20    10  2022  17:15  1.0  22  22360       agglo  6.0   \n",
       "3      202200000004    20    10  2022  18:00  1.0  16  16102       agglo  3.0   \n",
       "4      202200000005    19    10  2022  11:45  1.0  13  13103  hors agglo  1.0   \n",
       "...             ...   ...   ...   ...    ...  ...  ..    ...         ...  ...   \n",
       "55297  202200055298     1     1  2022  03:50  3.0  2B  2B293  hors agglo  1.0   \n",
       "55298  202200055299     1     1  2022  07:20  3.0  84  84074  hors agglo  1.0   \n",
       "55299  202200055300     1     1  2022  04:27  3.0  74  74001  hors agglo  1.0   \n",
       "55300  202200055301     1     1  2022  08:40  1.0  81  81099  hors agglo  3.0   \n",
       "55301  202200055302     1     3  2022  16:55  1.0  41  41018       agglo  1.0   \n",
       "\n",
       "       atm  col                             adr        lat      long     heure  \n",
       "0      1.0  3.0          TEIL(vieille route du)  44.559420  4.725720  16:15:00  \n",
       "1      1.0  3.0                         Miranda  46.925810  6.346200  08:34:00  \n",
       "2      1.0  2.0         ROND POINT DE BREZILLET  48.493162 -2.760439  17:15:00  \n",
       "3      8.0  6.0                  LOHMEYER (RUE)  45.692652 -0.326290  18:00:00  \n",
       "4      1.0  2.0     ROUTE DE JEAN MOULIN-RN 538  43.675579  5.092703  11:45:00  \n",
       "...    ...  ...                             ...        ...       ...       ...  \n",
       "55297  1.0  6.0                             D71  42.310165  9.478583  03:50:00  \n",
       "55298  1.0  6.0                            D973  43.753164  5.224476  07:20:00  \n",
       "55299  9.0  6.0                             D22  46.282532  6.732806  04:27:00  \n",
       "55300  1.0  3.0                   Chemin Toulze  43.927265  1.915637  08:40:00  \n",
       "55301  1.0  2.0  RD956 - Pont Charles De Gaulle  47.594404  1.353329  16:55:00  \n",
       "\n",
       "[55302 rows x 16 columns]"
      ]
     },
     "execution_count": 23,
     "metadata": {},
     "output_type": "execute_result"
    }
   ],
   "source": [
    "df_caracs_22"
   ]
  },
  {
   "cell_type": "markdown",
   "metadata": {},
   "source": [
    "# Jointure"
   ]
  },
  {
   "cell_type": "markdown",
   "metadata": {},
   "source": [
    "On s'assure qu'on a bien autant d'observations dont le triplet `(Num_Acc, id_vehicule, num_veh)` est unique dans les bases `usagers` et `véhicules`."
   ]
  },
  {
   "cell_type": "code",
   "execution_count": 24,
   "metadata": {},
   "outputs": [
    {
     "data": {
      "text/plain": [
       "94493"
      ]
     },
     "execution_count": 24,
     "metadata": {},
     "output_type": "execute_result"
    }
   ],
   "source": [
    "(~df_usagers_22.duplicated([\"Num_Acc\", \"id_vehicule\", \"num_veh\"])).sum()"
   ]
  },
  {
   "cell_type": "code",
   "execution_count": 25,
   "metadata": {},
   "outputs": [
    {
     "data": {
      "text/plain": [
       "94493"
      ]
     },
     "execution_count": 25,
     "metadata": {},
     "output_type": "execute_result"
    }
   ],
   "source": [
    "(~df_vehicules_22.duplicated([\"Num_Acc\", \"id_vehicule\", \"num_veh\"])).sum()"
   ]
  },
  {
   "cell_type": "markdown",
   "metadata": {},
   "source": [
    "À présent, on peut procéder à la jointure à l'aide de `pd.merge`. On joint d'abord les bases `usagers` et `vehicules` sur `(Num_Acc, id_vehicule, num_veh)`, puis on joint également les bases `lieux` et `caracs` sur l'identifiant de l'accident, codé par `Num_Acc`."
   ]
  },
  {
   "cell_type": "code",
   "execution_count": 26,
   "metadata": {},
   "outputs": [],
   "source": [
    "df_merged = pd.merge(pd.merge(pd.merge(df_usagers_22, df_vehicules_22, on=[\"Num_Acc\", \"id_vehicule\", \"num_veh\"]), \\\n",
    "    df_lieux_22, on=\"Num_Acc\"), df_caracs_22, on=\"Num_Acc\")\n"
   ]
  },
  {
   "cell_type": "code",
   "execution_count": 27,
   "metadata": {},
   "outputs": [
    {
     "name": "stdout",
     "output_type": "stream",
     "text": [
      "<class 'pandas.core.frame.DataFrame'>\n",
      "Int64Index: 126662 entries, 0 to 126661\n",
      "Data columns (total 56 columns):\n",
      " #   Column       Non-Null Count   Dtype  \n",
      "---  ------       --------------   -----  \n",
      " 0   Num_Acc      126662 non-null  int64  \n",
      " 1   id_usager    126662 non-null  object \n",
      " 2   id_vehicule  126662 non-null  object \n",
      " 3   num_veh      126662 non-null  object \n",
      " 4   place        126654 non-null  float64\n",
      " 5   catu         126662 non-null  object \n",
      " 6   grav         126421 non-null  float64\n",
      " 7   sexe         123918 non-null  object \n",
      " 8   an_nais      123788 non-null  float64\n",
      " 9   trajet       91051 non-null   object \n",
      " 10  secu1        123983 non-null  float64\n",
      " 11  secu2        68061 non-null   float64\n",
      " 12  secu3        1366 non-null    float64\n",
      " 13  locp         75570 non-null   float64\n",
      " 14  actp         58804 non-null   object \n",
      " 15  etatp        9473 non-null    object \n",
      " 16  senc         126292 non-null  float64\n",
      " 17  catv         126281 non-null  float64\n",
      " 18  obs          126575 non-null  float64\n",
      " 19  obsm         126599 non-null  float64\n",
      " 20  choc         126574 non-null  float64\n",
      " 21  manv         118580 non-null  float64\n",
      " 22  motor        121064 non-null  float64\n",
      " 23  occutc       1770 non-null    float64\n",
      " 24  catr         126662 non-null  object \n",
      " 25  voie         116777 non-null  object \n",
      " 26  v1           126662 non-null  int64  \n",
      " 27  v2           11893 non-null   object \n",
      " 28  circ         119736 non-null  object \n",
      " 29  nbv          123095 non-null  float64\n",
      " 30  vosp         15202 non-null   object \n",
      " 31  prof         126662 non-null  int64  \n",
      " 32  pr           126662 non-null  object \n",
      " 33  pr1          126662 non-null  object \n",
      " 34  plan         126657 non-null  object \n",
      " 35  lartpc       63 non-null      object \n",
      " 36  larrout      126662 non-null  object \n",
      " 37  surf         126647 non-null  object \n",
      " 38  infra        19134 non-null   object \n",
      " 39  situ         126648 non-null  object \n",
      " 40  vma          124763 non-null  float64\n",
      " 41  jour         126662 non-null  int64  \n",
      " 42  mois         126662 non-null  int64  \n",
      " 43  an           126662 non-null  int64  \n",
      " 44  hrmn         126662 non-null  object \n",
      " 45  lum          126658 non-null  float64\n",
      " 46  dep          126662 non-null  object \n",
      " 47  com          126662 non-null  object \n",
      " 48  agg          126662 non-null  object \n",
      " 49  int          126643 non-null  float64\n",
      " 50  atm          126660 non-null  float64\n",
      " 51  col          126536 non-null  float64\n",
      " 52  adr          123787 non-null  object \n",
      " 53  lat          126662 non-null  float64\n",
      " 54  long         126662 non-null  float64\n",
      " 55  heure        126662 non-null  object \n",
      "dtypes: float64(23), int64(6), object(27)\n",
      "memory usage: 55.1+ MB\n"
     ]
    }
   ],
   "source": [
    "df_merged.info()"
   ]
  },
  {
   "cell_type": "markdown",
   "metadata": {},
   "source": [
    "On retombe bien sur un total de 126 662 observations, soit la longueur de la base usagers."
   ]
  },
  {
   "cell_type": "markdown",
   "metadata": {},
   "source": [
    "## Nettoyages"
   ]
  },
  {
   "cell_type": "markdown",
   "metadata": {},
   "source": [
    "Eliminons d'emblée certaines variables qui ne serviront pas au modèle de prédiction de la gravité."
   ]
  },
  {
   "cell_type": "code",
   "execution_count": 29,
   "metadata": {},
   "outputs": [],
   "source": [
    "df_merged.drop([\"Num_Acc\", \"id_usager\", \"id_vehicule\", \"num_veh\", \"voie\", \"v1\", \"v2\"], axis=1, inplace=True)"
   ]
  },
  {
   "cell_type": "markdown",
   "metadata": {},
   "source": [
    "On élimine également la variable `catu` qui posera des problèmes de colinéarité, car son information est redondante par rapport à la variable `place`."
   ]
  },
  {
   "cell_type": "code",
   "execution_count": 30,
   "metadata": {},
   "outputs": [],
   "source": [
    "df_merged.drop(\"catu\", axis=1, inplace=True)"
   ]
  },
  {
   "cell_type": "code",
   "execution_count": 46,
   "metadata": {},
   "outputs": [
    {
     "data": {
      "text/plain": [
       "Index(['place', 'grav', 'sexe', 'an_nais', 'trajet', 'secu1', 'secu2', 'secu3',\n",
       "       'locp', 'actp', 'etatp', 'senc', 'catv', 'obs', 'obsm', 'choc', 'manv',\n",
       "       'motor', 'occutc', 'catr', 'circ', 'nbv', 'vosp', 'prof', 'pr', 'pr1',\n",
       "       'plan', 'lartpc', 'larrout', 'surf', 'infra', 'situ', 'vma', 'jour',\n",
       "       'mois', 'an', 'hrmn', 'lum', 'dep', 'com', 'agg', 'int', 'atm', 'col',\n",
       "       'adr', 'lat', 'long', 'heure'],\n",
       "      dtype='object')"
      ]
     },
     "execution_count": 46,
     "metadata": {},
     "output_type": "execute_result"
    }
   ],
   "source": [
    "df_merged.columns"
   ]
  },
  {
   "cell_type": "markdown",
   "metadata": {},
   "source": [
    "Description des variables\n",
    "- `place` : place occupée dans le véhicule par l'usager au moment de l'accident ; 1 conducteur, 10 piéton\n",
    "- `sexe` : sexe de l'usager\n",
    "- `an_nais` : année de naissance de l'usager\n",
    "- `trajet` : motif du déplacement au moment de l'accident\n",
    "- `secu` : présence et utilisation de tel équipement de sécurité\n",
    "- `locp` : localisation du piéton\n",
    "- `actp` : action du piéton\n",
    "- `etatp` : piéton seul, accompagné ou en groupe\n",
    "- `senc` : sens de circulation\n",
    "- `catv` : catégorie du véhicule\n",
    "- `obs` : obstacle fixe heurté\n",
    "- `obsm` : obstacle mobile heurté\n",
    "- `choc` : point de choc initial"
   ]
  },
  {
   "cell_type": "markdown",
   "metadata": {},
   "source": [
    "# Statistiques descriptives"
   ]
  },
  {
   "cell_type": "markdown",
   "metadata": {},
   "source": [
    "### Variable `agg`\n",
    "\n",
    "On constate que\n",
    "- la majorité des accidents de gravité 1 et 2 ont lieu en agglomération ;\n",
    "- la majorité des accidents de gravité 3 et 4 ont lieu hors agglomération."
   ]
  },
  {
   "cell_type": "code",
   "execution_count": 31,
   "metadata": {},
   "outputs": [
    {
     "data": {
      "text/plain": [
       "<AxesSubplot:xlabel='agg', ylabel='count'>"
      ]
     },
     "execution_count": 31,
     "metadata": {},
     "output_type": "execute_result"
    },
    {
     "data": {
      "image/png": "[encoded data removed]",
      "text/plain": [
       "<Figure size 432x288 with 1 Axes>"
      ]
     },
     "metadata": {
      "needs_background": "light"
     },
     "output_type": "display_data"
    }
   ],
   "source": [
    "sns.countplot(data=df_merged, x=\"agg\")"
   ]
  },
  {
   "cell_type": "code",
   "execution_count": 32,
   "metadata": {},
   "outputs": [
    {
     "data": {
      "text/plain": [
       "<AxesSubplot:xlabel='agg', ylabel='proportion'>"
      ]
     },
     "execution_count": 32,
     "metadata": {},
     "output_type": "execute_result"
    },
    {
     "data": {
      "image/png": "[encoded data removed]",
      "text/plain": [
       "<Figure size 432x288 with 1 Axes>"
      ]
     },
     "metadata": {
      "needs_background": "light"
     },
     "output_type": "display_data"
    }
   ],
   "source": [
    "proportions = df_merged.groupby('agg')['grav'].value_counts(normalize=True).rename('proportion').reset_index()\n",
    "sns.barplot(x='agg', y='proportion', hue='grav', data=proportions)"
   ]
  },
  {
   "cell_type": "markdown",
   "metadata": {},
   "source": [
    "### Variable `place`"
   ]
  },
  {
   "cell_type": "code",
   "execution_count": 33,
   "metadata": {},
   "outputs": [
    {
     "data": {
      "text/plain": [
       "<AxesSubplot:xlabel='place', ylabel='count'>"
      ]
     },
     "execution_count": 33,
     "metadata": {},
     "output_type": "execute_result"
    },
    {
     "data": {
      "image/png": "[encoded data removed]",
      "text/plain": [
       "<Figure size 432x288 with 1 Axes>"
      ]
     },
     "metadata": {
      "needs_background": "light"
     },
     "output_type": "display_data"
    }
   ],
   "source": [
    "sns.countplot(data=df_merged, x=\"place\")"
   ]
  },
  {
   "cell_type": "code",
   "execution_count": 34,
   "metadata": {},
   "outputs": [
    {
     "data": {
      "text/plain": [
       "<AxesSubplot:xlabel='place', ylabel='proportion'>"
      ]
     },
     "execution_count": 34,
     "metadata": {},
     "output_type": "execute_result"
    },
    {
     "data": {
      "image/png": "[encoded data removed]",
      "text/plain": [
       "<Figure size 432x288 with 1 Axes>"
      ]
     },
     "metadata": {
      "needs_background": "light"
     },
     "output_type": "display_data"
    }
   ],
   "source": [
    "var = \"place\"\n",
    "proportions = df_merged.groupby(var)['grav'].value_counts(normalize=True).rename('proportion').reset_index()\n",
    "sns.barplot(x=var, y='proportion', hue='grav', data=proportions)"
   ]
  },
  {
   "cell_type": "markdown",
   "metadata": {},
   "source": [
    "### Variable `sexe`"
   ]
  },
  {
   "cell_type": "code",
   "execution_count": 35,
   "metadata": {},
   "outputs": [
    {
     "data": {
      "text/plain": [
       "<AxesSubplot:xlabel='sexe', ylabel='count'>"
      ]
     },
     "execution_count": 35,
     "metadata": {},
     "output_type": "execute_result"
    },
    {
     "data": {
      "image/png": "[encoded data removed]",
      "text/plain": [
       "<Figure size 432x288 with 1 Axes>"
      ]
     },
     "metadata": {
      "needs_background": "light"
     },
     "output_type": "display_data"
    }
   ],
   "source": [
    "sns.countplot(data=df_merged, x=\"sexe\")"
   ]
  },
  {
   "cell_type": "code",
   "execution_count": 36,
   "metadata": {},
   "outputs": [
    {
     "data": {
      "text/plain": [
       "<AxesSubplot:xlabel='sexe', ylabel='proportion'>"
      ]
     },
     "execution_count": 36,
     "metadata": {},
     "output_type": "execute_result"
    },
    {
     "data": {
      "image/png": "[encoded data removed]",
      "text/plain": [
       "<Figure size 432x288 with 1 Axes>"
      ]
     },
     "metadata": {
      "needs_background": "light"
     },
     "output_type": "display_data"
    }
   ],
   "source": [
    "var = \"sexe\"\n",
    "proportions = df_merged.groupby(var)['grav'].value_counts(normalize=True).rename('proportion').reset_index()\n",
    "sns.barplot(x=var, y='proportion', hue='grav', data=proportions)"
   ]
  },
  {
   "cell_type": "markdown",
   "metadata": {},
   "source": [
    "### Variable `an_nais` (année de naissance)"
   ]
  },
  {
   "cell_type": "code",
   "execution_count": 37,
   "metadata": {},
   "outputs": [
    {
     "data": {
      "text/plain": [
       "<AxesSubplot:xlabel='an_nais', ylabel='Density'>"
      ]
     },
     "execution_count": 37,
     "metadata": {},
     "output_type": "execute_result"
    },
    {
     "data": {
      "image/png": "[encoded data removed]",
      "text/plain": [
       "<Figure size 432x288 with 1 Axes>"
      ]
     },
     "metadata": {
      "needs_background": "light"
     },
     "output_type": "display_data"
    }
   ],
   "source": [
    "sns.kdeplot(x='an_nais', hue='grav', data=df_merged, palette='viridis', fill=True)"
   ]
  },
  {
   "cell_type": "markdown",
   "metadata": {},
   "source": [
    "### Variable `nbv`"
   ]
  },
  {
   "cell_type": "code",
   "execution_count": 38,
   "metadata": {},
   "outputs": [
    {
     "data": {
      "text/plain": [
       "<AxesSubplot:xlabel='nbv', ylabel='count'>"
      ]
     },
     "execution_count": 38,
     "metadata": {},
     "output_type": "execute_result"
    },
    {
     "data": {
      "image/png": "[encoded data removed]",
      "text/plain": [
       "<Figure size 432x288 with 1 Axes>"
      ]
     },
     "metadata": {
      "needs_background": "light"
     },
     "output_type": "display_data"
    }
   ],
   "source": [
    "sns.countplot(data=df_merged, x=\"nbv\")"
   ]
  },
  {
   "cell_type": "code",
   "execution_count": 39,
   "metadata": {},
   "outputs": [
    {
     "data": {
      "text/plain": [
       "<AxesSubplot:xlabel='nbv', ylabel='proportion'>"
      ]
     },
     "execution_count": 39,
     "metadata": {},
     "output_type": "execute_result"
    },
    {
     "data": {
      "image/png": "[encoded data removed]",
      "text/plain": [
       "<Figure size 432x288 with 1 Axes>"
      ]
     },
     "metadata": {
      "needs_background": "light"
     },
     "output_type": "display_data"
    }
   ],
   "source": [
    "var = \"nbv\"\n",
    "proportions = df_merged.groupby(var)['grav'].value_counts(normalize=True).rename('proportion').reset_index()\n",
    "sns.barplot(x=var, y='proportion', hue='grav', data=proportions)"
   ]
  },
  {
   "cell_type": "markdown",
   "metadata": {},
   "source": [
    "### Variable `trajet`"
   ]
  },
  {
   "cell_type": "code",
   "execution_count": 40,
   "metadata": {},
   "outputs": [
    {
     "data": {
      "image/png": "[encoded data removed]",
      "text/plain": [
       "<Figure size 432x288 with 1 Axes>"
      ]
     },
     "metadata": {
      "needs_background": "light"
     },
     "output_type": "display_data"
    }
   ],
   "source": [
    "sns.countplot(data=df_merged, x=\"trajet\")\n",
    "plt.xticks(rotation=45, ha='right')\n",
    "plt.show()"
   ]
  },
  {
   "cell_type": "code",
   "execution_count": 41,
   "metadata": {},
   "outputs": [
    {
     "data": {
      "image/png": "[encoded data removed]",
      "text/plain": [
       "<Figure size 432x288 with 1 Axes>"
      ]
     },
     "metadata": {
      "needs_background": "light"
     },
     "output_type": "display_data"
    }
   ],
   "source": [
    "var = \"trajet\"\n",
    "proportions = df_merged.groupby(var)['grav'].value_counts(normalize=True).rename('proportion').reset_index()\n",
    "sns.barplot(x=var, y='proportion', hue='grav', data=proportions)\n",
    "plt.xticks(rotation=45, ha='right')\n",
    "plt.show()"
   ]
  },
  {
   "cell_type": "markdown",
   "metadata": {},
   "source": [
    "### Variable `choc`"
   ]
  },
  {
   "cell_type": "code",
   "execution_count": 42,
   "metadata": {},
   "outputs": [
    {
     "data": {
      "text/plain": [
       "<AxesSubplot:xlabel='choc', ylabel='count'>"
      ]
     },
     "execution_count": 42,
     "metadata": {},
     "output_type": "execute_result"
    },
    {
     "data": {
      "image/png": "[encoded data removed]",
      "text/plain": [
       "<Figure size 432x288 with 1 Axes>"
      ]
     },
     "metadata": {
      "needs_background": "light"
     },
     "output_type": "display_data"
    }
   ],
   "source": [
    "sns.countplot(data=df_merged, x=\"choc\")"
   ]
  },
  {
   "cell_type": "code",
   "execution_count": 43,
   "metadata": {},
   "outputs": [
    {
     "data": {
      "text/plain": [
       "<AxesSubplot:xlabel='choc', ylabel='proportion'>"
      ]
     },
     "execution_count": 43,
     "metadata": {},
     "output_type": "execute_result"
    },
    {
     "data": {
      "image/png": "[encoded data removed]",
      "text/plain": [
       "<Figure size 432x288 with 1 Axes>"
      ]
     },
     "metadata": {
      "needs_background": "light"
     },
     "output_type": "display_data"
    }
   ],
   "source": [
    "var = \"choc\"\n",
    "proportions = df_merged.groupby(var)['grav'].value_counts(normalize=True).rename('proportion').reset_index()\n",
    "sns.barplot(x=var, y='proportion', hue='grav', data=proportions)"
   ]
  },
  {
   "cell_type": "markdown",
   "metadata": {},
   "source": [
    "### Variable `lum`"
   ]
  },
  {
   "cell_type": "code",
   "execution_count": 44,
   "metadata": {},
   "outputs": [
    {
     "data": {
      "text/plain": [
       "<AxesSubplot:xlabel='lum', ylabel='count'>"
      ]
     },
     "execution_count": 44,
     "metadata": {},
     "output_type": "execute_result"
    },
    {
     "data": {
      "image/png": "[encoded data removed]",
      "text/plain": [
       "<Figure size 432x288 with 1 Axes>"
      ]
     },
     "metadata": {
      "needs_background": "light"
     },
     "output_type": "display_data"
    }
   ],
   "source": [
    "sns.countplot(data=df_merged, x=\"lum\")"
   ]
  },
  {
   "cell_type": "code",
   "execution_count": 45,
   "metadata": {},
   "outputs": [
    {
     "data": {
      "text/plain": [
       "<AxesSubplot:xlabel='lum', ylabel='proportion'>"
      ]
     },
     "execution_count": 45,
     "metadata": {},
     "output_type": "execute_result"
    },
    {
     "data": {
      "image/png": "[encoded data removed]",
      "text/plain": [
       "<Figure size 432x288 with 1 Axes>"
      ]
     },
     "metadata": {
      "needs_background": "light"
     },
     "output_type": "display_data"
    }
   ],
   "source": [
    "var = \"lum\"\n",
    "proportions = df_merged.groupby(var)['grav'].value_counts(normalize=True).rename('proportion').reset_index()\n",
    "sns.barplot(x=var, y='proportion', hue='grav', data=proportions)"
   ]
  },
  {
   "cell_type": "markdown",
   "metadata": {},
   "source": [
    "### Variable `surf` (surface)"
   ]
  },
  {
   "cell_type": "code",
   "execution_count": 54,
   "metadata": {},
   "outputs": [
    {
     "data": {
      "image/png": "[encoded data removed]",
      "text/plain": [
       "<Figure size 432x288 with 1 Axes>"
      ]
     },
     "metadata": {
      "needs_background": "light"
     },
     "output_type": "display_data"
    }
   ],
   "source": [
    "var = \"surf\"\n",
    "sns.countplot(data=df_merged, x=var, order=df_merged[var].value_counts().index)\n",
    "plt.xticks(rotation=45, ha='right')\n",
    "plt.show()"
   ]
  },
  {
   "cell_type": "code",
   "execution_count": 55,
   "metadata": {},
   "outputs": [
    {
     "data": {
      "image/png": "[encoded data removed]",
      "text/plain": [
       "<Figure size 432x288 with 1 Axes>"
      ]
     },
     "metadata": {
      "needs_background": "light"
     },
     "output_type": "display_data"
    }
   ],
   "source": [
    "var = \"surf\"\n",
    "proportions = df_merged.groupby(var)['grav'].value_counts(normalize=True).rename('proportion').reset_index()\n",
    "sns.barplot(x=var, y='proportion', hue='grav', data=proportions, order=df_merged[var].value_counts().index)\n",
    "plt.xticks(rotation=45, ha='right')\n",
    "plt.show()"
   ]
  },
  {
   "cell_type": "markdown",
   "metadata": {},
   "source": [
    "# Premiers modèles"
   ]
  },
  {
   "cell_type": "code",
   "execution_count": null,
   "metadata": {},
   "outputs": [],
   "source": []
  },
  {
   "cell_type": "code",
   "execution_count": 66,
   "metadata": {},
   "outputs": [
    {
     "name": "stderr",
     "output_type": "stream",
     "text": [
      "c:\\Users\\nahta\\anaconda3\\lib\\site-packages\\pandas\\util\\_decorators.py:311: SettingWithCopyWarning: \n",
      "A value is trying to be set on a copy of a slice from a DataFrame\n",
      "\n",
      "See the caveats in the documentation: https://pandas.pydata.org/pandas-docs/stable/user_guide/indexing.html#returning-a-view-versus-a-copy\n",
      "  return func(*args, **kwargs)\n"
     ]
    },
    {
     "data": {
      "text/html": [
       "<div>\n",
       "<style scoped>\n",
       "    .dataframe tbody tr th:only-of-type {\n",
       "        vertical-align: middle;\n",
       "    }\n",
       "\n",
       "    .dataframe tbody tr th {\n",
       "        vertical-align: top;\n",
       "    }\n",
       "\n",
       "    .dataframe thead th {\n",
       "        text-align: right;\n",
       "    }\n",
       "</style>\n",
       "<table border=\"1\" class=\"dataframe\">\n",
       "  <thead>\n",
       "    <tr style=\"text-align: right;\">\n",
       "      <th></th>\n",
       "      <th>grav</th>\n",
       "      <th>place</th>\n",
       "      <th>an_nais</th>\n",
       "      <th>lum</th>\n",
       "      <th>vma</th>\n",
       "      <th>trajet</th>\n",
       "      <th>sexe</th>\n",
       "      <th>agg</th>\n",
       "    </tr>\n",
       "  </thead>\n",
       "  <tbody>\n",
       "    <tr>\n",
       "      <th>0</th>\n",
       "      <td>3.0</td>\n",
       "      <td>1.0</td>\n",
       "      <td>2008.0</td>\n",
       "      <td>1.0</td>\n",
       "      <td>50.0</td>\n",
       "      <td>promenade-loisirs</td>\n",
       "      <td>homme</td>\n",
       "      <td>agglo</td>\n",
       "    </tr>\n",
       "    <tr>\n",
       "      <th>1</th>\n",
       "      <td>1.0</td>\n",
       "      <td>1.0</td>\n",
       "      <td>1948.0</td>\n",
       "      <td>1.0</td>\n",
       "      <td>50.0</td>\n",
       "      <td>promenade-loisirs</td>\n",
       "      <td>homme</td>\n",
       "      <td>agglo</td>\n",
       "    </tr>\n",
       "    <tr>\n",
       "      <th>2</th>\n",
       "      <td>2.0</td>\n",
       "      <td>1.0</td>\n",
       "      <td>1988.0</td>\n",
       "      <td>1.0</td>\n",
       "      <td>50.0</td>\n",
       "      <td>autre</td>\n",
       "      <td>homme</td>\n",
       "      <td>agglo</td>\n",
       "    </tr>\n",
       "    <tr>\n",
       "      <th>3</th>\n",
       "      <td>1.0</td>\n",
       "      <td>1.0</td>\n",
       "      <td>1970.0</td>\n",
       "      <td>1.0</td>\n",
       "      <td>50.0</td>\n",
       "      <td>utilisation pro</td>\n",
       "      <td>homme</td>\n",
       "      <td>agglo</td>\n",
       "    </tr>\n",
       "    <tr>\n",
       "      <th>5</th>\n",
       "      <td>2.0</td>\n",
       "      <td>1.0</td>\n",
       "      <td>1987.0</td>\n",
       "      <td>1.0</td>\n",
       "      <td>50.0</td>\n",
       "      <td>autre</td>\n",
       "      <td>femme</td>\n",
       "      <td>agglo</td>\n",
       "    </tr>\n",
       "    <tr>\n",
       "      <th>...</th>\n",
       "      <td>...</td>\n",
       "      <td>...</td>\n",
       "      <td>...</td>\n",
       "      <td>...</td>\n",
       "      <td>...</td>\n",
       "      <td>...</td>\n",
       "      <td>...</td>\n",
       "      <td>...</td>\n",
       "    </tr>\n",
       "    <tr>\n",
       "      <th>126656</th>\n",
       "      <td>4.0</td>\n",
       "      <td>1.0</td>\n",
       "      <td>1995.0</td>\n",
       "      <td>3.0</td>\n",
       "      <td>80.0</td>\n",
       "      <td>promenade-loisirs</td>\n",
       "      <td>homme</td>\n",
       "      <td>hors agglo</td>\n",
       "    </tr>\n",
       "    <tr>\n",
       "      <th>126657</th>\n",
       "      <td>1.0</td>\n",
       "      <td>1.0</td>\n",
       "      <td>2002.0</td>\n",
       "      <td>1.0</td>\n",
       "      <td>80.0</td>\n",
       "      <td>promenade-loisirs</td>\n",
       "      <td>femme</td>\n",
       "      <td>hors agglo</td>\n",
       "    </tr>\n",
       "    <tr>\n",
       "      <th>126658</th>\n",
       "      <td>3.0</td>\n",
       "      <td>8.0</td>\n",
       "      <td>2004.0</td>\n",
       "      <td>1.0</td>\n",
       "      <td>80.0</td>\n",
       "      <td>promenade-loisirs</td>\n",
       "      <td>femme</td>\n",
       "      <td>hors agglo</td>\n",
       "    </tr>\n",
       "    <tr>\n",
       "      <th>126659</th>\n",
       "      <td>2.0</td>\n",
       "      <td>1.0</td>\n",
       "      <td>1953.0</td>\n",
       "      <td>1.0</td>\n",
       "      <td>80.0</td>\n",
       "      <td>promenade-loisirs</td>\n",
       "      <td>femme</td>\n",
       "      <td>hors agglo</td>\n",
       "    </tr>\n",
       "    <tr>\n",
       "      <th>126660</th>\n",
       "      <td>3.0</td>\n",
       "      <td>1.0</td>\n",
       "      <td>1992.0</td>\n",
       "      <td>1.0</td>\n",
       "      <td>70.0</td>\n",
       "      <td>domicile-travail</td>\n",
       "      <td>homme</td>\n",
       "      <td>agglo</td>\n",
       "    </tr>\n",
       "  </tbody>\n",
       "</table>\n",
       "<p>89571 rows × 8 columns</p>\n",
       "</div>"
      ],
      "text/plain": [
       "        grav  place  an_nais  lum   vma             trajet   sexe         agg\n",
       "0        3.0    1.0   2008.0  1.0  50.0  promenade-loisirs  homme       agglo\n",
       "1        1.0    1.0   1948.0  1.0  50.0  promenade-loisirs  homme       agglo\n",
       "2        2.0    1.0   1988.0  1.0  50.0              autre  homme       agglo\n",
       "3        1.0    1.0   1970.0  1.0  50.0    utilisation pro  homme       agglo\n",
       "5        2.0    1.0   1987.0  1.0  50.0              autre  femme       agglo\n",
       "...      ...    ...      ...  ...   ...                ...    ...         ...\n",
       "126656   4.0    1.0   1995.0  3.0  80.0  promenade-loisirs  homme  hors agglo\n",
       "126657   1.0    1.0   2002.0  1.0  80.0  promenade-loisirs  femme  hors agglo\n",
       "126658   3.0    8.0   2004.0  1.0  80.0  promenade-loisirs  femme  hors agglo\n",
       "126659   2.0    1.0   1953.0  1.0  80.0  promenade-loisirs  femme  hors agglo\n",
       "126660   3.0    1.0   1992.0  1.0  70.0   domicile-travail  homme       agglo\n",
       "\n",
       "[89571 rows x 8 columns]"
      ]
     },
     "execution_count": 66,
     "metadata": {},
     "output_type": "execute_result"
    }
   ],
   "source": [
    "df_elem1 = df_merged[[\"grav\", \"place\", \"an_nais\", \"lum\", \"vma\", \"trajet\", \"sexe\", \"agg\"]]\n",
    "\n",
    "df_elem1.dropna(inplace=True)\n",
    "\n",
    "df_elem1"
   ]
  },
  {
   "cell_type": "markdown",
   "metadata": {},
   "source": [
    "### KNeighbors"
   ]
  },
  {
   "cell_type": "code",
   "execution_count": 68,
   "metadata": {},
   "outputs": [
    {
     "name": "stdout",
     "output_type": "stream",
     "text": [
      "Accuracy: 0.49\n"
     ]
    }
   ],
   "source": [
    "import pandas as pd\n",
    "from sklearn.model_selection import train_test_split\n",
    "from sklearn.preprocessing import StandardScaler, OneHotEncoder\n",
    "from sklearn.compose import ColumnTransformer\n",
    "from sklearn.pipeline import Pipeline\n",
    "from sklearn.neighbors import KNeighborsClassifier\n",
    "\n",
    "# Supposons que vous ayez un DataFrame df_elem1 avec les colonnes nécessaires\n",
    "# Remplacez cela par votre DataFrame réel\n",
    "\n",
    "# Séparation des features (X) et de la variable cible (y)\n",
    "X = df_elem1.drop(\"grav\", axis=1)\n",
    "y = df_elem1[\"grav\"]\n",
    "\n",
    "# Diviser les données en ensembles d'entraînement et de test\n",
    "X_train, X_test, y_train, y_test = train_test_split(X, y, test_size=0.2, random_state=42)\n",
    "\n",
    "# Créer un transformateur pour les variables continues et catégorielles\n",
    "numeric_features = [\"an_nais\", \"vma\"]\n",
    "categorical_features = [\"place\", \"lum\", \"trajet\", \"sexe\", \"agg\"]\n",
    "\n",
    "numeric_transformer = Pipeline(steps=[\n",
    "    ('scaler', StandardScaler())\n",
    "])\n",
    "\n",
    "categorical_transformer = Pipeline(steps=[\n",
    "    ('onehot', OneHotEncoder(handle_unknown='ignore'))\n",
    "])\n",
    "\n",
    "preprocessor = ColumnTransformer(\n",
    "    transformers=[\n",
    "        ('num', numeric_transformer, numeric_features),\n",
    "        ('cat', categorical_transformer, categorical_features)\n",
    "    ])\n",
    "\n",
    "# Créer le pipeline SVC avec le préprocesseur\n",
    "model = Pipeline(steps=[\n",
    "    ('preprocessor', preprocessor),\n",
    "    ('classifier', KNeighborsClassifier(n_neighbors=10))  # Vous pouvez choisir un autre noyau selon vos besoins\n",
    "])\n",
    "\n",
    "# Entraîner le modèle sur les données d'entraînement\n",
    "model.fit(X_train, y_train)\n",
    "\n",
    "# Évaluer le modèle sur les données de test\n",
    "accuracy = model.score(X_test, y_test)\n",
    "print(f\"Accuracy: {accuracy:.2f}\")\n"
   ]
  },
  {
   "cell_type": "markdown",
   "metadata": {},
   "source": [
    "### SVC"
   ]
  },
  {
   "cell_type": "code",
   "execution_count": 76,
   "metadata": {},
   "outputs": [
    {
     "name": "stdout",
     "output_type": "stream",
     "text": [
      "Accuracy: 0.48\n"
     ]
    }
   ],
   "source": [
    "import pandas as pd\n",
    "from sklearn.model_selection import train_test_split\n",
    "from sklearn.preprocessing import StandardScaler, OneHotEncoder\n",
    "from sklearn.compose import ColumnTransformer\n",
    "from sklearn.pipeline import Pipeline\n",
    "from sklearn.svm import SVC\n",
    "\n",
    "# Supposons que vous ayez un DataFrame df_elem1 avec les colonnes nécessaires\n",
    "# Remplacez cela par votre DataFrame réel\n",
    "\n",
    "# Séparation des features (X) et de la variable cible (y)\n",
    "X = df_elem1.drop(\"grav\", axis=1)\n",
    "y = df_elem1[\"grav\"]\n",
    "\n",
    "# Diviser les données en ensembles d'entraînement et de test\n",
    "X_train, X_test, y_train, y_test = train_test_split(X, y, test_size=0.2, random_state=42)\n",
    "\n",
    "# Créer un transformateur pour les variables continues et catégorielles\n",
    "numeric_features = [\"an_nais\", \"vma\"]\n",
    "categorical_features = [\"place\", \"lum\"]\n",
    "\n",
    "numeric_transformer = Pipeline(steps=[\n",
    "    ('scaler', StandardScaler())\n",
    "])\n",
    "\n",
    "categorical_transformer = Pipeline(steps=[\n",
    "    ('onehot', OneHotEncoder(handle_unknown='ignore'))\n",
    "])\n",
    "\n",
    "preprocessor = ColumnTransformer(\n",
    "    transformers=[\n",
    "        ('num', numeric_transformer, numeric_features),\n",
    "        ('cat', categorical_transformer, categorical_features)\n",
    "    ])\n",
    "\n",
    "# Créer le pipeline SVC avec le préprocesseur\n",
    "model = Pipeline(steps=[\n",
    "    ('preprocessor', preprocessor),\n",
    "    ('classifier', SVC(kernel='linear'))  # Vous pouvez choisir un autre noyau selon vos besoins\n",
    "])\n",
    "\n",
    "# Entraîner le modèle sur les données d'entraînement\n",
    "model.fit(X_train, y_train)\n",
    "\n",
    "# Évaluer le modèle sur les données de test\n",
    "accuracy = model.score(X_test, y_test)\n",
    "print(f\"Accuracy: {accuracy:.2f}\")\n"
   ]
  }
 ],
 "metadata": {
  "kernelspec": {
   "display_name": "Python 3",
   "language": "python",
   "name": "python3"
  },
  "language_info": {
   "codemirror_mode": {
    "name": "ipython",
    "version": 3
   },
   "file_extension": ".py",
   "mimetype": "text/x-python",
   "name": "python",
   "nbconvert_exporter": "python",
   "pygments_lexer": "ipython3",
   "version": "3.9.7"
  }
 },
 "nbformat": 4,
 "nbformat_minor": 2
}
